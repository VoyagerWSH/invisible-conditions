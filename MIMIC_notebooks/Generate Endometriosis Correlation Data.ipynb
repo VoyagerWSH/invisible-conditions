{
 "cells": [
  {
   "cell_type": "code",
   "execution_count": 8,
   "id": "a057e44e",
   "metadata": {},
   "outputs": [
    {
     "name": "stdout",
     "output_type": "stream",
     "text": [
      "The autoreload extension is already loaded. To reload it, use:\n",
      "  %reload_ext autoreload\n"
     ]
    }
   ],
   "source": [
    "%load_ext autoreload \n",
    "%autoreload 2\n",
    "import os\n",
    "import pickle\n",
    "import numpy as np\n",
    "import pandas as pd\n",
    "\n",
    "from scipy import sparse\n",
    "from scipy.sparse import coo_matrix\n",
    "from scipy.sparse import save_npz\n",
    "from tqdm.notebook import tqdm\n",
    "\n",
    "from mimic_helper_fs import get_icd_code_long_title\n",
    "from mimic_helper_fs import get_icd_codes_with_prefix\n",
    "from mimic_helper_fs import get_ids_with_icd_codes, get_ids_with_kws\n",
    "from mimic_helper_fs import get_coocurring_symptoms_codes, get_coocurring_symptoms_kws\n",
    "from mimic_paths import english_names_path, hosp_diagnoses_path, ed_diagnoses_path\n",
    "from mimic_paths import admissions_path, patients_path\n",
    "\n",
    "from ipv_codes import SUSPICIOUS_SYMPTOMS_ICD_CODES\n",
    "\n",
    "pd.set_option('max_rows', 500)\n",
    "pd.set_option('display.width', 500)\n",
    "pd.set_option('display.max_colwidth', 80)"
   ]
  },
  {
   "cell_type": "markdown",
   "id": "9f834c37",
   "metadata": {},
   "source": [
    "## Read in MIMIC ED data"
   ]
  },
  {
   "cell_type": "code",
   "execution_count": 9,
   "id": "0f9131e8",
   "metadata": {},
   "outputs": [],
   "source": [
    "english_names = pd.read_csv(english_names_path)\n",
    "diagnoses = pd.read_csv(hosp_diagnoses_path)\n",
    "ed_diagnoses = pd.read_csv(ed_diagnoses_path)\n",
    "admissions = pd.read_csv(admissions_path)\n",
    "patients = pd.read_csv(patients_path)\n",
    "\n",
    "diagnoses = pd.merge(diagnoses, \n",
    "                     english_names, \n",
    "                     how='inner', \n",
    "                     on=['icd_code', 'icd_version'], \n",
    "                     validate='many_to_one')"
   ]
  },
  {
   "cell_type": "markdown",
   "id": "21916f71",
   "metadata": {},
   "source": [
    "# Filter out appropriate patients.\n",
    "\n",
    "This depends upon the disease. For IPV, it makes sense to filter out men and children. "
   ]
  },
  {
   "cell_type": "code",
   "execution_count": 10,
   "id": "311e7316",
   "metadata": {},
   "outputs": [
    {
     "data": {
      "text/plain": [
       "5544"
      ]
     },
     "execution_count": 10,
     "metadata": {},
     "output_type": "execute_result"
    }
   ],
   "source": [
    "with open('./valid_codes.ob', 'rb') as fp:\n",
    "    code_list = pickle.load(fp)\n",
    "len(code_list)"
   ]
  },
  {
   "cell_type": "code",
   "execution_count": 11,
   "id": "7b7af6f1",
   "metadata": {},
   "outputs": [],
   "source": [
    "sid_gender_map = dict(zip(patients.subject_id, patients.gender))\n",
    "sid_age_map = dict(zip(patients.subject_id, patients.anchor_age))\n",
    "sid_ethnicity_map = dict(zip(admissions.subject_id, admissions.ethnicity))"
   ]
  },
  {
   "cell_type": "code",
   "execution_count": 12,
   "id": "91bc39e7",
   "metadata": {},
   "outputs": [],
   "source": [
    "ed_admitted_patients = list(admissions[admissions['admission_location'] == 'EMERGENCY ROOM']['hadm_id'])"
   ]
  },
  {
   "cell_type": "code",
   "execution_count": 13,
   "id": "86ad03c6",
   "metadata": {},
   "outputs": [],
   "source": [
    "diagnoses['anchor_age'] = diagnoses['subject_id'].map(sid_age_map)\n",
    "diagnoses['gender'] = diagnoses['subject_id'].map(sid_gender_map)\n",
    "diagnoses['ethnicity'] = diagnoses['subject_id'].map(sid_ethnicity_map)"
   ]
  },
  {
   "cell_type": "code",
   "execution_count": 14,
   "id": "9dbd9d4c",
   "metadata": {},
   "outputs": [
    {
     "name": "stdout",
     "output_type": "stream",
     "text": [
      "# of Patients:  132529\n",
      "# of Individual Stays:  269732\n",
      "# of Unique ICD Codes:  22207\n"
     ]
    }
   ],
   "source": [
    "diagnoses = diagnoses[diagnoses['gender'] == 'F']\n",
    "\n",
    "all_hadm_ids = sorted(list(set(diagnoses['hadm_id'])))\n",
    "all_icd_codes = sorted(list(set(diagnoses['icd_code'])))\n",
    "\n",
    "code_to_index = {c: i for i,c in enumerate(all_icd_codes)}\n",
    "hadm_id_to_index = {hadm_id: i for i, hadm_id in enumerate(all_hadm_ids)}\n",
    "\n",
    "print(\"# of Patients: \", len(set(diagnoses['subject_id'])))\n",
    "print(\"# of Individual Stays: \", len(set(diagnoses['hadm_id'])))\n",
    "print(\"# of Unique ICD Codes: \", len(all_icd_codes))\n",
    "\n",
    "# Ensures the indices for all hadm_ids are sequential (no gaps)\n",
    "assert(np.max(list(hadm_id_to_index.values())) +1 == len(list(hadm_id_to_index.values())))"
   ]
  },
  {
   "cell_type": "markdown",
   "id": "6c9b784d",
   "metadata": {},
   "source": [
    "## Identify positive patients"
   ]
  },
  {
   "cell_type": "code",
   "execution_count": 15,
   "id": "fd00909d",
   "metadata": {},
   "outputs": [],
   "source": [
    "disease_prefix = \"endometriosis\"\n",
    "prefixes = ['N80', '6179']\n",
    "disease_ICD_codes = []\n",
    "for code_prefix in prefixes:\n",
    "    codes = get_icd_codes_with_prefix(english_names, code_prefix)\n",
    "    disease_ICD_codes.extend(codes)\n",
    "ids = get_ids_with_icd_codes(diagnoses, 'hadm_id', disease_ICD_codes)"
   ]
  },
  {
   "cell_type": "markdown",
   "id": "576b2896",
   "metadata": {},
   "source": [
    "## Identify suspicious symptoms by calculating the relative proportion between patients with and without endometriosis. "
   ]
  },
  {
   "cell_type": "code",
   "execution_count": 16,
   "id": "1507cc75",
   "metadata": {},
   "outputs": [],
   "source": [
    "key='icd_code'\n",
    "id_type = 'hadm_id'\n",
    "sub_d = diagnoses.loc[diagnoses[id_type].map(lambda x:x in ids), key]    \n",
    "sub_d_value_counts = pd.DataFrame(sub_d.value_counts().head(n=100))\n",
    "sub_d_value_counts['proportion_rows_sub'] = sub_d_value_counts[key] / len(ids)\n",
    "\n",
    "all_d = diagnoses.loc[diagnoses[key].isin(sub_d_value_counts.index),key]\n",
    "n_all_ids = len(set(diagnoses[id_type]))\n",
    "all_d_value_counts = pd.DataFrame(all_d.value_counts())\n",
    "all_d_value_counts['proportion_rows_all'] = all_d_value_counts[key] / n_all_ids\n",
    "\n",
    "jj = pd.merge(sub_d_value_counts, all_d_value_counts, left_index=True, right_index=True)\n",
    "jj['relative_proportion'] = jj['proportion_rows_sub']/jj['proportion_rows_all']\n",
    "sorted_by_rel_proportion = jj.sort_values('relative_proportion', ascending=False)\n",
    "suspicious_symptoms_ICD_codes = list(sorted_by_rel_proportion.index[len(disease_ICD_codes)-1:])\n",
    "suspicious_symptoms_ICD_codes = suspicious_symptoms_ICD_codes[:25]\n"
   ]
  },
  {
   "cell_type": "code",
   "execution_count": 17,
   "id": "fe5fc914",
   "metadata": {},
   "outputs": [
    {
     "name": "stdout",
     "output_type": "stream",
     "text": [
      "['N80', 'N800', 'N801', 'N802', 'N803', 'N804', 'N805', 'N806', 'N808', 'N809', '6179'] 11\n",
      "['N736', 'D250', 'D251', '5951', 'N920', 'D252', 'N838', 'R102', 'N938', 'N939', '6259', 'D259', 'N393', 'C541', '33819', 'K660', '78904', 'E282', 'G8918', 'O9989', '78903', '6202', 'F909', '78901', '78909'] 25\n"
     ]
    }
   ],
   "source": [
    "print(list(disease_ICD_codes), len(disease_ICD_codes))\n",
    "print(list(suspicious_symptoms_ICD_codes), len(suspicious_symptoms_ICD_codes))"
   ]
  },
  {
   "cell_type": "code",
   "execution_count": 18,
   "id": "07aca5af",
   "metadata": {},
   "outputs": [],
   "source": [
    "diagnoses = diagnoses[diagnoses['icd_code'].isin(code_list + disease_ICD_codes + suspicious_symptoms_ICD_codes)]\n",
    "all_hadm_ids = sorted(list(set(diagnoses['hadm_id'])))\n",
    "all_icd_codes = sorted(list(set(diagnoses['icd_code'])))\n",
    "\n",
    "code_to_index = {c: i for i,c in enumerate(all_icd_codes)}\n",
    "hadm_id_to_index = {hadm_id: i for i, hadm_id in enumerate(all_hadm_ids)}"
   ]
  },
  {
   "cell_type": "markdown",
   "id": "55783e08",
   "metadata": {},
   "source": [
    "# Create one-hot encoded features"
   ]
  },
  {
   "cell_type": "code",
   "execution_count": 19,
   "id": "efca5f35",
   "metadata": {},
   "outputs": [],
   "source": [
    "one_hot = pd.get_dummies(diagnoses['icd_code'], sparse=True)\n",
    "hadm_one_hot = pd.concat([diagnoses['hadm_id'], one_hot], axis=1)\n",
    "\n",
    "diagnoses['icd_code_idx'] = diagnoses['icd_code'].map(code_to_index)\n",
    "diagnoses['hadm_id_idx'] = diagnoses['hadm_id'].map(hadm_id_to_index)"
   ]
  },
  {
   "cell_type": "code",
   "execution_count": 20,
   "id": "b3c8f68f",
   "metadata": {},
   "outputs": [
    {
     "data": {
      "text/plain": [
       "((265431, 5554), 5553)"
      ]
     },
     "execution_count": 20,
     "metadata": {},
     "output_type": "execute_result"
    }
   ],
   "source": [
    "# Write out one-hot features in coordinate format (helpful since matrix is very sparse)\n",
    "row_coords = np.array(diagnoses['hadm_id_idx'])\n",
    "col_coords = np.array(diagnoses['icd_code_idx'])\n",
    "vals = np.ones(len(col_coords))\n",
    "\n",
    "n_rows = np.max(row_coords) + 1\n",
    "n_cols = np.max(col_coords) + 1\n",
    "\n",
    "# Dummy feature for intercept\n",
    "intercept_row_coords = np.array(list(range(n_rows)))\n",
    "intercept_col_coords = [n_cols for i in range(n_rows)]\n",
    "intercept_vals = np.ones(n_rows)\n",
    "\n",
    "# Combine features & dummy feature for intercept\n",
    "row_coords = np.concatenate([row_coords, intercept_row_coords])\n",
    "col_coords = np.concatenate([col_coords, intercept_col_coords])\n",
    "vals = np.concatenate([vals, intercept_vals])\n",
    "\n",
    "# Create sparse matrix\n",
    "jj = coo_matrix((vals, (row_coords, col_coords)))\n",
    "jj.shape, len(all_icd_codes)"
   ]
  },
  {
   "cell_type": "code",
   "execution_count": 21,
   "id": "4ed64073",
   "metadata": {
    "scrolled": true
   },
   "outputs": [],
   "source": [
    "# Construct ideal classifier weights\n",
    "sus_icd_code_idxs = []\n",
    "for c in suspicious_symptoms_ICD_codes:\n",
    "    if c in code_to_index: \n",
    "        sus_icd_code_idxs.append(code_to_index[c])\n",
    "    else:\n",
    "        print(\"Code is not in code to index: \", c)\n",
    "\n",
    "classifier_weights = np.zeros(len(all_icd_codes) + 1)\n",
    "classifier_weights[sus_icd_code_idxs] = 1\n",
    "classifier_weights = np.expand_dims(classifier_weights, 1)\n",
    "classifier_weights[-1] = -3\n"
   ]
  },
  {
   "cell_type": "code",
   "execution_count": 22,
   "id": "800ba052",
   "metadata": {},
   "outputs": [
    {
     "name": "stdout",
     "output_type": "stream",
     "text": [
      "Range of # of symptoms:  2.0 -3.0\n",
      "# Positive:  10537\n",
      "# Patients with 0 Indicative Symptoms:  254894\n",
      "# Patients with 1 Indicative Symptoms:  9353\n",
      "# Patients with 2 Indicative Symptoms:  977\n",
      "# Patients with 3 Indicative Symptoms:  168\n",
      "# Patients with 4 Indicative Symptoms:  34\n",
      "# Patients with 5 Indicative Symptoms:  5\n",
      "p(y=1):  0.039697699213731626 0.05107165327335541\n",
      "# Total:  265431\n",
      "Positive probabilities:  [0.04742587317756678, 0.11920292202211755, 0.2689414213699951, 0.5, 0.7310585786300049, 0.8807970779778823]\n"
     ]
    }
   ],
   "source": [
    "# Count number of suspicious patients \n",
    "kk = jj.dot(classifier_weights)\n",
    "min_symptoms_val = np.min(kk)\n",
    "max_symptoms_val = np.max(kk)\n",
    "r = (kk > min_symptoms_val).astype(int)\n",
    "n_positive = len(np.where(kk > min_symptoms_val)[0])\n",
    "print(\"Range of # of symptoms: \", max_symptoms_val, min_symptoms_val)\n",
    "print(\"# Positive: \", n_positive)\n",
    "print(\"# Patients with 0 Indicative Symptoms: \", len(np.where(kk == min_symptoms_val)[0]))\n",
    "print(\"# Patients with 1 Indicative Symptoms: \", len(np.where(kk == min_symptoms_val +1)[0]))\n",
    "print(\"# Patients with 2 Indicative Symptoms: \", len(np.where(kk == min_symptoms_val +2)[0]))\n",
    "print(\"# Patients with 3 Indicative Symptoms: \", len(np.where(kk == min_symptoms_val +3)[0]))\n",
    "print(\"# Patients with 4 Indicative Symptoms: \", len(np.where(kk == min_symptoms_val +4)[0]))\n",
    "print(\"# Patients with 5 Indicative Symptoms: \", len(np.where(kk == min_symptoms_val +5)[0]))\n",
    "\n",
    "p_y = 1/(1 + np.exp(- kk))\n",
    "y = (np.random.random(p_y.shape) < p_y).astype(int)\n",
    "\n",
    "print(\"p(y=1): \",  n_positive/len(kk), np.mean(y))\n",
    "print(\"# Total: \", len(kk))\n",
    "print(\"Positive probabilities: \", sorted(list(set(np.squeeze(p_y)))))\n"
   ]
  },
  {
   "cell_type": "code",
   "execution_count": 23,
   "id": "52b5f852",
   "metadata": {},
   "outputs": [
    {
     "name": "stdout",
     "output_type": "stream",
     "text": [
      "Code is not in code to index:  N80\n"
     ]
    },
    {
     "data": {
      "text/plain": [
       "((265431, 5544), 5543)"
      ]
     },
     "execution_count": 23,
     "metadata": {},
     "output_type": "execute_result"
    }
   ],
   "source": [
    "# Remove columns corresponding to suspicious symtpoms that we used to construct the labels\n",
    "disease_icd_code_idxs = []\n",
    "for c in disease_ICD_codes:\n",
    "    if c in code_to_index: \n",
    "        disease_icd_code_idxs.append(code_to_index[c])\n",
    "    else:\n",
    "        print(\"Code is not in code to index: \", c)\n",
    "\n",
    "all_idxs = list(range(jj.shape[1]))\n",
    "keep_idxs = list(set(all_idxs).difference(disease_icd_code_idxs))\n",
    "\n",
    "jj_features = sparse.lil_matrix(sparse.csr_matrix(jj)[:,np.array(keep_idxs)])\n",
    "len(sus_icd_code_idxs)\n",
    "feature_icd_codes = []\n",
    "for i in range(len(all_icd_codes)):\n",
    "    if i not in disease_icd_code_idxs:\n",
    "        feature_icd_codes.append(all_icd_codes[i])\n",
    "code_to_feature_index = {c: i for i,c in enumerate(all_icd_codes)}\n",
    "feature_index_to_code = {i: c for i,c in enumerate(all_icd_codes)}\n",
    "\n",
    "jj_features.shape, len(feature_icd_codes)"
   ]
  },
  {
   "cell_type": "code",
   "execution_count": 24,
   "id": "ab98c57e",
   "metadata": {},
   "outputs": [],
   "source": [
    "# For real data, there are no splits for differently generated y, so \n",
    "# all data is saved under Split 0 \n",
    "data_dir = \"../data/semisynthetic/corr/\" + disease_prefix + '/'\n",
    "split_num = 0\n",
    "split_dir = data_dir + str(split_num) + '/'\n",
    "if not os.path.exists(split_dir):\n",
    "    os.makedirs(split_dir)\n",
    "\n",
    "np.savetxt(split_dir + 'feat_names', feature_icd_codes, fmt=\"%s\")\n",
    "np.savetxt(split_dir + 'row_names', all_hadm_ids)\n",
    "np.savetxt(split_dir + 'suspicious_labels', r)\n",
    "np.savetxt(split_dir + 'positive_labels', y)\n",
    "np.savetxt(split_dir + 'true_clf_weights', classifier_weights)\n",
    "save_npz(split_dir + 'vals.npz', jj)"
   ]
  },
  {
   "cell_type": "code",
   "execution_count": null,
   "id": "93ce8c9f",
   "metadata": {},
   "outputs": [],
   "source": []
  }
 ],
 "metadata": {
  "kernelspec": {
   "display_name": "Python 3",
   "language": "python",
   "name": "python3"
  },
  "language_info": {
   "codemirror_mode": {
    "name": "ipython",
    "version": 3
   },
   "file_extension": ".py",
   "mimetype": "text/x-python",
   "name": "python",
   "nbconvert_exporter": "python",
   "pygments_lexer": "ipython3",
   "version": "3.9.6"
  }
 },
 "nbformat": 4,
 "nbformat_minor": 5
}
