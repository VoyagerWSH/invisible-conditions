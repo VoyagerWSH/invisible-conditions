{
 "cells": [
  {
   "cell_type": "code",
   "execution_count": 1,
   "id": "a057e44e",
   "metadata": {},
   "outputs": [],
   "source": [
    "%load_ext autoreload \n",
    "%autoreload 2\n",
    "import os\n",
    "import pickle\n",
    "import pandas as pd\n",
    "import numpy as np\n",
    "from tqdm.notebook import tqdm\n",
    "\n",
    "from scipy import sparse\n",
    "from scipy.sparse import coo_matrix\n",
    "from scipy.sparse import save_npz\n",
    "\n",
    "import matplotlib.pyplot as plt\n",
    "from sklearn.metrics import average_precision_score, roc_auc_score\n",
    "\n",
    "from mimic_helper_fs import get_ids_with_icd_codes, get_ids_with_kws\n",
    "from mimic_helper_fs import get_coocurring_symptoms_codes, get_coocurring_symptoms_kws\n",
    "from mimic_helper_fs import get_icd_code_long_title\n",
    "\n",
    "from ipv_codes import SUSPICIOUS_SYMPTOMS_ICD_CODES\n",
    "\n",
    "from mimic_paths import ed_path, hosp_path, admissions_path, patients_path\n",
    "from mimic_paths import ed_diagnoses_path, hosp_diagnoses_path, english_names_path\n",
    "\n",
    "pd.set_option('max_rows', 500)\n",
    "pd.set_option('display.width', 500)\n",
    "pd.set_option('display.max_colwidth', 80)"
   ]
  },
  {
   "cell_type": "code",
   "execution_count": 2,
   "id": "0f9131e8",
   "metadata": {},
   "outputs": [],
   "source": [
    "english_names = pd.read_csv(english_names_path)\n",
    "diagnoses = pd.read_csv(hosp_diagnoses_path)\n",
    "ed_diagnoses = pd.read_csv(ed_diagnoses_path)"
   ]
  },
  {
   "cell_type": "markdown",
   "id": "21916f71",
   "metadata": {},
   "source": [
    "# Filter out appropriate patients.\n",
    "\n",
    "This depends upon the disease. For IPV, it makes sense to filter out men and children. "
   ]
  },
  {
   "cell_type": "code",
   "execution_count": 4,
   "id": "7b7af6f1",
   "metadata": {},
   "outputs": [],
   "source": [
    "admissions = pd.read_csv(admissions_path)\n",
    "patients = pd.read_csv(patients_path)\n",
    "sid_gender_map = dict(zip(patients.subject_id, patients.gender))\n",
    "sid_age_map = dict(zip(patients.subject_id, patients.anchor_age))\n",
    "sid_ethnicity_map = dict(zip(admissions.subject_id, admissions.ethnicity))\n",
    "hadm_id_to_subject_id = dict(zip(diagnoses.hadm_id, diagnoses.subject_id))"
   ]
  },
  {
   "cell_type": "code",
   "execution_count": 5,
   "id": "6d5e3596",
   "metadata": {},
   "outputs": [
    {
     "data": {
      "text/plain": [
       "{'DIVORCED', 'MARRIED', 'SINGLE', 'WIDOWED', nan}"
      ]
     },
     "execution_count": 5,
     "metadata": {},
     "output_type": "execute_result"
    }
   ],
   "source": [
    "admissions.keys()\n",
    "set(admissions['marital_status'])"
   ]
  },
  {
   "cell_type": "code",
   "execution_count": 6,
   "id": "91bc39e7",
   "metadata": {},
   "outputs": [],
   "source": [
    "ed_admitted_patients = list(admissions[admissions['admission_location'] == 'EMERGENCY ROOM']['hadm_id'])"
   ]
  },
  {
   "cell_type": "code",
   "execution_count": 7,
   "id": "86ad03c6",
   "metadata": {},
   "outputs": [],
   "source": [
    "diagnoses['anchor_age'] = diagnoses['subject_id'].map(sid_age_map)\n",
    "diagnoses['gender'] = diagnoses['subject_id'].map(sid_gender_map)\n",
    "diagnoses['ethnicity'] = diagnoses['subject_id'].map(sid_ethnicity_map)"
   ]
  },
  {
   "cell_type": "code",
   "execution_count": 8,
   "id": "9dbd9d4c",
   "metadata": {},
   "outputs": [
    {
     "name": "stdout",
     "output_type": "stream",
     "text": [
      "# of Patients:  62712\n",
      "# of Individual Stays:  124239\n",
      "# of Unique ICD Codes:  15699\n"
     ]
    }
   ],
   "source": [
    "diagnoses = diagnoses[diagnoses['gender'] == 'F']\n",
    "diagnoses = diagnoses[diagnoses['anchor_age'] > 18]\n",
    "diagnoses = diagnoses[diagnoses['hadm_id'].isin(ed_admitted_patients)]\n",
    "\n",
    "all_hadm_ids = sorted(list(set(diagnoses['hadm_id'])))\n",
    "all_subject_ids = [hadm_id_to_subject_id[hadm_id] for hadm_id in all_hadm_ids]\n",
    "all_icd_codes = sorted(list(set(diagnoses['icd_code'])))\n",
    "\n",
    "code_to_index = {c: i for i,c in enumerate(all_icd_codes)}\n",
    "hadm_id_to_index = {hadm_id: i for i, hadm_id in enumerate(all_hadm_ids)}\n",
    "\n",
    "print(\"# of Patients: \", len(set(diagnoses['subject_id'])))\n",
    "print(\"# of Individual Stays: \", len(set(diagnoses['hadm_id'])))\n",
    "print(\"# of Unique ICD Codes: \", len(all_icd_codes))\n",
    "\n",
    "# We treat each stay as a different patient, since our analysis is not longitudinal."
   ]
  },
  {
   "cell_type": "code",
   "execution_count": 9,
   "id": "ddfde845",
   "metadata": {},
   "outputs": [
    {
     "data": {
      "text/plain": [
       "(64167, 124239)"
      ]
     },
     "execution_count": 9,
     "metadata": {},
     "output_type": "execute_result"
    }
   ],
   "source": [
    "ed_admits = admissions[admissions['admission_location'] == 'EMERGENCY ROOM']\n",
    "ed_admits = ed_admits[ed_admits['hadm_id'].isin(diagnoses['hadm_id'])]\n",
    "len(ed_admits[ed_admits['insurance'].isin(['Medicaid', 'Medicare'])]['hadm_id']), len(ed_admits)"
   ]
  },
  {
   "cell_type": "code",
   "execution_count": 10,
   "id": "780a8907",
   "metadata": {},
   "outputs": [
    {
     "data": {
      "text/plain": [
       "(124238, 124239)"
      ]
     },
     "execution_count": 10,
     "metadata": {},
     "output_type": "execute_result"
    }
   ],
   "source": [
    "np.max(list(hadm_id_to_index.values())), len(list(hadm_id_to_index.values()))"
   ]
  },
  {
   "cell_type": "markdown",
   "id": "6c9b784d",
   "metadata": {},
   "source": [
    "# Identify relevant codes"
   ]
  },
  {
   "cell_type": "code",
   "execution_count": 13,
   "id": "fe5fc914",
   "metadata": {},
   "outputs": [
    {
     "name": "stdout",
     "output_type": "stream",
     "text": [
      "25 18\n"
     ]
    }
   ],
   "source": [
    "from mimic_helper_fs import get_icd_codes_with_prefix\n",
    "from ipv_codes import GOLD_STANDARD_IPV_CODES_4, GOLD_STANDARD_IPV_CODES_1\n",
    "from ipv_codes import GOLD_STANDARD_IPV_CODES_2, GOLD_STANDARD_IPV_CODES_3, Y_CODES\n",
    "\n",
    "disease_prefix = 'ipv'\n",
    "\n",
    "code_prefixes = GOLD_STANDARD_IPV_CODES_4 + Y_CODES\n",
    "positive_codes = []\n",
    "for code in code_prefixes:\n",
    "    \n",
    "    codes = get_icd_codes_with_prefix(english_names, code)\n",
    "    positive_codes.extend(codes)\n",
    "print(len(positive_codes), len(code_prefixes))"
   ]
  },
  {
   "cell_type": "code",
   "execution_count": 14,
   "id": "963b5dcd",
   "metadata": {},
   "outputs": [
    {
     "data": {
      "text/plain": [
       "['E9672',\n",
       " 'E9673',\n",
       " 'E9671',\n",
       " 'E9670',\n",
       " 'E9679',\n",
       " 'V6111',\n",
       " '99581',\n",
       " '99585',\n",
       " 'T7411XA',\n",
       " 'T7411XD',\n",
       " 'T7411XS',\n",
       " '99580',\n",
       " 'T7611',\n",
       " 'T7611XA',\n",
       " 'T7611XD',\n",
       " 'T7611XS',\n",
       " 'T7611XA',\n",
       " 'T7611XD',\n",
       " 'T7611XS',\n",
       " 'Y070',\n",
       " 'Y0701',\n",
       " 'Y0702',\n",
       " 'Y0703',\n",
       " 'Y0704',\n",
       " 'Y079']"
      ]
     },
     "execution_count": 14,
     "metadata": {},
     "output_type": "execute_result"
    }
   ],
   "source": [
    "positive_codes"
   ]
  },
  {
   "cell_type": "markdown",
   "id": "55783e08",
   "metadata": {},
   "source": [
    "# Create one-hot encoded features"
   ]
  },
  {
   "cell_type": "code",
   "execution_count": 15,
   "id": "efca5f35",
   "metadata": {},
   "outputs": [],
   "source": [
    "one_hot = pd.get_dummies(diagnoses['icd_code'], sparse=True)\n",
    "hadm_one_hot = pd.concat([diagnoses['hadm_id'], one_hot], axis=1)"
   ]
  },
  {
   "cell_type": "code",
   "execution_count": 16,
   "id": "0355d399",
   "metadata": {},
   "outputs": [],
   "source": [
    "diagnoses['icd_code_idx'] = diagnoses['icd_code'].map(code_to_index)\n",
    "diagnoses['hadm_id_idx'] = diagnoses['hadm_id'].map(hadm_id_to_index)"
   ]
  },
  {
   "cell_type": "code",
   "execution_count": 17,
   "id": "b3c8f68f",
   "metadata": {},
   "outputs": [],
   "source": [
    "# Write out one-hot features in coordinate format (helpful since matrix is very sparse)\n",
    "row_coords = np.array(diagnoses['hadm_id_idx'])\n",
    "col_coords = np.array(diagnoses['icd_code_idx'])\n",
    "vals = np.ones(len(col_coords))\n",
    "\n",
    "n_rows = np.max(row_coords) + 1\n",
    "n_cols = np.max(col_coords) + 1\n",
    "\n",
    "# Dummy feature for intercept\n",
    "intercept_row_coords = np.array(list(range(n_rows)))\n",
    "intercept_col_coords = [n_cols for i in range(n_rows)]\n",
    "intercept_vals = np.ones(n_rows)\n",
    "\n",
    "# Combine features & dummy feature for intercept\n",
    "row_coords = np.concatenate([row_coords, intercept_row_coords])\n",
    "col_coords = np.concatenate([col_coords, intercept_col_coords])\n",
    "vals = np.concatenate([vals, intercept_vals])\n",
    "\n",
    "# Create sparse matrix\n",
    "jj = coo_matrix((vals, (row_coords, col_coords)))"
   ]
  },
  {
   "cell_type": "code",
   "execution_count": 32,
   "id": "023d6f51",
   "metadata": {},
   "outputs": [
    {
     "data": {
      "text/plain": [
       "[]"
      ]
     },
     "execution_count": 32,
     "metadata": {},
     "output_type": "execute_result"
    }
   ],
   "source": [
    "gg = [all_icd_codes[i] for i in sus_icd_code_idxs]"
   ]
  },
  {
   "cell_type": "code",
   "execution_count": 18,
   "id": "4ed64073",
   "metadata": {
    "scrolled": true
   },
   "outputs": [
    {
     "name": "stdout",
     "output_type": "stream",
     "text": [
      "Code is not in code to index:  T7411XD\n",
      "Code is not in code to index:  T7411XS\n",
      "Code is not in code to index:  T7611\n",
      "Code is not in code to index:  T7611XD\n",
      "Code is not in code to index:  T7611XS\n",
      "Code is not in code to index:  T7611XD\n",
      "Code is not in code to index:  T7611XS\n",
      "Code is not in code to index:  Y070\n",
      "Code is not in code to index:  Y0702\n",
      "Code is not in code to index:  Y0704\n"
     ]
    }
   ],
   "source": [
    "# Construct ideal classifier weights\n",
    "sus_icd_code_idxs = []\n",
    "for c in positive_codes:\n",
    "    if c in code_to_index: \n",
    "        sus_icd_code_idxs.append(code_to_index[c])\n",
    "    else:\n",
    "        print(\"Code is not in code to index: \", c)\n",
    "\n",
    "classifier_weights = np.zeros(len(all_icd_codes) + 1)\n",
    "classifier_weights[sus_icd_code_idxs] = 1\n",
    "classifier_weights = np.expand_dims(classifier_weights, 1)\n",
    "classifier_weights[-1] = 0\n",
    "# Why are there no ICD-10 codes in here?"
   ]
  },
  {
   "cell_type": "code",
   "execution_count": 19,
   "id": "800ba052",
   "metadata": {},
   "outputs": [
    {
     "name": "stdout",
     "output_type": "stream",
     "text": [
      "Range of # of symptoms:  3.0 0.0\n",
      "# Positive:  235\n",
      "# Patients with 0 Indicative Symptoms:  124004\n",
      "# Patients with 1 Indicative Symptoms:  151\n",
      "# Patients with 2 Indicative Symptoms:  83\n",
      "# Patients with 3 Indicative Symptoms:  1\n",
      "# Total:  124239\n"
     ]
    }
   ],
   "source": [
    "# Count number of suspicious patients \n",
    "kk = jj.dot(classifier_weights)\n",
    "min_symptoms_val = np.min(kk)\n",
    "max_symptoms_val = np.max(kk)\n",
    "r = (kk > min_symptoms_val).astype(int)\n",
    "print(\"Range of # of symptoms: \", max_symptoms_val, min_symptoms_val)\n",
    "print(\"# Positive: \", len(np.where(kk > min_symptoms_val)[0]))\n",
    "print(\"# Patients with 0 Indicative Symptoms: \", len(np.where(kk == min_symptoms_val)[0]))\n",
    "print(\"# Patients with 1 Indicative Symptoms: \", len(np.where(kk == min_symptoms_val +1)[0]))\n",
    "print(\"# Patients with 2 Indicative Symptoms: \", len(np.where(kk == min_symptoms_val +2)[0]))\n",
    "print(\"# Patients with 3 Indicative Symptoms: \", len(np.where(kk == min_symptoms_val +3)[0]))\n",
    "\n",
    "print(\"# Total: \", len(kk))"
   ]
  },
  {
   "cell_type": "code",
   "execution_count": 20,
   "id": "52b5f852",
   "metadata": {},
   "outputs": [
    {
     "data": {
      "text/plain": [
       "((124239, 15686), 15685)"
      ]
     },
     "execution_count": 20,
     "metadata": {},
     "output_type": "execute_result"
    }
   ],
   "source": [
    "# Remove columns corresponding to suspicious symtpoms that we used to construct the labels\n",
    "all_idxs = list(range(jj.shape[1]))\n",
    "keep_idxs = list(set(all_idxs).difference(sus_icd_code_idxs))\n",
    "\n",
    "jj_features = sparse.lil_matrix(sparse.csr_matrix(jj)[:,np.array(keep_idxs)])\n",
    "len(sus_icd_code_idxs)\n",
    "feature_icd_codes = []\n",
    "for i in range(len(all_icd_codes)):\n",
    "    if i not in sus_icd_code_idxs:\n",
    "        feature_icd_codes.append(all_icd_codes[i])\n",
    "code_to_feature_index = {c: i for i,c in enumerate(all_icd_codes)}\n",
    "\n",
    "# Redo the code to index dictionary so that the  indices still correspond to something with a name\n",
    "jj_features.shape, len(feature_icd_codes)"
   ]
  },
  {
   "cell_type": "code",
   "execution_count": 21,
   "id": "40bcf441",
   "metadata": {},
   "outputs": [
    {
     "name": "stderr",
     "output_type": "stream",
     "text": [
      "/data/ddmg/prism/.conda/envs/ipv_nfs/lib/python3.9/site-packages/sklearn/utils/validation.py:63: DataConversionWarning: A column-vector y was passed when a 1d array was expected. Please change the shape of y to (n_samples, ), for example using ravel().\n",
      "  return f(*args, **kwargs)\n"
     ]
    }
   ],
   "source": [
    "from sklearn.linear_model import LogisticRegression\n",
    "from sklearn.model_selection import train_test_split\n",
    "x_train, x_test, y_train, y_test = train_test_split(jj_features,  r, test_size=.2, stratify=r)\n",
    "\n",
    "lr = LogisticRegression()\n",
    "lr.fit(x_train, y_train)\n",
    "\n",
    "sorted_idxs = np.argsort(-1*lr.coef_)"
   ]
  },
  {
   "cell_type": "code",
   "execution_count": 22,
   "id": "7001972c",
   "metadata": {},
   "outputs": [
    {
     "name": "stdout",
     "output_type": "stream",
     "text": [
      "Rank  0  Coef:  4.417517215430306 \t Code:  99582 \t \n",
      "Adult emotional/psychological abuse\n",
      "\n",
      "Rank  1  Coef:  3.328024392569806 \t Code:  E9600 \t \n",
      "Unarmed fight or brawl\n",
      "\n",
      "Rank  2  Coef:  2.7677426015500317 \t Code:  E9689 \t \n",
      "Assault by unspecified means\n",
      "\n",
      "Rank  3  Coef:  2.4901351516959003 \t Code:  9599 \t \n",
      "Unspecified site injury\n",
      "\n",
      "Rank  4  Coef:  2.2007515209446407 \t Code:  920 \t \n",
      "Contusion of face, scalp, and neck except eye(s)\n",
      "\n",
      "Rank  5  Coef:  2.0637877603594887 \t Code:  99583 \t \n",
      "Adult sexual abuse\n",
      "\n",
      "Rank  6  Coef:  2.056192317787173 \t Code:  64893 \t \n",
      "Other current conditions classifiable elsewhere of mother, antepartum condition or complication\n",
      "\n",
      "Rank  7  Coef:  2.020323643111339 \t Code:  95901 \t \n",
      "Head injury, unspecified\n",
      "\n",
      "Rank  8  Coef:  1.978615282083091 \t Code:  2930 \t \n",
      "Delirium due to conditions classified elsewhere\n",
      "\n",
      "Rank  9  Coef:  1.971024147888803 \t Code:  E9674 \t \n",
      "Perpetrator of child and adult abuse, by child\n",
      "\n",
      "Rank  10  Coef:  1.811524600137434 \t Code:  E8493 \t \n",
      "Accidents occurring in industrial places and premises\n",
      "\n",
      "Rank  11  Coef:  1.7076395457221407 \t Code:  9248 \t \n",
      "Contusion of multiple sites, not elsewhere classified\n",
      "\n"
     ]
    }
   ],
   "source": [
    "from mimic_helper_fs import get_icd_code_long_title\n",
    "coefs = lr.coef_[0]\n",
    "sorted_idxs = np.argsort(-1*lr.coef_).flatten()\n",
    "for i, idx in enumerate(sorted_idxs):\n",
    "    icd_code = feature_icd_codes[idx]\n",
    "    descr = get_icd_code_long_title(english_names, icd_code)\n",
    "    print(\"Rank \", i, \" Coef: \", coefs[idx], \"\\t Code: \", icd_code, \"\\t \")\n",
    "    print(descr)\n",
    "    print()\n",
    "    if i > 10:\n",
    "        break"
   ]
  },
  {
   "cell_type": "code",
   "execution_count": 23,
   "id": "c4bfd7f7",
   "metadata": {},
   "outputs": [
    {
     "name": "stdout",
     "output_type": "stream",
     "text": [
      "Rank  0  Coef:  -1.5425042290057767 \t Code:  E8809 \t \n",
      "Accidental fall on or from other stairs or steps\n",
      "\n",
      "Rank  1  Coef:  -1.3232158651465828 \t Code:  71946 \t \n",
      "Pain in joint, lower leg\n",
      "\n",
      "Rank  2  Coef:  -1.3157075815543386 \t Code:  E8889 \t \n",
      "Unspecified fall\n",
      "\n",
      "Rank  3  Coef:  -1.2228093251216217 \t Code:  V1582 \t \n",
      "Personal history of tobacco use\n",
      "\n",
      "Rank  4  Coef:  -1.145687618906468 \t Code:  E8859 \t \n",
      "Fall from other slipping, tripping, or stumbling\n",
      "\n",
      "Rank  5  Coef:  -1.1062134651898217 \t Code:  V103 \t \n",
      "Personal history of malignant neoplasm of breast\n",
      "\n",
      "Rank  6  Coef:  -1.066999419543994 \t Code:  42731 \t \n",
      "Atrial fibrillation\n",
      "\n",
      "Rank  7  Coef:  -1.0585942016427623 \t Code:  5990 \t \n",
      "Urinary tract infection, site not specified\n",
      "\n",
      "Rank  8  Coef:  -1.0456582386303122 \t Code:  78650 \t \n",
      "Chest pain, unspecified\n",
      "\n",
      "Rank  9  Coef:  -1.0082183860762446 \t Code:  27800 \t \n",
      "Obesity, unspecified\n",
      "\n",
      "Rank  10  Coef:  -1.0073281982350952 \t Code:  E956 \t \n",
      "Suicide and self-inflicted injury by cutting and piercing instrument\n",
      "\n",
      "Rank  11  Coef:  -0.953110913484168 \t Code:  2989 \t \n",
      "Unspecified psychosis\n",
      "\n"
     ]
    }
   ],
   "source": [
    "coefs = lr.coef_[0]\n",
    "sorted_idxs = np.argsort(lr.coef_).flatten()\n",
    "for i, idx in enumerate(sorted_idxs):\n",
    "    icd_code = feature_icd_codes[idx]\n",
    "    descr = get_icd_code_long_title(english_names, icd_code)\n",
    "    print(\"Rank \", i, \" Coef: \", coefs[idx], \"\\t Code: \", icd_code, \"\\t \")\n",
    "    print(descr)\n",
    "    print()\n",
    "    if i > 10:\n",
    "        break"
   ]
  },
  {
   "cell_type": "code",
   "execution_count": 24,
   "id": "b65ccd0d",
   "metadata": {},
   "outputs": [
    {
     "data": {
      "text/plain": [
       "0.0769885419790676"
      ]
     },
     "execution_count": 24,
     "metadata": {},
     "output_type": "execute_result"
    },
    {
     "data": {
      "image/png": "[encoded data removed]",
      "text/plain": [
       "<Figure size 432x288 with 1 Axes>"
      ]
     },
     "metadata": {
      "needs_background": "light"
     },
     "output_type": "display_data"
    }
   ],
   "source": [
    "\n",
    "plt.hist(lr.predict_proba(x_test)[:,1])\n",
    "y_pred = lr.predict_proba(x_test)[:,1]\n",
    "average_precision_score( y_test, y_pred) # AUC of about .90"
   ]
  },
  {
   "cell_type": "code",
   "execution_count": 25,
   "id": "29c45cff",
   "metadata": {},
   "outputs": [
    {
     "data": {
      "text/plain": [
       "(168, 47)"
      ]
     },
     "execution_count": 25,
     "metadata": {},
     "output_type": "execute_result"
    }
   ],
   "source": [
    "len(np.where(y_pred > .02)[0]), np.sum(y_test)"
   ]
  },
  {
   "cell_type": "code",
   "execution_count": 26,
   "id": "ab98c57e",
   "metadata": {},
   "outputs": [],
   "source": [
    "# For real data, there are no splits for differently generated y, so \n",
    "# all data is saved under Split 0 \n",
    "data_dir = \"../data/real_true_labels/hospital/\" + disease_prefix + '/'\n",
    "split_num = 0\n",
    "y = r\n",
    "split_dir = data_dir + str(split_num) + '/'\n",
    "if not os.path.exists(split_dir):\n",
    "    os.makedirs(split_dir)\n",
    "jj_features = sparse.coo_matrix(jj_features)\n",
    "np.savetxt(split_dir + 'feat_names', feature_icd_codes, fmt=\"%s\")\n",
    "np.savetxt(split_dir + 'row_names', all_hadm_ids)\n",
    "np.savetxt(split_dir + 'subject_ids', all_subject_ids)\n",
    "np.savetxt(split_dir + 'observed_labels', y)\n",
    "np.savetxt(split_dir + 'true_clf_weights', classifier_weights)\n",
    "save_npz(split_dir + 'vals.npz', jj_features)"
   ]
  },
  {
   "cell_type": "code",
   "execution_count": null,
   "id": "de62e302",
   "metadata": {},
   "outputs": [],
   "source": []
  }
 ],
 "metadata": {
  "kernelspec": {
   "display_name": "Python 3",
   "language": "python",
   "name": "python3"
  },
  "language_info": {
   "codemirror_mode": {
    "name": "ipython",
    "version": 3
   },
   "file_extension": ".py",
   "mimetype": "text/x-python",
   "name": "python",
   "nbconvert_exporter": "python",
   "pygments_lexer": "ipython3",
   "version": "3.9.6"
  }
 },
 "nbformat": 4,
 "nbformat_minor": 5
}
