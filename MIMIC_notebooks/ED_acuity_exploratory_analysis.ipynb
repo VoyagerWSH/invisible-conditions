{
 "cells": [
  {
   "cell_type": "code",
   "execution_count": 45,
   "id": "c72da7ee",
   "metadata": {},
   "outputs": [
    {
     "name": "stdout",
     "output_type": "stream",
     "text": [
      "The autoreload extension is already loaded. To reload it, use:\n",
      "  %reload_ext autoreload\n"
     ]
    }
   ],
   "source": [
    "%load_ext autoreload \n",
    "%autoreload 2\n",
    "import pandas as pd\n",
    "import os\n",
    "import matplotlib.pyplot as plt\n",
    "\n",
    "from mimic_helper_fs import get_ids_with_icd_codes, get_ids_with_kws\n",
    "from mimic_helper_fs import get_coocurring_symptoms_codes, get_coocurring_symptoms_kws\n",
    "\n",
    "from ipv_codes import NHAS_IPV_CODES, OREGON_IPV_CODES, USED_IPV_CODES, ICD10_IPV_CODES\n",
    "from ipv_codes import KW_SETS, CODE_SETS\n",
    "\n",
    "pd.set_option('max_rows', 500)\n",
    "pd.set_option('display.width', 500)\n",
    "pd.set_option('display.max_colwidth', 80)\n",
    "\n",
    "mimic_iv_ed_data_path = '~/physionet.org/files/mimic-iv-ed/1.0/ed/'\n",
    "mimic_iv_data_path = '~/physionet.org/files/mimiciv/1.0/'\n",
    "hosp_data_path = mimic_iv_data_path + 'hosp/'\n",
    "\n"
   ]
  },
  {
   "cell_type": "markdown",
   "id": "1ed6a71a",
   "metadata": {},
   "source": [
    "# Distribution of acuity"
   ]
  },
  {
   "cell_type": "code",
   "execution_count": 46,
   "id": "d3226be4",
   "metadata": {},
   "outputs": [],
   "source": [
    "triage = pd.read_csv(mimic_iv_ed_data_path + 'triage.csv.gz')\n",
    "admissions = pd.read_csv(mimic_iv_data_path + 'core/admissions.csv.gz')[['subject_id', 'ethnicity', \n",
    "                                                                          'language', 'marital_status', 'hospital_expire_flag']]\n",
    "\n",
    "triage_admissions = pd.merge(triage, admissions, on='subject_id', how='inner')\n",
    "triage_admissions = triage_admissions.drop_duplicates()"
   ]
  },
  {
   "cell_type": "code",
   "execution_count": 56,
   "id": "493121d1",
   "metadata": {},
   "outputs": [
    {
     "name": "stdout",
     "output_type": "stream",
     "text": [
      "# of Patients in Triage:  216877\n",
      "# of Patients in Admissions table:  256878\n"
     ]
    }
   ],
   "source": [
    "print(\"# of Patients in Triage: \", len(set(triage['subject_id'])))\n",
    "print(\"# of Patients in Admissions table: \", len(set(admissions['subject_id'])))"
   ]
  },
  {
   "cell_type": "code",
   "execution_count": 59,
   "id": "d3fa7160",
   "metadata": {},
   "outputs": [
    {
     "name": "stdout",
     "output_type": "stream",
     "text": [
      "# of patients in both:  129668\n"
     ]
    }
   ],
   "source": [
    "print(\"# of patients in both: \", len(set(triage['subject_id']).intersection(set(admissions['subject_id']))))"
   ]
  },
  {
   "cell_type": "code",
   "execution_count": 72,
   "id": "321d2ee2",
   "metadata": {},
   "outputs": [
    {
     "data": {
      "text/plain": [
       "(-0.09226460461494956, 0.0)"
      ]
     },
     "execution_count": 72,
     "metadata": {},
     "output_type": "execute_result"
    }
   ],
   "source": [
    "from scipy.stats import pearsonr\n",
    "notna_idxs = list(triage_admissions['acuity'].notna())\n",
    "acuity_scores = np.array(list(triage_admissions['acuity'][notna_idxs]))\n",
    "mortality_labels = np.array(list(triage_admissions['hospital_expire_flag'][notna_idxs]))\n",
    "\n",
    "pearsonr(acuity_scores, mortality_labels)"
   ]
  },
  {
   "cell_type": "code",
   "execution_count": 73,
   "id": "352eeea1",
   "metadata": {},
   "outputs": [
    {
     "data": {
      "text/plain": [
       "array([0, 1, 0, ..., 0, 0, 0])"
      ]
     },
     "execution_count": 73,
     "metadata": {},
     "output_type": "execute_result"
    }
   ],
   "source": [
    "mortality_labels"
   ]
  },
  {
   "cell_type": "code",
   "execution_count": 74,
   "id": "85dfefb3",
   "metadata": {},
   "outputs": [
    {
     "data": {
      "text/plain": [
       "(array([2779.,    0., 7840.,    0.,    0., 5652.,    0.,  142.,    0.,\n",
       "           8.]),\n",
       " array([1. , 1.4, 1.8, 2.2, 2.6, 3. , 3.4, 3.8, 4.2, 4.6, 5. ]),\n",
       " <BarContainer object of 10 artists>)"
      ]
     },
     "execution_count": 74,
     "metadata": {},
     "output_type": "execute_result"
    },
    {
     "data": {
      "image/png": "[encoded data removed]",
      "text/plain": [
       "<Figure size 432x288 with 1 Axes>"
      ]
     },
     "metadata": {
      "needs_background": "light"
     },
     "output_type": "display_data"
    }
   ],
   "source": [
    "plt.hist(acuity_scores[mortality_labels == 1])"
   ]
  },
  {
   "cell_type": "code",
   "execution_count": 47,
   "id": "38690aee",
   "metadata": {
    "scrolled": false
   },
   "outputs": [
    {
     "data": {
      "text/plain": [
       "Text(0.5, 0, 'Acuity Score')"
      ]
     },
     "execution_count": 47,
     "metadata": {},
     "output_type": "execute_result"
    },
    {
     "data": {
      "image/png": "[encoded data removed]",
      "text/plain": [
       "<Figure size 432x288 with 1 Axes>"
      ]
     },
     "metadata": {
      "needs_background": "light"
     },
     "output_type": "display_data"
    }
   ],
   "source": [
    "# Only 1175 -- .2% -- are assigned a severity score of 5!\n",
    "# ~7% are assigned a score of 4 or 5\n",
    "plt.hist(triage['acuity'])\n",
    "plt.title(\"Distribution of Assigned Acuity\")\n",
    "plt.ylabel(\"# of Patients\")\n",
    "plt.xlabel(\"Acuity Score\")"
   ]
  },
  {
   "cell_type": "markdown",
   "id": "711b6398",
   "metadata": {},
   "source": [
    "# Rate of mortality"
   ]
  },
  {
   "cell_type": "code",
   "execution_count": 54,
   "id": "25e64db5",
   "metadata": {},
   "outputs": [
    {
     "data": {
      "text/plain": [
       "0.04162360281733272"
      ]
     },
     "execution_count": 54,
     "metadata": {},
     "output_type": "execute_result"
    }
   ],
   "source": [
    "import numpy as np\n",
    "np.mean(triage_admissions['hospital_expire_flag'])"
   ]
  },
  {
   "cell_type": "markdown",
   "id": "617ee695",
   "metadata": {},
   "source": [
    "# Benchmark analysis"
   ]
  },
  {
   "cell_type": "code",
   "execution_count": 18,
   "id": "891f17fe",
   "metadata": {
    "scrolled": true
   },
   "outputs": [
    {
     "data": {
      "text/plain": [
       "62892"
      ]
     },
     "execution_count": 18,
     "metadata": {},
     "output_type": "execute_result"
    }
   ],
   "source": [
    "# Still have to include chief complaint \n",
    "#  but how\n"
   ]
  },
  {
   "cell_type": "code",
   "execution_count": 73,
   "id": "9e6d6fce",
   "metadata": {},
   "outputs": [],
   "source": [
    "triage_subject_ids = set(triage['subject_id'])\n",
    "hosp_subject_ids = set(admissions['subject_id'])"
   ]
  },
  {
   "cell_type": "code",
   "execution_count": 74,
   "id": "e342caaf",
   "metadata": {},
   "outputs": [
    {
     "name": "stdout",
     "output_type": "stream",
     "text": [
      "# Patients in Triage:  216877\n",
      "# Patients in Hospit:   256878\n",
      "# Patients in Both:   129668\n"
     ]
    }
   ],
   "source": [
    "print(\"# Patients in Triage: \", len((triage_subject_ids)))\n",
    "print(\"# Patients in Hospit:  \", len(hosp_subject_ids))\n",
    "print(\"# Patients in Both:  \", len(triage_subject_ids.intersection(hosp_subject_ids)))"
   ]
  },
  {
   "cell_type": "code",
   "execution_count": 75,
   "id": "70740b72",
   "metadata": {},
   "outputs": [
    {
     "data": {
      "text/plain": [
       "129668"
      ]
     },
     "execution_count": 75,
     "metadata": {},
     "output_type": "execute_result"
    }
   ],
   "source": [
    "len(set(triage_admissions['subject_id']))"
   ]
  },
  {
   "cell_type": "markdown",
   "id": "fe364b9a",
   "metadata": {},
   "source": [
    "# Outcome analysis"
   ]
  },
  {
   "cell_type": "code",
   "execution_count": 30,
   "id": "42f3c326",
   "metadata": {},
   "outputs": [
    {
     "name": "stderr",
     "output_type": "stream",
     "text": [
      "/home/t-dshanmugam/.conda/envs/ipv/lib/python3.7/site-packages/ipykernel_launcher.py:13: SettingWithCopyWarning: \n",
      "A value is trying to be set on a copy of a slice from a DataFrame.\n",
      "Try using .loc[row_indexer,col_indexer] = value instead\n",
      "\n",
      "See the caveats in the documentation: https://pandas.pydata.org/pandas-docs/stable/user_guide/indexing.html#returning-a-view-versus-a-copy\n",
      "  del sys.path[0]\n"
     ]
    }
   ],
   "source": [
    "# Train p(mortality | observable variables)\n",
    "feature_names = ['temperature', 'heartrate', 'resprate', 'o2sat', 'sbp', 'dbp', 'pain',]\n",
    "label_name = ['hospital_expire_flag']\n",
    "\n",
    "x = triage_admissions[feature_names]\n",
    "y = triage_admissions[label_name]\n",
    "\n",
    "\n",
    "# Add missingness indicator for each feature\n",
    "for feature_name in feature_names:\n",
    "    missingness_indicator = feature_name + \"_missing\"\n",
    "    feature_names.append(missingness_indicator)\n",
    "    missingness = x[feature_name].notna().astype(int)\n",
    "    x[missingness_indicator] = missingness\n",
    "x = x.fillna(0)\n",
    "x = x.values\n",
    "y = y.values\n",
    "\n",
    "from sklearn.model_selection import train_test_split\n",
    "x_train, x_test, y_train, y_test = train_test_split(x, y, test_size=.2)\n",
    "# guess this could be any f "
   ]
  },
  {
   "cell_type": "code",
   "execution_count": 33,
   "id": "61770323",
   "metadata": {},
   "outputs": [],
   "source": [
    "# scale features\n",
    "from sklearn.preprocessing import StandardScaler\n",
    "scaler = StandardScaler().fit(x_train)\n",
    "x_train = scaler.transform(x_train)\n",
    "x_test = scaler.transform(x_test)"
   ]
  },
  {
   "cell_type": "code",
   "execution_count": 39,
   "id": "8a72b0bd",
   "metadata": {},
   "outputs": [
    {
     "data": {
      "text/plain": [
       "LogisticRegression(max_iter=500)"
      ]
     },
     "execution_count": 39,
     "metadata": {},
     "output_type": "execute_result"
    }
   ],
   "source": [
    "from sklearn.linear_model import LogisticRegression\n",
    "lr = LogisticRegression(max_iter=500)\n",
    "lr.fit(x_train, y_train[:,0])"
   ]
  },
  {
   "cell_type": "code",
   "execution_count": 42,
   "id": "0240b1e0",
   "metadata": {},
   "outputs": [
    {
     "data": {
      "text/plain": [
       "0.6496107959388524"
      ]
     },
     "execution_count": 42,
     "metadata": {},
     "output_type": "execute_result"
    }
   ],
   "source": [
    "from sklearn.metrics import roc_auc_score\n",
    "# AUC of .64 predicting the \n",
    "roc_auc_score(y_test, lr.predict_proba(x_test)[:,1])"
   ]
  },
  {
   "cell_type": "code",
   "execution_count": 43,
   "id": "d8f3b5c1",
   "metadata": {},
   "outputs": [
    {
     "data": {
      "text/plain": [
       "array([[ 1.24216329e-01,  1.24006467e-01,  6.90919156e-03,\n",
       "        -1.24351017e+00, -2.03411851e-02, -1.09476883e+01,\n",
       "        -1.34869358e-01, -2.24533396e-01, -1.71673705e-01,\n",
       "        -2.34327462e-02,  7.57444366e-01,  8.74037048e-02,\n",
       "         1.63759737e-01, -9.60716499e-02]])"
      ]
     },
     "execution_count": 43,
     "metadata": {},
     "output_type": "execute_result"
    }
   ],
   "source": [
    "lr.coef_"
   ]
  },
  {
   "cell_type": "code",
   "execution_count": 44,
   "id": "9e5df5c6",
   "metadata": {},
   "outputs": [
    {
     "data": {
      "text/plain": [
       "['temperature', 'heartrate', 'resprate', 'o2sat', 'sbp', 'dbp', 'pain']"
      ]
     },
     "execution_count": 44,
     "metadata": {},
     "output_type": "execute_result"
    }
   ],
   "source": [
    "feature_names"
   ]
  },
  {
   "cell_type": "code",
   "execution_count": null,
   "id": "dcf2aaef",
   "metadata": {},
   "outputs": [],
   "source": [
    "temperature, heartrate, o2sat, dbp, pain"
   ]
  }
 ],
 "metadata": {
  "kernelspec": {
   "display_name": "Python 3",
   "language": "python",
   "name": "python3"
  },
  "language_info": {
   "codemirror_mode": {
    "name": "ipython",
    "version": 3
   },
   "file_extension": ".py",
   "mimetype": "text/x-python",
   "name": "python",
   "nbconvert_exporter": "python",
   "pygments_lexer": "ipython3",
   "version": "3.9.6"
  }
 },
 "nbformat": 4,
 "nbformat_minor": 5
}
