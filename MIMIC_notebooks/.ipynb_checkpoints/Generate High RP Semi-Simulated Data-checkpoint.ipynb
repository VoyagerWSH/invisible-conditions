{
 "cells": [
  {
   "cell_type": "code",
   "execution_count": 1,
   "id": "a057e44e",
   "metadata": {},
   "outputs": [],
   "source": [
    "%load_ext autoreload \n",
    "%autoreload 2\n",
    "import os\n",
    "import pickle\n",
    "import numpy as np\n",
    "import pandas as pd\n",
    "from tqdm.notebook import tqdm\n",
    "\n",
    "from scipy.sparse import coo_matrix\n",
    "from scipy.sparse import save_npz\n",
    "\n",
    "from mimic_helper_fs import get_icd_code_long_title\n",
    "from mimic_helper_fs import get_ids_with_icd_codes, get_ids_with_kws\n",
    "from mimic_helper_fs import get_coocurring_symptoms_codes, get_coocurring_symptoms_kws\n",
    "from mimic_paths import english_names_path, hosp_diagnoses_path, ed_diagnoses_path\n",
    "from mimic_paths import admissions_path, patients_path\n",
    "\n",
    "from ipv_codes import SUSPICIOUS_SYMPTOMS_ICD_CODES\n",
    "\n",
    "np.random.seed(42)\n",
    "pd.set_option('max_rows', 500)\n",
    "pd.set_option('display.width', 500)\n",
    "pd.set_option('display.max_colwidth', 80)"
   ]
  },
  {
   "cell_type": "code",
   "execution_count": 2,
   "id": "0f9131e8",
   "metadata": {},
   "outputs": [],
   "source": [
    "english_names = pd.read_csv(english_names_path)\n",
    "diagnoses = pd.read_csv(hosp_diagnoses_path)\n",
    "ed_diagnoses = pd.read_csv(ed_diagnoses_path)"
   ]
  },
  {
   "cell_type": "markdown",
   "id": "e2a53964",
   "metadata": {},
   "source": [
    "# Filter out children"
   ]
  },
  {
   "cell_type": "code",
   "execution_count": 3,
   "id": "7b7af6f1",
   "metadata": {},
   "outputs": [],
   "source": [
    "admissions = pd.read_csv(admissions_path)\n",
    "patients = pd.read_csv(patients_path)\n",
    "\n",
    "sid_gender_map = dict(zip(patients.subject_id, patients.gender))\n",
    "sid_age_map = dict(zip(patients.subject_id, patients.anchor_age))\n",
    "sid_ethnicity_map = dict(zip(admissions.subject_id, admissions.ethnicity))\n",
    "hadm_id_to_subject_id = dict(zip(diagnoses.hadm_id, diagnoses.subject_id))\n",
    "\n",
    "diagnoses['anchor_age'] = diagnoses['subject_id'].map(sid_age_map)\n",
    "diagnoses['ethnicity'] = diagnoses['subject_id'].map(sid_ethnicity_map)\n"
   ]
  },
  {
   "cell_type": "code",
   "execution_count": 4,
   "id": "eb6e383e",
   "metadata": {},
   "outputs": [
    {
     "name": "stdout",
     "output_type": "stream",
     "text": [
      "# of ICD codes that appear > 10 times:  5544\n"
     ]
    }
   ],
   "source": [
    "with open('./valid_codes.ob', 'rb') as fp:\n",
    "    code_list = pickle.load(fp)\n",
    "print(\"# of ICD codes that appear > 10 times: \", len(code_list))"
   ]
  },
  {
   "cell_type": "code",
   "execution_count": 5,
   "id": "9dbd9d4c",
   "metadata": {},
   "outputs": [
    {
     "name": "stdout",
     "output_type": "stream",
     "text": [
      "# of Patients:  192278\n",
      "# of Individual Stays:  455905\n",
      "# of Unique ICD Codes:  5544\n"
     ]
    }
   ],
   "source": [
    "# We treat each stay as a different patient, since our analysis is not longitudinal.\n",
    "diagnoses = diagnoses[diagnoses['anchor_age'] > 18]\n",
    "diagnoses = diagnoses[diagnoses['icd_code'].isin(code_list)]\n",
    "\n",
    "all_hadm_ids = sorted(list(set(diagnoses['hadm_id'])))\n",
    "all_icd_codes = sorted(list(set(diagnoses['icd_code'])))\n",
    "all_subject_ids = [hadm_id_to_subject_id[hadm_id] for hadm_id in all_hadm_ids]\n",
    "\n",
    "code_to_index = {c: i for i,c in enumerate(all_icd_codes)}\n",
    "hadm_id_to_index = {hadm_id: i for i, hadm_id in enumerate(all_hadm_ids)}\n",
    "\n",
    "print(\"# of Patients: \", len(set(diagnoses['subject_id'])))\n",
    "print(\"# of Individual Stays: \", len(set(diagnoses['hadm_id'])))\n",
    "print(\"# of Unique ICD Codes: \", len(all_icd_codes))"
   ]
  },
  {
   "cell_type": "markdown",
   "id": "7910dc78",
   "metadata": {},
   "source": [
    "# Identify symptoms more common in white patients vs. black patients"
   ]
  },
  {
   "cell_type": "code",
   "execution_count": 7,
   "id": "2c7ca676",
   "metadata": {},
   "outputs": [],
   "source": [
    "key='icd_code'\n",
    "id_type = 'hadm_id'\n",
    "n_occurrence_threshold = 50\n",
    "white_patient_ids = set(list(diagnoses[diagnoses['ethnicity'] == 'WHITE'][id_type]))\n",
    "black_patient_ids = set(list(diagnoses[diagnoses['ethnicity'] == 'BLACK/AFRICAN AMERICAN'][id_type]))\n",
    "\n",
    "white_patient_d = diagnoses.loc[diagnoses[id_type].map(lambda x:x in white_patient_ids), key]    \n",
    "white_patient_value_counts = pd.DataFrame(white_patient_d.value_counts())\n",
    "white_patient_value_counts['proportion_rows_white'] = white_patient_value_counts[key] / len(white_patient_ids)\n",
    "white_patient_value_counts = white_patient_value_counts[white_patient_value_counts['icd_code'] > n_occurrence_threshold]\n",
    "\n",
    "black_patient_d = diagnoses.loc[diagnoses[id_type].map(lambda x:x in black_patient_ids), key]\n",
    "black_patient_value_counts = pd.DataFrame(black_patient_d.value_counts())\n",
    "black_patient_value_counts['proportion_rows_black'] = black_patient_value_counts[key] / len(black_patient_ids)\n",
    "black_patient_value_counts = black_patient_value_counts[black_patient_value_counts['icd_code'] > n_occurrence_threshold]\n",
    "\n",
    "jj = pd.merge(white_patient_value_counts, black_patient_value_counts, left_index=True, right_index=True)\n",
    "jj['relative_proportion'] = jj['proportion_rows_white']/jj['proportion_rows_black']\n",
    "sorted_by_rel_proportion = jj.sort_values('relative_proportion', ascending=False)\n",
    "sorted_by_rel_proportion = pd.merge(sorted_by_rel_proportion, english_names[['icd_code', 'long_title']], \n",
    "                                    left_index=True, right_on='icd_code')\n",
    "suspicious_symptoms_ICD_codes = list(sorted_by_rel_proportion['icd_code'])\n",
    "suspicious_symptoms_ICD_codes = suspicious_symptoms_ICD_codes[:10]\n"
   ]
  },
  {
   "cell_type": "markdown",
   "id": "2723fcbe",
   "metadata": {},
   "source": [
    "## Symptoms most common in white patients"
   ]
  },
  {
   "cell_type": "code",
   "execution_count": 8,
   "id": "54a438fe",
   "metadata": {},
   "outputs": [
    {
     "data": {
      "text/html": [
       "<div>\n",
       "<style scoped>\n",
       "    .dataframe tbody tr th:only-of-type {\n",
       "        vertical-align: middle;\n",
       "    }\n",
       "\n",
       "    .dataframe tbody tr th {\n",
       "        vertical-align: top;\n",
       "    }\n",
       "\n",
       "    .dataframe thead th {\n",
       "        text-align: right;\n",
       "    }\n",
       "</style>\n",
       "<table border=\"1\" class=\"dataframe\">\n",
       "  <thead>\n",
       "    <tr style=\"text-align: right;\">\n",
       "      <th></th>\n",
       "      <th>icd_code</th>\n",
       "      <th>relative_proportion</th>\n",
       "      <th>long_title</th>\n",
       "    </tr>\n",
       "  </thead>\n",
       "  <tbody>\n",
       "    <tr>\n",
       "      <th>99347</th>\n",
       "      <td>V422</td>\n",
       "      <td>5.651119</td>\n",
       "      <td>Heart valve replaced by transplant</td>\n",
       "    </tr>\n",
       "    <tr>\n",
       "      <th>99348</th>\n",
       "      <td>V422</td>\n",
       "      <td>5.651119</td>\n",
       "      <td>Person on outside of car injured in collision with two- or three-wheeled mot...</td>\n",
       "    </tr>\n",
       "    <tr>\n",
       "      <th>26904</th>\n",
       "      <td>K2270</td>\n",
       "      <td>5.465508</td>\n",
       "      <td>Barrett's esophagus without dysplasia</td>\n",
       "    </tr>\n",
       "    <tr>\n",
       "      <th>97865</th>\n",
       "      <td>V1051</td>\n",
       "      <td>5.324422</td>\n",
       "      <td>Personal history of malignant neoplasm of bladder</td>\n",
       "    </tr>\n",
       "    <tr>\n",
       "      <th>5599</th>\n",
       "      <td>53085</td>\n",
       "      <td>4.319394</td>\n",
       "      <td>Barrett's esophagus</td>\n",
       "    </tr>\n",
       "    <tr>\n",
       "      <th>1914</th>\n",
       "      <td>20410</td>\n",
       "      <td>4.108578</td>\n",
       "      <td>Chronic lymphoid leukemia, without mention of having achieved remission</td>\n",
       "    </tr>\n",
       "    <tr>\n",
       "      <th>4721</th>\n",
       "      <td>41402</td>\n",
       "      <td>3.939277</td>\n",
       "      <td>Coronary atherosclerosis of autologous vein bypass graft</td>\n",
       "    </tr>\n",
       "    <tr>\n",
       "      <th>10860</th>\n",
       "      <td>8730</td>\n",
       "      <td>3.736324</td>\n",
       "      <td>Open wound of scalp, without mention of complication</td>\n",
       "    </tr>\n",
       "    <tr>\n",
       "      <th>99666</th>\n",
       "      <td>V4581</td>\n",
       "      <td>3.644409</td>\n",
       "      <td>Aortocoronary bypass status</td>\n",
       "    </tr>\n",
       "    <tr>\n",
       "      <th>5785</th>\n",
       "      <td>5569</td>\n",
       "      <td>3.610953</td>\n",
       "      <td>Ulcerative colitis, unspecified</td>\n",
       "    </tr>\n",
       "  </tbody>\n",
       "</table>\n",
       "</div>"
      ],
      "text/plain": [
       "      icd_code  relative_proportion                                                                       long_title\n",
       "99347     V422             5.651119                                               Heart valve replaced by transplant\n",
       "99348     V422             5.651119  Person on outside of car injured in collision with two- or three-wheeled mot...\n",
       "26904    K2270             5.465508                                            Barrett's esophagus without dysplasia\n",
       "97865    V1051             5.324422                                Personal history of malignant neoplasm of bladder\n",
       "5599     53085             4.319394                                                              Barrett's esophagus\n",
       "1914     20410             4.108578          Chronic lymphoid leukemia, without mention of having achieved remission\n",
       "4721     41402             3.939277                         Coronary atherosclerosis of autologous vein bypass graft\n",
       "10860     8730             3.736324                             Open wound of scalp, without mention of complication\n",
       "99666    V4581             3.644409                                                      Aortocoronary bypass status\n",
       "5785      5569             3.610953                                                  Ulcerative colitis, unspecified"
      ]
     },
     "execution_count": 8,
     "metadata": {},
     "output_type": "execute_result"
    }
   ],
   "source": [
    "sorted_by_rel_proportion[['icd_code', 'relative_proportion', 'long_title']][:10]"
   ]
  },
  {
   "cell_type": "markdown",
   "id": "55ea9460",
   "metadata": {},
   "source": [
    "## Symptoms most common in Black patients"
   ]
  },
  {
   "cell_type": "code",
   "execution_count": 9,
   "id": "766bcc5a",
   "metadata": {},
   "outputs": [
    {
     "data": {
      "text/html": [
       "<div>\n",
       "<style scoped>\n",
       "    .dataframe tbody tr th:only-of-type {\n",
       "        vertical-align: middle;\n",
       "    }\n",
       "\n",
       "    .dataframe tbody tr th {\n",
       "        vertical-align: top;\n",
       "    }\n",
       "\n",
       "    .dataframe thead th {\n",
       "        text-align: right;\n",
       "    }\n",
       "</style>\n",
       "<table border=\"1\" class=\"dataframe\">\n",
       "  <thead>\n",
       "    <tr style=\"text-align: right;\">\n",
       "      <th></th>\n",
       "      <th>icd_code</th>\n",
       "      <th>relative_proportion</th>\n",
       "      <th>long_title</th>\n",
       "    </tr>\n",
       "  </thead>\n",
       "  <tbody>\n",
       "    <tr>\n",
       "      <th>6628</th>\n",
       "      <td>64663</td>\n",
       "      <td>0.177526</td>\n",
       "      <td>Infections of genitourinary tract in pregnancy, antepartum condition or comp...</td>\n",
       "    </tr>\n",
       "    <tr>\n",
       "      <th>6699</th>\n",
       "      <td>64823</td>\n",
       "      <td>0.168974</td>\n",
       "      <td>Anemia of mother, antepartum condition or complication</td>\n",
       "    </tr>\n",
       "    <tr>\n",
       "      <th>15341</th>\n",
       "      <td>D251</td>\n",
       "      <td>0.164458</td>\n",
       "      <td>Intramural leiomyoma of uterus</td>\n",
       "    </tr>\n",
       "    <tr>\n",
       "      <th>2110</th>\n",
       "      <td>2181</td>\n",
       "      <td>0.163670</td>\n",
       "      <td>Intramural leiomyoma of uterus</td>\n",
       "    </tr>\n",
       "    <tr>\n",
       "      <th>37911</th>\n",
       "      <td>N920</td>\n",
       "      <td>0.158649</td>\n",
       "      <td>Excessive and frequent menstruation with regular cycle</td>\n",
       "    </tr>\n",
       "    <tr>\n",
       "      <th>15343</th>\n",
       "      <td>D259</td>\n",
       "      <td>0.155629</td>\n",
       "      <td>Leiomyoma of uterus, unspecified</td>\n",
       "    </tr>\n",
       "    <tr>\n",
       "      <th>2109</th>\n",
       "      <td>2180</td>\n",
       "      <td>0.154461</td>\n",
       "      <td>Submucous leiomyoma of uterus</td>\n",
       "    </tr>\n",
       "    <tr>\n",
       "      <th>28156</th>\n",
       "      <td>L732</td>\n",
       "      <td>0.134006</td>\n",
       "      <td>Hidradenitis suppurativa</td>\n",
       "    </tr>\n",
       "    <tr>\n",
       "      <th>5969</th>\n",
       "      <td>58281</td>\n",
       "      <td>0.114202</td>\n",
       "      <td>Chronic glomerulonephritis in diseases classified elsewhere</td>\n",
       "    </tr>\n",
       "    <tr>\n",
       "      <th>4658</th>\n",
       "      <td>40301</td>\n",
       "      <td>0.076360</td>\n",
       "      <td>Hypertensive chronic kidney disease, malignant, with chronic kidney disease ...</td>\n",
       "    </tr>\n",
       "  </tbody>\n",
       "</table>\n",
       "</div>"
      ],
      "text/plain": [
       "      icd_code  relative_proportion                                                                       long_title\n",
       "6628     64663             0.177526  Infections of genitourinary tract in pregnancy, antepartum condition or comp...\n",
       "6699     64823             0.168974                           Anemia of mother, antepartum condition or complication\n",
       "15341     D251             0.164458                                                   Intramural leiomyoma of uterus\n",
       "2110      2181             0.163670                                                   Intramural leiomyoma of uterus\n",
       "37911     N920             0.158649                           Excessive and frequent menstruation with regular cycle\n",
       "15343     D259             0.155629                                                 Leiomyoma of uterus, unspecified\n",
       "2109      2180             0.154461                                                    Submucous leiomyoma of uterus\n",
       "28156     L732             0.134006                                                         Hidradenitis suppurativa\n",
       "5969     58281             0.114202                      Chronic glomerulonephritis in diseases classified elsewhere\n",
       "4658     40301             0.076360  Hypertensive chronic kidney disease, malignant, with chronic kidney disease ..."
      ]
     },
     "execution_count": 9,
     "metadata": {},
     "output_type": "execute_result"
    }
   ],
   "source": [
    "sorted_by_rel_proportion[['icd_code', 'relative_proportion', 'long_title']][-10:]"
   ]
  },
  {
   "cell_type": "markdown",
   "id": "55783e08",
   "metadata": {},
   "source": [
    "# Create one-hot encoded features"
   ]
  },
  {
   "cell_type": "code",
   "execution_count": 10,
   "id": "efca5f35",
   "metadata": {},
   "outputs": [],
   "source": [
    "one_hot = pd.get_dummies(diagnoses['icd_code'], sparse=True)\n",
    "hadm_one_hot = pd.concat([diagnoses['hadm_id'], one_hot], axis=1)"
   ]
  },
  {
   "cell_type": "code",
   "execution_count": 11,
   "id": "0355d399",
   "metadata": {},
   "outputs": [],
   "source": [
    "diagnoses['icd_code_idx'] = diagnoses['icd_code'].map(code_to_index)\n",
    "diagnoses['hadm_id_idx'] = diagnoses['hadm_id'].map(hadm_id_to_index)"
   ]
  },
  {
   "cell_type": "code",
   "execution_count": 12,
   "id": "b3c8f68f",
   "metadata": {},
   "outputs": [],
   "source": [
    "# Write out one-hot features in coordinate format (helpful since matrix is very sparse)\n",
    "row_coords = np.array(diagnoses['hadm_id_idx'])\n",
    "col_coords = np.array(diagnoses['icd_code_idx'])\n",
    "vals = np.ones(len(col_coords))\n",
    "\n",
    "n_rows = np.max(row_coords) + 1\n",
    "n_cols = np.max(col_coords) + 1\n",
    "\n",
    "# Dummy feature for intercept\n",
    "intercept_row_coords = np.array(list(range(n_rows)))\n",
    "intercept_col_coords = [n_cols for i in range(n_rows)]\n",
    "intercept_vals = np.ones(n_rows)\n",
    "\n",
    "# Combine features & dummy feature for intercept\n",
    "row_coords = np.concatenate([row_coords, intercept_row_coords])\n",
    "col_coords = np.concatenate([col_coords, intercept_col_coords])\n",
    "vals = np.concatenate([vals, intercept_vals])\n",
    "\n",
    "# Create sparse matrix\n",
    "jj = coo_matrix((vals, (row_coords, col_coords)))"
   ]
  },
  {
   "cell_type": "code",
   "execution_count": 13,
   "id": "4ed64073",
   "metadata": {
    "scrolled": true
   },
   "outputs": [],
   "source": [
    "# Choose suspicious ICD codes\n",
    "sus_icd_code_idxs = []\n",
    "for c in suspicious_symptoms_ICD_codes:\n",
    "    if c in code_to_index: \n",
    "        sus_icd_code_idxs.append(code_to_index[c])\n",
    "\n",
    "classifier_weights = np.zeros(len(all_icd_codes) + 1)\n",
    "classifier_weights[sus_icd_code_idxs] = 4\n",
    "classifier_weights = np.expand_dims(classifier_weights, 1)\n",
    "classifier_weights[-1] = -3"
   ]
  },
  {
   "cell_type": "code",
   "execution_count": 15,
   "id": "800ba052",
   "metadata": {},
   "outputs": [
    {
     "name": "stdout",
     "output_type": "stream",
     "text": [
      "Range of # of symptoms:  17.0 -3.0\n",
      "# Suspicious:  43242\n",
      "# Patients with 0 Suspicious Symptoms:  412663\n",
      "# Patients with 1 Suspicious Symptoms:  38098\n",
      "# Patients with 2 Suspicious Symptoms:  4634\n",
      "# Patients with 3 Suspicious Symptoms:  463\n",
      "# Patients with 4 Suspicious Symptoms:  45\n",
      "# Total:  455905\n",
      "Positive probabilities:  [0.04742587317756678, 0.7310585786300049, 0.9933071490757153, 0.9998766054240137, 0.999997739675702, 0.9999999586006244]\n"
     ]
    }
   ],
   "source": [
    "# Count number of suspicious patients \n",
    "kk = jj.dot(classifier_weights)\n",
    "min_symptoms_val = np.min(kk)\n",
    "max_symptoms_val = np.max(kk)\n",
    "r = (kk > min_symptoms_val).astype(int)\n",
    "print(\"Range of # of symptoms: \", max_symptoms_val, min_symptoms_val)\n",
    "print(\"# Suspicious: \", len(np.where(kk > min_symptoms_val)[0]))\n",
    "print(\"# Patients with 0 Suspicious Symptoms: \", len(np.where(kk == min_symptoms_val)[0]))\n",
    "print(\"# Patients with 1 Suspicious Symptoms: \", len(np.where(kk == min_symptoms_val +4)[0]))\n",
    "print(\"# Patients with 2 Suspicious Symptoms: \", len(np.where(kk == min_symptoms_val +8)[0]))\n",
    "print(\"# Patients with 3 Suspicious Symptoms: \", len(np.where(kk == min_symptoms_val +12)[0]))\n",
    "print(\"# Patients with 4 Suspicious Symptoms: \", len(np.where(kk == min_symptoms_val +16)[0]))\n",
    "\n",
    "print(\"# Total: \", len(kk))\n",
    "\n",
    "# Transform into p(y) given fixed decision rule\n",
    "p_y = 1/(1 + np.exp(- kk))\n",
    "print(\"Positive probabilities: \", sorted(list(set(np.squeeze(p_y)))))\n"
   ]
  },
  {
   "cell_type": "code",
   "execution_count": 16,
   "id": "ab98c57e",
   "metadata": {},
   "outputs": [],
   "source": [
    "# Generate 5 splits of data, regenerating y each time based on p_y\n",
    "data_dir = \"../data/semisynthetic/high_rp/\"\n",
    "n_splits = 5\n",
    "\n",
    "for split_num in range(n_splits):\n",
    "    y = (np.random.random(p_y.shape) < p_y).astype(int)\n",
    "    split_dir = data_dir + str(split_num) + '/'\n",
    "    if not os.path.exists(split_dir):\n",
    "        os.makedirs(split_dir)\n",
    "    \n",
    "    np.savetxt(split_dir + 'feat_names', all_icd_codes, fmt=\"%s\")\n",
    "    np.savetxt(split_dir + 'row_names', all_hadm_ids)\n",
    "    np.savetxt(split_dir + 'subject_ids', all_subject_ids)\n",
    "    np.savetxt(split_dir + 'suspicious_labels', r)\n",
    "    np.savetxt(split_dir + 'positive_labels', y)\n",
    "    np.savetxt(split_dir + 'p_y', p_y)\n",
    "    np.savetxt(split_dir + 'true_clf_weights', classifier_weights)\n",
    "    save_npz(split_dir + 'vals.npz', jj)"
   ]
  },
  {
   "cell_type": "code",
   "execution_count": null,
   "id": "c3d4316d",
   "metadata": {},
   "outputs": [],
   "source": []
  }
 ],
 "metadata": {
  "kernelspec": {
   "display_name": "Python 3",
   "language": "python",
   "name": "python3"
  },
  "language_info": {
   "codemirror_mode": {
    "name": "ipython",
    "version": 3
   },
   "file_extension": ".py",
   "mimetype": "text/x-python",
   "name": "python",
   "nbconvert_exporter": "python",
   "pygments_lexer": "ipython3",
   "version": "3.9.6"
  }
 },
 "nbformat": 4,
 "nbformat_minor": 5
}
