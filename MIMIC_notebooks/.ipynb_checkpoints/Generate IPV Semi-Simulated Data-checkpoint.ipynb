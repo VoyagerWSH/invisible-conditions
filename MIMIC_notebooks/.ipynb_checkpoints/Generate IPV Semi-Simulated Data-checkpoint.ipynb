{
 "cells": [
  {
   "cell_type": "code",
   "execution_count": 2,
   "id": "a057e44e",
   "metadata": {},
   "outputs": [],
   "source": [
    "%load_ext autoreload \n",
    "%autoreload 2\n",
    "import os\n",
    "import pickle\n",
    "import numpy as np\n",
    "import pandas as pd\n",
    "from tqdm.notebook import tqdm\n",
    "from scipy.sparse import coo_matrix\n",
    "from scipy.sparse import save_npz\n",
    "\n",
    "from mimic_helper_fs import get_ids_with_icd_codes, get_ids_with_kws\n",
    "from mimic_helper_fs import get_coocurring_symptoms_codes, get_coocurring_symptoms_kws\n",
    "from mimic_helper_fs import get_icd_code_long_title\n",
    "\n",
    "from mimic_paths import admissions_path, patients_path\n",
    "from mimic_paths import english_names_path, hosp_diagnoses_path, ed_diagnoses_path\n",
    "\n",
    "from ipv_codes import SUSPICIOUS_SYMPTOMS_ICD_CODES\n",
    "\n",
    "pd.set_option('max_rows', 500)\n",
    "pd.set_option('display.width', 500)\n",
    "pd.set_option('display.max_colwidth', 80)"
   ]
  },
  {
   "cell_type": "code",
   "execution_count": 3,
   "id": "0f9131e8",
   "metadata": {},
   "outputs": [],
   "source": [
    "english_names = pd.read_csv(english_names_path)\n",
    "diagnoses = pd.read_csv(hosp_diagnoses_path)\n",
    "ed_diagnoses = pd.read_csv(ed_diagnoses_path)\n",
    "\n",
    "admissions = pd.read_csv(admissions_path)\n",
    "patients = pd.read_csv(patients_path)"
   ]
  },
  {
   "cell_type": "markdown",
   "id": "21916f71",
   "metadata": {},
   "source": [
    "# Filter out men, children, and patients *only* in hospital"
   ]
  },
  {
   "cell_type": "code",
   "execution_count": 4,
   "id": "7b7af6f1",
   "metadata": {},
   "outputs": [],
   "source": [
    "sid_gender_map = dict(zip(patients.subject_id, patients.gender))\n",
    "sid_age_map = dict(zip(patients.subject_id, patients.anchor_age))\n",
    "sid_ethnicity_map = dict(zip(admissions.subject_id, admissions.ethnicity))"
   ]
  },
  {
   "cell_type": "code",
   "execution_count": 6,
   "id": "86ad03c6",
   "metadata": {},
   "outputs": [],
   "source": [
    "diagnoses['anchor_age'] = diagnoses['subject_id'].map(sid_age_map)\n",
    "diagnoses['gender'] = diagnoses['subject_id'].map(sid_gender_map)\n",
    "diagnoses['ethnicity'] = diagnoses['subject_id'].map(sid_ethnicity_map)"
   ]
  },
  {
   "cell_type": "code",
   "execution_count": null,
   "id": "bbe81676",
   "metadata": {},
   "outputs": [],
   "source": [
    "ed_admitted_patients = list(admissions[admissions['admission_location'] == 'EMERGENCY ROOM']['hadm_id'])"
   ]
  },
  {
   "cell_type": "code",
   "execution_count": 7,
   "id": "eb6e383e",
   "metadata": {},
   "outputs": [
    {
     "data": {
      "text/plain": [
       "5544"
      ]
     },
     "execution_count": 7,
     "metadata": {},
     "output_type": "execute_result"
    }
   ],
   "source": [
    "with open('./valid_codes.ob', 'rb') as fp:\n",
    "    code_list = pickle.load(fp)\n",
    "print(\"# of ICD codes that appear > 10 times: \", len(code_list))"
   ]
  },
  {
   "cell_type": "code",
   "execution_count": 8,
   "id": "9dbd9d4c",
   "metadata": {},
   "outputs": [
    {
     "name": "stdout",
     "output_type": "stream",
     "text": [
      "# of Patients:  62594\n",
      "# of Individual Stays:  124086\n",
      "# of Unique ICD Codes:  5544\n"
     ]
    }
   ],
   "source": [
    "diagnoses = diagnoses[diagnoses['gender'] == 'F']\n",
    "diagnoses = diagnoses[diagnoses['anchor_age'] > 18]\n",
    "diagnoses = diagnoses[diagnoses['hadm_id'].isin(ed_admitted_patients)]\n",
    "diagnoses = diagnoses[diagnoses['icd_code'].isin(code_list)]\n",
    "\n",
    "all_hadm_ids = sorted(list(set(diagnoses['hadm_id'])))\n",
    "all_icd_codes = sorted(list(set(diagnoses['icd_code'])))\n",
    "\n",
    "code_to_index = {c: i for i,c in enumerate(all_icd_codes)}\n",
    "hadm_id_to_index = {hadm_id: i for i, hadm_id in enumerate(all_hadm_ids)}\n",
    "\n",
    "print(\"# of Patients: \", len(set(diagnoses['subject_id'])))\n",
    "print(\"# of Individual Stays: \", len(set(diagnoses['hadm_id'])))\n",
    "print(\"# of Unique ICD Codes: \", len(all_icd_codes))\n"
   ]
  },
  {
   "cell_type": "code",
   "execution_count": 9,
   "id": "780a8907",
   "metadata": {},
   "outputs": [
    {
     "data": {
      "text/plain": [
       "(124085, 5544)"
      ]
     },
     "execution_count": 9,
     "metadata": {},
     "output_type": "execute_result"
    }
   ],
   "source": [
    "np.max(list(hadm_id_to_index.values())), len(list(code_to_index.values()))"
   ]
  },
  {
   "cell_type": "markdown",
   "id": "55783e08",
   "metadata": {},
   "source": [
    "# Create one-hot encoded features"
   ]
  },
  {
   "cell_type": "code",
   "execution_count": 10,
   "id": "efca5f35",
   "metadata": {},
   "outputs": [],
   "source": [
    "one_hot = pd.get_dummies(diagnoses['icd_code'], sparse=True)\n",
    "hadm_one_hot = pd.concat([diagnoses['hadm_id'], one_hot], axis=1)"
   ]
  },
  {
   "cell_type": "code",
   "execution_count": 11,
   "id": "0355d399",
   "metadata": {},
   "outputs": [],
   "source": [
    "diagnoses['icd_code_idx'] = diagnoses['icd_code'].map(code_to_index)\n",
    "diagnoses['hadm_id_idx'] = diagnoses['hadm_id'].map(hadm_id_to_index)"
   ]
  },
  {
   "cell_type": "code",
   "execution_count": 12,
   "id": "b3c8f68f",
   "metadata": {},
   "outputs": [],
   "source": [
    "# Write out one-hot features in coordinate format (helpful since matrix is very sparse)\n",
    "row_coords = np.array(diagnoses['hadm_id_idx'])\n",
    "col_coords = np.array(diagnoses['icd_code_idx'])\n",
    "vals = np.ones(len(col_coords))\n",
    "\n",
    "n_rows = np.max(row_coords) + 1\n",
    "n_cols = np.max(col_coords) + 1\n",
    "\n",
    "# Dummy feature for intercept\n",
    "intercept_row_coords = np.array(list(range(n_rows)))\n",
    "intercept_col_coords = [n_cols for i in range(n_rows)]\n",
    "intercept_vals = np.ones(n_rows)\n",
    "\n",
    "# Combine features & dummy feature for intercept\n",
    "row_coords = np.concatenate([row_coords, intercept_row_coords])\n",
    "col_coords = np.concatenate([col_coords, intercept_col_coords])\n",
    "vals = np.concatenate([vals, intercept_vals])\n",
    "\n",
    "# Create sparse matrix\n",
    "jj = coo_matrix((vals, (row_coords, col_coords)))"
   ]
  },
  {
   "cell_type": "code",
   "execution_count": 15,
   "id": "3007832d",
   "metadata": {},
   "outputs": [
    {
     "data": {
      "text/plain": [
       "100"
      ]
     },
     "execution_count": 15,
     "metadata": {},
     "output_type": "execute_result"
    }
   ],
   "source": [
    "len(SUSPICIOUS_SYMPTOMS_ICD_CODES)"
   ]
  },
  {
   "cell_type": "code",
   "execution_count": 13,
   "id": "4ed64073",
   "metadata": {
    "scrolled": true
   },
   "outputs": [
    {
     "name": "stdout",
     "output_type": "stream",
     "text": [
      "[2614, 2177, 2557, 2570, 4625, 4656, 4626, 4627]\n"
     ]
    }
   ],
   "source": [
    "sus_icd_code_idxs = []\n",
    "for c in SUSPICIOUS_SYMPTOMS_ICD_CODES:\n",
    "    if c in code_to_index: \n",
    "        sus_icd_code_idxs.append(code_to_index[c])\n",
    "\n",
    "print(sus_icd_code_idxs)\n",
    "# for c in ['920']:\n",
    "#     if c in code_to_index: \n",
    "#         sus_icd_code_idxs.append(code_to_index[c])\n",
    "#     else:\n",
    "#         print(\"Code is not in code to index??\", c)\n",
    "\n",
    "classifier_weights = np.zeros(len(all_icd_codes) + 1)\n",
    "classifier_weights[sus_icd_code_idxs] = 4\n",
    "classifier_weights = np.expand_dims(classifier_weights, 1)\n",
    "classifier_weights[-1] = -3\n",
    "# Why are there no ICD-10 codes in here?"
   ]
  },
  {
   "cell_type": "code",
   "execution_count": 14,
   "id": "800ba052",
   "metadata": {},
   "outputs": [
    {
     "name": "stdout",
     "output_type": "stream",
     "text": [
      "Range of # of symptoms:  9.0 -3.0\n",
      "# Suspicious:  1470\n",
      "# Patients with 0 Suspicious Symptoms:  122616\n",
      "# Patients with 1 Suspicious Symptoms:  1412\n",
      "# Patients with 2 Suspicious Symptoms:  55\n",
      "# Patients with 3 Suspicious Symptoms:  0\n",
      "# Total:  124086\n",
      "Positive probabilities:  [0.04742587317756678, 0.7310585786300049, 0.9933071490757153, 0.9998766054240137]\n"
     ]
    }
   ],
   "source": [
    "# Count number of suspicious patients \n",
    "kk = jj.dot(classifier_weights)\n",
    "min_symptoms_val = np.min(kk)\n",
    "max_symptoms_val = np.max(kk)\n",
    "r = (kk > min_symptoms_val).astype(int)\n",
    "print(\"Range of # of symptoms: \", max_symptoms_val, min_symptoms_val)\n",
    "print(\"# Suspicious: \", len(np.where(kk > min_symptoms_val)[0]))\n",
    "print(\"# Patients with 0 Suspicious Symptoms: \", len(np.where(kk == min_symptoms_val)[0]))\n",
    "print(\"# Patients with 1 Suspicious Symptoms: \", len(np.where(kk == min_symptoms_val +4)[0]))\n",
    "print(\"# Patients with 2 Suspicious Symptoms: \", len(np.where(kk == min_symptoms_val +8)[0]))\n",
    "print(\"# Patients with 3 Suspicious Symptoms: \", len(np.where(kk == min_symptoms_val +16)[0]))\n",
    "\n",
    "print(\"# Total: \", len(kk))\n",
    "\n",
    "# Transform into p(y) given fixed decision rule\n",
    "p_y = 1/(1 + np.exp(- kk))\n",
    "print(\"Positive probabilities: \", sorted(list(set(np.squeeze(p_y)))))\n"
   ]
  },
  {
   "cell_type": "code",
   "execution_count": 14,
   "id": "ab98c57e",
   "metadata": {},
   "outputs": [
    {
     "name": "stdout",
     "output_type": "stream",
     "text": [
      "6849\n",
      "6955\n",
      "6856\n",
      "6828\n",
      "6855\n"
     ]
    }
   ],
   "source": [
    "# Generate 5 splits of data, regenerating y each time based on p_y\n",
    "data_dir = \"./data/semisynthetic/ipv/\"\n",
    "n_splits = 5\n",
    "\n",
    "for split_num in range(n_splits):\n",
    "    y = (np.random.random(p_y.shape) < p_y).astype(int)\n",
    "    #y = y * r # if r = 0, then y = 0 (no suspicious symptoms --> negative)\n",
    "    print(np.sum(y))\n",
    "    split_dir = data_dir + str(split_num) + '/'\n",
    "    if not os.path.exists(split_dir):\n",
    "        os.makedirs(split_dir)\n",
    "    \n",
    "    np.savetxt(split_dir + 'feat_names', all_icd_codes, fmt=\"%s\")\n",
    "    np.savetxt(split_dir + 'row_names', all_hadm_ids)\n",
    "    np.savetxt(split_dir + 'suspicious_labels', r)\n",
    "    np.savetxt(split_dir + 'positive_labels', y)\n",
    "    np.savetxt(split_dir + 'p_y', p_y)\n",
    "    np.savetxt(split_dir + 'true_clf_weights', classifier_weights)\n",
    "    save_npz(split_dir + 'vals.npz', jj)"
   ]
  },
  {
   "cell_type": "markdown",
   "id": "f8658384",
   "metadata": {},
   "source": [
    "# Generate real labels"
   ]
  },
  {
   "cell_type": "code",
   "execution_count": 12,
   "id": "356a3fef",
   "metadata": {},
   "outputs": [],
   "source": [
    "# HAHA "
   ]
  },
  {
   "cell_type": "code",
   "execution_count": null,
   "id": "b5b121ed",
   "metadata": {},
   "outputs": [],
   "source": []
  }
 ],
 "metadata": {
  "kernelspec": {
   "display_name": "Python 3",
   "language": "python",
   "name": "python3"
  },
  "language_info": {
   "codemirror_mode": {
    "name": "ipython",
    "version": 3
   },
   "file_extension": ".py",
   "mimetype": "text/x-python",
   "name": "python",
   "nbconvert_exporter": "python",
   "pygments_lexer": "ipython3",
   "version": "3.9.6"
  }
 },
 "nbformat": 4,
 "nbformat_minor": 5
}
