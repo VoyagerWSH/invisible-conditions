{
 "cells": [
  {
   "cell_type": "code",
   "execution_count": 1,
   "id": "dominican-tolerance",
   "metadata": {},
   "outputs": [],
   "source": [
    "%load_ext autoreload \n",
    "%autoreload 2\n",
    "import pandas as pd\n",
    "import os\n",
    "\n",
    "from mimic_helper_fs import get_ids_with_icd_codes, get_ids_with_kws\n",
    "from mimic_helper_fs import get_coocurring_symptoms_codes, get_coocurring_symptoms_kws\n",
    "\n",
    "pd.set_option('max_rows', 500)\n",
    "pd.set_option('display.width', 500)\n",
    "pd.set_option('display.max_colwidth', 80)"
   ]
  },
  {
   "cell_type": "markdown",
   "id": "executive-ensemble",
   "metadata": {},
   "source": [
    "# Comparison of IPV coding strategies\n",
    "\n",
    "Looks at three ICD9 code sets & three keyword sets. Compares the co-occurring diagnoses for each code set. CPT code strategy is a different notebook."
   ]
  },
  {
   "cell_type": "code",
   "execution_count": 2,
   "id": "minute-meaning",
   "metadata": {},
   "outputs": [],
   "source": [
    "# National Hospital Ambulatory  Survey 2020 \n",
    "# ICD-9 codes used: codes found in the cause of injury (rape [E960.1], spouse abuse [E967.3]) and \n",
    "#  diagnosis (adult abuse [995.80–995.83, 995.85], history of violence [V15.41, V15.42], and counseling [V61.10, V61.11]) fields\n",
    "nhas_ipv_codes = ['E9601', 'E9673', '99580', '99581', '99582', '99583', '99585', 'V1541', 'V1542', 'V6110', 'V6111']\n",
    "\n",
    "# Oregon ED code paper 2008\n",
    "# Primary ICD-9 codes used: \n",
    "    #  E967.3 (battering by intimate partner), 995.81 (adult physical abuse), 995.80 (adult maltreatment)\n",
    "# Secondary ICD-9 codes used:\n",
    "    # E967.3, E960.0 (unarmed fight/brawl), 995.81 (adult physical abuse),  E968.0-E968.9 (assault by other unspecified means)\n",
    "    # 995.83 (Adult sexual abuse), V61.10 (marital/partner  counseling), E962.0-E966 (assault: poison, ahnging, etc)\n",
    "    # E967.9 (battering by unspecified person), E967.1 (battering by  other specified person), 995.85 adult abuse/neglect\n",
    "    # V61.11 (IPV counseling), E961.0 assault by corrosive caustic substance\n",
    "primary_codes = ['E9673', '99581', '99580']\n",
    "secondary_codes = ['E9673', 'E9600',  '99581',  'E9680', 'E9681','E9682', 'E9683','E9684', 'E9685','E9686', 'E9687', 'E9688', 'E9689',  '99583', \n",
    "'V6110', 'E9620', 'E966', 'E9679', 'E9671', 'V6111',  '99585','E9610']\n",
    "oregon_ipv_codes = list(set(primary_codes + secondary_codes))\n",
    "\n",
    "    \n",
    "# United States ED survey 2014\n",
    "# ICD-9 codes used:  E967.3 (battering by intimate partner)\n",
    "# Estimated p(y) = .02% \n",
    "used_ipv_codes = ['E9673']\n",
    "\n",
    "code_sets = [('NHAS Study', nhas_ipv_codes), ('Oregon Study', oregon_ipv_codes), ('US ED Study', used_ipv_codes)]\n",
    "kw_sets = [['adult physical abuse', 'adult abuse'], \n",
    "                ['adult physical abuse', 'adult abuse', 'assault'],\n",
    "                ['adult physical abuse', 'adult abuse', 'maltreatment']]"
   ]
  },
  {
   "cell_type": "code",
   "execution_count": 3,
   "id": "running-ranking",
   "metadata": {},
   "outputs": [
    {
     "name": "stdout",
     "output_type": "stream",
     "text": [
      "Warning: not all diagnoses are in ICD table: old len 651047, new len 634709 (97.491%)\n"
     ]
    }
   ],
   "source": [
    "def column_names_to_lower(df):\n",
    "    df.columns =  df.columns.str.lower()\n",
    "    return df\n",
    "\n",
    "# likely need to change this for it tow ork\n",
    "data_path = '/home/t-dshanmugam/physionet.org/files/mimiciii/1.4/'\n",
    "# Convert all filenames to lowercase for compatibility\n",
    "files = os.listdir(data_path)\n",
    "for file in files:        \n",
    "    os.rename(data_path + file, data_path + file.lower())\n",
    "\n",
    "english_names = pd.read_csv(data_path + 'd_icd_diagnoses.csv.gz')\n",
    "diagnoses = pd.read_csv(data_path + 'diagnoses_icd.csv.gz')\n",
    "\n",
    "english_names = column_names_to_lower(english_names)\n",
    "diagnoses = column_names_to_lower(diagnoses)\n",
    "\n",
    "old_len = len(diagnoses)\n",
    "diagnoses = pd.merge(diagnoses, \n",
    "                     english_names, \n",
    "                     how='inner', \n",
    "                     on=['icd9_code'], \n",
    "                     validate='many_to_one')\n",
    "print(\"Warning: not all diagnoses are in ICD table: old len %i, new len %i (%2.3f%%)\" % \n",
    "    (old_len, len(diagnoses), 100*len(diagnoses)/old_len))"
   ]
  },
  {
   "cell_type": "code",
   "execution_count": 20,
   "id": "6a56dc3a",
   "metadata": {},
   "outputs": [
    {
     "name": "stdout",
     "output_type": "stream",
     "text": [
      "# IPV patients using NHAS Study codes:  52 \t p(y):  0.0011178708859126772\n",
      "# IPV patients using Oregon Study codes:  244 \t p(y):  0.005245394156974869\n",
      "# IPV patients using US ED Study codes:  2 \t p(y):  4.2995034073564504e-05\n",
      "# IPV patients w/ kwds [adult physical abuse.adult abuse]:  15 \t p(y):  0.0003224627555517338\n",
      "# IPV patients w/ kwds [adult physical abuse.adult abuse.assault]:  234 \t p(y):  0.005030418986607047\n",
      "# IPV patients w/ kwds [adult physical abuse.adult abuse.maltreatment]:  15 \t p(y):  0.0003224627555517338\n"
     ]
    }
   ],
   "source": [
    "id_type = 'subject_id'\n",
    "for ipv_code_name, ipv_codes in code_sets:\n",
    "    n_patients = len(get_ids_with_icd_codes(diagnoses, id_type, ipv_codes))\n",
    "    p_y = n_patients/len(set(diagnoses[id_type]))\n",
    "    print(\"# IPV patients using \" +  ipv_code_name + \" codes: \", n_patients, '\\t p(y): ', p_y)\n",
    "\n",
    "for kw_set in kw_sets:\n",
    "    n_patients = len(get_ids_with_kws(diagnoses, id_type, kw_set))\n",
    "    p_y = n_patients/len(set(diagnoses[id_type]))\n",
    "    print(\"# IPV patients w/ kwds [\" + \".\".join(kw_set) + \"]: \", n_patients, '\\t p(y): ', p_y)\n",
    "\n",
    "# 5 patients were admitted twice for IPV under NHAS Study codes\n",
    "# 13 patients were admitted twice for IPV under Oregon Study codes"
   ]
  },
  {
   "cell_type": "code",
   "execution_count": 15,
   "id": "322bb3a5",
   "metadata": {},
   "outputs": [
    {
     "name": "stdout",
     "output_type": "stream",
     "text": [
      "# Codes: 11, hadm_id. Total IDs: 57; total diagnoses: 999\n",
      "                                                                                  # rows  # rows/# IDs\n",
      "History of physical abuse                                                             42      0.736842\n",
      "Tobacco use disorder                                                                  17      0.298246\n",
      "Depressive disorder, not elsewhere classified                                         17      0.298246\n",
      "Unspecified essential hypertension                                                    13      0.228070\n",
      "Posttraumatic stress disorder                                                         12      0.210526\n",
      "Other chronic pain                                                                    11      0.192982\n",
      "Esophageal reflux                                                                      9      0.157895\n",
      "Acute posthemorrhagic anemia                                                           9      0.157895\n",
      "Anxiety state, unspecified                                                             9      0.157895\n",
      "Urinary tract infection, site not specified                                            8      0.140351\n",
      "Acidosis                                                                               8      0.140351\n",
      "Alcohol abuse, unspecified                                                             8      0.140351\n",
      "Other and unspecified hyperlipidemia                                                   7      0.122807\n",
      "Unspecified viral hepatitis C without hepatic coma                                     7      0.122807\n",
      "Migraine, unspecified, without mention of intractable migraine without mentio...       7      0.122807\n",
      "Anemia, unspecified                                                                    7      0.122807\n",
      "Asthma, unspecified type, unspecified                                                  7      0.122807\n",
      "Long-term (current) use of insulin                                                     6      0.105263\n",
      "Suicide and self-inflicted poisoning by analgesics, antipyretics, and antirhe...       6      0.105263\n",
      "Hypopotassemia                                                                         6      0.105263\n"
     ]
    }
   ],
   "source": [
    "ids, sub_d = get_coocurring_symptoms_codes(diagnoses, id_type='hadm_id', codes=nhas_ipv_codes)"
   ]
  },
  {
   "cell_type": "code",
   "execution_count": 16,
   "id": "62735390",
   "metadata": {},
   "outputs": [
    {
     "name": "stdout",
     "output_type": "stream",
     "text": [
      "# Codes: 23, hadm_id. Total IDs: 247; total diagnoses: 2077\n",
      "                                                         # rows  # rows/# IDs\n",
      "Assault by cutting and piercing instrument                   72      0.291498\n",
      "Unarmed fight or brawl                                       67      0.271255\n",
      "Assault by unspecified means                                 53      0.214575\n",
      "Alcohol abuse, unspecified                                   40      0.161943\n",
      "Assault by striking by blunt or thrown object                36      0.145749\n",
      "Unspecified essential hypertension                           33      0.133603\n",
      "Closed fracture of other facial bones                        31      0.125506\n",
      "Closed fracture of malar and maxillary bones                 29      0.117409\n",
      "Closed fracture of nasal bones                               28      0.113360\n",
      "Alcohol withdrawal                                           23      0.093117\n",
      "Tobacco use disorder                                         23      0.093117\n",
      "Acute posthemorrhagic anemia                                 19      0.076923\n",
      "Open wound of scalp, without mention of complication         19      0.076923\n",
      "Closed fracture of orbital floor (blow-out)                  17      0.068826\n",
      "Cerebral edema                                               17      0.068826\n",
      "Open wound of forehead, without mention of complication      17      0.068826\n",
      "Acute respiratory failure                                    16      0.064777\n",
      "Asthma, unspecified type, unspecified                        16      0.064777\n",
      "Anemia, unspecified                                          15      0.060729\n",
      "Pneumonitis due to inhalation of food or vomitus             15      0.060729\n"
     ]
    }
   ],
   "source": [
    "ids, sub_d = get_coocurring_symptoms_codes(diagnoses, id_type='hadm_id', codes=oregon_ipv_codes)"
   ]
  },
  {
   "cell_type": "code",
   "execution_count": 17,
   "id": "thick-thread",
   "metadata": {},
   "outputs": [
    {
     "name": "stdout",
     "output_type": "stream",
     "text": [
      "# Codes: 1, hadm_id. Total IDs: 2; total diagnoses: 38\n",
      "                                                                                  # rows  # rows/# IDs\n",
      "Perpetrator of child and adult abuse, by spouse or partner                             2           1.0\n",
      "Assault by unspecified means                                                           1           0.5\n",
      "Hypoglycemia, unspecified                                                              1           0.5\n",
      "Depressive disorder, not elsewhere classified                                          1           0.5\n",
      "Proteus (mirabilis) (morganii) infection in conditions classified elsewhere a...       1           0.5\n",
      "Personal history of tobacco use                                                        1           0.5\n",
      "Other and unspecified manifestations of thiamine deficiency                            1           0.5\n",
      "Adult maltreatment, unspecified                                                        1           0.5\n",
      "Tobacco use disorder                                                                   1           0.5\n",
      "Acidosis                                                                               1           0.5\n",
      "Pure hypercholesterolemia                                                              1           0.5\n",
      "Migraine, unspecified, without mention of intractable migraine without mentio...       1           0.5\n",
      "Contusion of multiple sites, not elsewhere classified                                  1           0.5\n",
      "Suicidal ideation                                                                      1           0.5\n",
      "Asthma, unspecified type, unspecified                                                  1           0.5\n",
      "Alcohol withdrawal delirium                                                            1           0.5\n",
      "Other, mixed, or unspecified drug abuse, unspecified                                   1           0.5\n",
      "Anemia, unspecified                                                                    1           0.5\n",
      "Pulmonary collapse                                                                     1           0.5\n",
      "Acute alcoholic intoxication in alcoholism, unspecified                                1           0.5\n"
     ]
    }
   ],
   "source": [
    "# N = 2 here \n",
    "ids, sub_d = get_coocurring_symptoms_codes(diagnoses, id_type='hadm_id', codes=used_ipv_codes)"
   ]
  },
  {
   "cell_type": "code",
   "execution_count": 22,
   "id": "mature-fusion",
   "metadata": {},
   "outputs": [
    {
     "name": "stdout",
     "output_type": "stream",
     "text": [
      "Query: ['adult physical abuse', 'adult abuse'], subject_id. Total IDs: 15; total diagnoses: 363\n",
      "                                                                                  # rows  # rows/# IDs\n",
      "Urinary tract infection, site not specified                                            7      0.466667\n",
      "Perpetrator of child and adult abuse, by father, stepfather, or boyfriend              6      0.400000\n",
      "Tobacco use disorder                                                                   6      0.400000\n",
      "Diabetes mellitus without mention of complication, type II or unspecified typ...       5      0.333333\n",
      "Acute respiratory failure                                                              5      0.333333\n",
      "Unspecified essential hypertension                                                     5      0.333333\n",
      "Depressive disorder, not elsewhere classified                                          5      0.333333\n",
      "Acute kidney failure, unspecified                                                      5      0.333333\n",
      "Alcohol abuse, unspecified                                                             5      0.333333\n",
      "Adult sexual abuse                                                                     4      0.266667\n",
      "Pneumonia, organism unspecified                                                        4      0.266667\n",
      "Thrombocytopenia, unspecified                                                          4      0.266667\n",
      "Suicidal ideation                                                                      4      0.266667\n",
      "Acidosis                                                                               4      0.266667\n",
      "Congestive heart failure, unspecified                                                  4      0.266667\n",
      "Other convulsions                                                                      4      0.266667\n",
      "Adult physical abuse                                                                   4      0.266667\n",
      "Cocaine abuse, unspecified                                                             3      0.200000\n",
      "Anemia, unspecified                                                                    3      0.200000\n",
      "Assault by other specified means                                                       3      0.200000\n"
     ]
    }
   ],
   "source": [
    "ids, sub_d = get_coocurring_symptoms_kws(diagnoses, id_type='subject_id', query=['adult physical abuse', 'adult abuse'])"
   ]
  },
  {
   "cell_type": "code",
   "execution_count": 23,
   "id": "resistant-cheese",
   "metadata": {},
   "outputs": [
    {
     "name": "stdout",
     "output_type": "stream",
     "text": [
      "Query: ['adult physical abuse', 'adult abuse', 'assault'], hadm_id. Total IDs: 236; total diagnoses: 2060\n",
      "                                                                  # rows  # rows/# IDs\n",
      "Assault by cutting and piercing instrument                            72      0.305085\n",
      "Assault by unspecified means                                          53      0.224576\n",
      "Assault by striking by blunt or thrown object                         36      0.152542\n",
      "Alcohol abuse, unspecified                                            32      0.135593\n",
      "Unspecified essential hypertension                                    26      0.110169\n",
      "Acute posthemorrhagic anemia                                          26      0.110169\n",
      "Assault by handgun                                                    25      0.105932\n",
      "Closed fracture of other facial bones                                 24      0.101695\n",
      "Assault by other and unspecified firearm                              24      0.101695\n",
      "Closed fracture of malar and maxillary bones                          23      0.097458\n",
      "Asthma, unspecified type, unspecified                                 20      0.084746\n",
      "Tobacco use disorder                                                  19      0.080508\n",
      "Closed fracture of nasal bones                                        18      0.076271\n",
      "Open wound of scalp, without mention of complication                  16      0.067797\n",
      "Open wound of forehead, without mention of complication               16      0.067797\n",
      "Traumatic pneumohemothorax with open wound into thorax                15      0.063559\n",
      "Alcohol withdrawal                                                    15      0.063559\n",
      "Traumatic pneumothorax without mention of open wound into thorax      15      0.063559\n",
      "Traumatic shock                                                       14      0.059322\n",
      "Acidosis                                                              14      0.059322\n"
     ]
    }
   ],
   "source": [
    "ids, sub_d = get_coocurring_symptoms_kws(diagnoses, id_type='hadm_id', query=['adult physical abuse', 'adult abuse', 'assault'])"
   ]
  },
  {
   "cell_type": "code",
   "execution_count": 11,
   "id": "surrounded-dylan",
   "metadata": {},
   "outputs": [
    {
     "data": {
      "text/plain": [
       "Series([], Name: long_title, dtype: int64)"
      ]
     },
     "execution_count": 11,
     "metadata": {},
     "output_type": "execute_result"
    }
   ],
   "source": [
    "diagnoses.loc[diagnoses['icd9_code'].map(lambda x:x.startswith('T74')), 'long_title'].value_counts()"
   ]
  },
  {
   "cell_type": "code",
   "execution_count": 13,
   "id": "faced-appliance",
   "metadata": {},
   "outputs": [
    {
     "data": {
      "text/plain": [
       "Series([], Name: long_title, dtype: int64)"
      ]
     },
     "execution_count": 13,
     "metadata": {},
     "output_type": "execute_result"
    }
   ],
   "source": [
    "diagnoses.loc[diagnoses['icd9_code'].map(lambda x:x.startswith('T76')), 'long_title'].value_counts()"
   ]
  },
  {
   "cell_type": "code",
   "execution_count": null,
   "id": "8548b141",
   "metadata": {},
   "outputs": [],
   "source": []
  }
 ],
 "metadata": {
  "kernelspec": {
   "display_name": "Python 3",
   "language": "python",
   "name": "python3"
  },
  "language_info": {
   "codemirror_mode": {
    "name": "ipython",
    "version": 3
   },
   "file_extension": ".py",
   "mimetype": "text/x-python",
   "name": "python",
   "nbconvert_exporter": "python",
   "pygments_lexer": "ipython3",
   "version": "3.9.6"
  }
 },
 "nbformat": 4,
 "nbformat_minor": 5
}
