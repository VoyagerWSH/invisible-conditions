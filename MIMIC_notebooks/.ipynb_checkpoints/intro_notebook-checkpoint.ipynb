{
 "cells": [
  {
   "cell_type": "code",
   "execution_count": 4,
   "id": "a057e44e",
   "metadata": {},
   "outputs": [
    {
     "name": "stdout",
     "output_type": "stream",
     "text": [
      "The autoreload extension is already loaded. To reload it, use:\n",
      "  %reload_ext autoreload\n"
     ]
    }
   ],
   "source": [
    "%load_ext autoreload \n",
    "%autoreload 2\n",
    "import numpy as np\n",
    "import pandas as pd\n",
    "\n",
    "from scipy.sparse import coo_matrix\n",
    "from scipy.sparse import save_npz\n",
    "\n",
    "from mimic_helper_fs import get_icd_code_long_title\n",
    "from mimic_helper_fs import get_ids_with_icd_codes, get_ids_with_kws\n",
    "from mimic_paths import english_names_path, hosp_diagnoses_path, ed_diagnoses_path\n",
    "from mimic_paths import admissions_path, patients_path\n",
    "\n",
    "\n",
    "np.random.seed(42)\n",
    "pd.set_option('max_rows', 500)\n",
    "pd.set_option('display.width', 500)\n",
    "pd.set_option('display.max_colwidth', 80)"
   ]
  },
  {
   "cell_type": "markdown",
   "id": "30314ffc",
   "metadata": {},
   "source": [
    "## Code to load each table"
   ]
  },
  {
   "cell_type": "code",
   "execution_count": 8,
   "id": "0f9131e8",
   "metadata": {},
   "outputs": [],
   "source": [
    "english_names = pd.read_csv(english_names_path)    # https://mimic.mit.edu/docs/iv/modules/hosp/d_icd_diagnoses/\n",
    "hosp_diagnoses = pd.read_csv(hosp_diagnoses_path)  # https://mimic.mit.edu/docs/iv/modules/hosp/diagnoses_icd/\n",
    "ed_diagnoses = pd.read_csv(ed_diagnoses_path)      # https://mimic.mit.edu/docs/iv/modules/ed/diagnosis/\n",
    "admissions = pd.read_csv(admissions_path)          # https://mimic.mit.edu/docs/iv/modules/core/admissions/\n",
    "patients = pd.read_csv(patients_path)              # https://mimic.mit.edu/docs/iv/modules/core/patients/\n",
    "\n",
    "# Considering only diagnoses made in the hospital -- the demographics for patients\n",
    "# seen in the ED, but not admitted to the hospital, aren't available  yet (but soon will be!)\n",
    "# the 'triage' table, under the ED module, does contain oxygen readings: \n",
    "# https://mimic.mit.edu/docs/iv/modules/ed/triage/\n",
    "diagnoses = hosp_diagnoses"
   ]
  },
  {
   "cell_type": "markdown",
   "id": "e2a53964",
   "metadata": {},
   "source": [
    "## Filter for women, >18 years old"
   ]
  },
  {
   "cell_type": "code",
   "execution_count": 9,
   "id": "7b7af6f1",
   "metadata": {},
   "outputs": [],
   "source": [
    "sid_gender_map = dict(zip(patients.subject_id, patients.gender))\n",
    "sid_age_map = dict(zip(patients.subject_id, patients.anchor_age))\n",
    "sid_ethnicity_map = dict(zip(admissions.subject_id, admissions.ethnicity))\n",
    "hadm_id_to_subject_id = dict(zip(diagnoses.hadm_id, diagnoses.subject_id))\n",
    "\n",
    "diagnoses['anchor_age'] = diagnoses['subject_id'].map(sid_age_map)\n",
    "diagnoses['gender'] = diagnoses['subject_id'].map(sid_gender_map)\n",
    "diagnoses['ethnicity'] = diagnoses['subject_id'].map(sid_ethnicity_map)"
   ]
  },
  {
   "cell_type": "code",
   "execution_count": 10,
   "id": "eb6e383e",
   "metadata": {},
   "outputs": [
    {
     "name": "stdout",
     "output_type": "stream",
     "text": [
      "# of ICD codes that appear > 10 times:  11974\n"
     ]
    }
   ],
   "source": [
    "# You may want to filter out rare codes, \n",
    "# to reduce the dimensionality of the one-hot encoding:\n",
    "code_occurrence_thresh = 10\n",
    "code_counts =  diagnoses.value_counts(\"icd_code\")\n",
    "code_counts = code_counts.reset_index()\n",
    "code_list = list(code_counts[code_counts[0] >= code_occurrence_thresh]['icd_code']) \n",
    "code_list = sorted(list(set(code_list)))\n",
    "print(\"# of ICD codes that appear > \" + str(code_occurrence_thresh) + \" times: \", len(code_list))"
   ]
  },
  {
   "cell_type": "code",
   "execution_count": 6,
   "id": "9dbd9d4c",
   "metadata": {},
   "outputs": [
    {
     "ename": "KeyError",
     "evalue": "'anchor_age'",
     "output_type": "error",
     "traceback": [
      "\u001b[0;31m---------------------------------------------------------------------------\u001b[0m",
      "\u001b[0;31mKeyError\u001b[0m                                  Traceback (most recent call last)",
      "\u001b[0;32m~/.conda/envs/ipv/lib/python3.9/site-packages/pandas/core/indexes/base.py\u001b[0m in \u001b[0;36mget_loc\u001b[0;34m(self, key, method, tolerance)\u001b[0m\n\u001b[1;32m   2897\u001b[0m             \u001b[0;32mtry\u001b[0m\u001b[0;34m:\u001b[0m\u001b[0;34m\u001b[0m\u001b[0;34m\u001b[0m\u001b[0m\n\u001b[0;32m-> 2898\u001b[0;31m                 \u001b[0;32mreturn\u001b[0m \u001b[0mself\u001b[0m\u001b[0;34m.\u001b[0m\u001b[0m_engine\u001b[0m\u001b[0;34m.\u001b[0m\u001b[0mget_loc\u001b[0m\u001b[0;34m(\u001b[0m\u001b[0mcasted_key\u001b[0m\u001b[0;34m)\u001b[0m\u001b[0;34m\u001b[0m\u001b[0;34m\u001b[0m\u001b[0m\n\u001b[0m\u001b[1;32m   2899\u001b[0m             \u001b[0;32mexcept\u001b[0m \u001b[0mKeyError\u001b[0m \u001b[0;32mas\u001b[0m \u001b[0merr\u001b[0m\u001b[0;34m:\u001b[0m\u001b[0;34m\u001b[0m\u001b[0;34m\u001b[0m\u001b[0m\n",
      "\u001b[0;32mpandas/_libs/index.pyx\u001b[0m in \u001b[0;36mpandas._libs.index.IndexEngine.get_loc\u001b[0;34m()\u001b[0m\n",
      "\u001b[0;32mpandas/_libs/index.pyx\u001b[0m in \u001b[0;36mpandas._libs.index.IndexEngine.get_loc\u001b[0;34m()\u001b[0m\n",
      "\u001b[0;32mpandas/_libs/hashtable_class_helper.pxi\u001b[0m in \u001b[0;36mpandas._libs.hashtable.PyObjectHashTable.get_item\u001b[0;34m()\u001b[0m\n",
      "\u001b[0;32mpandas/_libs/hashtable_class_helper.pxi\u001b[0m in \u001b[0;36mpandas._libs.hashtable.PyObjectHashTable.get_item\u001b[0;34m()\u001b[0m\n",
      "\u001b[0;31mKeyError\u001b[0m: 'anchor_age'",
      "\nThe above exception was the direct cause of the following exception:\n",
      "\u001b[0;31mKeyError\u001b[0m                                  Traceback (most recent call last)",
      "\u001b[0;32m<ipython-input-6-6f415e505714>\u001b[0m in \u001b[0;36m<module>\u001b[0;34m\u001b[0m\n\u001b[0;32m----> 1\u001b[0;31m \u001b[0mdiagnoses\u001b[0m \u001b[0;34m=\u001b[0m \u001b[0mdiagnoses\u001b[0m\u001b[0;34m[\u001b[0m\u001b[0mdiagnoses\u001b[0m\u001b[0;34m[\u001b[0m\u001b[0;34m'anchor_age'\u001b[0m\u001b[0;34m]\u001b[0m \u001b[0;34m>\u001b[0m \u001b[0;36m17\u001b[0m\u001b[0;34m]\u001b[0m\u001b[0;34m\u001b[0m\u001b[0;34m\u001b[0m\u001b[0m\n\u001b[0m\u001b[1;32m      2\u001b[0m \u001b[0mdiagnoses\u001b[0m \u001b[0;34m=\u001b[0m \u001b[0mdiagnoses\u001b[0m\u001b[0;34m[\u001b[0m\u001b[0mdiagnoses\u001b[0m\u001b[0;34m[\u001b[0m\u001b[0;34m'gender'\u001b[0m\u001b[0;34m]\u001b[0m \u001b[0;34m==\u001b[0m \u001b[0;34m'F'\u001b[0m\u001b[0;34m]\u001b[0m\u001b[0;34m\u001b[0m\u001b[0;34m\u001b[0m\u001b[0m\n\u001b[1;32m      3\u001b[0m \u001b[0mdiagnoses\u001b[0m \u001b[0;34m=\u001b[0m \u001b[0mdiagnoses\u001b[0m\u001b[0;34m[\u001b[0m\u001b[0mdiagnoses\u001b[0m\u001b[0;34m[\u001b[0m\u001b[0;34m'icd_code'\u001b[0m\u001b[0;34m]\u001b[0m\u001b[0;34m.\u001b[0m\u001b[0misin\u001b[0m\u001b[0;34m(\u001b[0m\u001b[0mcode_list\u001b[0m\u001b[0;34m)\u001b[0m\u001b[0;34m]\u001b[0m\u001b[0;34m\u001b[0m\u001b[0;34m\u001b[0m\u001b[0m\n\u001b[1;32m      4\u001b[0m \u001b[0;34m\u001b[0m\u001b[0m\n\u001b[1;32m      5\u001b[0m \u001b[0mall_hadm_ids\u001b[0m \u001b[0;34m=\u001b[0m \u001b[0msorted\u001b[0m\u001b[0;34m(\u001b[0m\u001b[0mlist\u001b[0m\u001b[0;34m(\u001b[0m\u001b[0mset\u001b[0m\u001b[0;34m(\u001b[0m\u001b[0mdiagnoses\u001b[0m\u001b[0;34m[\u001b[0m\u001b[0;34m'hadm_id'\u001b[0m\u001b[0;34m]\u001b[0m\u001b[0;34m)\u001b[0m\u001b[0;34m)\u001b[0m\u001b[0;34m)\u001b[0m\u001b[0;34m\u001b[0m\u001b[0;34m\u001b[0m\u001b[0m\n",
      "\u001b[0;32m~/.conda/envs/ipv/lib/python3.9/site-packages/pandas/core/frame.py\u001b[0m in \u001b[0;36m__getitem__\u001b[0;34m(self, key)\u001b[0m\n\u001b[1;32m   2904\u001b[0m             \u001b[0;32mif\u001b[0m \u001b[0mself\u001b[0m\u001b[0;34m.\u001b[0m\u001b[0mcolumns\u001b[0m\u001b[0;34m.\u001b[0m\u001b[0mnlevels\u001b[0m \u001b[0;34m>\u001b[0m \u001b[0;36m1\u001b[0m\u001b[0;34m:\u001b[0m\u001b[0;34m\u001b[0m\u001b[0;34m\u001b[0m\u001b[0m\n\u001b[1;32m   2905\u001b[0m                 \u001b[0;32mreturn\u001b[0m \u001b[0mself\u001b[0m\u001b[0;34m.\u001b[0m\u001b[0m_getitem_multilevel\u001b[0m\u001b[0;34m(\u001b[0m\u001b[0mkey\u001b[0m\u001b[0;34m)\u001b[0m\u001b[0;34m\u001b[0m\u001b[0;34m\u001b[0m\u001b[0m\n\u001b[0;32m-> 2906\u001b[0;31m             \u001b[0mindexer\u001b[0m \u001b[0;34m=\u001b[0m \u001b[0mself\u001b[0m\u001b[0;34m.\u001b[0m\u001b[0mcolumns\u001b[0m\u001b[0;34m.\u001b[0m\u001b[0mget_loc\u001b[0m\u001b[0;34m(\u001b[0m\u001b[0mkey\u001b[0m\u001b[0;34m)\u001b[0m\u001b[0;34m\u001b[0m\u001b[0;34m\u001b[0m\u001b[0m\n\u001b[0m\u001b[1;32m   2907\u001b[0m             \u001b[0;32mif\u001b[0m \u001b[0mis_integer\u001b[0m\u001b[0;34m(\u001b[0m\u001b[0mindexer\u001b[0m\u001b[0;34m)\u001b[0m\u001b[0;34m:\u001b[0m\u001b[0;34m\u001b[0m\u001b[0;34m\u001b[0m\u001b[0m\n\u001b[1;32m   2908\u001b[0m                 \u001b[0mindexer\u001b[0m \u001b[0;34m=\u001b[0m \u001b[0;34m[\u001b[0m\u001b[0mindexer\u001b[0m\u001b[0;34m]\u001b[0m\u001b[0;34m\u001b[0m\u001b[0;34m\u001b[0m\u001b[0m\n",
      "\u001b[0;32m~/.conda/envs/ipv/lib/python3.9/site-packages/pandas/core/indexes/base.py\u001b[0m in \u001b[0;36mget_loc\u001b[0;34m(self, key, method, tolerance)\u001b[0m\n\u001b[1;32m   2898\u001b[0m                 \u001b[0;32mreturn\u001b[0m \u001b[0mself\u001b[0m\u001b[0;34m.\u001b[0m\u001b[0m_engine\u001b[0m\u001b[0;34m.\u001b[0m\u001b[0mget_loc\u001b[0m\u001b[0;34m(\u001b[0m\u001b[0mcasted_key\u001b[0m\u001b[0;34m)\u001b[0m\u001b[0;34m\u001b[0m\u001b[0;34m\u001b[0m\u001b[0m\n\u001b[1;32m   2899\u001b[0m             \u001b[0;32mexcept\u001b[0m \u001b[0mKeyError\u001b[0m \u001b[0;32mas\u001b[0m \u001b[0merr\u001b[0m\u001b[0;34m:\u001b[0m\u001b[0;34m\u001b[0m\u001b[0;34m\u001b[0m\u001b[0m\n\u001b[0;32m-> 2900\u001b[0;31m                 \u001b[0;32mraise\u001b[0m \u001b[0mKeyError\u001b[0m\u001b[0;34m(\u001b[0m\u001b[0mkey\u001b[0m\u001b[0;34m)\u001b[0m \u001b[0;32mfrom\u001b[0m \u001b[0merr\u001b[0m\u001b[0;34m\u001b[0m\u001b[0;34m\u001b[0m\u001b[0m\n\u001b[0m\u001b[1;32m   2901\u001b[0m \u001b[0;34m\u001b[0m\u001b[0m\n\u001b[1;32m   2902\u001b[0m         \u001b[0;32mif\u001b[0m \u001b[0mtolerance\u001b[0m \u001b[0;32mis\u001b[0m \u001b[0;32mnot\u001b[0m \u001b[0;32mNone\u001b[0m\u001b[0;34m:\u001b[0m\u001b[0;34m\u001b[0m\u001b[0;34m\u001b[0m\u001b[0m\n",
      "\u001b[0;31mKeyError\u001b[0m: 'anchor_age'"
     ]
    }
   ],
   "source": [
    "diagnoses = diagnoses[diagnoses['anchor_age'] > 17]\n",
    "diagnoses = diagnoses[diagnoses['gender'] == 'F']\n",
    "diagnoses = diagnoses[diagnoses['icd_code'].isin(code_list)]\n",
    "\n",
    "all_hadm_ids = sorted(list(set(diagnoses['hadm_id'])))\n",
    "all_icd_codes = sorted(list(set(diagnoses['icd_code'])))\n",
    "all_subject_ids = [hadm_id_to_subject_id[hadm_id] for hadm_id in all_hadm_ids]\n",
    "\n",
    "code_to_index = {c: i for i,c in enumerate(all_icd_codes)}\n",
    "hadm_id_to_index = {hadm_id: i for i, hadm_id in enumerate(all_hadm_ids)}\n",
    "\n",
    "print(\"# of Patients: \", len(set(diagnoses['subject_id'])))\n",
    "print(\"# of Individual Stays: \", len(set(diagnoses['hadm_id'])))\n",
    "print(\"# of Unique ICD Codes: \", len(all_icd_codes))"
   ]
  },
  {
   "cell_type": "markdown",
   "id": "ae4a0826",
   "metadata": {},
   "source": [
    "## Most common ICD-9 / ICD-10 codes among women, >18 years old"
   ]
  },
  {
   "cell_type": "code",
   "execution_count": null,
   "id": "24bbb4d0",
   "metadata": {},
   "outputs": [],
   "source": []
  },
  {
   "cell_type": "markdown",
   "id": "43258437",
   "metadata": {},
   "source": [
    "## One-hot encoding patient visits"
   ]
  },
  {
   "cell_type": "code",
   "execution_count": null,
   "id": "c2f46559",
   "metadata": {},
   "outputs": [],
   "source": [
    "one_hot = pd.get_dummies(diagnoses['icd_code'], sparse=True)\n",
    "hadm_one_hot = pd.concat([diagnoses['hadm_id'], one_hot], axis=1)\n",
    "\n",
    "diagnoses['icd_code_idx'] = diagnoses['icd_code'].map(code_to_index)\n",
    "diagnoses['hadm_id_idx'] = diagnoses['hadm_id'].map(hadm_id_to_index)"
   ]
  },
  {
   "cell_type": "code",
   "execution_count": null,
   "id": "f032d489",
   "metadata": {},
   "outputs": [],
   "source": [
    "# Write out one-hot features in coordinate format (helpful since matrix is very sparse)\n",
    "row_coords = np.array(diagnoses['hadm_id_idx'])\n",
    "col_coords = np.array(diagnoses['icd_code_idx'])\n",
    "vals = np.ones(len(col_coords))\n",
    "\n",
    "n_rows = np.max(row_coords) + 1\n",
    "n_cols = np.max(col_coords) + 1\n",
    "\n",
    "# Dummy feature for intercept\n",
    "intercept_row_coords = np.array(list(range(n_rows)))\n",
    "intercept_col_coords = [n_cols for i in range(n_rows)]\n",
    "intercept_vals = np.ones(n_rows)\n",
    "\n",
    "# Combine features & dummy feature for intercept\n",
    "row_coords = np.concatenate([row_coords, intercept_row_coords])\n",
    "col_coords = np.concatenate([col_coords, intercept_col_coords])\n",
    "vals = np.concatenate([vals, intercept_vals])\n",
    "\n",
    "# Create sparse matrix\n",
    "jj = coo_matrix((vals, (row_coords, col_coords)))"
   ]
  },
  {
   "cell_type": "markdown",
   "id": "bb4f5dcb",
   "metadata": {},
   "source": [
    "##  Get name of a specific  ICD code"
   ]
  },
  {
   "cell_type": "code",
   "execution_count": null,
   "id": "466c8e4b",
   "metadata": {},
   "outputs": [],
   "source": []
  }
 ],
 "metadata": {
  "kernelspec": {
   "display_name": "Python 3",
   "language": "python",
   "name": "python3"
  },
  "language_info": {
   "codemirror_mode": {
    "name": "ipython",
    "version": 3
   },
   "file_extension": ".py",
   "mimetype": "text/x-python",
   "name": "python",
   "nbconvert_exporter": "python",
   "pygments_lexer": "ipython3",
   "version": "3.9.6"
  }
 },
 "nbformat": 4,
 "nbformat_minor": 5
}
