{
 "cells": [
  {
   "cell_type": "code",
   "execution_count": 1,
   "id": "dominican-tolerance",
   "metadata": {},
   "outputs": [],
   "source": [
    "%load_ext autoreload\n",
    "%autoreload 2\n",
    "import pandas as pd\n",
    "import os\n",
    "\n",
    "from mimic_helper_fs import get_ids_with_icd_codes, get_ids_with_kws, get_coocurring_symptoms_cpt_codes\n",
    "from mimic_helper_fs import get_coocurring_symptoms_codes, get_coocurring_symptoms_kws\n",
    "\n",
    "pd.set_option('max_rows', 500)\n",
    "pd.set_option('display.width', 500)\n",
    "pd.set_option('display.max_colwidth', 80)"
   ]
  },
  {
   "cell_type": "markdown",
   "id": "5ee9824c",
   "metadata": {},
   "source": [
    "# IPV codes + keyword sets"
   ]
  },
  {
   "cell_type": "code",
   "execution_count": 2,
   "id": "99472e3e",
   "metadata": {},
   "outputs": [],
   "source": [
    "# National Hospital Ambulatory  Survey 2020 \n",
    "# ICD-9 codes used: codes found in the cause of injury (rape [E960.1], spouse abuse [E967.3]) and \n",
    "#  diagnosis (adult abuse [995.80–995.83, 995.85], history of violence [V15.41, V15.42], and counseling [V61.10, V61.11]) fields\n",
    "nhas_ipv_codes = ['E9601', 'E9673', '99580', '99581', '99582', '99583', '99585', 'V1541', 'V1542', 'V6110', 'V6111']\n",
    "\n",
    "# Oregon ED code paper 2008\n",
    "# Primary ICD-9 codes used: \n",
    "    #  E967.3 (battering by intimate partner), 995.81 (adult physical abuse), 995.80 (adult maltreatment)\n",
    "# Secondary ICD-9 codes used:\n",
    "    # E967.3, E960.0 (unarmed fight/brawl), 995.81 (adult physical abuse),  E968.0-E968.9 (assault by other unspecified means)\n",
    "    # 995.83 (Adult sexual abuse), V61.10 (marital/partner  counseling), E962.0-E966 (assault: poison, ahnging, etc)\n",
    "    # E967.9 (battering by unspecified person), E967.1 (battering by  other specified person), 995.85 adult abuse/neglect\n",
    "    # V61.11 (IPV counseling), E961.0 assault by corrosive caustic substance\n",
    "primary_codes = ['E9673', '99581', '99580']\n",
    "secondary_codes = ['E9673', 'E9600',  '99581',  'E9680', 'E9681','E9682', 'E9683','E9684', 'E9685','E9686', 'E9687', 'E9688', 'E9689',  '99583', \n",
    "'V6110', 'E9620', 'E966', 'E9679', 'E9671', 'V6111',  '99585','E9610']\n",
    "oregon_ipv_codes = list(set(primary_codes + secondary_codes))\n",
    "\n",
    "    \n",
    "# United States ED survey 2014\n",
    "# ICD-9 codes used:  E967.3 (battering by intimate partner)\n",
    "# Estimated p(y) = .02% \n",
    "used_ipv_codes = ['E9673']\n",
    "\n",
    "code_sets = [('NHAS Study', nhas_ipv_codes), ('Oregon Study', oregon_ipv_codes), ('US ED Study', used_ipv_codes)]\n",
    "kw_sets = [['adult physical abuse', 'adult abuse'], \n",
    "                ['adult physical abuse', 'adult abuse', 'assault'],\n",
    "                ['adult physical abuse', 'adult abuse', 'maltreatment']]"
   ]
  },
  {
   "cell_type": "markdown",
   "id": "executive-ensemble",
   "metadata": {},
   "source": [
    "# Analyzing CPT codes"
   ]
  },
  {
   "cell_type": "code",
   "execution_count": 3,
   "id": "minute-meaning",
   "metadata": {},
   "outputs": [],
   "source": [
    "cpt_codes = []\n",
    "# https://s3.amazonaws.com/fwvcorp/wp-content/uploads/20160429154502/Preventive-Medicine-Service-Codes-and-privacy-principles.pdf\n",
    "# 99381-99397"
   ]
  },
  {
   "cell_type": "code",
   "execution_count": 4,
   "id": "running-ranking",
   "metadata": {},
   "outputs": [
    {
     "name": "stderr",
     "output_type": "stream",
     "text": [
      "/home/t-dshanmugam/.conda/envs/ipv/lib/python3.7/site-packages/IPython/core/interactiveshell.py:3166: DtypeWarning: Columns (4,5,7,11) have mixed types.Specify dtype option on import or set low_memory=False.\n",
      "  interactivity=interactivity, compiler=compiler, result=result)\n"
     ]
    }
   ],
   "source": [
    "def column_names_to_lower(df):\n",
    "    df.columns =  df.columns.str.lower()\n",
    "    return df\n",
    "data_path = '/home/t-dshanmugam/physionet.org/files/mimiciii/1.4/'\n",
    "# Convert all filenames to lowercase for compatibility\n",
    "files = os.listdir(data_path)\n",
    "for file in files:        \n",
    "    os.rename(data_path + file, data_path + file.lower())\n",
    "\n",
    "english_names = pd.read_csv(data_path + 'd_icd_diagnoses.csv.gz')\n",
    "cpt_code_names = pd.read_csv(data_path + 'd_cpt.csv.gz')\n",
    "\n",
    "cpt_events = pd.read_csv(data_path + 'cptevents.csv.gz')\n",
    "diagnoses = pd.read_csv(data_path + 'diagnoses_icd.csv.gz')\n",
    "\n",
    "english_names = column_names_to_lower(english_names)\n",
    "diagnoses = column_names_to_lower(diagnoses)\n",
    "cpt_events = column_names_to_lower(cpt_events)"
   ]
  },
  {
   "cell_type": "markdown",
   "id": "c5c1de0e",
   "metadata": {},
   "source": [
    "# What CPT codes are typically assigned to IPV patients?"
   ]
  },
  {
   "cell_type": "code",
   "execution_count": 37,
   "id": "742bc420",
   "metadata": {},
   "outputs": [
    {
     "name": "stdout",
     "output_type": "stream",
     "text": [
      "         # rows  # rows/# IDs            subsection_header\n",
      "99232.0     198      3.473684  Hospital inpatient services\n",
      "99233.0     107      1.877193  Hospital inpatient services\n",
      "99291.0     104      1.824561       Critical care services\n",
      "99231.0      66      1.157895  Hospital inpatient services\n",
      "94003.0      49      0.859649                    Pulmonary\n",
      "99254.0      22      0.385965                Consultations\n",
      "99239.0      20      0.350877  Hospital inpatient services\n",
      "99223.0      18      0.315789  Hospital inpatient services\n",
      "99255.0      11      0.192982                Consultations\n",
      "90801.0       9      0.157895                   Psychiatry\n",
      "99253.0       9      0.157895                Consultations\n",
      "99238.0       8      0.140351  Hospital inpatient services\n",
      "99251.0       8      0.140351                Consultations\n",
      "36556.0       6      0.105263        Cardiovascular system\n",
      "99222.0       6      0.105263  Hospital inpatient services\n",
      "90935.0       5      0.087719                     Dialysis\n",
      "90945.0       4      0.070175                     Dialysis\n",
      "94002.0       4      0.070175                    Pulmonary\n",
      "99221.0       3      0.052632  Hospital inpatient services\n",
      "36620.0       2      0.035088        Cardiovascular system\n"
     ]
    }
   ],
   "source": [
    "# proportion is > 1 since some patients receive CPT codes in \"sequence\". ticket_sequence_id in this database doesn't make\n",
    "# a ton of sense to me.\n",
    "# also subsection_header isn't that informative but i couldn't find a direct CPT code --> normal text translator\n",
    "ids, sub_d, value_counts = get_coocurring_symptoms_cpt_codes(diagnoses, cpt_events, 'hadm_id', nhas_ipv_codes, print_output=False)\n",
    "cpt_codes = list(value_counts.index)\n",
    "value_counts['subsection_header'] = [cpt_events[cpt_events['cpt_number'] == cpt_code]['subsectionheader'].iloc[0] for cpt_code in cpt_codes]\n",
    "print(value_counts)"
   ]
  },
  {
   "cell_type": "code",
   "execution_count": 38,
   "id": "4eb3e22d",
   "metadata": {
    "scrolled": true
   },
   "outputs": [
    {
     "name": "stdout",
     "output_type": "stream",
     "text": [
      "         # rows  # rows/# IDs            subsection_header\n",
      "94003.0     401      1.623482                    Pulmonary\n",
      "99232.0     334      1.352227  Hospital inpatient services\n",
      "99231.0     215      0.870445  Hospital inpatient services\n",
      "99291.0     214      0.866397       Critical care services\n",
      "99233.0     139      0.562753  Hospital inpatient services\n",
      "99254.0      35      0.141700                Consultations\n",
      "99253.0      33      0.133603                Consultations\n",
      "94002.0      29      0.117409                    Pulmonary\n",
      "99223.0      28      0.113360  Hospital inpatient services\n",
      "99239.0      21      0.085020  Hospital inpatient services\n",
      "99238.0      20      0.080972  Hospital inpatient services\n",
      "99252.0      18      0.072874                Consultations\n",
      "99255.0      15      0.060729                Consultations\n",
      "99222.0      15      0.060729  Hospital inpatient services\n",
      "36556.0      14      0.056680        Cardiovascular system\n",
      "32551.0      11      0.044534           Respiratory system\n",
      "99251.0       9      0.036437                Consultations\n",
      "90945.0       9      0.036437                     Dialysis\n",
      "31600.0       7      0.028340           Respiratory system\n",
      "43246.0       7      0.028340             Digestive system\n"
     ]
    }
   ],
   "source": [
    "ids, sub_d, value_counts = get_coocurring_symptoms_cpt_codes(diagnoses, cpt_events, 'hadm_id', oregon_ipv_codes, print_output=False)\n",
    "cpt_codes = list(value_counts.index)\n",
    "value_counts['subsection_header'] = [cpt_events[cpt_events['cpt_number'] == cpt_code]['subsectionheader'].iloc[0] for cpt_code in cpt_codes]\n",
    "print(value_counts)"
   ]
  },
  {
   "cell_type": "code",
   "execution_count": 39,
   "id": "7f71ed29",
   "metadata": {},
   "outputs": [
    {
     "name": "stdout",
     "output_type": "stream",
     "text": [
      "         # rows  # rows/# IDs            subsection_header\n",
      "99232.0      11           5.5  Hospital inpatient services\n",
      "99291.0       2           1.0       Critical care services\n",
      "94003.0       1           0.5                    Pulmonary\n",
      "99223.0       1           0.5  Hospital inpatient services\n",
      "99238.0       1           0.5  Hospital inpatient services\n",
      "99254.0       1           0.5                Consultations\n",
      "99231.0       1           0.5  Hospital inpatient services\n"
     ]
    }
   ],
   "source": [
    "ids, sub_d, value_counts = get_coocurring_symptoms_cpt_codes(diagnoses, cpt_events, 'hadm_id', used_ipv_codes, print_output=False)\n",
    "cpt_codes = list(value_counts.index)\n",
    "value_counts['subsection_header'] = [cpt_events[cpt_events['cpt_number'] == cpt_code]['subsectionheader'].iloc[0] for cpt_code in cpt_codes]\n",
    "print(value_counts)"
   ]
  },
  {
   "cell_type": "code",
   "execution_count": 36,
   "id": "e753df36",
   "metadata": {},
   "outputs": [
    {
     "data": {
      "text/plain": [
       "0"
      ]
     },
     "execution_count": 36,
     "metadata": {},
     "output_type": "execute_result"
    }
   ],
   "source": [
    "# The CPT code range recommended since it refers to an external preventative consultation?\n",
    "len(cpt_events[(cpt_events['cpt_number'] > 99381) & (cpt_events['cpt_number'] < 99397)])\n"
   ]
  }
 ],
 "metadata": {
  "kernelspec": {
   "display_name": "Python 3",
   "language": "python",
   "name": "python3"
  },
  "language_info": {
   "codemirror_mode": {
    "name": "ipython",
    "version": 3
   },
   "file_extension": ".py",
   "mimetype": "text/x-python",
   "name": "python",
   "nbconvert_exporter": "python",
   "pygments_lexer": "ipython3",
   "version": "3.7.6"
  }
 },
 "nbformat": 4,
 "nbformat_minor": 5
}
