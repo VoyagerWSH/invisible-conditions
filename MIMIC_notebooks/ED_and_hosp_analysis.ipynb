{
 "cells": [
  {
   "cell_type": "code",
   "execution_count": 3,
   "id": "f5edcfed",
   "metadata": {},
   "outputs": [
    {
     "name": "stdout",
     "output_type": "stream",
     "text": [
      "The autoreload extension is already loaded. To reload it, use:\n",
      "  %reload_ext autoreload\n"
     ]
    }
   ],
   "source": [
    "# How many 'gold label' patients do we have across the ED & hospital?\n",
    "\n",
    "%load_ext autoreload \n",
    "%autoreload 2\n",
    "import pandas as pd\n",
    "import os\n",
    "\n",
    "from mimic_helper_fs import get_ids_with_icd_codes, get_ids_with_kws\n",
    "from mimic_helper_fs import get_coocurring_symptoms_codes, get_coocurring_symptoms_kws\n",
    "\n",
    "from ipv_codes import NHAS_IPV_CODES, OREGON_IPV_CODES, USED_IPV_CODES, ICD10_IPV_CODES\n",
    "from ipv_codes import GOLD_STANDARD_IPV_CODES_1, GOLD_STANDARD_IPV_CODES_2, GOLD_STANDARD_IPV_CODES_3, GOLD_STANDARD_IPV_CODES_4\n",
    "from ipv_codes import KW_SETS, CODE_SETS\n",
    "from ipv_codes import T74_CODES, T76_CODES, Y_CODES\n",
    "pd.set_option('max_rows', 500)\n",
    "pd.set_option('display.width', 500)\n",
    "pd.set_option('display.max_colwidth', 80)\n"
   ]
  },
  {
   "cell_type": "markdown",
   "id": "55b1a2be",
   "metadata": {},
   "source": [
    "# Load data"
   ]
  },
  {
   "cell_type": "code",
   "execution_count": 4,
   "id": "690931a5",
   "metadata": {},
   "outputs": [],
   "source": [
    "mimic_iv_ed_data_path = '~/physionet.org/files/mimic-iv-ed/1.0/ed/'\n",
    "mimic_iv_data_path = '~/physionet.org/files/mimiciv/1.0/'\n",
    "hosp_data_path = mimic_iv_data_path + 'hosp/'\n",
    "\n",
    "english_names = pd.read_csv(hosp_data_path + 'd_icd_diagnoses.csv.gz')\n",
    "ed_diagnoses = pd.read_csv(mimic_iv_ed_data_path + 'diagnosis.csv.gz')\n",
    "hosp_diagnoses = pd.read_csv(hosp_data_path + 'diagnoses_icd.csv.gz')\n",
    "\n",
    "all_hosp_subject_ids = list(hosp_diagnoses['subject_id'])\n",
    "all_ed_subject_ids = list(ed_diagnoses['subject_id'])\n",
    "all_subject_ids = list(set(all_ed_subject_ids + all_hosp_subject_ids))"
   ]
  },
  {
   "cell_type": "markdown",
   "id": "3c3641c4",
   "metadata": {},
   "source": [
    "# Get label frequencies for a specific gold standard code set"
   ]
  },
  {
   "cell_type": "code",
   "execution_count": 5,
   "id": "b6b40ddd",
   "metadata": {},
   "outputs": [
    {
     "name": "stdout",
     "output_type": "stream",
     "text": [
      "# of IPV Patients in ED:  85\n",
      "# of IPV Patients in Hosp:  208\n",
      "# of IPV Patients in Either:  257\n",
      "\n",
      "p(y) in ED:  0.0003926695524029067\n",
      "p(y) in Hosp:  0.0009608854929388775\n",
      "p(y) in Either:  0.00075091088119538\n",
      "-----\n",
      "\n",
      "# of IPV Patients in ED:  92\n",
      "# of IPV Patients in Hosp:  245\n",
      "# of IPV Patients in Either:  298\n",
      "\n",
      "p(y) in ED:  0.0004250070449537343\n",
      "p(y) in Hosp:  0.0011318122392789663\n",
      "p(y) in Either:  0.0008707060023199348\n",
      "-----\n",
      "\n",
      "# of IPV Patients in ED:  92\n",
      "# of IPV Patients in Hosp:  247\n",
      "# of IPV Patients in Either:  300\n",
      "\n",
      "p(y) in ED:  0.0004250070449537343\n",
      "p(y) in Hosp:  0.001141051522864917\n",
      "p(y) in Either:  0.000876549666765035\n",
      "-----\n",
      "\n",
      "# of IPV Patients in ED:  92\n",
      "# of IPV Patients in Hosp:  264\n",
      "# of IPV Patients in Either:  317\n",
      "\n",
      "p(y) in ED:  0.0004250070449537343\n",
      "p(y) in Hosp:  0.0012195854333454984\n",
      "p(y) in Either:  0.000926220814548387\n",
      "-----\n",
      "\n"
     ]
    }
   ],
   "source": [
    "import numpy as np\n",
    "\n",
    "id_type = 'subject_id'\n",
    "for GOLD_STANDARD_IPV_CODES in [GOLD_STANDARD_IPV_CODES_1, GOLD_STANDARD_IPV_CODES_2, \n",
    "                                GOLD_STANDARD_IPV_CODES_3, GOLD_STANDARD_IPV_CODES_4]:\n",
    "    ed_ipv_ids =  get_ids_with_icd_codes(ed_diagnoses, id_type, GOLD_STANDARD_IPV_CODES)\n",
    "    hosp_ipv_ids = get_ids_with_icd_codes(hosp_diagnoses, id_type, GOLD_STANDARD_IPV_CODES)\n",
    "\n",
    "    ipv_patients = pd.DataFrame(all_subject_ids, columns=['subject_id'])\n",
    "    ipv_patients['ed'] = ipv_patients['subject_id'].isin(all_ed_subject_ids)\n",
    "    ipv_patients['hosp'] = ipv_patients['subject_id'].isin(all_hosp_subject_ids)\n",
    "    ipv_patients['ed_and_hosp'] = ipv_patients['ed'] * ipv_patients['hosp']\n",
    "    ipv_patients['ed_or_hosp'] = ipv_patients['ed'] | ipv_patients['hosp']\n",
    "\n",
    "    ipv_patients['ed_ipv'] = ipv_patients['subject_id'].isin(list(ed_ipv_ids))\n",
    "    ipv_patients['hosp_ipv'] = ipv_patients['subject_id'].isin(list(hosp_ipv_ids))\n",
    "    ipv_patients['ipv'] = ipv_patients['ed_ipv'] | ipv_patients['hosp_ipv']\n",
    "\n",
    "#     print(\"# of Unique Patients: \", len(ipv_patients))\n",
    "#     print(\"# of Unique Patients in ED: \", ipv_patients['ed'].value_counts()[1])\n",
    "#     print(\"# of Unique Patients in Hosp: \", ipv_patients['hosp'].value_counts()[1])\n",
    "#     print(\"# of Unique Patients in Both: \", ipv_patients['ed_and_hosp'].value_counts()[1])\n",
    "\n",
    "\n",
    "    print(\"# of IPV Patients in ED: \", ipv_patients['ed_ipv'].value_counts()[1])\n",
    "    print(\"# of IPV Patients in Hosp: \", ipv_patients['hosp_ipv'].value_counts()[1])\n",
    "    print(\"# of IPV Patients in Either: \", ipv_patients['ipv'].value_counts()[1])\n",
    "    \n",
    "    print(\"\\np(y) in ED: \", ipv_patients['ed_ipv'].value_counts()[1]/ipv_patients['ed'].value_counts()[1])\n",
    "    print(\"p(y) in Hosp: \", ipv_patients['hosp_ipv'].value_counts()[1]/ipv_patients['ed'].value_counts()[1])\n",
    "    print(\"p(y) in Either: \", ipv_patients['ipv'].value_counts()[1]/ipv_patients['ed_or_hosp'].value_counts()[1])\n",
    "    print('-----\\n')\n",
    "    # 20 patients just went to the ED, and not the hospital"
   ]
  },
  {
   "cell_type": "code",
   "execution_count": 6,
   "id": "44f4e63e",
   "metadata": {},
   "outputs": [
    {
     "name": "stdout",
     "output_type": "stream",
     "text": [
      "# of Unique Patients:  342251\n",
      "# of Unique Patients in ED:  216467\n",
      "# of Unique Patients in Hosp:  255106\n",
      "# of Unique Patients in Both:  129322\n"
     ]
    }
   ],
   "source": [
    "import numpy as np\n",
    "print(\"# of Unique Patients: \", len(ipv_patients))\n",
    "print(\"# of Unique Patients in ED: \", ipv_patients['ed'].value_counts()[1])\n",
    "print(\"# of Unique Patients in Hosp: \", ipv_patients['hosp'].value_counts()[1])\n",
    "print(\"# of Unique Patients in Both: \", ipv_patients['ed_and_hosp'].value_counts()[1])\n"
   ]
  },
  {
   "cell_type": "code",
   "execution_count": 7,
   "id": "d3767517",
   "metadata": {},
   "outputs": [
    {
     "name": "stdout",
     "output_type": "stream",
     "text": [
      "# of IPV Patients in ED:  92\n",
      "# of IPV Patients in Hosp:  264\n",
      "# of IPV Patients in Either:  317\n"
     ]
    }
   ],
   "source": [
    "print(\"# of IPV Patients in ED: \", ipv_patients['ed_ipv'].value_counts()[1])\n",
    "print(\"# of IPV Patients in Hosp: \", ipv_patients['hosp_ipv'].value_counts()[1])\n",
    "print(\"# of IPV Patients in Either: \", ipv_patients['ipv'].value_counts()[1])\n",
    "# 20 patients just went to the ED, and not the hospital"
   ]
  },
  {
   "cell_type": "code",
   "execution_count": 8,
   "id": "6a8d661b",
   "metadata": {},
   "outputs": [
    {
     "data": {
      "text/plain": [
       "0.0007392235523051796"
      ]
     },
     "execution_count": 8,
     "metadata": {},
     "output_type": "execute_result"
    }
   ],
   "source": [
    "# Corresponds to a p_y of 156/342251 or\n",
    "#156/342251\n",
    "253/342251"
   ]
  },
  {
   "cell_type": "code",
   "execution_count": null,
   "id": "ccb069ed",
   "metadata": {},
   "outputs": [],
   "source": []
  }
 ],
 "metadata": {
  "kernelspec": {
   "display_name": "Python 3",
   "language": "python",
   "name": "python3"
  },
  "language_info": {
   "codemirror_mode": {
    "name": "ipython",
    "version": 3
   },
   "file_extension": ".py",
   "mimetype": "text/x-python",
   "name": "python",
   "nbconvert_exporter": "python",
   "pygments_lexer": "ipython3",
   "version": "3.9.6"
  }
 },
 "nbformat": 4,
 "nbformat_minor": 5
}
