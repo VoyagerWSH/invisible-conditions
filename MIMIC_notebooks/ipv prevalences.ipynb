{
 "cells": [
  {
   "cell_type": "code",
   "execution_count": 2,
   "id": "b7b06dec",
   "metadata": {},
   "outputs": [],
   "source": [
    "p_ys = [.0034, 8.2/100000, .47/100, .1, .0002, .036, .00276, .00306]\n",
    "papers = ['[2020] Changes in Incidents & Payment Methods for IPV Related Injuries',\n",
    " '[2020] A Nationwide Study of Intimate Partner Violence - Jose Alfaro Quezada, Zahid Mustafa, Xiaofei Zhang, Bishoy Zakhary, Matthew Firek, Raul Coimbra, Megan Brenner, 2020 (sagepub.com)',\n",
    " '[2019] Social network analysis to characterize women victims of violence | SpringerLink',\n",
    " '[2018] United States ED Visits by Adult Women for Nonfatal Intimate Partner Strangulation, 2006 to 2014: Prevalence and Associated Characteristics - ScienceDirect',\n",
    " '[2015] United States Emergency Department Visits Coded for Intimate Partner Violence', \n",
    " '[2013] Practical Implications of Current Intimate Partner Violence Research for Victim Advocates and Service Providers (ojp.gov)',\n",
    " '[2008] Using Diagnostic Codes to Screen for Intimate Partner Violence in Oregon Emergency Departments and Hospitals']"
   ]
  },
  {
   "cell_type": "code",
   "execution_count": 23,
   "id": "93f88796",
   "metadata": {},
   "outputs": [
    {
     "data": {
      "image/png": "[encoded data removed]",
      "text/plain": [
       "<Figure size 576x144 with 1 Axes>"
      ]
     },
     "metadata": {
      "needs_background": "light"
     },
     "output_type": "display_data"
    }
   ],
   "source": [
    "import matplotlib.pyplot as plt\n",
    "\n",
    "fig, ax = plt.subplots(figsize=(8, 2))\n",
    "plt.semilogx(p_ys, [1 for i in p_ys], marker='D', color='black', mfc='red')\n",
    "#plt.yaxis('off')\n",
    "\n",
    "frame1 = plt.gca()\n",
    "frame1.axes.get_yaxis().set_visible(False)\n",
    "plt.xlabel(\"Prevalence (p(y=1))\")\n",
    "ax.spines['right'].set_visible(False)\n",
    "ax.spines['left'].set_visible(False)\n",
    "ax.spines['top'].set_visible(False)"
   ]
  },
  {
   "cell_type": "code",
   "execution_count": 24,
   "id": "2979ae9d",
   "metadata": {},
   "outputs": [
    {
     "data": {
      "text/plain": [
       "('[2015] United States Emergency Department Visits Coded for Intimate Partner Violence',\n",
       " 0.0002)"
      ]
     },
     "execution_count": 24,
     "metadata": {},
     "output_type": "execute_result"
    }
   ],
   "source": [
    "papers[4], p_ys[4]"
   ]
  },
  {
   "cell_type": "code",
   "execution_count": 25,
   "id": "365e2172",
   "metadata": {},
   "outputs": [
    {
     "data": {
      "text/plain": [
       "('[2018] United States ED Visits by Adult Women for Nonfatal Intimate Partner Strangulation, 2006 to 2014: Prevalence and Associated Characteristics - ScienceDirect',\n",
       " 0.1)"
      ]
     },
     "execution_count": 25,
     "metadata": {},
     "output_type": "execute_result"
    }
   ],
   "source": [
    "papers[3], p_ys[3]"
   ]
  },
  {
   "cell_type": "code",
   "execution_count": null,
   "id": "1fa474c1",
   "metadata": {},
   "outputs": [],
   "source": []
  }
 ],
 "metadata": {
  "kernelspec": {
   "display_name": "Python 3",
   "language": "python",
   "name": "python3"
  },
  "language_info": {
   "codemirror_mode": {
    "name": "ipython",
    "version": 3
   },
   "file_extension": ".py",
   "mimetype": "text/x-python",
   "name": "python",
   "nbconvert_exporter": "python",
   "pygments_lexer": "ipython3",
   "version": "3.7.6"
  }
 },
 "nbformat": 4,
 "nbformat_minor": 5
}
