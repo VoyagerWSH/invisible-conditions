{
 "cells": [
  {
   "cell_type": "code",
   "execution_count": 24,
   "id": "a057e44e",
   "metadata": {},
   "outputs": [
    {
     "name": "stdout",
     "output_type": "stream",
     "text": [
      "The autoreload extension is already loaded. To reload it, use:\n",
      "  %reload_ext autoreload\n"
     ]
    }
   ],
   "source": [
    "%load_ext autoreload \n",
    "%autoreload 2\n",
    "import os\n",
    "import pickle\n",
    "import numpy as np\n",
    "import pandas as pd\n",
    "from tqdm.notebook import tqdm\n",
    "\n",
    "from scipy.sparse import coo_matrix\n",
    "from scipy.sparse import save_npz\n",
    "\n",
    "from mimic_helper_fs import get_icd_code_long_title\n",
    "from mimic_helper_fs import get_ids_with_icd_codes, get_ids_with_kws\n",
    "from mimic_helper_fs import get_coocurring_symptoms_codes, get_coocurring_symptoms_kws\n",
    "from mimic_paths import english_names_path, hosp_diagnoses_path, ed_diagnoses_path\n",
    "from mimic_paths import admissions_path, patients_path, input_events_path\n",
    "\n",
    "from ipv_codes import SUSPICIOUS_SYMPTOMS_ICD_CODES\n",
    "\n",
    "np.random.seed(42)\n",
    "pd.set_option('max_rows', 500)\n",
    "pd.set_option('display.width', 500)\n",
    "pd.set_option('display.max_colwidth', 80)"
   ]
  },
  {
   "cell_type": "code",
   "execution_count": 22,
   "id": "0f9131e8",
   "metadata": {},
   "outputs": [],
   "source": [
    "english_names = pd.read_csv(english_names_path)\n",
    "diagnoses = pd.read_csv(hosp_diagnoses_path)\n",
    "ed_diagnoses = pd.read_csv(ed_diagnoses_path)"
   ]
  },
  {
   "cell_type": "code",
   "execution_count": 25,
   "id": "2bcdcee7",
   "metadata": {},
   "outputs": [],
   "source": [
    "input_events = pd.read_csv(input_events_path)"
   ]
  },
  {
   "cell_type": "code",
   "execution_count": 43,
   "id": "31440c43",
   "metadata": {},
   "outputs": [
    {
     "data": {
      "text/plain": [
       "Index(['subject_id', 'hadm_id', 'stay_id', 'starttime', 'endtime', 'storetime', 'itemid', 'amount', 'amountuom', 'rate', 'rateuom', 'orderid', 'linkorderid', 'ordercategoryname', 'secondaryordercategoryname', 'ordercomponenttypedescription', 'ordercategorydescription', 'patientweight', 'totalamount', 'totalamountuom', 'isopenbag', 'continueinnextdept', 'cancelreason', 'statusdescription', 'originalamount', 'originalrate'], dtype='object')"
      ]
     },
     "execution_count": 43,
     "metadata": {},
     "output_type": "execute_result"
    }
   ],
   "source": [
    "input_events.keys()"
   ]
  },
  {
   "cell_type": "code",
   "execution_count": 36,
   "id": "34826a3e",
   "metadata": {},
   "outputs": [],
   "source": [
    "weights = input_events.groupby('subject_id')['patientweight'].first()"
   ]
  },
  {
   "cell_type": "code",
   "execution_count": 41,
   "id": "d8d6c2d2",
   "metadata": {},
   "outputs": [
    {
     "data": {
      "text/plain": [
       "<AxesSubplot:xlabel='patientweight', ylabel='Count'>"
      ]
     },
     "execution_count": 41,
     "metadata": {},
     "output_type": "execute_result"
    },
    {
     "data": {
      "image/png": "[encoded data removed]",
      "text/plain": [
       "<Figure size 432x288 with 1 Axes>"
      ]
     },
     "metadata": {
      "needs_background": "light"
     },
     "output_type": "display_data"
    }
   ],
   "source": [
    "sns.histplot(weights[weights > 200])"
   ]
  },
  {
   "cell_type": "code",
   "execution_count": 51,
   "id": "d314cdd6",
   "metadata": {},
   "outputs": [
    {
     "name": "stderr",
     "output_type": "stream",
     "text": [
      "/local/divyas/.conda/envs/ipv/lib/python3.9/site-packages/IPython/core/interactiveshell.py:3165: DtypeWarning: Columns (6,8) have mixed types.Specify dtype option on import or set low_memory=False.\n",
      "  has_raised = await self.run_ast_nodes(code_ast.body, cell_name,\n"
     ]
    },
    {
     "data": {
      "text/html": [
       "<div>\n",
       "<style scoped>\n",
       "    .dataframe tbody tr th:only-of-type {\n",
       "        vertical-align: middle;\n",
       "    }\n",
       "\n",
       "    .dataframe tbody tr th {\n",
       "        vertical-align: top;\n",
       "    }\n",
       "\n",
       "    .dataframe thead th {\n",
       "        text-align: right;\n",
       "    }\n",
       "</style>\n",
       "<table border=\"1\" class=\"dataframe\">\n",
       "  <thead>\n",
       "    <tr style=\"text-align: right;\">\n",
       "      <th></th>\n",
       "      <th>subject_id</th>\n",
       "      <th>hadm_id</th>\n",
       "      <th>stay_id</th>\n",
       "      <th>charttime</th>\n",
       "      <th>storetime</th>\n",
       "      <th>itemid</th>\n",
       "      <th>value</th>\n",
       "      <th>valuenum</th>\n",
       "      <th>valueuom</th>\n",
       "      <th>warning</th>\n",
       "    </tr>\n",
       "  </thead>\n",
       "  <tbody>\n",
       "    <tr>\n",
       "      <th>12809109</th>\n",
       "      <td>10004235</td>\n",
       "      <td>24181354</td>\n",
       "      <td>34100191</td>\n",
       "      <td>2196-02-24 14:39:00</td>\n",
       "      <td>2196-02-28 18:02:00</td>\n",
       "      <td>226707</td>\n",
       "      <td>72</td>\n",
       "      <td>72.0</td>\n",
       "      <td>Inch</td>\n",
       "      <td>0</td>\n",
       "    </tr>\n",
       "    <tr>\n",
       "      <th>12809113</th>\n",
       "      <td>10004720</td>\n",
       "      <td>22081550</td>\n",
       "      <td>35009126</td>\n",
       "      <td>2186-11-12 18:02:00</td>\n",
       "      <td>2186-11-13 04:24:00</td>\n",
       "      <td>226707</td>\n",
       "      <td>72</td>\n",
       "      <td>72.0</td>\n",
       "      <td>Inch</td>\n",
       "      <td>0</td>\n",
       "    </tr>\n",
       "    <tr>\n",
       "      <th>12809116</th>\n",
       "      <td>10005348</td>\n",
       "      <td>25239799</td>\n",
       "      <td>34629895</td>\n",
       "      <td>2130-10-27 12:06:00</td>\n",
       "      <td>2130-10-27 16:58:00</td>\n",
       "      <td>226707</td>\n",
       "      <td>73</td>\n",
       "      <td>73.0</td>\n",
       "      <td>Inch</td>\n",
       "      <td>0</td>\n",
       "    </tr>\n",
       "    <tr>\n",
       "      <th>12809119</th>\n",
       "      <td>10006580</td>\n",
       "      <td>24159665</td>\n",
       "      <td>38329661</td>\n",
       "      <td>2137-08-10 16:23:00</td>\n",
       "      <td>2137-08-10 16:59:00</td>\n",
       "      <td>226707</td>\n",
       "      <td>58</td>\n",
       "      <td>58.0</td>\n",
       "      <td>Inch</td>\n",
       "      <td>0</td>\n",
       "    </tr>\n",
       "    <tr>\n",
       "      <th>12809122</th>\n",
       "      <td>10007677</td>\n",
       "      <td>27180483</td>\n",
       "      <td>34992648</td>\n",
       "      <td>2120-11-16 22:36:00</td>\n",
       "      <td>2120-11-17 00:10:00</td>\n",
       "      <td>226707</td>\n",
       "      <td>60</td>\n",
       "      <td>60.0</td>\n",
       "      <td>Inch</td>\n",
       "      <td>0</td>\n",
       "    </tr>\n",
       "    <tr>\n",
       "      <th>...</th>\n",
       "      <td>...</td>\n",
       "      <td>...</td>\n",
       "      <td>...</td>\n",
       "      <td>...</td>\n",
       "      <td>...</td>\n",
       "      <td>...</td>\n",
       "      <td>...</td>\n",
       "      <td>...</td>\n",
       "      <td>...</td>\n",
       "      <td>...</td>\n",
       "    </tr>\n",
       "    <tr>\n",
       "      <th>300297605</th>\n",
       "      <td>19985885</td>\n",
       "      <td>24999390</td>\n",
       "      <td>34175243</td>\n",
       "      <td>2176-09-04 14:52:00</td>\n",
       "      <td>2176-09-05 07:04:00</td>\n",
       "      <td>226707</td>\n",
       "      <td>60</td>\n",
       "      <td>60.0</td>\n",
       "      <td>Inch</td>\n",
       "      <td>0</td>\n",
       "    </tr>\n",
       "    <tr>\n",
       "      <th>300297608</th>\n",
       "      <td>19987238</td>\n",
       "      <td>29437526</td>\n",
       "      <td>32221591</td>\n",
       "      <td>2164-12-17 20:56:00</td>\n",
       "      <td>2164-12-17 21:24:00</td>\n",
       "      <td>226707</td>\n",
       "      <td>68</td>\n",
       "      <td>68.0</td>\n",
       "      <td>Inch</td>\n",
       "      <td>0</td>\n",
       "    </tr>\n",
       "    <tr>\n",
       "      <th>300297611</th>\n",
       "      <td>19990427</td>\n",
       "      <td>29695607</td>\n",
       "      <td>34058245</td>\n",
       "      <td>2182-01-14 04:16:00</td>\n",
       "      <td>2182-01-14 10:37:00</td>\n",
       "      <td>226707</td>\n",
       "      <td>65</td>\n",
       "      <td>65.0</td>\n",
       "      <td>Inch</td>\n",
       "      <td>0</td>\n",
       "    </tr>\n",
       "    <tr>\n",
       "      <th>300297618</th>\n",
       "      <td>19997448</td>\n",
       "      <td>23560173</td>\n",
       "      <td>33380030</td>\n",
       "      <td>2122-07-23 10:35:00</td>\n",
       "      <td>2122-07-23 11:20:00</td>\n",
       "      <td>226707</td>\n",
       "      <td>63</td>\n",
       "      <td>63.0</td>\n",
       "      <td>Inch</td>\n",
       "      <td>0</td>\n",
       "    </tr>\n",
       "    <tr>\n",
       "      <th>300297621</th>\n",
       "      <td>19999068</td>\n",
       "      <td>21606769</td>\n",
       "      <td>30143796</td>\n",
       "      <td>2161-08-24 04:11:00</td>\n",
       "      <td>2161-08-26 12:28:00</td>\n",
       "      <td>226707</td>\n",
       "      <td>67</td>\n",
       "      <td>67.0</td>\n",
       "      <td>Inch</td>\n",
       "      <td>0</td>\n",
       "    </tr>\n",
       "  </tbody>\n",
       "</table>\n",
       "<p>35410 rows × 10 columns</p>\n",
       "</div>"
      ],
      "text/plain": [
       "           subject_id   hadm_id   stay_id            charttime            storetime  itemid value  valuenum valueuom  warning\n",
       "12809109     10004235  24181354  34100191  2196-02-24 14:39:00  2196-02-28 18:02:00  226707    72      72.0     Inch        0\n",
       "12809113     10004720  22081550  35009126  2186-11-12 18:02:00  2186-11-13 04:24:00  226707    72      72.0     Inch        0\n",
       "12809116     10005348  25239799  34629895  2130-10-27 12:06:00  2130-10-27 16:58:00  226707    73      73.0     Inch        0\n",
       "12809119     10006580  24159665  38329661  2137-08-10 16:23:00  2137-08-10 16:59:00  226707    58      58.0     Inch        0\n",
       "12809122     10007677  27180483  34992648  2120-11-16 22:36:00  2120-11-17 00:10:00  226707    60      60.0     Inch        0\n",
       "...               ...       ...       ...                  ...                  ...     ...   ...       ...      ...      ...\n",
       "300297605    19985885  24999390  34175243  2176-09-04 14:52:00  2176-09-05 07:04:00  226707    60      60.0     Inch        0\n",
       "300297608    19987238  29437526  32221591  2164-12-17 20:56:00  2164-12-17 21:24:00  226707    68      68.0     Inch        0\n",
       "300297611    19990427  29695607  34058245  2182-01-14 04:16:00  2182-01-14 10:37:00  226707    65      65.0     Inch        0\n",
       "300297618    19997448  23560173  33380030  2122-07-23 10:35:00  2122-07-23 11:20:00  226707    63      63.0     Inch        0\n",
       "300297621    19999068  21606769  30143796  2161-08-24 04:11:00  2161-08-26 12:28:00  226707    67      67.0     Inch        0\n",
       "\n",
       "[35410 rows x 10 columns]"
      ]
     },
     "execution_count": 51,
     "metadata": {},
     "output_type": "execute_result"
    }
   ],
   "source": [
    "from mimic_paths import items_path, chart_events_path\n",
    "items = pd.read_csv(items_path)\n",
    "chart_events = pd.read_csv(chart_events_path)\n"
   ]
  },
  {
   "cell_type": "code",
   "execution_count": 50,
   "id": "bb7fc089",
   "metadata": {},
   "outputs": [
    {
     "data": {
      "text/html": [
       "<div>\n",
       "<style scoped>\n",
       "    .dataframe tbody tr th:only-of-type {\n",
       "        vertical-align: middle;\n",
       "    }\n",
       "\n",
       "    .dataframe tbody tr th {\n",
       "        vertical-align: top;\n",
       "    }\n",
       "\n",
       "    .dataframe thead th {\n",
       "        text-align: right;\n",
       "    }\n",
       "</style>\n",
       "<table border=\"1\" class=\"dataframe\">\n",
       "  <thead>\n",
       "    <tr style=\"text-align: right;\">\n",
       "      <th></th>\n",
       "      <th>itemid</th>\n",
       "      <th>label</th>\n",
       "      <th>abbreviation</th>\n",
       "      <th>linksto</th>\n",
       "      <th>category</th>\n",
       "      <th>unitname</th>\n",
       "      <th>param_type</th>\n",
       "      <th>lownormalvalue</th>\n",
       "      <th>highnormalvalue</th>\n",
       "    </tr>\n",
       "  </thead>\n",
       "  <tbody>\n",
       "    <tr>\n",
       "      <th>1527</th>\n",
       "      <td>226707</td>\n",
       "      <td>Height</td>\n",
       "      <td>Height</td>\n",
       "      <td>chartevents</td>\n",
       "      <td>General</td>\n",
       "      <td>Inch</td>\n",
       "      <td>Numeric</td>\n",
       "      <td>NaN</td>\n",
       "      <td>NaN</td>\n",
       "    </tr>\n",
       "    <tr>\n",
       "      <th>1531</th>\n",
       "      <td>226730</td>\n",
       "      <td>Height (cm)</td>\n",
       "      <td>Height (cm)</td>\n",
       "      <td>chartevents</td>\n",
       "      <td>General</td>\n",
       "      <td>cm</td>\n",
       "      <td>Numeric</td>\n",
       "      <td>NaN</td>\n",
       "      <td>NaN</td>\n",
       "    </tr>\n",
       "  </tbody>\n",
       "</table>\n",
       "</div>"
      ],
      "text/plain": [
       "      itemid        label abbreviation      linksto category unitname param_type  lownormalvalue  highnormalvalue\n",
       "1527  226707       Height       Height  chartevents  General     Inch    Numeric             NaN              NaN\n",
       "1531  226730  Height (cm)  Height (cm)  chartevents  General       cm    Numeric             NaN              NaN"
      ]
     },
     "execution_count": 50,
     "metadata": {},
     "output_type": "execute_result"
    }
   ],
   "source": [
    "items[items['label'].str.contains('Height')]"
   ]
  },
  {
   "cell_type": "code",
   "execution_count": null,
   "id": "de600f0f",
   "metadata": {},
   "outputs": [],
   "source": [
    "chart_events[chart_events['itemid'] == 226707]"
   ]
  },
  {
   "cell_type": "markdown",
   "id": "e2a53964",
   "metadata": {},
   "source": [
    "# Filter out children"
   ]
  },
  {
   "cell_type": "code",
   "execution_count": 3,
   "id": "7b7af6f1",
   "metadata": {},
   "outputs": [],
   "source": [
    "admissions = pd.read_csv(admissions_path)\n",
    "patients = pd.read_csv(patients_path)\n",
    "\n",
    "sid_gender_map = dict(zip(patients.subject_id, patients.gender))\n",
    "sid_age_map = dict(zip(patients.subject_id, patients.anchor_age))\n",
    "sid_ethnicity_map = dict(zip(admissions.subject_id, admissions.ethnicity))\n",
    "hadm_id_to_subject_id = dict(zip(diagnoses.hadm_id, diagnoses.subject_id))\n",
    "\n",
    "diagnoses['anchor_age'] = diagnoses['subject_id'].map(sid_age_map)\n",
    "diagnoses['ethnicity'] = diagnoses['subject_id'].map(sid_ethnicity_map)\n"
   ]
  },
  {
   "cell_type": "code",
   "execution_count": 4,
   "id": "eb6e383e",
   "metadata": {},
   "outputs": [
    {
     "name": "stdout",
     "output_type": "stream",
     "text": [
      "# of ICD codes that appear > 10 times:  5544\n"
     ]
    }
   ],
   "source": [
    "with open('./valid_codes.ob', 'rb') as fp:\n",
    "    code_list = pickle.load(fp)\n",
    "print(\"# of ICD codes that appear > 10 times: \", len(code_list))"
   ]
  },
  {
   "cell_type": "code",
   "execution_count": 5,
   "id": "9dbd9d4c",
   "metadata": {},
   "outputs": [
    {
     "name": "stdout",
     "output_type": "stream",
     "text": [
      "# of Patients:  192278\n",
      "# of Individual Stays:  455905\n",
      "# of Unique ICD Codes:  5544\n"
     ]
    }
   ],
   "source": [
    "# We treat each stay as a different patient, since our analysis is not longitudinal.\n",
    "diagnoses = diagnoses[diagnoses['anchor_age'] > 18]\n",
    "diagnoses = diagnoses[diagnoses['icd_code'].isin(code_list)]\n",
    "\n",
    "all_hadm_ids = sorted(list(set(diagnoses['hadm_id'])))\n",
    "all_icd_codes = sorted(list(set(diagnoses['icd_code'])))\n",
    "all_subject_ids = [hadm_id_to_subject_id[hadm_id] for hadm_id in all_hadm_ids]\n",
    "\n",
    "code_to_index = {c: i for i,c in enumerate(all_icd_codes)}\n",
    "hadm_id_to_index = {hadm_id: i for i, hadm_id in enumerate(all_hadm_ids)}\n",
    "\n",
    "print(\"# of Patients: \", len(set(diagnoses['subject_id'])))\n",
    "print(\"# of Individual Stays: \", len(set(diagnoses['hadm_id'])))\n",
    "print(\"# of Unique ICD Codes: \", len(all_icd_codes))"
   ]
  },
  {
   "cell_type": "markdown",
   "id": "7910dc78",
   "metadata": {},
   "source": [
    "# Identify symptoms more common in white patients vs. black patients"
   ]
  },
  {
   "cell_type": "code",
   "execution_count": 6,
   "id": "2c7ca676",
   "metadata": {},
   "outputs": [],
   "source": [
    "key='icd_code'\n",
    "id_type = 'hadm_id'\n",
    "n_occurrence_threshold = 50\n",
    "white_patient_ids = set(list(diagnoses[diagnoses['ethnicity'] == 'WHITE'][id_type]))\n",
    "black_patient_ids = set(list(diagnoses[diagnoses['ethnicity'] == 'BLACK/AFRICAN AMERICAN'][id_type]))\n",
    "\n",
    "white_patient_d = diagnoses.loc[diagnoses[id_type].map(lambda x:x in white_patient_ids), key]    \n",
    "white_patient_value_counts = pd.DataFrame(white_patient_d.value_counts())\n",
    "white_patient_value_counts['proportion_rows_white'] = white_patient_value_counts[key] / len(white_patient_ids)\n",
    "white_patient_value_counts = white_patient_value_counts[white_patient_value_counts['icd_code'] > n_occurrence_threshold]\n",
    "\n",
    "black_patient_d = diagnoses.loc[diagnoses[id_type].map(lambda x:x in black_patient_ids), key]\n",
    "black_patient_value_counts = pd.DataFrame(black_patient_d.value_counts())\n",
    "black_patient_value_counts['proportion_rows_black'] = black_patient_value_counts[key] / len(black_patient_ids)\n",
    "black_patient_value_counts = black_patient_value_counts[black_patient_value_counts['icd_code'] > n_occurrence_threshold]\n",
    "\n",
    "jj = pd.merge(white_patient_value_counts, black_patient_value_counts, left_index=True, right_index=True)\n",
    "jj['relative_proportion'] = jj['proportion_rows_white']/jj['proportion_rows_black']\n",
    "# sorted_by_rel_proportion = jj.sort_values('relative_proportion', ascending=False)\n",
    "sorted_by_rel_proportion = pd.merge(jj, english_names[['icd_code', 'long_title']], \n",
    "                                    left_index=True, right_on='icd_code')\n",
    "sorted_by_rel_proportion = sorted_by_rel_proportion.groupby('icd_code').first().reset_index()\n",
    "sorted_by_rel_proportion = sorted_by_rel_proportion.sort_values('relative_proportion', ascending=False)\n",
    "suspicious_symptoms_ICD_codes = list(sorted_by_rel_proportion['icd_code'])\n",
    "suspicious_symptoms_ICD_codes = suspicious_symptoms_ICD_codes[:10]\n"
   ]
  },
  {
   "cell_type": "code",
   "execution_count": 9,
   "id": "5bd733c6",
   "metadata": {},
   "outputs": [
    {
     "data": {
      "text/plain": [
       "(305380, 72979)"
      ]
     },
     "execution_count": 9,
     "metadata": {},
     "output_type": "execute_result"
    }
   ],
   "source": [
    "len(white_patient_ids), len(black_patient_ids)"
   ]
  },
  {
   "cell_type": "markdown",
   "id": "2723fcbe",
   "metadata": {},
   "source": [
    "## Symptoms most common in white patients"
   ]
  },
  {
   "cell_type": "code",
   "execution_count": 7,
   "id": "54a438fe",
   "metadata": {},
   "outputs": [
    {
     "data": {
      "text/html": [
       "<div>\n",
       "<style scoped>\n",
       "    .dataframe tbody tr th:only-of-type {\n",
       "        vertical-align: middle;\n",
       "    }\n",
       "\n",
       "    .dataframe tbody tr th {\n",
       "        vertical-align: top;\n",
       "    }\n",
       "\n",
       "    .dataframe thead th {\n",
       "        text-align: right;\n",
       "    }\n",
       "</style>\n",
       "<table border=\"1\" class=\"dataframe\">\n",
       "  <thead>\n",
       "    <tr style=\"text-align: right;\">\n",
       "      <th></th>\n",
       "      <th>icd_code</th>\n",
       "      <th>relative_proportion</th>\n",
       "      <th>long_title</th>\n",
       "    </tr>\n",
       "  </thead>\n",
       "  <tbody>\n",
       "    <tr>\n",
       "      <th>1537</th>\n",
       "      <td>V422</td>\n",
       "      <td>5.651119</td>\n",
       "      <td>Heart valve replaced by transplant</td>\n",
       "    </tr>\n",
       "    <tr>\n",
       "      <th>1210</th>\n",
       "      <td>K2270</td>\n",
       "      <td>5.465508</td>\n",
       "      <td>Barrett's esophagus without dysplasia</td>\n",
       "    </tr>\n",
       "    <tr>\n",
       "      <th>1499</th>\n",
       "      <td>V1051</td>\n",
       "      <td>5.324422</td>\n",
       "      <td>Personal history of malignant neoplasm of bladder</td>\n",
       "    </tr>\n",
       "    <tr>\n",
       "      <th>457</th>\n",
       "      <td>53085</td>\n",
       "      <td>4.319394</td>\n",
       "      <td>Barrett's esophagus</td>\n",
       "    </tr>\n",
       "    <tr>\n",
       "      <th>66</th>\n",
       "      <td>20410</td>\n",
       "      <td>4.108578</td>\n",
       "      <td>Chronic lymphoid leukemia, without mention of having achieved remission</td>\n",
       "    </tr>\n",
       "    <tr>\n",
       "      <th>320</th>\n",
       "      <td>41402</td>\n",
       "      <td>3.939277</td>\n",
       "      <td>Coronary atherosclerosis of autologous vein bypass graft</td>\n",
       "    </tr>\n",
       "    <tr>\n",
       "      <th>755</th>\n",
       "      <td>8730</td>\n",
       "      <td>3.736324</td>\n",
       "      <td>Open wound of scalp, without mention of complication</td>\n",
       "    </tr>\n",
       "    <tr>\n",
       "      <th>1560</th>\n",
       "      <td>V4581</td>\n",
       "      <td>3.644409</td>\n",
       "      <td>Aortocoronary bypass status</td>\n",
       "    </tr>\n",
       "    <tr>\n",
       "      <th>479</th>\n",
       "      <td>5569</td>\n",
       "      <td>3.610953</td>\n",
       "      <td>Ulcerative colitis, unspecified</td>\n",
       "    </tr>\n",
       "    <tr>\n",
       "      <th>365</th>\n",
       "      <td>43310</td>\n",
       "      <td>3.546028</td>\n",
       "      <td>Occlusion and stenosis of carotid artery without mention of cerebral infarction</td>\n",
       "    </tr>\n",
       "  </tbody>\n",
       "</table>\n",
       "</div>"
      ],
      "text/plain": [
       "     icd_code  relative_proportion                                                                       long_title\n",
       "1537     V422             5.651119                                               Heart valve replaced by transplant\n",
       "1210    K2270             5.465508                                            Barrett's esophagus without dysplasia\n",
       "1499    V1051             5.324422                                Personal history of malignant neoplasm of bladder\n",
       "457     53085             4.319394                                                              Barrett's esophagus\n",
       "66      20410             4.108578          Chronic lymphoid leukemia, without mention of having achieved remission\n",
       "320     41402             3.939277                         Coronary atherosclerosis of autologous vein bypass graft\n",
       "755      8730             3.736324                             Open wound of scalp, without mention of complication\n",
       "1560    V4581             3.644409                                                      Aortocoronary bypass status\n",
       "479      5569             3.610953                                                  Ulcerative colitis, unspecified\n",
       "365     43310             3.546028  Occlusion and stenosis of carotid artery without mention of cerebral infarction"
      ]
     },
     "execution_count": 7,
     "metadata": {},
     "output_type": "execute_result"
    }
   ],
   "source": [
    "sorted_by_rel_proportion[['icd_code', 'relative_proportion', 'long_title']][:10]"
   ]
  },
  {
   "cell_type": "markdown",
   "id": "55ea9460",
   "metadata": {},
   "source": [
    "## Symptoms most common in Black patients"
   ]
  },
  {
   "cell_type": "code",
   "execution_count": 8,
   "id": "766bcc5a",
   "metadata": {},
   "outputs": [
    {
     "data": {
      "text/html": [
       "<div>\n",
       "<style scoped>\n",
       "    .dataframe tbody tr th:only-of-type {\n",
       "        vertical-align: middle;\n",
       "    }\n",
       "\n",
       "    .dataframe tbody tr th {\n",
       "        vertical-align: top;\n",
       "    }\n",
       "\n",
       "    .dataframe thead th {\n",
       "        text-align: right;\n",
       "    }\n",
       "</style>\n",
       "<table border=\"1\" class=\"dataframe\">\n",
       "  <thead>\n",
       "    <tr style=\"text-align: right;\">\n",
       "      <th></th>\n",
       "      <th>icd_code</th>\n",
       "      <th>relative_proportion</th>\n",
       "      <th>long_title</th>\n",
       "    </tr>\n",
       "  </thead>\n",
       "  <tbody>\n",
       "    <tr>\n",
       "      <th>567</th>\n",
       "      <td>64663</td>\n",
       "      <td>0.177526</td>\n",
       "      <td>Infections of genitourinary tract in pregnancy, antepartum condition or comp...</td>\n",
       "    </tr>\n",
       "    <tr>\n",
       "      <th>568</th>\n",
       "      <td>64823</td>\n",
       "      <td>0.168974</td>\n",
       "      <td>Anemia of mother, antepartum condition or complication</td>\n",
       "    </tr>\n",
       "    <tr>\n",
       "      <th>840</th>\n",
       "      <td>D251</td>\n",
       "      <td>0.164458</td>\n",
       "      <td>Intramural leiomyoma of uterus</td>\n",
       "    </tr>\n",
       "    <tr>\n",
       "      <th>70</th>\n",
       "      <td>2181</td>\n",
       "      <td>0.163670</td>\n",
       "      <td>Intramural leiomyoma of uterus</td>\n",
       "    </tr>\n",
       "    <tr>\n",
       "      <th>1355</th>\n",
       "      <td>N920</td>\n",
       "      <td>0.158649</td>\n",
       "      <td>Excessive and frequent menstruation with regular cycle</td>\n",
       "    </tr>\n",
       "    <tr>\n",
       "      <th>841</th>\n",
       "      <td>D259</td>\n",
       "      <td>0.155629</td>\n",
       "      <td>Leiomyoma of uterus, unspecified</td>\n",
       "    </tr>\n",
       "    <tr>\n",
       "      <th>69</th>\n",
       "      <td>2180</td>\n",
       "      <td>0.154461</td>\n",
       "      <td>Submucous leiomyoma of uterus</td>\n",
       "    </tr>\n",
       "    <tr>\n",
       "      <th>1272</th>\n",
       "      <td>L732</td>\n",
       "      <td>0.134006</td>\n",
       "      <td>Hidradenitis suppurativa</td>\n",
       "    </tr>\n",
       "    <tr>\n",
       "      <th>526</th>\n",
       "      <td>58281</td>\n",
       "      <td>0.114202</td>\n",
       "      <td>Chronic glomerulonephritis in diseases classified elsewhere</td>\n",
       "    </tr>\n",
       "    <tr>\n",
       "      <th>306</th>\n",
       "      <td>40301</td>\n",
       "      <td>0.076360</td>\n",
       "      <td>Hypertensive chronic kidney disease, malignant, with chronic kidney disease ...</td>\n",
       "    </tr>\n",
       "  </tbody>\n",
       "</table>\n",
       "</div>"
      ],
      "text/plain": [
       "     icd_code  relative_proportion                                                                       long_title\n",
       "567     64663             0.177526  Infections of genitourinary tract in pregnancy, antepartum condition or comp...\n",
       "568     64823             0.168974                           Anemia of mother, antepartum condition or complication\n",
       "840      D251             0.164458                                                   Intramural leiomyoma of uterus\n",
       "70       2181             0.163670                                                   Intramural leiomyoma of uterus\n",
       "1355     N920             0.158649                           Excessive and frequent menstruation with regular cycle\n",
       "841      D259             0.155629                                                 Leiomyoma of uterus, unspecified\n",
       "69       2180             0.154461                                                    Submucous leiomyoma of uterus\n",
       "1272     L732             0.134006                                                         Hidradenitis suppurativa\n",
       "526     58281             0.114202                      Chronic glomerulonephritis in diseases classified elsewhere\n",
       "306     40301             0.076360  Hypertensive chronic kidney disease, malignant, with chronic kidney disease ..."
      ]
     },
     "execution_count": 8,
     "metadata": {},
     "output_type": "execute_result"
    }
   ],
   "source": [
    "sorted_by_rel_proportion[['icd_code', 'relative_proportion', 'long_title']][-10:]"
   ]
  },
  {
   "cell_type": "markdown",
   "id": "55783e08",
   "metadata": {},
   "source": [
    "# Create one-hot encoded features"
   ]
  },
  {
   "cell_type": "code",
   "execution_count": 13,
   "id": "efca5f35",
   "metadata": {},
   "outputs": [],
   "source": [
    "one_hot = pd.get_dummies(diagnoses['icd_code'], sparse=True)\n",
    "hadm_one_hot = pd.concat([diagnoses['hadm_id'], one_hot], axis=1)"
   ]
  },
  {
   "cell_type": "code",
   "execution_count": 14,
   "id": "0355d399",
   "metadata": {},
   "outputs": [],
   "source": [
    "diagnoses['icd_code_idx'] = diagnoses['icd_code'].map(code_to_index)\n",
    "diagnoses['hadm_id_idx'] = diagnoses['hadm_id'].map(hadm_id_to_index)"
   ]
  },
  {
   "cell_type": "code",
   "execution_count": 15,
   "id": "b3c8f68f",
   "metadata": {},
   "outputs": [],
   "source": [
    "# Write out one-hot features in coordinate format (helpful since matrix is very sparse)\n",
    "row_coords = np.array(diagnoses['hadm_id_idx'])\n",
    "col_coords = np.array(diagnoses['icd_code_idx'])\n",
    "vals = np.ones(len(col_coords))\n",
    "\n",
    "n_rows = np.max(row_coords) + 1\n",
    "n_cols = np.max(col_coords) + 1\n",
    "\n",
    "# Dummy feature for intercept\n",
    "intercept_row_coords = np.array(list(range(n_rows)))\n",
    "intercept_col_coords = [n_cols for i in range(n_rows)]\n",
    "intercept_vals = np.ones(n_rows)\n",
    "\n",
    "# Combine features & dummy feature for intercept\n",
    "row_coords = np.concatenate([row_coords, intercept_row_coords])\n",
    "col_coords = np.concatenate([col_coords, intercept_col_coords])\n",
    "vals = np.concatenate([vals, intercept_vals])\n",
    "\n",
    "# Create sparse matrix\n",
    "jj = coo_matrix((vals, (row_coords, col_coords)))"
   ]
  },
  {
   "cell_type": "code",
   "execution_count": 16,
   "id": "4ed64073",
   "metadata": {
    "scrolled": true
   },
   "outputs": [],
   "source": [
    "# Choose suspicious ICD codes\n",
    "sus_icd_code_idxs = []\n",
    "for c in suspicious_symptoms_ICD_codes:\n",
    "    if c in code_to_index: \n",
    "        sus_icd_code_idxs.append(code_to_index[c])\n",
    "\n",
    "classifier_weights = np.zeros(len(all_icd_codes) + 1)\n",
    "classifier_weights[sus_icd_code_idxs] = 4\n",
    "classifier_weights = np.expand_dims(classifier_weights, 1)\n",
    "classifier_weights[-1] = -3"
   ]
  },
  {
   "cell_type": "code",
   "execution_count": 17,
   "id": "800ba052",
   "metadata": {},
   "outputs": [
    {
     "name": "stdout",
     "output_type": "stream",
     "text": [
      "Range of # of symptoms:  13.0 -3.0\n",
      "# Suspicious:  26611\n",
      "# Patients with 0 Suspicious Symptoms:  429294\n",
      "# Patients with 1 Suspicious Symptoms:  24469\n",
      "# Patients with 2 Suspicious Symptoms:  2025\n",
      "# Patients with 3 Suspicious Symptoms:  114\n",
      "# Patients with 4 Suspicious Symptoms:  3\n",
      "# Total:  455905\n",
      "Positive probabilities:  [0.04742587317756678, 0.7310585786300049, 0.9933071490757153, 0.9998766054240137, 0.999997739675702]\n"
     ]
    }
   ],
   "source": [
    "# Count number of suspicious patients \n",
    "kk = jj.dot(classifier_weights)\n",
    "min_symptoms_val = np.min(kk)\n",
    "max_symptoms_val = np.max(kk)\n",
    "r = (kk > min_symptoms_val).astype(int)\n",
    "print(\"Range of # of symptoms: \", max_symptoms_val, min_symptoms_val)\n",
    "print(\"# Suspicious: \", len(np.where(kk > min_symptoms_val)[0]))\n",
    "print(\"# Patients with 0 Suspicious Symptoms: \", len(np.where(kk == min_symptoms_val)[0]))\n",
    "print(\"# Patients with 1 Suspicious Symptoms: \", len(np.where(kk == min_symptoms_val +4)[0]))\n",
    "print(\"# Patients with 2 Suspicious Symptoms: \", len(np.where(kk == min_symptoms_val +8)[0]))\n",
    "print(\"# Patients with 3 Suspicious Symptoms: \", len(np.where(kk == min_symptoms_val +12)[0]))\n",
    "print(\"# Patients with 4 Suspicious Symptoms: \", len(np.where(kk == min_symptoms_val +16)[0]))\n",
    "\n",
    "print(\"# Total: \", len(kk))\n",
    "\n",
    "# Transform into p(y) given fixed decision rule\n",
    "p_y = 1/(1 + np.exp(- kk))\n",
    "print(\"Positive probabilities: \", sorted(list(set(np.squeeze(p_y)))))\n"
   ]
  },
  {
   "cell_type": "code",
   "execution_count": 20,
   "id": "e8fdc9cc",
   "metadata": {},
   "outputs": [
    {
     "data": {
      "text/plain": [
       "(455905, 5545)"
      ]
     },
     "execution_count": 20,
     "metadata": {},
     "output_type": "execute_result"
    }
   ],
   "source": [
    "test.shape"
   ]
  },
  {
   "cell_type": "code",
   "execution_count": 19,
   "id": "43bc947a",
   "metadata": {},
   "outputs": [],
   "source": [
    "test = jj.todense()"
   ]
  },
  {
   "cell_type": "code",
   "execution_count": null,
   "id": "ab98c57e",
   "metadata": {},
   "outputs": [],
   "source": [
    "# Generate 5 splits of data, regenerating y each time based on p_y\n",
    "data_dir = \"../data/semisynthetic/high_rp/\"\n",
    "n_splits = 5\n",
    "\n",
    "for split_num in range(n_splits):\n",
    "    y = (np.random.random(p_y.shape) < p_y).astype(int)\n",
    "    split_dir = data_dir + str(split_num) + '/'\n",
    "    if not os.path.exists(split_dir):\n",
    "        os.makedirs(split_dir)\n",
    "    \n",
    "    np.savetxt(split_dir + 'feat_names', all_icd_codes, fmt=\"%s\")\n",
    "    np.savetxt(split_dir + 'row_names', all_hadm_ids)\n",
    "    np.savetxt(split_dir + 'subject_ids', all_subject_ids)\n",
    "    np.savetxt(split_dir + 'suspicious_labels', r)\n",
    "    np.savetxt(split_dir + 'positive_labels', y)\n",
    "    np.savetxt(split_dir + 'p_y', p_y)\n",
    "    np.savetxt(split_dir + 'true_clf_weights', classifier_weights)\n",
    "    save_npz(split_dir + 'vals.npz', jj)"
   ]
  },
  {
   "cell_type": "code",
   "execution_count": 74,
   "id": "c3d4316d",
   "metadata": {},
   "outputs": [],
   "source": [
    "from scipy.sparse import load_npz\n",
    "\n",
    "test = load_npz(split_dir + 'vals.npz').todense()"
   ]
  },
  {
   "cell_type": "code",
   "execution_count": 81,
   "id": "74e22153",
   "metadata": {},
   "outputs": [
    {
     "data": {
      "text/plain": [
       "(array([1.60347e+05, 1.27265e+05, 8.61760e+04, 5.22600e+04, 1.80200e+04,\n",
       "        7.63100e+03, 3.88900e+03, 3.15000e+02, 0.00000e+00, 2.00000e+00]),\n",
       " array([ 2. ,  7.3, 12.6, 17.9, 23.2, 28.5, 33.8, 39.1, 44.4, 49.7, 55. ]),\n",
       " <BarContainer object of 10 artists>)"
      ]
     },
     "execution_count": 81,
     "metadata": {},
     "output_type": "execute_result"
    },
    {
     "data": {
      "image/png": "[encoded data removed]",
      "text/plain": [
       "<Figure size 432x288 with 1 Axes>"
      ]
     },
     "metadata": {
      "needs_background": "light"
     },
     "output_type": "display_data"
    }
   ],
   "source": [
    "import matplotlib.pyplot as plt\n",
    "plt.hist(np.sum(test, axis=1))"
   ]
  },
  {
   "cell_type": "code",
   "execution_count": null,
   "id": "6efa943b",
   "metadata": {},
   "outputs": [],
   "source": []
  }
 ],
 "metadata": {
  "kernelspec": {
   "display_name": "Python 3",
   "language": "python",
   "name": "python3"
  },
  "language_info": {
   "codemirror_mode": {
    "name": "ipython",
    "version": 3
   },
   "file_extension": ".py",
   "mimetype": "text/x-python",
   "name": "python",
   "nbconvert_exporter": "python",
   "pygments_lexer": "ipython3",
   "version": "3.9.6"
  }
 },
 "nbformat": 4,
 "nbformat_minor": 5
}
