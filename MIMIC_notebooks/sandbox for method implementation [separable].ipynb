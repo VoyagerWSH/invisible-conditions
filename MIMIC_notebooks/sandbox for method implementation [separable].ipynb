{
 "cells": [
  {
   "cell_type": "code",
   "execution_count": 2,
   "id": "629b0c2d",
   "metadata": {},
   "outputs": [],
   "source": [
    "import torch\n",
    "from torch import nn\n",
    "\n",
    "import numpy as np\n",
    "import matplotlib.pyplot as plt\n",
    "from sklearn.model_selection import train_test_split"
   ]
  },
  {
   "cell_type": "markdown",
   "id": "84efbc23",
   "metadata": {},
   "source": [
    "# Method"
   ]
  },
  {
   "cell_type": "code",
   "execution_count": 3,
   "id": "cb9a9c0b",
   "metadata": {},
   "outputs": [],
   "source": [
    "class RelativeEstimator(nn.Module):\n",
    "    def __init__(self, n_groups, n_attributes):\n",
    "        super().__init__()\n",
    "        self.n_groups = n_groups\n",
    "        self.n_attributes =  n_attributes\n",
    "        self.c_g_coeffs = nn.Parameter(torch.randn((n_groups, 1), requires_grad=True, dtype=torch.float))\n",
    "        #self.c_g_coeffs = []\n",
    "        self.real_c_g_coeffs = []\n",
    "        self.real_c_g_coeffs = torch.Tensor([[.5], [.75]]).cuda()\n",
    "        self.p_y_coeffs = nn.Parameter(torch.randn((n_attributes, 1), requires_grad=True, dtype=torch.float))\n",
    "        self.p_y_bias = nn.Parameter(torch.randn((n_attributes, 1), requires_grad=True, dtype=torch.float))\n",
    "        \n",
    "        self.sigmoid = nn.Sigmoid()\n",
    "\n",
    "    def forward(self, x):\n",
    "        # x : a N x (n_groups + n_features) matrix, where the first \n",
    "        # n_groups features is a one-hot encoding of the patient's group\n",
    "        # and the subsequent n_features features are the patient's attributes\n",
    "        \n",
    "        group_features = x[:,:self.n_groups]\n",
    "        class_attributes = x[:,self.n_groups:]\n",
    "        if not len(self.real_c_g_coeffs):\n",
    "            c_pred = self.sigmoid(torch.mm(group_features,self.c_g_coeffs))\n",
    "        else:\n",
    "            c_pred = torch.mm(group_features, self.real_c_g_coeffs)\n",
    "        p_y_pred = self.sigmoid(torch.mm(class_attributes,self.p_y_coeffs) + self.p_y_bias)\n",
    "        return c_pred * p_y_pred\n",
    "    \n",
    "    def estimate_ratio(self, g1_attributes, g2_attributes):\n",
    "        # find indices for g2 \n",
    "        n_g1 = len(g1_attributes)\n",
    "        n_g2 = len(g2_attributes)\n",
    "        print(g1_attributes.shape, g2_attributes.shape)\n",
    "        p_y_g1 = self.sigmoid(torch.mm(g1_attributes, self.p_y_coeffs) + self.p_y_bias)\n",
    "        p_y_g2 = self.sigmoid(torch.mm(g2_attributes, self.p_y_coeffs) + self.p_y_bias)\n",
    "        # sum and divide by \n",
    "        print(torch.sum(p_y_g1)/n_g1)\n",
    "        print(torch.sum(p_y_g2)/n_g2)\n",
    "        relative_prevalence = (torch.sum(p_y_g1)/n_g1) / (torch.sum(p_y_g2)/n_g2)\n",
    "        return relative_prevalence\n",
    "    \n",
    "    def get_c_g(self):\n",
    "        if not len(self.real_c_g_coeffs):\n",
    "            c_pred = self.sigmoid(self.c_g_coeffs)\n",
    "            return c_pred\n",
    "        return self.real_c_g_coeffs"
   ]
  },
  {
   "cell_type": "markdown",
   "id": "972a4aeb",
   "metadata": {},
   "source": [
    "# Covariate Shift"
   ]
  },
  {
   "cell_type": "code",
   "execution_count": 4,
   "id": "d97dfe5e",
   "metadata": {},
   "outputs": [
    {
     "data": {
      "image/png": "[encoded data removed]",
      "text/plain": [
       "<Figure size 432x288 with 1 Axes>"
      ]
     },
     "metadata": {
      "needs_background": "light"
     },
     "output_type": "display_data"
    }
   ],
   "source": [
    "# univariate; different groups have different means, but the same decision rule\n",
    "# for starters, we're assuming c1 = c2\n",
    "n_groups = 2\n",
    "n_attributes = 1\n",
    "n_to_sample = 400000\n",
    "\n",
    "g1_mean = 0\n",
    "g2_mean = 3\n",
    "std = 2\n",
    "thresh = -.5\n",
    "epsilon = .5\n",
    "c1 = .75\n",
    "c2 = .5\n",
    "\n",
    "# simulate population 1 attributes & labels\n",
    "g1_attributes = np.expand_dims(np.random.normal(g1_mean, std, n_to_sample), axis=1)\n",
    "y1 = (g1_attributes < thresh).astype(int)\n",
    "y1_pos_idxs = np.where(y1 == 1)[0]\n",
    "s1 = np.zeros(y1.shape)\n",
    "labeled_idxs = np.random.choice(y1_pos_idxs, int(len(y1_pos_idxs)*c1), replace=False)\n",
    "s1[labeled_idxs] = 1\n",
    "\n",
    "# simulate population 2 attributes & labels\n",
    "g2_attributes = np.expand_dims(np.random.normal(g2_mean, std, n_to_sample), axis=1)\n",
    "y2 = (g2_attributes < thresh).astype(int)\n",
    "y2_pos_idxs = np.where(y2 == 1)[0]\n",
    "s2 = np.zeros(y2.shape)\n",
    "labeled_idxs = np.random.choice(y2_pos_idxs, int(len(y2_pos_idxs)*c2), replace=False)\n",
    "s2[labeled_idxs] = 1\n",
    "\n",
    "# plot both populations\n",
    "binrange = (-4, 10)\n",
    "plt.hist(g1_attributes, alpha=.5, range=binrange, label='group 1', color='purple')\n",
    "plt.hist(g2_attributes, alpha=.5, range=binrange, label='group 2', color='green')\n",
    "plt.legend()\n",
    "\n",
    "# concatenate with group features\n",
    "x1_features = np.concatenate((np.zeros((n_to_sample, n_groups)), g1_attributes), axis=1)\n",
    "x2_features = np.concatenate((np.zeros((n_to_sample, n_groups)), g2_attributes), axis=1)\n",
    "x1_features[:,0] = 1\n",
    "x2_features[:,1] = 1\n",
    "\n",
    "x = np.concatenate([x1_features, x2_features])\n",
    "y = np.concatenate([y1, y2])\n",
    "s = np.concatenate([s1, s2])\n",
    "\n",
    "y = np.squeeze(y, axis=1)\n",
    "s = np.squeeze(s, axis=1)\n",
    "\n",
    "# Create more separation\n",
    "greater_than = x[:,2] > (thresh - epsilon)\n",
    "less_than = x[:,2] < (thresh + epsilon)\n",
    "drop_idxs = np.array([a and b for a,b in zip(greater_than, less_than)])\n",
    "\n",
    "x = x[~drop_idxs,:]\n",
    "y = y[~drop_idxs]\n",
    "s = s[~drop_idxs]"
   ]
  },
  {
   "cell_type": "code",
   "execution_count": 5,
   "id": "6db809e3",
   "metadata": {},
   "outputs": [],
   "source": [
    "# Create more separation\n",
    "greater_than = x[:,2] > (thresh - epsilon)\n",
    "less_than = x[:,2] < (thresh + epsilon)\n",
    "drop_idxs = np.array([a and b for a,b in zip(greater_than, less_than)])\n",
    "\n",
    "x = x[~drop_idxs,:]\n",
    "y = y[~drop_idxs]\n",
    "s = s[~drop_idxs]"
   ]
  },
  {
   "cell_type": "code",
   "execution_count": 6,
   "id": "349b86b9",
   "metadata": {},
   "outputs": [
    {
     "data": {
      "text/plain": [
       "<matplotlib.legend.Legend at 0x7f31170b3550>"
      ]
     },
     "execution_count": 6,
     "metadata": {},
     "output_type": "execute_result"
    },
    {
     "data": {
      "image/png": "[encoded data removed]",
      "text/plain": [
       "<Figure size 432x288 with 1 Axes>"
      ]
     },
     "metadata": {
      "needs_background": "light"
     },
     "output_type": "display_data"
    }
   ],
   "source": [
    "# Plot the decision rule and true labels\n",
    "plt.hist(x[y==1,2], label= 'positive')\n",
    "plt.hist(x[y!=1,2], label = 'negative')\n",
    "plt.legend()"
   ]
  },
  {
   "cell_type": "code",
   "execution_count": 545,
   "id": "e6b10f4d",
   "metadata": {},
   "outputs": [
    {
     "data": {
      "text/plain": [
       "<matplotlib.legend.Legend at 0x7f790e55f050>"
      ]
     },
     "execution_count": 545,
     "metadata": {},
     "output_type": "execute_result"
    },
    {
     "data": {
      "image/png": "[encoded data removed]",
      "text/plain": [
       "<Figure size 432x288 with 1 Axes>"
      ]
     },
     "metadata": {
      "needs_background": "light"
     },
     "output_type": "display_data"
    }
   ],
   "source": [
    "# Plot the decision rule and observed labels\n",
    "plt.hist(x[s==1,2], label= 'positive', alpha=.5, range=(-10, 10), bins=20)\n",
    "plt.hist(x[s!=1,2], label = 'unlabeled', alpha=.5, range=(-10, 10), bins=20)\n",
    "plt.legend()"
   ]
  },
  {
   "cell_type": "markdown",
   "id": "6a2a15d2",
   "metadata": {},
   "source": [
    "# Evaluation"
   ]
  },
  {
   "cell_type": "code",
   "execution_count": 539,
   "id": "637d68bf",
   "metadata": {},
   "outputs": [],
   "source": [
    "# Split into train and test data\n",
    "x_train, x_test, y_train, y_test, s_train, s_test = train_test_split(x, y, s, test_size=.2, \n",
    "                                                                     random_state=42, shuffle=True, stratify=y)\n"
   ]
  },
  {
   "cell_type": "code",
   "execution_count": 540,
   "id": "4f35e241",
   "metadata": {},
   "outputs": [],
   "source": [
    "# train model\n",
    "model = RelativeEstimator(n_groups, n_attributes)\n",
    "optimizer = torch.optim.SGD(model.parameters(), lr=.1, momentum=.9, weight_decay=1e-4)\n",
    "criterion = torch.nn.BCELoss()\n",
    "model.cuda('cuda:0')\n",
    "criterion.cuda('cuda:0')\n",
    "model.train()\n",
    "\n",
    "n_epochs = 7000\n",
    "losses = []\n",
    "x_tensor = torch.Tensor(x_train)\n",
    "x_tensor = x_tensor.cuda()\n",
    "\n",
    "for epoch in range(n_epochs):\n",
    "    s_pred = model(x_tensor)\n",
    "    loss = criterion(torch.squeeze(s_pred), torch.Tensor(s_train).cuda())\n",
    "    \n",
    "    #  Calculate accuracy\n",
    "    \n",
    "    losses.append(loss.item())\n",
    "    \n",
    "    optimizer.zero_grad()\n",
    "    loss.backward()\n",
    "    optimizer.step()  "
   ]
  },
  {
   "cell_type": "code",
   "execution_count": 541,
   "id": "9bef9847",
   "metadata": {},
   "outputs": [
    {
     "data": {
      "text/plain": [
       "Text(0, 0.5, 'BCE')"
      ]
     },
     "execution_count": 541,
     "metadata": {},
     "output_type": "execute_result"
    },
    {
     "data": {
      "image/png": "[encoded data removed]",
      "text/plain": [
       "<Figure size 432x288 with 1 Axes>"
      ]
     },
     "metadata": {
      "needs_background": "light"
     },
     "output_type": "display_data"
    }
   ],
   "source": [
    "# visualize losses\n",
    "plt.plot(list(range(n_epochs)), losses)\n",
    "plt.title(\"Loss\")\n",
    "plt.xlabel(\"Epochs\")\n",
    "plt.ylabel(\"BCE\")"
   ]
  },
  {
   "cell_type": "code",
   "execution_count": 542,
   "id": "64759c52",
   "metadata": {},
   "outputs": [
    {
     "name": "stdout",
     "output_type": "stream",
     "text": [
      "torch.Size([318, 1]) torch.Size([390, 1])\n",
      "tensor(0.3834, device='cuda:0', grad_fn=<DivBackward0>)\n",
      "tensor(0.0262, device='cuda:0', grad_fn=<DivBackward0>)\n",
      "0.3836477987421384 0.02564102564102564\n",
      "Estimate of Relative Prevalence:  14.645550727844238\n",
      "True Relative Prevalence:  14.962264150943398\n",
      "Group Labeling Frequencies:  [0.5  0.75]\n"
     ]
    }
   ],
   "source": [
    "g1_test_attributes = x_test[np.where(x_test[:,0] == 1)[0], 2]\n",
    "g2_test_attributes = x_test[np.where(x_test[:,1] == 1)[0], 2]\n",
    "\n",
    "g1_test_attributes = np.expand_dims(g1_test_attributes, 1)\n",
    "g2_test_attributes = np.expand_dims(g2_test_attributes, 1)\n",
    "\n",
    "y1_test = y_test[np.where(x_test[:,0] == 1)[0]]\n",
    "y2_test = y_test[np.where(x_test[:,1] == 1)[0]]\n",
    "\n",
    "g1_test_attributes = torch.Tensor(g1_test_attributes).cuda()\n",
    "g2_test_attributes = torch.Tensor(g2_test_attributes).cuda()\n",
    "ratio_estimate = model.estimate_ratio(g1_test_attributes, g2_test_attributes).item()\n",
    "print(np.mean(y1_test), np.mean(y2_test))\n",
    "print(\"Estimate of Relative Prevalence: \", ratio_estimate)\n",
    "print(\"True Relative Prevalence: \", np.mean(y1_test)/np.mean(y2_test))\n",
    "print(\"Group Labeling Frequencies: \", model.get_c_g().detach().cpu().numpy()[:,0])"
   ]
  },
  {
   "cell_type": "markdown",
   "id": "00a2e82a",
   "metadata": {},
   "source": [
    "# Debugging"
   ]
  },
  {
   "cell_type": "code",
   "execution_count": 543,
   "id": "6cfdb72b",
   "metadata": {},
   "outputs": [
    {
     "data": {
      "text/plain": [
       "(array([576.,   0.,   0.,   0.,   0.,   0., 122.,   0.,   0.,  10.]),\n",
       " array([1.5299301e-26, 7.4997745e-02, 1.4999549e-01, 2.2499324e-01,\n",
       "        2.9999098e-01, 3.7498873e-01, 4.4998649e-01, 5.2498424e-01,\n",
       "        5.9998196e-01, 6.7497975e-01, 7.4997747e-01], dtype=float32),\n",
       " <BarContainer object of 10 artists>)"
      ]
     },
     "execution_count": 543,
     "metadata": {},
     "output_type": "execute_result"
    },
    {
     "data": {
      "image/png": "[encoded data removed]",
      "text/plain": [
       "<Figure size 432x288 with 1 Axes>"
      ]
     },
     "metadata": {
      "needs_background": "light"
     },
     "output_type": "display_data"
    }
   ],
   "source": [
    "# How accurate is the model on g1 examples\n",
    "# How accurate is model on g2 examples (aka what is throwing the ratio off)\n",
    "from sklearn.metrics import roc_auc_score\n",
    "\n",
    "x_test_tensor = torch.Tensor(x_test).cuda()\n",
    "y_pred = model(x_test_tensor).detach().cpu().numpy()\n",
    "plt.hist(y_pred)"
   ]
  },
  {
   "cell_type": "markdown",
   "id": "709f6875",
   "metadata": {},
   "source": [
    "# Label shift assumption - p(y) changes"
   ]
  },
  {
   "cell_type": "code",
   "execution_count": null,
   "id": "ffe9804f",
   "metadata": {},
   "outputs": [],
   "source": [
    "# each group has the same mean, but different distributions over x \n",
    "# same decision rule\n",
    "\n"
   ]
  }
 ],
 "metadata": {
  "kernelspec": {
   "display_name": "Python 3",
   "language": "python",
   "name": "python3"
  },
  "language_info": {
   "codemirror_mode": {
    "name": "ipython",
    "version": 3
   },
   "file_extension": ".py",
   "mimetype": "text/x-python",
   "name": "python",
   "nbconvert_exporter": "python",
   "pygments_lexer": "ipython3",
   "version": "3.9.6"
  }
 },
 "nbformat": 4,
 "nbformat_minor": 5
}
