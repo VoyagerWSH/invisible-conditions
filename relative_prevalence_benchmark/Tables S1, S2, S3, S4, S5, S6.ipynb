{
 "cells": [
  {
   "cell_type": "code",
   "execution_count": 3,
   "id": "204de07c",
   "metadata": {},
   "outputs": [
    {
     "name": "stdout",
     "output_type": "stream",
     "text": [
      "Using GPU:1\n"
     ]
    }
   ],
   "source": [
    "%load_ext autoreload\n",
    "%autoreload 2\n",
    "import sys\n",
    "import numpy as np\n",
    "import pandas as pd\n",
    "import seaborn as sns\n",
    "import matplotlib.pyplot as plt\n",
    "np.random.seed(42)\n",
    "sns.set_style('white')\n",
    "sys.path.insert(0, '../')\n",
    "sys.path.insert(0, '../MIMIC_notebooks/')\n",
    "pd.options.mode.chained_assignment = None\n",
    "\n",
    "from gpu_utils import restrict_GPU_pytorch\n",
    "from mimic_helper_fs import get_icd_code_long_title\n",
    "from fig_helpers import add_metrics_to_df, adjust_box_widths\n",
    "from km.Kernel_MPE_grad_threshold import wrapper as ramaswamy\n",
    "restrict_GPU_pytorch('1')\n",
    "\n",
    "orig = sns.color_palette('colorblind')\n",
    "method_colors = [orig[2], orig[0], orig[1], orig[3], orig[4]]\n",
    "method_colors = ['#4daf4a', '#e41a1c', '#377eb8', '#ff7f00', '#984ea3']\n",
    "hue_order = ['supervised', 'negative', 'scar-km2', 'sar-em', 'ours']\n",
    "plotted_methods = ['supervised', 'negative', 'scar-km2', 'sar-em', 'ours']\n",
    "method_name_dict = {\"supervised\": \"Supervised\", \"negative\": \"Negative\", \"scar-c\": \"SCAR-C\",\n",
    "                    'scar-km2': 'KM2', \"sar-em\": \"EM\", \"ours\": \"PURPLE\"}\n",
    "val_loss_key = 'auprc'"
   ]
  },
  {
   "cell_type": "code",
   "execution_count": 5,
   "id": "8706d774",
   "metadata": {},
   "outputs": [
    {
     "name": "stderr",
     "output_type": "stream",
     "text": [
      "<ipython-input-5-dfd5ab4de262>:38: UserWarning: FixedFormatter should only be used together with FixedLocator\n",
      "  axs[i].set_yticklabels([\"\", \"\",  \"0.5x\", \"1.0x\", \"2.0x\"])\n",
      "<ipython-input-5-dfd5ab4de262>:38: UserWarning: FixedFormatter should only be used together with FixedLocator\n",
      "  axs[i].set_yticklabels([\"\", \"\",  \"0.5x\", \"1.0x\", \"2.0x\"])\n"
     ]
    },
    {
     "data": {
      "image/png": "[encoded data removed]",
      "text/plain": [
       "<Figure size 576x288 with 2 Axes>"
      ]
     },
     "metadata": {},
     "output_type": "display_data"
    }
   ],
   "source": [
    "separability_1d_results_df = pd.concat([pd.read_csv('results/separability_scar-km2_results_1d'),\n",
    "                            pd.read_csv('results/separability_ours_results_1d'),\n",
    "                            pd.read_csv('results/separability_supervised_results_1d'),\n",
    "                            pd.read_csv('results/separability_sar-em_results_1d'),\n",
    "                            pd.read_csv('results/separability_negative_results_1d')])\n",
    "separability_1d_results_df = add_metrics_to_df(separability_1d_results_df)\n",
    "from matplotlib import ticker\n",
    "import matplotlib.patches as mpatches\n",
    "\n",
    "fig, axs = plt.subplots(1, 2, figsize=(8, 4), sharey=True)\n",
    "modes = ['separable', 'overlap']\n",
    "for i, mode in enumerate(modes):\n",
    "    \n",
    "    our_results = separability_1d_results_df[separability_1d_results_df['method'] == 'ours']\n",
    "    other_results = separability_1d_results_df[separability_1d_results_df['method'] != 'ours']\n",
    "    our_results = our_results.sort_values([val_loss_key], ascending=False).groupby(['labeling_frequency_g2', 'run', 'separability_assumption']).head(1)\n",
    "    expmt_results = pd.concat([our_results, other_results])\n",
    "    expmt_results = expmt_results[expmt_results['separability_assumption'] == mode]\n",
    "    \n",
    "    g = sns.boxplot(x='method', y='rel_prior_err_pct', \n",
    "                     data=expmt_results, \n",
    "                     order=plotted_methods, ax=axs[i], zorder=2)\n",
    "    axs[i].set_xlabel(\"Separability\")\n",
    "    axs[i].axhline(y=1.0, color='black', linestyle='--', zorder=1,\n",
    "                   linewidth=1)\n",
    "    if i == 0:\n",
    "        axs[i].set_ylabel(\"Ratio of Predicted Relative Prevalence \\n to True Relative Prevalence\")\n",
    "    else:\n",
    "        axs[i].set_ylabel(\"\")\n",
    "    for j,box in enumerate(axs[i].artists):\n",
    "        color = method_colors[j]\n",
    "        box.set_edgecolor(color)\n",
    "        box.set_facecolor('white')\n",
    "        for k in range(6*j,6*(j+1)):\n",
    "             axs[i].lines[k].set_color(color)\n",
    "    g.set_yscale('log', base=2)\n",
    "    axs[i].set_ylim([.45, 2.0])\n",
    "    axs[i].set_yticklabels([\"\", \"\",  \"0.5x\", \"1.0x\", \"2.0x\"])\n",
    "\n",
    "# Make legend\n",
    "patches = []\n",
    "for method_name, method_color in zip(plotted_methods, method_colors):\n",
    "    patches.append(mpatches.Patch(color=method_color, label=method_name))\n",
    "labels = [method_name_dict[m] for m in plotted_methods]\n",
    "axs[0].legend(handles = patches, labels = labels,loc = 'lower right')\n",
    "plt.tight_layout()"
   ]
  },
  {
   "cell_type": "markdown",
   "id": "7396963c",
   "metadata": {},
   "source": [
    "# Symptom Lists"
   ]
  },
  {
   "cell_type": "code",
   "execution_count": 13,
   "id": "a7419564",
   "metadata": {},
   "outputs": [],
   "source": [
    "# Endometriosis ICD codes + suspicious symptoms\n",
    "from mimic_paths import hosp_diagnoses_path, english_names_path\n",
    "english_names = pd.read_csv(english_names_path)\n",
    "corr_path = \"../data/semisynthetic/corr/endometriosis/0/\"\n",
    "high_rp_path = \"../data/semisynthetic/high_rp/0/\"\n",
    "ipv_path = \"../data/semisynthetic/ipv/0/\"\n",
    "random_path = \"../data/semisynthetic/random/1/\"\n",
    "real_ipv_path = \"../data/real_true_labels/hospital/\" + \"ipv\" + \"/0/\"\n",
    "def get_suspicious_code_names(f_path, english_names):\n",
    "    feat_names = np.loadtxt(f_path + 'feat_names', dtype='str')\n",
    "    true_clf_weights = np.loadtxt(f_path + 'true_clf_weights')\n",
    "    codes = [feat_names[i] for i in np.where(true_clf_weights > 0)[0]]\n",
    "    titles = []\n",
    "    code_title_pairs = []\n",
    "    for code in codes:\n",
    "        title = get_icd_code_long_title(english_names, code)\n",
    "        code_title_pairs.append((code, title))\n",
    "    return code_title_pairs\n",
    "\n",
    "random_code_title_pairs = get_suspicious_code_names(random_path, english_names)\n",
    "ipv_code_title_pairs = get_suspicious_code_names(ipv_path, english_names)\n",
    "corr_code_title_pairs = get_suspicious_code_names(corr_path, english_names)\n",
    "high_rp_code_title_pairs = get_suspicious_code_names(high_rp_path, english_names)\n"
   ]
  },
  {
   "cell_type": "code",
   "execution_count": 5,
   "id": "9d74b9cc",
   "metadata": {},
   "outputs": [
    {
     "name": "stdout",
     "output_type": "stream",
     "text": [
      "\\begin{tabular}{ll}\n",
      "\\toprule\n",
      "ICD Code &                               ICD Code Description \\\\\n",
      "\\midrule\n",
      "    2724 &               Other and unspecified hyperlipidemia \\\\\n",
      "    2859 &                                Anemia, unspecified \\\\\n",
      "   30000 &                         Anxiety state, unspecified \\\\\n",
      "     412 &                          Old myocardial infarction \\\\\n",
      "   41401 &  Coronary atherosclerosis of native coronary ar... \\\\\n",
      "   42731 &                                Atrial fibrillation \\\\\n",
      "     496 &  Chronic airway obstruction, not elsewhere clas... \\\\\n",
      "    5849 &                  Acute kidney failure, unspecified \\\\\n",
      "    E039 &                        Hypothyroidism, unspecified \\\\\n",
      "    E669 &                               Obesity, unspecified \\\\\n",
      "    F419 &                      Anxiety disorder, unspecified \\\\\n",
      "     I10 &                   Essential (primary) hypertension \\\\\n",
      "   I4891 &                    Unspecified atrial fibrillation \\\\\n",
      "    N179 &                  Acute kidney failure, unspecified \\\\\n",
      "   V5861 &          Long-term (current) use of anticoagulants \\\\\n",
      "   V5866 &                 Long-term (current) use of aspirin \\\\\n",
      "    Y929 &                Unspecified place or not applicable \\\\\n",
      "   Z7901 &          Long term (current) use of anticoagulants \\\\\n",
      "    Z794 &                 Long term (current) use of insulin \\\\\n",
      "\\bottomrule\n",
      "\\end{tabular}\n",
      "\n"
     ]
    }
   ],
   "source": [
    "#  Table S1\n",
    "random_symptoms_df = pd.DataFrame(random_code_title_pairs, columns=['ICD Code', 'ICD Code Description'])\n",
    "print(random_symptoms_df.to_latex(escape=False,  index=False,))"
   ]
  },
  {
   "cell_type": "code",
   "execution_count": null,
   "id": "96f1f6fb",
   "metadata": {},
   "outputs": [],
   "source": [
    "# Table S2\n",
    "high_rp_symptoms_df = pd.DataFrame(high_rp_code_title_pairs, columns=['ICD Code', 'ICD Code Description'])\n",
    "print(high_rp_symptoms_df.to_latex(escape=False,  index=False,))"
   ]
  },
  {
   "cell_type": "code",
   "execution_count": null,
   "id": "308bd1a3",
   "metadata": {},
   "outputs": [],
   "source": [
    "# Table S3\n",
    "endo_disease_codes = ['N80','N800','N801','N802', 'N803', 'N804',\n",
    "                      'N805', 'N806', 'N808', 'N809', '6179']\n",
    "endo_disease_df = []\n",
    "for code in endo_disease_codes:\n",
    "    title = get_icd_code_long_title(english_names, code)\n",
    "    endo_disease_df.append((code, title))\n",
    "endo_disease_df = pd.DataFrame(endo_disease_df, columns=['ICD Code', 'ICD Code Description'])\n",
    "print(endo_disease_df.to_latex(escape=False, index=False))"
   ]
  },
  {
   "cell_type": "code",
   "execution_count": 45,
   "id": "e4276b33",
   "metadata": {},
   "outputs": [
    {
     "name": "stdout",
     "output_type": "stream",
     "text": [
      "\\begin{tabular}{ll}\n",
      "\\toprule\n",
      "ICD Code &                               ICD Code Description \\\\\n",
      "\\midrule\n",
      "   33819 &                                   Other acute pain \\\\\n",
      "    5951 &                      Chronic interstitial cystitis \\\\\n",
      "    6205 & Torsion of ovary, ovarian pedicle, or fallopian... \\\\\n",
      "    6260 &                            Absence of menstruation \\\\\n",
      "   78902 &                Abdominal pain, left upper quadrant \\\\\n",
      "   78904 &                Abdominal pain, left lower quadrant \\\\\n",
      "   78905 &                        Abdominal pain, periumbilic \\\\\n",
      "    7891 &                                       Hepatomegaly \\\\\n",
      "    C561 &                  Malignant neoplasm of right ovary \\\\\n",
      "    D251 &                     Intramural leiomyoma of uterus \\\\\n",
      "    D252 &                     Subserosal leiomyoma of uterus \\\\\n",
      "    D259 &                   Leiomyoma of uterus, unspecified \\\\\n",
      "    D270 &                     Benign neoplasm of right ovary \\\\\n",
      "     E43 &    Unspecified severe protein-calorie malnutrition \\\\\n",
      "    F911 &             Conduct disorder, childhood-onset type \\\\\n",
      "   G8921 &                         Chronic pain due to trauma \\\\\n",
      "    K661 &                                     Hemoperitoneum \\\\\n",
      "   N3941 &                                  Urge incontinence \\\\\n",
      "    N739 &    Female pelvic inflammatory disease, unspecified \\\\\n",
      "    N952 &                  Postmenopausal atrophic vaginitis \\\\\n",
      "    O210 &                        Mild hyperemesis gravidarum \\\\\n",
      "   O2341 & Unspecified infection of urinary tract in pregn... \\\\\n",
      "  O26891 & Other specified pregnancy related conditions, f... \\\\\n",
      "    Q600 &                         Renal agenesis, unilateral \\\\\n",
      "   R1310 &                             Dysphagia, unspecified \\\\\n",
      "\\bottomrule\n",
      "\\end{tabular}\n",
      "\n"
     ]
    }
   ],
   "source": [
    "# Table S4\n",
    "corr_symptoms_df = pd.DataFrame(corr_code_title_pairs, columns=['ICD Code', 'ICD Code Description'])\n",
    "print(corr_symptoms_df.to_latex(escape=False,  index=False,))"
   ]
  },
  {
   "cell_type": "code",
   "execution_count": 47,
   "id": "f10c9c39",
   "metadata": {},
   "outputs": [
    {
     "name": "stdout",
     "output_type": "stream",
     "text": [
      "\\begin{tabular}{ll}\n",
      "\\toprule\n",
      "ICD Code &                               ICD Code Description \\\\\n",
      "\\midrule\n",
      "    7842 &           Swelling, mass, or lump in head and neck \\\\\n",
      "    9100 & Abrasion or friction burn of face, neck, and sc... \\\\\n",
      "     920 &   Contusion of face, scalp, and neck except eye(s) \\\\\n",
      "   95901 &                           Head injury, unspecified \\\\\n",
      " S0003XA &              Contusion of scalp, initial encounter \\\\\n",
      " S0011XA & Contusion of right eyelid and periocular area, ... \\\\\n",
      " S0012XA & Contusion of left eyelid and periocular area, i... \\\\\n",
      " S0990XA &      Unspecified injury of head, initial encounter \\\\\n",
      "\\bottomrule\n",
      "\\end{tabular}\n",
      "\n"
     ]
    }
   ],
   "source": [
    "#  Table S5\n",
    "ipv_symptoms_df = pd.DataFrame(ipv_code_title_pairs, columns=['ICD Code', 'ICD Code Description'])\n",
    "print(ipv_symptoms_df.to_latex(escape=False,  index=False,))"
   ]
  },
  {
   "cell_type": "code",
   "execution_count": 10,
   "id": "32a71fa3",
   "metadata": {},
   "outputs": [
    {
     "name": "stdout",
     "output_type": "stream",
     "text": [
      "\\begin{tabular}{ll}\n",
      "\\toprule\n",
      "ICD Code &                               ICD Code Description \\\\\n",
      "\\midrule\n",
      "   20410 &  Chronic lymphoid leukemia, without mention of ... \\\\\n",
      "   41402 &  Coronary atherosclerosis of autologous vein by... \\\\\n",
      "   43310 &  Occlusion and stenosis of carotid artery witho... \\\\\n",
      "   53085 &                                Barrett's esophagus \\\\\n",
      "    5569 &                    Ulcerative colitis, unspecified \\\\\n",
      "    8730 &  Open wound of scalp, without mention of compli... \\\\\n",
      "   K2270 &              Barrett's esophagus without dysplasia \\\\\n",
      "   V1051 &  Personal history of malignant neoplasm of bladder \\\\\n",
      "    V422 &                 Heart valve replaced by transplant \\\\\n",
      "   V4581 &                        Aortocoronary bypass status \\\\\n",
      "\\bottomrule\n",
      "\\end{tabular}\n",
      "\n"
     ]
    }
   ],
   "source": [
    "# Table S6\n",
    "\n",
    "# You would think this would work since it works for the other experiments - not true!\n",
    "# It doesn't work because the feature space *excludes* any ICD codes used to identify positive cases.\n",
    "# This means feat_names doesn't actually correspond to the classifier weights, so this function\n",
    "# doesn't work. Leaving here in case anyone wonders.\n",
    "# real_ipv_code_title_pairs = get_suspicious_code_names(real_ipv_path, english_names)\n",
    "# real_ipv_symptoms_df = pd.DataFrame(real_ipv_code_title_pairs, columns=['ICD Code', 'ICD Code Description'])\n",
    "# print(real_ipv_symptoms_df.to_latex(escape=False,  index=False,))\n",
    "\n",
    "codes = ['E9672','E9673','E9671','E9670','E9679','V6111',\n",
    " '99581','99585','T7411XA','T7411XD','T7411XS','99580','T7611','T7611XA','T7611XD','T7611XS',\n",
    "         'T7611XA', 'T7611XD','T7611XS','Y070','Y0701','Y0702','Y0703','Y0704','Y079']\n",
    "code_title_pairs = []\n",
    "for code in codes:\n",
    "    title = get_icd_code_long_title(english_names, code)\n",
    "    code_title_pairs.append((code, title))\n",
    "real_ipv_symptoms_df = pd.DataFrame(code_title_pairs, columns=['ICD Code', 'ICD Code Description'])\n",
    "print(real_ipv_symptoms_df.to_latex(escape=False,  index=False,))"
   ]
  },
  {
   "cell_type": "markdown",
   "id": "1538ae32",
   "metadata": {},
   "source": [
    "# Table versions of synthetic & semisynthetic graphs."
   ]
  },
  {
   "cell_type": "code",
   "execution_count": 48,
   "id": "5c246c95",
   "metadata": {},
   "outputs": [],
   "source": [
    "col_name_dict = {\"supervised\": \"Supervised\", \"negative\": \"Negative\", \"scar-c\": \"SCAR-C\",\n",
    "                    'scar-km2': 'KM2', \"sar-em\": \"EM\", \"ours\": \"PURPLE\"}\n",
    "\n",
    "val_loss_key = 'auprc'\n",
    "group_gap_results_df = pd.concat([pd.read_csv('results/group_gap_supervised_results'),\n",
    "                            pd.read_csv('results/group_gap_ours_results'),\n",
    "                            pd.read_csv('results/group_gap_scar-km2_results'),\n",
    "                            pd.read_csv('results/group_gap_sar-em_results'),\n",
    "                            pd.read_csv('results/group_gap_negative_results')])\n",
    "\n",
    "label_freq_results_df = pd.concat([pd.read_csv('results/label_freq_scar-km2_results'),\n",
    "                            pd.read_csv('results/label_freq_ours_results'),\n",
    "                            pd.read_csv('results/label_freq_supervised_results'),\n",
    "                            pd.read_csv('results/label_freq_sar-em_results'),\n",
    "                            pd.read_csv('results/label_freq_negative_results')])\n",
    "\n",
    "separability_results_df = pd.concat([pd.read_csv('results/separability_scar-km2_results'),\n",
    "                            pd.read_csv('results/separability_ours_results'),\n",
    "                            pd.read_csv('results/separability_supervised_results'),\n",
    "                            pd.read_csv('results/separability_sar-em_results'),\n",
    "                            pd.read_csv('results/separability_negative_results')])\n",
    "\n",
    "ipv_our_results = pd.read_csv('results/ipv_ours_semisimulated_results')\n",
    "ipv_our_results = ipv_our_results.sort_values([val_loss_key], ascending=False).groupby(['labeling_frequency_g2', 'run']).head(1)\n",
    "ipv_results_df = pd.concat([pd.read_csv('results/ipv_sar-em_semisimulated_results'),\n",
    "                        pd.read_csv('results/ipv_supervised_semisimulated_results'),\n",
    "                        pd.read_csv('results/ipv_cdmm_semisimulated_results'),\n",
    "                        pd.read_csv('results/ipv_scar-km2_semisimulated_results'),\n",
    "                        pd.read_csv('results/ipv_negative_semisimulated_results'),\n",
    "                        ipv_our_results], ignore_index=True)\n",
    "\n",
    "random_our_results = pd.read_csv('random_ours_semisimulated_results')\n",
    "random_our_results = random_our_results.sort_values([val_loss_key], ascending=False).groupby(['labeling_frequency_g2', 'run']).head(1)\n",
    "random_results_df = pd.concat([pd.read_csv('results/random_supervised_semisimulated_results'),\n",
    "                        pd.read_csv('results/random_scar-km2_semisimulated_results'),\n",
    "                        pd.read_csv('results/random_sar-em_semisimulated_results'),\n",
    "                        random_our_results,\n",
    "                        pd.read_csv('results/random_negative_semisimulated_results')], ignore_index=True)\n",
    "\n",
    "corr_our_results = pd.read_csv('results/corr4_ours_semisimulated_results')\n",
    "corr_our_results = our_results.sort_values([val_loss_key], ascending=False).groupby(['labeling_frequency_g2', 'run']).head(1)\n",
    "corr_results_df = pd.concat([pd.read_csv('results/corr4_supervised_semisimulated_results'),\n",
    "                        pd.read_csv('results/corr4_scar-km2_semisimulated_results'),\n",
    "                        pd.read_csv('results/corr4_sar-em_semisimulated_results'),\n",
    "                        corr_our_results,\n",
    "                        pd.read_csv('results/corr4_negative_semisimulated_results')], \n",
    "                        ignore_index=True)\n",
    "\n",
    "def produce_mean_std_df(results_df,  expmt_key, expmt_col_name):\n",
    "    means = results_df.groupby(['method', expmt_key]).mean().reset_index()\n",
    "    stds =  results_df.groupby(['method', expmt_key]).std().reset_index()\n",
    "    means['pred_rel_prior_std'] = stds['pred_rel_prior'].round(2).map('{:.2f}'.format)\n",
    "    means['pred_rel_prior_mean'] = means['pred_rel_prior'].round(2).map('{:.2f}'.format)\n",
    "    means['pred_rel_prior_mean_std'] = \"$\" + means['pred_rel_prior_mean'] + '±' + means['pred_rel_prior_std'] + \"$\"\n",
    "    subset = means[['method', expmt_key, 'pred_rel_prior_mean_std']]\n",
    "    subset['method_pretty_name'] = subset['method'].map(col_name_dict)\n",
    "\n",
    "    xx = subset.pivot_table(values='pred_rel_prior_mean_std', index=[expmt_key], columns='method_pretty_name', aggfunc='first')\n",
    "    xx = xx.reset_index()\n",
    "    xx[expmt_col_name] = xx[expmt_key]\n",
    "    xx = xx[[expmt_col_name, 'Negative', 'KM2', 'EM', 'PURPLE', 'Supervised']]\n",
    "\n",
    "    table_str = xx.to_latex(escape=False, index=False )\n",
    "    table_str = table_str.replace('±','\\pm')\n",
    "    return table_str\n"
   ]
  },
  {
   "cell_type": "code",
   "execution_count": 49,
   "id": "85c7f5f7",
   "metadata": {},
   "outputs": [
    {
     "name": "stdout",
     "output_type": "stream",
     "text": [
      "\\begin{tabular}{rlllll}\n",
      "\\toprule\n",
      " Group Gap &    Negative &         KM2 &          EM &      PURPLE &  Supervised \\\\\n",
      "\\midrule\n",
      "     -2.00 & $1.40\\pm0.00$ & $1.25\\pm0.08$ & $2.40\\pm0.05$ & $1.92\\pm0.03$ & $1.89\\pm0.03$ \\\\\n",
      "     -1.00 & $1.03\\pm0.01$ & $1.17\\pm0.21$ & $1.42\\pm0.02$ & $1.32\\pm0.02$ & $1.32\\pm0.01$ \\\\\n",
      "     -0.50 & $1.04\\pm0.00$ & $1.19\\pm0.03$ & $1.18\\pm0.02$ & $1.12\\pm0.01$ & $1.15\\pm0.01$ \\\\\n",
      "     -0.25 & $1.08\\pm0.00$ & $1.06\\pm0.10$ & $1.07\\pm0.02$ & $1.05\\pm0.01$ & $1.06\\pm0.01$ \\\\\n",
      "      0.00 & $1.12\\pm0.00$ & $1.09\\pm0.11$ & $1.00\\pm0.01$ & $1.00\\pm0.00$ & $0.99\\pm0.01$ \\\\\n",
      "\\bottomrule\n",
      "\\end{tabular}\n",
      "\n"
     ]
    }
   ],
   "source": [
    "print(produce_mean_std_df(group_gap_results_df, 'group_gap', 'Group Gap'))"
   ]
  },
  {
   "cell_type": "code",
   "execution_count": 50,
   "id": "cde134e2",
   "metadata": {},
   "outputs": [
    {
     "name": "stdout",
     "output_type": "stream",
     "text": [
      "\\begin{tabular}{llllll}\n",
      "\\toprule\n",
      "Separability Setting &    Negative &         KM2 &          EM &      PURPLE &  Supervised \\\\\n",
      "\\midrule\n",
      "             overlap & $1.40\\pm0.01$ & $1.25\\pm0.07$ & $2.47\\pm0.05$ & $1.90\\pm0.03$ & $1.92\\pm0.02$ \\\\\n",
      "           separable & $1.86\\pm0.01$ & $2.22\\pm0.23$ & $3.12\\pm0.04$ & $3.11\\pm0.03$ & $3.08\\pm0.00$ \\\\\n",
      "\\bottomrule\n",
      "\\end{tabular}\n",
      "\n"
     ]
    }
   ],
   "source": [
    "separability_results_df = separability_results_df[separability_results_df['separability_assumption'].isin(['overlap', 'separable'])]\n",
    "print(produce_mean_std_df(separability_results_df, 'separability_assumption', 'Separability Setting'))"
   ]
  },
  {
   "cell_type": "code",
   "execution_count": 51,
   "id": "2c5452b6",
   "metadata": {},
   "outputs": [],
   "source": [
    "expmt_key = 'labeling_frequency_g2'\n",
    "expmt_col_name = 'c_{g_b}'\n",
    "means = corr_results_df.groupby(['method', expmt_key]).mean().reset_index()\n",
    "stds =  corr_results_df.groupby(['method', expmt_key]).std().reset_index()\n",
    "means['pred_rel_prior_std'] = stds['pred_rel_prior'].round(2).map('{:.2f}'.format)\n",
    "means['pred_rel_prior_mean'] = means['pred_rel_prior'].round(2).map('{:.2f}'.format)\n",
    "means['pred_rel_prior_mean_std'] = means['pred_rel_prior_mean'] + '±' + means['pred_rel_prior_std']\n",
    "subset = means[['method', expmt_key, 'pred_rel_prior_mean_std']]\n",
    "subset['method'] = subset['method'].map(col_name_dict)\n",
    "\n",
    "xx = subset.pivot_table(values='pred_rel_prior_mean_std', index=[expmt_key], columns='method', aggfunc='first')\n",
    "xx = xx.reset_index()\n",
    "xx[expmt_col_name] = xx[expmt_key]\n",
    "xx = xx[[expmt_col_name, 'Negative', 'KM2', 'EM', 'PURPLE', 'Supervised']]\n",
    "\n",
    "table_str = xx.to_latex(escape=False, index=False )\n",
    "table_str = table_str.replace('±','\\pm')\n"
   ]
  },
  {
   "cell_type": "code",
   "execution_count": 52,
   "id": "7d40908e",
   "metadata": {},
   "outputs": [
    {
     "name": "stdout",
     "output_type": "stream",
     "text": [
      "\\begin{tabular}{rlllll}\n",
      "\\toprule\n",
      " c_{g_b} &    Negative &         KM2 &          EM &      PURPLE &  Supervised \\\\\n",
      "\\midrule\n",
      "     0.1 & $1.37\\pm0.01$ & $1.36\\pm0.23$ & $2.30\\pm0.08$ & $1.92\\pm0.04$ & $1.89\\pm0.03$ \\\\\n",
      "     0.3 & $1.40\\pm0.02$ & $1.37\\pm0.16$ & $2.46\\pm0.07$ & $1.93\\pm0.03$ & $1.93\\pm0.03$ \\\\\n",
      "     0.5 & $1.43\\pm0.00$ & $1.43\\pm0.12$ & $2.50\\pm0.03$ & $1.93\\pm0.02$ & $1.92\\pm0.01$ \\\\\n",
      "     0.7 & $1.47\\pm0.01$ & $1.14\\pm0.05$ & $2.50\\pm0.03$ & $1.93\\pm0.03$ & $1.94\\pm0.02$ \\\\\n",
      "     0.9 & $1.51\\pm0.01$ & $1.25\\pm0.14$ & $2.50\\pm0.04$ & $1.92\\pm0.02$ & $1.94\\pm0.02$ \\\\\n",
      "\\bottomrule\n",
      "\\end{tabular}\n",
      "\n"
     ]
    }
   ],
   "source": [
    "print(produce_mean_std_df(label_freq_results_df, 'labeling_frequency_g2', 'c_{g_b}'))"
   ]
  },
  {
   "cell_type": "markdown",
   "id": "ab2ac8e0",
   "metadata": {},
   "source": [
    "# Semi-synthetic results"
   ]
  },
  {
   "cell_type": "code",
   "execution_count": 53,
   "id": "9147f8a4",
   "metadata": {},
   "outputs": [
    {
     "name": "stdout",
     "output_type": "stream",
     "text": [
      "\\begin{tabular}{rlllll}\n",
      "\\toprule\n",
      " c_{g_b} &    Negative &         KM2 &          EM &      PURPLE &  Supervised \\\\\n",
      "\\midrule\n",
      "     0.1 & $4.02\\pm0.14$ & $5.09\\pm0.77$ & $1.67\\pm0.06$ & $0.84\\pm0.01$ & $0.85\\pm0.01$ \\\\\n",
      "     0.3 & $1.33\\pm0.05$ & $1.62\\pm0.00$ & $0.91\\pm0.02$ & $0.85\\pm0.03$ & $0.85\\pm0.02$ \\\\\n",
      "     0.5 & $0.81\\pm0.03$ & $0.79\\pm0.12$ & $0.72\\pm0.01$ & $0.86\\pm0.02$ & $0.86\\pm0.02$ \\\\\n",
      "     0.7 & $0.60\\pm0.02$ & $0.51\\pm0.04$ & $0.68\\pm0.02$ & $0.85\\pm0.01$ & $0.86\\pm0.03$ \\\\\n",
      "     0.9 & $0.44\\pm0.02$ & $0.40\\pm0.03$ & $0.63\\pm0.01$ & $0.84\\pm0.01$ & $0.85\\pm0.02$ \\\\\n",
      "\\bottomrule\n",
      "\\end{tabular}\n",
      "\n"
     ]
    }
   ],
   "source": [
    "print(produce_mean_std_df(random_results_df, 'labeling_frequency_g2', 'c_{g_b}'))"
   ]
  },
  {
   "cell_type": "code",
   "execution_count": 55,
   "id": "8e246397",
   "metadata": {},
   "outputs": [
    {
     "name": "stdout",
     "output_type": "stream",
     "text": [
      "\\begin{tabular}{rlllll}\n",
      "\\toprule\n",
      " c_{g_b} &    Negative &         KM2 &          EM &      PURPLE &  Supervised \\\\\n",
      "\\midrule\n",
      "     0.1 & $5.13\\pm0.54$ & $1.00\\pm0.00$ & $2.33\\pm0.19$ &         NaN & $1.05\\pm0.03$ \\\\\n",
      "     0.3 & $1.65\\pm0.12$ & $1.00\\pm0.00$ & $1.25\\pm0.04$ & $1.89\\pm0.27$ & $1.07\\pm0.03$ \\\\\n",
      "     0.5 & $1.03\\pm0.05$ & $1.00\\pm0.00$ & $0.81\\pm0.02$ &         NaN & $1.04\\pm0.04$ \\\\\n",
      "     0.7 & $0.73\\pm0.03$ & $1.00\\pm0.00$ & $0.69\\pm0.02$ &         NaN & $1.06\\pm0.04$ \\\\\n",
      "     0.9 & $0.56\\pm0.03$ & $0.34\\pm0.00$ & $0.58\\pm0.04$ &         NaN & $1.05\\pm0.03$ \\\\\n",
      "\\bottomrule\n",
      "\\end{tabular}\n",
      "\n"
     ]
    }
   ],
   "source": [
    "print(produce_mean_std_df(corr_results_df, 'labeling_frequency_g2', 'c_{g_b}'))"
   ]
  },
  {
   "cell_type": "code",
   "execution_count": 56,
   "id": "b0d8055f",
   "metadata": {},
   "outputs": [
    {
     "name": "stdout",
     "output_type": "stream",
     "text": [
      "\\begin{tabular}{rlllll}\n",
      "\\toprule\n",
      " c_{g_b} &    Negative &         KM2 &          EM &      PURPLE &  Supervised \\\\\n",
      "\\midrule\n",
      "     0.1 & $4.73\\pm0.30$ & $1.00\\pm0.00$ & $3.25\\pm0.43$ & $0.97\\pm0.01$ & $0.94\\pm0.12$ \\\\\n",
      "     0.3 & $1.58\\pm0.06$ & $1.00\\pm0.00$ & $1.37\\pm0.48$ & $0.95\\pm0.01$ & $0.94\\pm0.07$ \\\\\n",
      "     0.5 & $0.95\\pm0.06$ & $1.00\\pm0.00$ & $0.78\\pm0.15$ & $0.95\\pm0.02$ & $0.94\\pm0.08$ \\\\\n",
      "     0.7 & $0.69\\pm0.03$ & $0.47\\pm0.29$ & $0.64\\pm0.14$ & $0.94\\pm0.01$ & $0.91\\pm0.10$ \\\\\n",
      "     0.9 & $0.51\\pm0.01$ & $0.34\\pm0.00$ & $0.50\\pm0.08$ & $0.95\\pm0.01$ & $0.92\\pm0.10$ \\\\\n",
      "\\bottomrule\n",
      "\\end{tabular}\n",
      "\n"
     ]
    }
   ],
   "source": [
    "print(produce_mean_std_df(ipv_results_df, 'labeling_frequency_g2', 'c_{g_b}'))"
   ]
  },
  {
   "cell_type": "code",
   "execution_count": null,
   "id": "ac9b3804",
   "metadata": {},
   "outputs": [],
   "source": []
  }
 ],
 "metadata": {
  "kernelspec": {
   "display_name": "Python 3",
   "language": "python",
   "name": "python3"
  },
  "language_info": {
   "codemirror_mode": {
    "name": "ipython",
    "version": 3
   },
   "file_extension": ".py",
   "mimetype": "text/x-python",
   "name": "python",
   "nbconvert_exporter": "python",
   "pygments_lexer": "ipython3",
   "version": "3.9.6"
  }
 },
 "nbformat": 4,
 "nbformat_minor": 5
}
