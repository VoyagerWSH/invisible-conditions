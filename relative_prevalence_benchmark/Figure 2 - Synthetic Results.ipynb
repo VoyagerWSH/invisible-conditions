{
 "cells": [
  {
   "cell_type": "code",
   "execution_count": 1,
   "id": "15dcd3f8",
   "metadata": {},
   "outputs": [
    {
     "name": "stdout",
     "output_type": "stream",
     "text": [
      "Using GPU:0\n"
     ]
    }
   ],
   "source": [
    "%load_ext autoreload\n",
    "%autoreload 2\n",
    "import numpy as np\n",
    "import pandas as pd\n",
    "\n",
    "import seaborn as sns\n",
    "from matplotlib import ticker\n",
    "import matplotlib.pyplot as plt\n",
    "import matplotlib.patches as mpatches\n",
    "sns.set_style('white')\n",
    "np.random.seed(42)\n",
    "\n",
    "from scipy.stats import ttest_rel\n",
    "from scipy.stats import combine_pvalues\n",
    "\n",
    "from gpu_utils import restrict_GPU_pytorch\n",
    "from fig_helpers import add_metrics_to_df, adjust_box_widths\n",
    "from paths import FIG_DIR\n",
    "restrict_GPU_pytorch('0')\n",
    "\n",
    "val_loss_key = 'auc'\n",
    "\n",
    "orig = sns.color_palette('colorblind')\n",
    "method_colors = [orig[2], orig[0], orig[1], orig[3], orig[4]]\n",
    "method_colors = ['#4daf4a', '#e41a1c', '#377eb8', '#ff7f00', '#984ea3']\n",
    "hue_order = ['supervised', 'negative', 'scar-km2', 'sar-em', 'ours']\n",
    "plotted_methods = ['supervised', 'negative', 'scar-km2', 'sar-em', 'ours']\n",
    "method_name_dict = {\"supervised\": \"Supervised\", \"negative\": \"Negative\", \"scar-c\": \"SCAR-C\",\n",
    "                    'scar-km2': 'KM2', \"sar-em\": \"EM\", \"ours\": \"PURPLE\"}\n",
    "\n",
    "SMALL_SIZE = 10\n",
    "MEDIUM_SIZE = 12\n",
    "BIGGER_SIZE = 14\n",
    "\n",
    "plt.rc('font', size=SMALL_SIZE)          # controls default text sizes\n",
    "plt.rc('axes', titlesize=BIGGER_SIZE)     # fontsize of the axes title\n",
    "plt.rc('axes', labelsize=BIGGER_SIZE)    # fontsize of the x and y labels\n",
    "plt.rc('xtick', labelsize=SMALL_SIZE)    # fontsize of the tick labels\n",
    "plt.rc('ytick', labelsize=SMALL_SIZE)    # fontsize of the tick labels\n",
    "plt.rc('legend', fontsize=SMALL_SIZE)    # legend fontsize\n",
    "plt.rc('figure', titlesize=BIGGER_SIZE)  # fontsize of the figure title"
   ]
  },
  {
   "cell_type": "markdown",
   "id": "e2c9a07f",
   "metadata": {},
   "source": [
    "# Figure 2a: Illustration of PU Learning settings."
   ]
  },
  {
   "cell_type": "code",
   "execution_count": null,
   "id": "a6f1889e",
   "metadata": {},
   "outputs": [],
   "source": [
    "fig, axs = plt.subplots(1, 2, sharex=False, sharey=False, figsize=(8, 4))\n",
    "\n",
    "# Traditional PU learning setup\n",
    "n_examples = 750\n",
    "neg = np.random.multivariate_normal((0, 0), [[.2, 0], [0, .25]], n_examples)\n",
    "pos = np.random.multivariate_normal((2, 2), [[.25, .05], [.05, .25]], n_examples)\n",
    "\n",
    "neg = np.concatenate([neg, np.zeros((n_examples, 1))], axis=1)\n",
    "pos = np.concatenate([pos, np.ones((n_examples, 1))], axis=1)\n",
    "neg_df = pd.DataFrame(neg, columns=['feat1', 'feat2', 'label'])\n",
    "pos_df = pd.DataFrame(pos, columns=['feat1', 'feat2', 'label'])\n",
    "feats_df = pd.concat([neg_df, pos_df], ignore_index=True)\n",
    "sns.kdeplot(data=feats_df, x='feat1', y='feat2', hue='label', fill=True,\n",
    "            ax=axs[0], legend=True, palette=[red_color, green_color], alpha=.75)\n",
    "\n",
    "red_patch = mpatches.Patch(color=red_color, label='Negative')\n",
    "green_patch = mpatches.Patch(color=green_color, label='Positive')\n",
    "axs[0].legend(handles = [red_patch, green_patch], labels = ['Negative','Positive'],loc = 'upper left')\n",
    "\n",
    "axs[0].axes.xaxis.set_ticks([])\n",
    "axs[0].axes.yaxis.set_ticks([])\n",
    "axs[0].set_xlabel('Feature 1')\n",
    "axs[0].set_ylabel('Feature 2')\n",
    "axs[0].set_title('(1) Separable', fontsize=BIGGER_SIZE)\n",
    "\n",
    "# # our case\n",
    "\n",
    "neg = np.random.multivariate_normal((.52, .52), [[.75, .25], [.3, .75]], n_examples)\n",
    "pos = np.random.multivariate_normal((1, 1), [[.25, .05], [.05, .2]], n_examples)\n",
    "neg = np.concatenate([neg, np.zeros((n_examples, 1))], axis=1)\n",
    "pos = np.concatenate([pos, np.ones((n_examples, 1))], axis=1)\n",
    "\n",
    "neg_df = pd.DataFrame(neg, columns=['feat1', 'feat2', 'label'])\n",
    "pos_df = pd.DataFrame(pos, columns=['feat1', 'feat2', 'label'])\n",
    "feats_df = pd.concat([neg_df, pos_df], ignore_index=True)\n",
    "sns.kdeplot(data=feats_df, x='feat1', y='feat2', hue='label', fill=True, alpha=.75, \n",
    "                palette = [red_color, green_color], ax=axs[1], legend=True)\n",
    "axs[1].legend().set_visible(False)\n",
    "\n",
    "axs[1].axes.xaxis.set_ticks([])\n",
    "axs[1].axes.yaxis.set_ticks([])\n",
    "axs[1].set_xlabel('Feature 1')\n",
    "axs[1].set_ylabel('')\n",
    "axs[1].set_title('(2) Nonseparable', fontsize=BIGGER_SIZE)\n",
    "\n",
    "plt.tight_layout()\n",
    "plt.savefig(FIG_DIR + 'synthetic_intro.pdf', format='pdf', dpi=600)"
   ]
  },
  {
   "cell_type": "markdown",
   "id": "c68c4ad8",
   "metadata": {},
   "source": [
    "# Figure 2b: Performance over Separability Conditions."
   ]
  },
  {
   "cell_type": "code",
   "execution_count": null,
   "id": "3ded1886",
   "metadata": {},
   "outputs": [],
   "source": [
    "group_gap_results_df = pd.concat([pd.read_csv('results/group_gap_supervised_results'),\n",
    "                            pd.read_csv('results/group_gap_ours_results'),\n",
    "                            pd.read_csv('results/group_gap_scar-km2_results'),\n",
    "                            pd.read_csv('results/group_gap_sar-em_results'),\n",
    "                            pd.read_csv('results/group_gap_negative_results')])\n",
    "label_freq_results_df = pd.concat([pd.read_csv('results/label_freq_scar-km2_results'),\n",
    "                            pd.read_csv('results/label_freq_ours_results'),\n",
    "                            pd.read_csv('results/label_freq_supervised_results'),\n",
    "                            pd.read_csv('results/label_freq_sar-em_results'),\n",
    "                            pd.read_csv('results/label_freq_negative_results')])\n",
    "separability_results_df = pd.concat([pd.read_csv('results/separability_scar-km2_results'),\n",
    "                            pd.read_csv('results/separability_ours_results'),\n",
    "                            pd.read_csv('results/separability_cdmm_results'),\n",
    "                            pd.read_csv('results/separability_supervised_results'),\n",
    "                            pd.read_csv('results/separability_sar-em_results'),\n",
    "                            pd.read_csv('results/separability_negative_results')])\n",
    "\n",
    "group_gap_results_df = add_metrics_to_df(group_gap_results_df)\n",
    "label_freq_results_df = add_metrics_to_df(label_freq_results_df)\n",
    "separability_results_df = add_metrics_to_df(separability_results_df)"
   ]
  },
  {
   "cell_type": "code",
   "execution_count": 10,
   "id": "a58a5bb2",
   "metadata": {},
   "outputs": [
    {
     "name": "stderr",
     "output_type": "stream",
     "text": [
      "<ipython-input-10-64ceac4c3dcf>:32: UserWarning: FixedFormatter should only be used together with FixedLocator\n",
      "  axs[i].set_yticklabels([\"\", \"\",  \"0.5x\", \"1.0x\", \"2.0x\"])\n",
      "<ipython-input-10-64ceac4c3dcf>:32: UserWarning: FixedFormatter should only be used together with FixedLocator\n",
      "  axs[i].set_yticklabels([\"\", \"\",  \"0.5x\", \"1.0x\", \"2.0x\"])\n"
     ]
    },
    {
     "data": {
      "image/png": "[encoded data removed]",
      "text/plain": [
       "<Figure size 576x288 with 2 Axes>"
      ]
     },
     "metadata": {},
     "output_type": "display_data"
    }
   ],
   "source": [
    "fig, axs = plt.subplots(1, 2, figsize=(8, 4), sharey=True)\n",
    "modes = ['separable', 'overlap']\n",
    "for i, mode in enumerate(modes):\n",
    "    our_results = separability_results_df[separability_results_df['method'] == 'ours']\n",
    "    other_results = separability_results_df[separability_results_df['method'] != 'ours']\n",
    "    our_results = our_results.sort_values([val_loss_key], ascending=False).groupby(['labeling_frequency_g2', 'run', 'separability_assumption']).head(1)\n",
    "    expmt_results = pd.concat([our_results, other_results])\n",
    "    expmt_results = expmt_results[expmt_results['separability_assumption'] == mode]\n",
    "    \n",
    "    g = sns.boxplot(x='method', y='rel_prior_err_pct', \n",
    "                     data=expmt_results, \n",
    "                     order=hue_order, ax=axs[i], zorder=2)\n",
    "    \n",
    "    g.set_yscale('log', base=2)\n",
    "    axs[i].set_xlabel(\"Separability\")\n",
    "    axs[i].axhline(y=1.0, color='black', linestyle='--', zorder=1,\n",
    "                   linewidth=1)\n",
    "    if i == 0:\n",
    "        axs[i].set_ylabel(\"Ratio of Predicted Relative Prior \\n to True Relative Prior\")\n",
    "    else:\n",
    "        axs[i].set_ylabel(\"\")\n",
    "    \n",
    "    # Change the color of the entire box to be method color\n",
    "    for j,box in enumerate(axs[i].artists):\n",
    "        color = method_colors[j]\n",
    "        box.set_edgecolor(color)\n",
    "        box.set_facecolor('white')\n",
    "        for k in range(6*j,6*(j+1)):\n",
    "             axs[i].lines[k].set_color(color)\n",
    "                \n",
    "    axs[i].set_ylim([.45, 2.0])\n",
    "    axs[i].set_yticklabels([\"\", \"\",  \"0.5x\", \"1.0x\", \"2.0x\"])\n",
    "\n",
    "axs[0].set_title(\"(1) Separable\")\n",
    "axs[1].set_title(\"(2) Nonseparable\")\n",
    "# Make legend\n",
    "patches = []\n",
    "for method_name, method_color in zip(hue_order, method_colors):\n",
    "    patches.append(mpatches.Patch(color=method_color, label=method_name))\n",
    "labels = [method_name_dict[m] for m in hue_order]\n",
    "axs[1].legend(handles = patches, labels = labels,loc = 'lower right')\n",
    "\n",
    "    \n",
    "plt.tight_layout()\n",
    "plt.savefig(FIG_DIR + 'synthetic_separability.pdf', dpi=300)  \n"
   ]
  },
  {
   "cell_type": "markdown",
   "id": "2157f390",
   "metadata": {},
   "source": [
    "# Figure  2c: Robustness to Covariate Shift."
   ]
  },
  {
   "cell_type": "code",
   "execution_count": 2,
   "id": "0ad6a087",
   "metadata": {},
   "outputs": [
    {
     "name": "stderr",
     "output_type": "stream",
     "text": [
      "<ipython-input-2-97cbc9a72ce4>:19: UserWarning: FixedFormatter should only be used together with FixedLocator\n",
      "  g.set_yticklabels([\"\", \"\",  \"0.5x\", \"1.0x\", \"2.0x\"])\n"
     ]
    },
    {
     "data": {
      "image/png": "[encoded data removed]",
      "text/plain": [
       "<Figure size 576x288 with 1 Axes>"
      ]
     },
     "metadata": {},
     "output_type": "display_data"
    }
   ],
   "source": [
    "plt.figure(figsize=(8,4))\n",
    "\n",
    "group_gap_results_df = group_gap_results_df[group_gap_results_df['method'].isin(plotted_methods)]\n",
    "\n",
    "# Select performance our method based on val_loss_key\n",
    "our_results = group_gap_results_df[group_gap_results_df['method'] == 'ours']\n",
    "other_results = group_gap_results_df[group_gap_results_df['method'] != 'ours']\n",
    "our_results = our_results.sort_values([val_loss_key], ascending=False).groupby(['group_gap', 'run']).head(1)\n",
    "group_gap_results_df = pd.concat([our_results, other_results])\n",
    "group_gap_results_df['abs_group_gap'] = np.abs(group_gap_results_df['group_gap'])\n",
    "\n",
    "g = sns.pointplot(x='abs_group_gap', y='rel_prior_err_pct', hue='method', data=group_gap_results_df, \n",
    "            hue_order = plotted_methods, scale=.75, \n",
    "            linestyles=['-', '-', '-', '-', '-'], palette=method_colors)\n",
    "plt.xlabel(\"Gap between p(x | g = 1) and p(x | g = 2)\")\n",
    "\n",
    "g.set_yscale('log', base=2)\n",
    "g.set_ylim(.45, 2.0)\n",
    "g.set_yticklabels([\"\", \"\",  \"0.5x\", \"1.0x\", \"2.0x\"])\n",
    "\n",
    "# alpha=.5\n",
    "# plt.setp(g.collections[:-1], alpha=alpha) #for the markers\n",
    "# plt.setp(g.lines[:-6], alpha=alpha)\n",
    "\n",
    "linewidth=4\n",
    "plt.setp(g.collections[-1], linewidth=linewidth) #for the markers\n",
    "plt.setp(g.lines[-6:], linewidth=linewidth)\n",
    "# g.set_yticklabels([])\n",
    "plt.ylabel(\"\")\n",
    "\n",
    "g.set_ylabel(\"Predicted Relative Prior\")\n",
    "\n",
    "plt.axhline(y=1.0, color='black', linestyle='--', zorder=1,\n",
    "            linewidth=1)\n",
    "# g.get_legend().remove()\n",
    "\n",
    "patches = []\n",
    "for method_name, method_color in zip(hue_order, method_colors):\n",
    "    patches.append(mpatches.Patch(color=method_color, label=method_name))\n",
    "labels = [method_name_dict[m] for m in hue_order]\n",
    "ax = plt.gca()\n",
    "ax.legend(handles = patches, labels = labels,loc = 'lower left')\n",
    "\n",
    "plt.tight_layout()\n",
    "plt.savefig(FIG_DIR + 'synthetic_covariate_shift.pdf', dpi=300)  \n"
   ]
  },
  {
   "cell_type": "markdown",
   "id": "feff776c",
   "metadata": {},
   "source": [
    "# Figure 2d: Robustness to Violations of Covariate Shift."
   ]
  },
  {
   "cell_type": "code",
   "execution_count": null,
   "id": "b83d42b8",
   "metadata": {},
   "outputs": [],
   "source": [
    "results_df = pd.concat([pd.read_csv('./results/robustness_ours_underestimate_results'),\n",
    "                        pd.read_csv('./results/robustness_supervised_underestimate_results'),\n",
    "                        pd.read_csv('./results/robustness_sar-em_underestimate_results'),\n",
    "                        pd.read_csv('./results/robustness_scar-km2_underestimate_results'),\n",
    "                        pd.read_csv('./results/robustness_negative_underestimate_results')],\n",
    "                       ignore_index=True)\n",
    "results_df = pd.read_csv('./results/robustness_ours_underestimate_results')\n",
    "results_df = add_metrics_to_df(results_df)\n",
    "\n",
    "# g2_mean is stored as vector - g1 mean = 1, so we add a column \n",
    "# corresponding to the g2 mean\n",
    "results_df['g2_mean_scalar'] = 1 + results_df['group_gap']\n",
    "set(results_df['g2_mean_scalar'])\n",
    "\n",
    "SMALL_SIZE = 10\n",
    "MEDIUM_SIZE = 12\n",
    "BIGGER_SIZE = 14\n",
    "\n",
    "plt.rc('font', size=SMALL_SIZE)          # controls default text sizes\n",
    "plt.rc('axes', titlesize=BIGGER_SIZE)     # fontsize of the axes title\n",
    "plt.rc('axes', labelsize=BIGGER_SIZE)    # fontsize of the x and y labels\n",
    "plt.rc('xtick', labelsize=SMALL_SIZE)    # fontsize of the tick labels\n",
    "plt.rc('ytick', labelsize=SMALL_SIZE)    # fontsize of the tick labels\n",
    "plt.rc('legend', fontsize=SMALL_SIZE)    # legend fontsize\n",
    "plt.rc('figure', titlesize=BIGGER_SIZE)  # fontsize of the figure title"
   ]
  },
  {
   "cell_type": "code",
   "execution_count": null,
   "id": "a354080f",
   "metadata": {},
   "outputs": [],
   "source": [
    "group_gap_results  = results_df\n",
    "colors = ['#f2f0f7', '#cbc9e2', '#9e9ac8', '#756bb1', '#54278f']\n",
    "plt.figure(figsize=(8,4))\n",
    "g = sns.lineplot(x='p_y_diff', y='rel_prior_err_pct', hue='g2_mean_scalar',\n",
    "             marker='o',\n",
    "             hue_order=[1, .75, .5, 0, -1.0],\n",
    "             palette=colors,\n",
    "             data=group_gap_results)\n",
    "plt.xlabel(\"Difference in p(y|x,g) between groups \\np( y = 1 | x, g = a) - p( y = 1 | x, g = b)\")\n",
    "plt.ylabel(\"Ratio of Predicted Relative Prevalence \\n to True Relative Prevalence\")\n",
    "\n",
    "g.set_ylim([.5, 1.1])\n",
    "g.set_yticks([.6, .8, 1.0])\n",
    "g.set_yticklabels([\"0.6x\", \"0.8x\",  \"1.0x\"])\n",
    "\n",
    "g.axhline(y=1.0, color='black', linestyle='--', zorder=1,\n",
    "                   linewidth=1)\n",
    "g.get_legend().set_title('$E[x|g=b]$')\n",
    "\n",
    "plt.tight_layout()\n",
    "plt.savefig(FIG_DIR + 'synthetic_robustness.pdf', format='pdf', dpi=600)"
   ]
  },
  {
   "cell_type": "markdown",
   "id": "d01c17eb",
   "metadata": {},
   "source": [
    "# Statistical Comparisons"
   ]
  },
  {
   "cell_type": "code",
   "execution_count": 21,
   "id": "58589947",
   "metadata": {},
   "outputs": [
    {
     "name": "stdout",
     "output_type": "stream",
     "text": [
      "Separability Assumption:  separable Method:  negative\n",
      "Ttest_relResult(statistic=205.93123095098753, pvalue=3.335754791793739e-09)\n",
      "\n",
      "Separability Assumption:  separable Method:  scar-km2\n",
      "Ttest_relResult(statistic=8.182843161071848, pvalue=0.0012147470512699431)\n",
      "\n",
      "Separability Assumption:  separable Method:  sar-em\n",
      "Ttest_relResult(statistic=-0.5950669341277632, pvalue=0.5838289301954438)\n",
      "\n",
      "Separability Assumption:  overlap Method:  negative\n",
      "Ttest_relResult(statistic=57.58469097623957, pvalue=5.445659242566299e-07)\n",
      "\n",
      "Separability Assumption:  overlap Method:  scar-km2\n",
      "Ttest_relResult(statistic=17.746128586449878, pvalue=5.923776202020907e-05)\n",
      "\n",
      "Separability Assumption:  overlap Method:  sar-em\n",
      "Ttest_relResult(statistic=-70.85150216450798, pvalue=2.37781718295864e-07)\n",
      "\n"
     ]
    }
   ],
   "source": [
    "# Across separability assumptions\n",
    "sep_assumption = 'overlap'\n",
    "for sep_assumption in ['separable', 'overlap']:\n",
    "    for method in plotted_methods: \n",
    "        if method == 'ours' or method == 'supervised':\n",
    "            continue\n",
    "        print(\"Separability Assumption: \", sep_assumption, \"Method: \", method)\n",
    "        expmt_results = separability_results_df[separability_results_df['separability_assumption'] == sep_assumption]\n",
    "        our_results = expmt_results[expmt_results['method'] == 'ours']\n",
    "        other_method_results = expmt_results[expmt_results['method'] == method]\n",
    "        print(ttest_rel(our_results['log_rel_prior_err_pct'], other_method_results['log_rel_prior_err_pct']))\n",
    "        print()"
   ]
  },
  {
   "cell_type": "code",
   "execution_count": 22,
   "id": "648202fa",
   "metadata": {},
   "outputs": [
    {
     "name": "stdout",
     "output_type": "stream",
     "text": [
      "Label Frequency:  0.1 Method:  negative p-val:  4.0099459029364925e-06\n",
      "Label Frequency:  0.1 Method:  scar-km2 p-val:  0.016472903874126307\n",
      "Label Frequency:  0.1 Method:  sar-em p-val:  0.0007368709571952222\n",
      "Label Frequency:  0.3 Method:  negative p-val:  1.2342109345150793e-06\n",
      "Label Frequency:  0.3 Method:  scar-km2 p-val:  0.0040147986445615005\n",
      "Label Frequency:  0.3 Method:  sar-em p-val:  9.892809341756885e-05\n",
      "Label Frequency:  0.5 Method:  negative p-val:  6.400936109806032e-07\n",
      "Label Frequency:  0.5 Method:  scar-km2 p-val:  0.00117250939416125\n",
      "Label Frequency:  0.5 Method:  sar-em p-val:  1.6200512788720046e-05\n",
      "Label Frequency:  0.7 Method:  negative p-val:  8.670214320923108e-06\n",
      "Label Frequency:  0.7 Method:  scar-km2 p-val:  1.1122916860932053e-05\n",
      "Label Frequency:  0.7 Method:  sar-em p-val:  3.92608533452191e-05\n",
      "Label Frequency:  0.9 Method:  negative p-val:  2.1969000789601827e-06\n",
      "Label Frequency:  0.9 Method:  scar-km2 p-val:  0.0010042890476931207\n",
      "Label Frequency:  0.9 Method:  sar-em p-val:  1.9574380416804478e-05\n",
      "(66.8423472065508, 1.7978003103143555e-10)\n"
     ]
    }
   ],
   "source": [
    "# Across label frequencies\n",
    "max_pvals = []\n",
    "for label_freq in [.1, .3, .5, .7, .9]:\n",
    "    pvals = []\n",
    "    for method in plotted_methods: \n",
    "        if method == 'ours' or method == 'supervised':\n",
    "            continue\n",
    "        expmt_results = label_freq_results_df[label_freq_results_df['labeling_frequency_g2'] == label_freq]\n",
    "        our_results = expmt_results[expmt_results['method'] == 'ours']\n",
    "        other_method_results = expmt_results[expmt_results['method'] == method]\n",
    "        x, pval = ttest_rel(our_results['log_rel_prior_err_pct'], other_method_results['log_rel_prior_err_pct'])\n",
    "        pvals.append(pval)\n",
    "        print(\"Label Frequency: \", label_freq, \"Method: \", method, 'p-val: ', pval)\n",
    "    max_pvals.append(np.max(pvals))\n",
    "print(combine_pvalues(max_pvals))\n",
    "# Across covariate shifts"
   ]
  },
  {
   "cell_type": "code",
   "execution_count": 23,
   "id": "dfe65446",
   "metadata": {},
   "outputs": [
    {
     "name": "stdout",
     "output_type": "stream",
     "text": [
      "Group gap:  -0.5 Method:  negative p-val:  2.748881577593179e-06\n",
      "Group gap:  -0.5 Method:  scar-km2 p-val:  0.010633664208582309\n",
      "Group gap:  -0.5 Method:  sar-em p-val:  0.010475297451309335\n",
      "Group gap:  -0.25 Method:  negative p-val:  0.0028987687200010127\n",
      "Group gap:  -0.25 Method:  scar-km2 p-val:  0.8359051811881766\n",
      "Group gap:  -0.25 Method:  sar-em p-val:  0.16573882491150782\n",
      "Group gap:  0.0 Method:  negative p-val:  9.575822995282794e-07\n",
      "Group gap:  0.0 Method:  scar-km2 p-val:  0.12070159527971555\n",
      "Group gap:  0.0 Method:  sar-em p-val:  0.0016831032851828674\n",
      "Group gap:  -1.0 Method:  negative p-val:  7.147625281676033e-06\n",
      "Group gap:  -1.0 Method:  scar-km2 p-val:  0.202902463735169\n",
      "Group gap:  -1.0 Method:  sar-em p-val:  0.009971846559140723\n",
      "Group gap:  -2.0 Method:  negative p-val:  3.956549685758413e-06\n",
      "Group gap:  -2.0 Method:  scar-km2 p-val:  0.00011196306611149921\n",
      "Group gap:  -2.0 Method:  sar-em p-val:  8.421725206321955e-05\n",
      "(35.05955173021826, 0.00012197675019500667)\n"
     ]
    }
   ],
   "source": [
    "# Across label frequencies\n",
    "max_pvals = []\n",
    "for group_gap in list(set(group_gap_results_df['group_gap'])):\n",
    "    pvals = []\n",
    "    for method in plotted_methods: \n",
    "        if method == 'ours' or method == 'supervised':\n",
    "            continue\n",
    "        expmt_results = group_gap_results_df[group_gap_results_df['group_gap'] == group_gap]\n",
    "        our_results = expmt_results[expmt_results['method'] == 'ours']\n",
    "        other_method_results = expmt_results[expmt_results['method'] == method]\n",
    "        x, pval = ttest_rel(our_results['log_rel_prior_err_pct'], other_method_results['log_rel_prior_err_pct'])\n",
    "        pvals.append(pval)\n",
    "        print(\"Group gap: \", group_gap, \"Method: \", method, 'p-val: ', pval)\n",
    "    max_pvals.append(np.max(pvals))\n",
    "print(combine_pvalues(max_pvals))\n",
    "# Across covariate shifts"
   ]
  },
  {
   "cell_type": "markdown",
   "id": "4fb20951",
   "metadata": {},
   "source": [
    "# Train a baseline  on simulated data"
   ]
  },
  {
   "cell_type": "code",
   "execution_count": 2,
   "id": "d7a500ac",
   "metadata": {},
   "outputs": [],
   "source": [
    "import torch\n",
    "\n",
    "from sarpu.pu_learning import *\n",
    "from eval_fs import eval_relative_prior\n",
    "from method import train_relative_estimator\n",
    "from sklearn.preprocessing import MinMaxScaler\n",
    "from sklearn.model_selection import train_test_split\n",
    "\n",
    "from simulation_helpers import create_gap_1d, create_gap_nd\n",
    "from simulation_helpers import generate_g, generate_y, generate_s_scar\n",
    "from simulation_helpers import separable_decision_rule_1d, inseparable_decision_rule_1d\n",
    "from simulation_helpers import separable_decision_rule_nd, inseparable_decision_rule_nd\n",
    "\n",
    "from method import train_relative_estimator, get_loss\n",
    "from baselines import cdmm, supervised_rel_prior, sar_em_rel_prior, scar_km2_rel_prior"
   ]
  },
  {
   "cell_type": "markdown",
   "id": "52df1fc3",
   "metadata": {},
   "source": [
    "### Generating data for each group.\n",
    "\n",
    "Parameters that you can plan with are $c_1$, $c_2$, group_gap, and separability assumption ('separable', 'overlap', 'overlaid'). In addition, you can change std, the standard deviation of the Gaussian distributions for each group, n_to_sample, and n_attributes."
   ]
  },
  {
   "cell_type": "code",
   "execution_count": 4,
   "id": "a026b1bf",
   "metadata": {},
   "outputs": [],
   "source": [
    "# Parameter settings\n",
    "c1 = .5\n",
    "c2 = .3\n",
    "n_groups = 2\n",
    "group_gap = -2\n",
    "scar_assumption = True\n",
    "separability_assumption = 'overlap'\n",
    "std, n_to_sample, n_attributes = 16, 10000, 5\n",
    "n_epochs = 10000\n",
    "\n",
    "n_to_sample_g1 = n_to_sample\n",
    "n_to_sample_g2 = 2*n_to_sample\n",
    "\n",
    "g1_mean = np.ones(n_attributes)\n",
    "g2_mean =  g1_mean + group_gap\n",
    "g1_config = {'mean': g1_mean, 'std': std, 'n_samples': n_to_sample_g1, \n",
    "             'n_attributes': n_attributes, 'n_groups': n_groups, 'group_feat': 1, 'n_epochs':n_epochs,\n",
    "                 'group1_idx': 0}\n",
    "g1_config['lamda'] = 0\n",
    "g2_config = {'mean': g2_mean, 'std': std, 'n_samples': n_to_sample_g2, \n",
    "             'n_attributes': n_attributes, 'n_groups': n_groups, 'group_feat': 2, \n",
    "             'group1_idx': 0}\n",
    "\n",
    "expmt_config = {'scar_assumption': scar_assumption, \n",
    "                'separability_assumption': separability_assumption, \n",
    "                'labeling_frequency_g1': c1, 'labeling_frequency_g2': c2, \n",
    "                 'group1_idx': 0} "
   ]
  },
  {
   "cell_type": "code",
   "execution_count": 5,
   "id": "6558b6c4",
   "metadata": {},
   "outputs": [],
   "source": [
    "x1 = generate_g(g1_config)\n",
    "x2 = generate_g(g2_config)\n",
    "\n",
    "if expmt_config['separability_assumption'] == 'separable':\n",
    "    y1 = generate_y(x1, g1_config, separable_decision_rule_nd)\n",
    "    y2 = generate_y(x2, g2_config, separable_decision_rule_nd)\n",
    "    x1, y1 = create_gap_nd(x1, y1, g1_config)\n",
    "    x2, y2 = create_gap_nd(x2, y2, g2_config)\n",
    "elif expmt_config['separability_assumption'] == 'overlap':\n",
    "    y1 = generate_y(x1, g1_config, inseparable_decision_rule_nd, beta=1)\n",
    "    y2 = generate_y(x2, g2_config, inseparable_decision_rule_nd, beta=1)\n",
    "elif expmt_config['separability_assumption'] == 'overlaid':\n",
    "    beta = 1\n",
    "    y1 = generate_y(x1, g1_config, inseparable_decision_rule_nd, beta=.75, scale=.75)\n",
    "    y2 = generate_y(x2, g2_config, inseparable_decision_rule_nd, beta=.75, scale=.75)\n",
    "\n",
    "# generate observed labels\n",
    "if expmt_config['scar_assumption']:\n",
    "    s1 = generate_s_scar(y1, expmt_config['labeling_frequency_g1'])\n",
    "    s2 = generate_s_scar(y2, expmt_config['labeling_frequency_g2'])\n",
    "\n",
    "\n",
    "# split into train, val, test\n",
    "x = np.concatenate([x1, x2])\n",
    "y = np.concatenate([y1, y2])\n",
    "s = np.concatenate([s1, s2])"
   ]
  },
  {
   "cell_type": "markdown",
   "id": "296771f0",
   "metadata": {},
   "source": [
    "### Splitting  x, y, and s into train and test sets.\n",
    "\n",
    "We assume that the data is stratified by group across the train and test set. That is, p(g=1) is constant across each split."
   ]
  },
  {
   "cell_type": "code",
   "execution_count": 6,
   "id": "9afd7163",
   "metadata": {},
   "outputs": [],
   "source": [
    "x1_train, x1_test, y1_train, y1_test, s1_train, s1_test = train_test_split(x1, y1, s1, test_size=.2, \n",
    "                                                                                  random_state=10, shuffle=True, stratify=y1)\n",
    "x2_train, x2_test, y2_train, y2_test, s2_train, s2_test = train_test_split(x2, y2, s2, test_size=.2, \n",
    "                                                                                  random_state=10, shuffle=True, stratify=y2)\n",
    "\n",
    "x_train = np.concatenate([x1_train, x2_train])\n",
    "y_train = np.concatenate([y1_train, y2_train])\n",
    "s_train = np.concatenate([s1_train, s2_train])\n",
    "\n",
    "x_test = np.concatenate([x1_test, x2_test])\n",
    "y_test = np.concatenate([y1_test, y2_test])\n",
    "s_test = np.concatenate([s1_test, s2_test])\n",
    "\n",
    "scale_factor = np.max(np.abs(x_train))\n",
    "x_train_norm = x_train/scale_factor\n",
    "x_test_norm = x_test/scale_factor\n",
    "\n",
    "g1_train_idxs = x_train[:,0] == 1\n",
    "g2_train_idxs = x_train[:,1] == 1\n",
    "g1_test_idxs = x_test[:,0] == 1\n",
    "g2_test_idxs = x_test[:,1] == 1\n",
    "classification_attributes = [i + n_groups for i in range(n_attributes)]"
   ]
  },
  {
   "cell_type": "markdown",
   "id": "ce7000bf",
   "metadata": {},
   "source": [
    "### Quick summary of the group statistics:"
   ]
  },
  {
   "cell_type": "code",
   "execution_count": 7,
   "id": "01ba4faa",
   "metadata": {},
   "outputs": [
    {
     "name": "stdout",
     "output_type": "stream",
     "text": [
      "--- Group-specific p(y=1) --- \n",
      "p( y = 1 | g = 1 ) 0.6554\n",
      "p( y = 1 | g = 2 ) 0.34415\n",
      "--- Group-specific p(s=1) --- \n",
      "p( s = 1 | g = 1 ) 0.3277\n",
      "p( s = 1 | g = 2 ) 0.1032\n",
      "--- Number of Samples ---\n",
      "30000\n"
     ]
    }
   ],
   "source": [
    "print(\"--- Group-specific p(y=1) --- \")\n",
    "print(\"p( y = 1 | g = 1 )\", np.mean(y1))\n",
    "print(\"p( y = 1 | g = 2 )\", np.mean(y2))\n",
    "\n",
    "print(\"--- Group-specific p(s=1) --- \")\n",
    "print(\"p( s = 1 | g = 1 )\", np.mean(s1))\n",
    "print(\"p( s = 1 | g = 2 )\", np.mean(s2))\n",
    "\n",
    "print(\"--- Number of Samples ---\")\n",
    "print(len(x))"
   ]
  },
  {
   "cell_type": "markdown",
   "id": "48df7e28",
   "metadata": {},
   "source": [
    "# Train a baseline"
   ]
  },
  {
   "cell_type": "code",
   "execution_count": 10,
   "id": "43a85695",
   "metadata": {},
   "outputs": [
    {
     "name": "stdout",
     "output_type": "stream",
     "text": [
      "Initialize classification and propensity model:  0.00013327598571777344\n",
      "Initialize_simple call:  0.029543399810791016\n"
     ]
    },
    {
     "name": "stderr",
     "output_type": "stream",
     "text": [
      "  0%|          | 2/500 [00:00<00:34, 14.53it/s]"
     ]
    },
    {
     "name": "stdout",
     "output_type": "stream",
     "text": [
      "iteration:  0\n",
      "Finished training propensity model:  0.00033926963806152344 (8000, 7)\n",
      "Finished training classification model:  0.06461119651794434\n",
      "Calculated log likelihood.\n",
      "iteration:  1\n",
      "Finished training propensity model:  0.0002849102020263672 (8000, 7)\n",
      "Finished training classification model:  0.0555722713470459\n",
      "Calculated log likelihood.\n",
      "iteration:  2\n",
      "Finished training propensity model:  0.0010607242584228516 (8000, 7)\n"
     ]
    },
    {
     "name": "stderr",
     "output_type": "stream",
     "text": [
      "\r",
      "  1%|          | 4/500 [00:00<00:45, 10.81it/s]"
     ]
    },
    {
     "name": "stdout",
     "output_type": "stream",
     "text": [
      "Finished training classification model:  0.11295127868652344\n",
      "Calculated log likelihood.\n",
      "iteration:  3\n",
      "Finished training propensity model:  0.00040650367736816406 (8000, 7)\n",
      "Finished training classification model:  0.09065985679626465\n",
      "Calculated log likelihood.\n",
      "iteration:  4\n",
      "Finished training propensity model:  0.0013933181762695312 (8000, 7)\n",
      "Finished training classification model:  0.04398012161254883\n",
      "Calculated log likelihood.\n",
      "iteration:  5\n",
      "Finished training propensity model:  0.00042319297790527344 (8000, 7)\n",
      "Finished training classification model:  0.04065275192260742\n",
      "Calculated log likelihood.\n",
      "iteration:  6\n",
      "Finished training propensity model:  0.0003566741943359375 (8000, 7)\n"
     ]
    },
    {
     "name": "stderr",
     "output_type": "stream",
     "text": [
      "  2%|▏         | 9/500 [00:00<00:32, 15.15it/s]"
     ]
    },
    {
     "name": "stdout",
     "output_type": "stream",
     "text": [
      "Finished training classification model:  0.0666351318359375\n",
      "Calculated log likelihood.\n",
      "iteration:  7\n",
      "Finished training propensity model:  9.775161743164062e-05 (8000, 7)\n",
      "Finished training classification model:  0.04945707321166992\n",
      "Calculated log likelihood.\n",
      "iteration:  8\n",
      "Finished training propensity model:  0.0004661083221435547 (8000, 7)\n",
      "Finished training classification model:  0.05195808410644531\n",
      "Calculated log likelihood.\n",
      "iteration:  9\n",
      "Finished training propensity model:  0.0001227855682373047 (8000, 7)\n",
      "Finished training classification model:  0.0480344295501709\n",
      "Calculated log likelihood.\n",
      "iteration:  10\n",
      "Finished training propensity model:  8.654594421386719e-05 (8000, 7)\n"
     ]
    },
    {
     "name": "stderr",
     "output_type": "stream",
     "text": [
      "  3%|▎         | 13/500 [00:00<00:28, 17.04it/s]"
     ]
    },
    {
     "name": "stdout",
     "output_type": "stream",
     "text": [
      "Finished training classification model:  0.046854496002197266\n",
      "Calculated log likelihood.\n",
      "iteration:  11\n",
      "Finished training propensity model:  9.703636169433594e-05 (8000, 7)\n",
      "Finished training classification model:  0.04597783088684082\n",
      "Calculated log likelihood.\n",
      "iteration:  12\n",
      "Finished training propensity model:  8.487701416015625e-05 (8000, 7)\n",
      "Finished training classification model:  0.04838204383850098\n",
      "Calculated log likelihood.\n",
      "iteration:  13\n",
      "Finished training propensity model:  9.942054748535156e-05 (8000, 7)\n",
      "Finished training classification model:  0.08078980445861816\n",
      "Calculated log likelihood.\n",
      "iteration:  14\n",
      "Finished training propensity model:  8.20159912109375e-05 (8000, 7)\n"
     ]
    },
    {
     "name": "stderr",
     "output_type": "stream",
     "text": [
      "  3%|▎         | 17/500 [00:01<00:29, 16.15it/s]"
     ]
    },
    {
     "name": "stdout",
     "output_type": "stream",
     "text": [
      "Finished training classification model:  0.051537513732910156\n",
      "Calculated log likelihood.\n",
      "iteration:  15\n",
      "Finished training propensity model:  0.0004868507385253906 (8000, 7)\n",
      "Finished training classification model:  0.054433345794677734\n",
      "Calculated log likelihood.\n",
      "iteration:  16\n",
      "Finished training propensity model:  9.274482727050781e-05 (8000, 7)\n",
      "Finished training classification model:  0.049445152282714844\n",
      "Calculated log likelihood.\n",
      "iteration:  17\n",
      "Finished training propensity model:  0.00011563301086425781 (8000, 7)\n",
      "Finished training classification model:  0.057196855545043945\n",
      "Calculated log likelihood.\n",
      "iteration:  18\n",
      "Finished training propensity model:  8.749961853027344e-05 (8000, 7)\n"
     ]
    },
    {
     "name": "stderr",
     "output_type": "stream",
     "text": [
      "  4%|▍         | 21/500 [00:01<00:29, 16.38it/s]"
     ]
    },
    {
     "name": "stdout",
     "output_type": "stream",
     "text": [
      "Finished training classification model:  0.051403045654296875\n",
      "Calculated log likelihood.\n",
      "iteration:  19\n",
      "Finished training propensity model:  0.00011944770812988281 (8000, 7)\n",
      "Finished training classification model:  0.054961442947387695\n",
      "Calculated log likelihood.\n",
      "iteration:  20\n",
      "Finished training propensity model:  9.298324584960938e-05 (8000, 7)\n",
      "Finished training classification model:  0.05159640312194824\n",
      "Calculated log likelihood.\n",
      "iteration:  21\n",
      "Finished training propensity model:  0.00012421607971191406 (8000, 7)\n",
      "Finished training classification model:  0.060805320739746094\n",
      "Calculated log likelihood.\n",
      "iteration:  22\n",
      "Finished training propensity model:  9.655952453613281e-05 (8000, 7)\n"
     ]
    },
    {
     "name": "stderr",
     "output_type": "stream",
     "text": [
      "  5%|▌         | 25/500 [00:01<00:34, 13.69it/s]"
     ]
    },
    {
     "name": "stdout",
     "output_type": "stream",
     "text": [
      "Finished training classification model:  0.09884929656982422\n",
      "Calculated log likelihood.\n",
      "iteration:  23\n",
      "Finished training propensity model:  0.00014019012451171875 (8000, 7)\n",
      "Finished training classification model:  0.1069192886352539\n",
      "Calculated log likelihood.\n",
      "iteration:  24\n",
      "Finished training propensity model:  8.130073547363281e-05 (8000, 7)\n",
      "Finished training classification model:  0.04759049415588379\n",
      "Calculated log likelihood.\n",
      "iteration:  25\n",
      "Finished training propensity model:  8.845329284667969e-05 (8000, 7)\n"
     ]
    },
    {
     "name": "stderr",
     "output_type": "stream",
     "text": [
      "\r",
      "  5%|▌         | 27/500 [00:01<00:43, 10.81it/s]"
     ]
    },
    {
     "name": "stdout",
     "output_type": "stream",
     "text": [
      "Finished training classification model:  0.12001466751098633\n",
      "Calculated log likelihood.\n",
      "iteration:  26\n",
      "Finished training propensity model:  8.606910705566406e-05 (8000, 7)\n",
      "Finished training classification model:  0.14311766624450684\n",
      "Calculated log likelihood.\n",
      "iteration:  27\n",
      "Finished training propensity model:  8.511543273925781e-05 (8000, 7)\n"
     ]
    },
    {
     "name": "stderr",
     "output_type": "stream",
     "text": [
      "\r",
      "  6%|▌         | 29/500 [00:02<00:45, 10.46it/s]"
     ]
    },
    {
     "name": "stdout",
     "output_type": "stream",
     "text": [
      "Finished training classification model:  0.12511014938354492\n",
      "Calculated log likelihood.\n",
      "iteration:  28\n",
      "Finished training propensity model:  0.00032138824462890625 (8000, 7)\n",
      "Finished training classification model:  0.06940793991088867\n",
      "Calculated log likelihood.\n",
      "iteration:  29\n",
      "Finished training propensity model:  0.0001704692840576172 (8000, 7)\n",
      "Finished training classification model:  0.06680583953857422\n",
      "Calculated log likelihood.\n",
      "iteration:  30\n",
      "Finished training propensity model:  7.43865966796875e-05 (8000, 7)\n"
     ]
    },
    {
     "name": "stderr",
     "output_type": "stream",
     "text": [
      "  7%|▋         | 33/500 [00:02<00:42, 11.05it/s]"
     ]
    },
    {
     "name": "stdout",
     "output_type": "stream",
     "text": [
      "Finished training classification model:  0.10775113105773926\n",
      "Calculated log likelihood.\n",
      "iteration:  31\n",
      "Finished training propensity model:  0.00010180473327636719 (8000, 7)\n",
      "Finished training classification model:  0.04933476448059082\n",
      "Calculated log likelihood.\n",
      "iteration:  32\n",
      "Finished training propensity model:  8.058547973632812e-05 (8000, 7)\n",
      "Finished training classification model:  0.07682371139526367\n",
      "Calculated log likelihood.\n",
      "iteration:  33\n",
      "Finished training propensity model:  8.630752563476562e-05 (8000, 7)\n",
      "Finished training classification model:  0.04870915412902832\n"
     ]
    },
    {
     "name": "stderr",
     "output_type": "stream",
     "text": [
      "\r",
      "  7%|▋         | 35/500 [00:02<00:37, 12.53it/s]"
     ]
    },
    {
     "name": "stdout",
     "output_type": "stream",
     "text": [
      "Calculated log likelihood.\n",
      "iteration:  34\n",
      "Finished training propensity model:  7.486343383789062e-05 (8000, 7)\n",
      "Finished training classification model:  0.04607582092285156\n",
      "Calculated log likelihood.\n",
      "iteration:  35\n",
      "Finished training propensity model:  8.511543273925781e-05 (8000, 7)\n",
      "Finished training classification model:  0.04357171058654785\n",
      "Calculated log likelihood.\n",
      "iteration:  36\n",
      "Finished training propensity model:  7.343292236328125e-05 (8000, 7)\n",
      "Finished training classification model:  0.04336142539978027\n",
      "Calculated log likelihood.\n",
      "iteration:  37\n",
      "Finished training propensity model:  7.390975952148438e-05 (8000, 7)\n"
     ]
    },
    {
     "name": "stderr",
     "output_type": "stream",
     "text": [
      "  8%|▊         | 40/500 [00:02<00:33, 13.60it/s]"
     ]
    },
    {
     "name": "stdout",
     "output_type": "stream",
     "text": [
      "Finished training classification model:  0.08951377868652344\n",
      "Calculated log likelihood.\n",
      "iteration:  38\n",
      "Finished training propensity model:  8.916854858398438e-05 (8000, 7)\n",
      "Finished training classification model:  0.03928518295288086\n",
      "Calculated log likelihood.\n",
      "iteration:  39\n",
      "Finished training propensity model:  7.605552673339844e-05 (8000, 7)\n",
      "Finished training classification model:  0.08270549774169922\n",
      "Calculated log likelihood.\n",
      "iteration:  40\n",
      "Finished training propensity model:  8.869171142578125e-05 (8000, 7)\n"
     ]
    },
    {
     "name": "stderr",
     "output_type": "stream",
     "text": [
      "  9%|▉         | 45/500 [00:03<00:27, 16.42it/s]"
     ]
    },
    {
     "name": "stdout",
     "output_type": "stream",
     "text": [
      "Finished training classification model:  0.06597113609313965\n",
      "Calculated log likelihood.\n",
      "iteration:  41\n",
      "Finished training propensity model:  7.653236389160156e-05 (8000, 7)\n",
      "Finished training classification model:  0.04445481300354004\n",
      "Calculated log likelihood.\n",
      "iteration:  42\n",
      "Finished training propensity model:  8.654594421386719e-05 (8000, 7)\n",
      "Finished training classification model:  0.03821730613708496\n",
      "Calculated log likelihood.\n",
      "iteration:  43\n",
      "Finished training propensity model:  7.557868957519531e-05 (8000, 7)\n",
      "Finished training classification model:  0.038588523864746094\n",
      "Calculated log likelihood.\n",
      "iteration:  44\n",
      "Finished training propensity model:  7.390975952148438e-05 (8000, 7)\n",
      "Finished training classification model:  0.038332223892211914\n",
      "Calculated log likelihood.\n",
      "iteration:  45\n",
      "Finished training propensity model:  8.606910705566406e-05 (8000, 7)\n"
     ]
    },
    {
     "name": "stderr",
     "output_type": "stream",
     "text": [
      "\r",
      "  9%|▉         | 47/500 [00:03<00:29, 15.11it/s]"
     ]
    },
    {
     "name": "stdout",
     "output_type": "stream",
     "text": [
      "Finished training classification model:  0.10785055160522461\n",
      "Calculated log likelihood.\n",
      "iteration:  46\n",
      "Finished training propensity model:  7.796287536621094e-05 (8000, 7)\n",
      "Finished training classification model:  0.041007041931152344\n",
      "Calculated log likelihood.\n",
      "iteration:  47\n",
      "Finished training propensity model:  8.58306884765625e-05 (8000, 7)\n",
      "Finished training classification model:  0.10836243629455566\n",
      "Calculated log likelihood.\n",
      "iteration:  48\n",
      "Finished training propensity model:  7.62939453125e-05 (8000, 7)\n"
     ]
    },
    {
     "name": "stderr",
     "output_type": "stream",
     "text": [
      " 10%|█         | 52/500 [00:03<00:29, 15.25it/s]"
     ]
    },
    {
     "name": "stdout",
     "output_type": "stream",
     "text": [
      "Finished training classification model:  0.08737945556640625\n",
      "Calculated log likelihood.\n",
      "iteration:  49\n",
      "Finished training propensity model:  8.940696716308594e-05 (8000, 7)\n",
      "Finished training classification model:  0.04178738594055176\n",
      "Calculated log likelihood.\n",
      "iteration:  50\n",
      "Finished training propensity model:  8.082389831542969e-05 (8000, 7)\n",
      "Finished training classification model:  0.04073786735534668\n",
      "Calculated log likelihood.\n",
      "iteration:  51\n",
      "Finished training propensity model:  7.319450378417969e-05 (8000, 7)\n",
      "Finished training classification model:  0.0410921573638916\n",
      "Calculated log likelihood.\n",
      "iteration:  52\n",
      "Finished training propensity model:  8.225440979003906e-05 (8000, 7)\n",
      "Finished training classification model:  0.053160905838012695\n"
     ]
    },
    {
     "name": "stderr",
     "output_type": "stream",
     "text": [
      "\r",
      " 11%|█         | 54/500 [00:03<00:29, 15.35it/s]"
     ]
    },
    {
     "name": "stdout",
     "output_type": "stream",
     "text": [
      "Calculated log likelihood.\n",
      "iteration:  53\n",
      "Finished training propensity model:  7.343292236328125e-05 (8000, 7)\n",
      "Finished training classification model:  0.06362414360046387\n",
      "Calculated log likelihood.\n",
      "iteration:  54\n",
      "Finished training propensity model:  8.249282836914062e-05 (8000, 7)\n",
      "Finished training classification model:  0.09282302856445312\n",
      "Calculated log likelihood.\n",
      "iteration:  55\n",
      "Finished training propensity model:  7.43865966796875e-05 (8000, 7)\n"
     ]
    },
    {
     "name": "stderr",
     "output_type": "stream",
     "text": [
      " 12%|█▏        | 58/500 [00:04<00:28, 15.44it/s]"
     ]
    },
    {
     "name": "stdout",
     "output_type": "stream",
     "text": [
      "Finished training classification model:  0.06405234336853027\n",
      "Calculated log likelihood.\n",
      "iteration:  56\n",
      "Finished training propensity model:  8.96453857421875e-05 (8000, 7)\n",
      "Finished training classification model:  0.04364585876464844\n",
      "Calculated log likelihood.\n",
      "iteration:  57\n",
      "Finished training propensity model:  7.748603820800781e-05 (8000, 7)\n",
      "Finished training classification model:  0.04366636276245117\n",
      "Calculated log likelihood.\n",
      "iteration:  58\n",
      "Finished training propensity model:  8.7738037109375e-05 (8000, 7)\n",
      "Finished training classification model:  0.04225516319274902\n",
      "Calculated log likelihood.\n",
      "iteration:  59\n",
      "Finished training propensity model:  7.367134094238281e-05 (8000, 7)\n",
      "Finished training classification model:  0.04274344444274902\n"
     ]
    },
    {
     "name": "stderr",
     "output_type": "stream",
     "text": [
      " 12%|█▏        | 62/500 [00:04<00:28, 15.24it/s]"
     ]
    },
    {
     "name": "stdout",
     "output_type": "stream",
     "text": [
      "Calculated log likelihood.\n",
      "iteration:  60\n",
      "Finished training propensity model:  0.00013065338134765625 (8000, 7)\n",
      "Finished training classification model:  0.0477290153503418\n",
      "Calculated log likelihood.\n",
      "iteration:  61\n",
      "Finished training propensity model:  7.534027099609375e-05 (8000, 7)\n",
      "Finished training classification model:  0.08792448043823242\n",
      "Calculated log likelihood.\n",
      "iteration:  62\n",
      "Finished training propensity model:  8.630752563476562e-05 (8000, 7)\n"
     ]
    },
    {
     "name": "stderr",
     "output_type": "stream",
     "text": [
      "\r",
      " 13%|█▎        | 64/500 [00:04<00:26, 16.28it/s]"
     ]
    },
    {
     "name": "stdout",
     "output_type": "stream",
     "text": [
      "Finished training classification model:  0.044950008392333984\n",
      "Calculated log likelihood.\n",
      "iteration:  63\n",
      "Finished training propensity model:  7.843971252441406e-05 (8000, 7)\n",
      "Finished training classification model:  0.0444178581237793\n",
      "Calculated log likelihood.\n",
      "iteration:  64\n",
      "Finished training propensity model:  8.58306884765625e-05 (8000, 7)\n",
      "Finished training classification model:  0.08958697319030762\n",
      "Calculated log likelihood.\n",
      "iteration:  65\n",
      "Finished training propensity model:  7.367134094238281e-05 (8000, 7)\n"
     ]
    },
    {
     "name": "stderr",
     "output_type": "stream",
     "text": [
      "\r",
      " 13%|█▎        | 66/500 [00:04<00:29, 14.83it/s]"
     ]
    },
    {
     "name": "stdout",
     "output_type": "stream",
     "text": [
      "Finished training classification model:  0.0569303035736084\n",
      "Calculated log likelihood.\n",
      "iteration:  66\n",
      "Finished training propensity model:  8.440017700195312e-05 (8000, 7)\n",
      "Finished training classification model:  0.1255626678466797\n",
      "Calculated log likelihood.\n",
      "iteration:  67\n",
      "Finished training propensity model:  0.0005013942718505859 (8000, 7)\n"
     ]
    },
    {
     "name": "stderr",
     "output_type": "stream",
     "text": [
      "\r",
      " 14%|█▎        | 68/500 [00:04<00:38, 11.30it/s]"
     ]
    },
    {
     "name": "stdout",
     "output_type": "stream",
     "text": [
      "Finished training classification model:  0.1207432746887207\n",
      "Calculated log likelihood.\n",
      "iteration:  68\n",
      "Finished training propensity model:  0.00010585784912109375 (8000, 7)\n",
      "Finished training classification model:  0.08038091659545898\n",
      "Calculated log likelihood.\n",
      "iteration:  69\n",
      "Finished training propensity model:  8.106231689453125e-05 (8000, 7)\n"
     ]
    },
    {
     "name": "stderr",
     "output_type": "stream",
     "text": [
      " 14%|█▍        | 71/500 [00:05<00:31, 13.49it/s]"
     ]
    },
    {
     "name": "stdout",
     "output_type": "stream",
     "text": [
      "Finished training classification model:  0.11725711822509766\n",
      "Calculated log likelihood.\n",
      "iteration:  70\n",
      "Finished training propensity model:  9.1552734375e-05 (8000, 7)\n",
      "Finished training classification model:  0.044039249420166016\n",
      "Calculated log likelihood.\n",
      "iteration:  71\n",
      "Finished training propensity model:  8.082389831542969e-05 (8000, 7)\n",
      "Finished training classification model:  0.05040788650512695\n",
      "Calculated log likelihood.\n"
     ]
    },
    {
     "name": "stderr",
     "output_type": "stream",
     "text": [
      "\n",
      "/data/ddmg/prism/.conda/envs/ipv_nfs/lib/python3.9/site-packages/sklearn/linear_model/_logistic.py:763: ConvergenceWarning: lbfgs failed to converge (status=1):\n",
      "STOP: TOTAL NO. of ITERATIONS REACHED LIMIT.\n",
      "\n",
      "Increase the number of iterations (max_iter) or scale the data as shown in:\n",
      "    https://scikit-learn.org/stable/modules/preprocessing.html\n",
      "Please also refer to the documentation for alternative solver options:\n",
      "    https://scikit-learn.org/stable/modules/linear_model.html#logistic-regression\n",
      "  n_iter_i = _check_optimize_result(\n"
     ]
    },
    {
     "name": "stdout",
     "output_type": "stream",
     "text": [
      "Initialize classification and propensity model:  4.1961669921875e-05\n",
      "Initialize_simple call:  0.025827407836914062\n"
     ]
    },
    {
     "name": "stderr",
     "output_type": "stream",
     "text": [
      "\r",
      "  0%|          | 0/500 [00:00<?, ?it/s]"
     ]
    },
    {
     "name": "stdout",
     "output_type": "stream",
     "text": [
      "iteration:  0\n",
      "Finished training propensity model:  0.00010728836059570312 (16000, 7)\n",
      "Finished training classification model:  0.06384849548339844\n",
      "Calculated log likelihood.\n",
      "iteration:  1\n",
      "Finished training propensity model:  0.0003833770751953125 (16000, 7)\n"
     ]
    },
    {
     "name": "stderr",
     "output_type": "stream",
     "text": [
      "  1%|          | 4/500 [00:00<00:47, 10.39it/s]"
     ]
    },
    {
     "name": "stdout",
     "output_type": "stream",
     "text": [
      "Finished training classification model:  0.13485169410705566\n",
      "Calculated log likelihood.\n",
      "iteration:  2\n",
      "Finished training propensity model:  9.846687316894531e-05 (16000, 7)\n",
      "Finished training classification model:  0.05235028266906738\n",
      "Calculated log likelihood.\n",
      "iteration:  3\n",
      "Finished training propensity model:  9.131431579589844e-05 (16000, 7)\n",
      "Finished training classification model:  0.10719823837280273\n",
      "Calculated log likelihood.\n",
      "iteration:  4\n",
      "Finished training propensity model:  0.00011205673217773438 (16000, 7)\n"
     ]
    },
    {
     "name": "stderr",
     "output_type": "stream",
     "text": [
      "\r",
      "  1%|          | 6/500 [00:00<00:44, 11.05it/s]"
     ]
    },
    {
     "name": "stdout",
     "output_type": "stream",
     "text": [
      "Finished training classification model:  0.10239458084106445\n",
      "Calculated log likelihood.\n",
      "iteration:  5\n",
      "Finished training propensity model:  0.00030875205993652344 (16000, 7)\n",
      "Finished training classification model:  0.05193209648132324\n",
      "Calculated log likelihood.\n",
      "iteration:  6\n",
      "Finished training propensity model:  0.0006263256072998047 (16000, 7)\n",
      "Finished training classification model:  0.06352066993713379\n",
      "Calculated log likelihood.\n",
      "iteration:  7\n",
      "Finished training propensity model:  0.00014138221740722656 (16000, 7)\n"
     ]
    },
    {
     "name": "stderr",
     "output_type": "stream",
     "text": [
      "  2%|▏         | 10/500 [00:00<00:38, 12.70it/s]"
     ]
    },
    {
     "name": "stdout",
     "output_type": "stream",
     "text": [
      "Finished training classification model:  0.07371068000793457\n",
      "Calculated log likelihood.\n",
      "iteration:  8\n",
      "Finished training propensity model:  0.00010395050048828125 (16000, 7)\n",
      "Finished training classification model:  0.06261777877807617\n",
      "Calculated log likelihood.\n",
      "iteration:  9\n",
      "Finished training propensity model:  8.940696716308594e-05 (16000, 7)\n",
      "Finished training classification model:  0.05792641639709473\n",
      "Calculated log likelihood.\n",
      "iteration:  10\n",
      "Finished training propensity model:  0.0001506805419921875 (16000, 7)\n"
     ]
    },
    {
     "name": "stderr",
     "output_type": "stream",
     "text": [
      "\r",
      "  2%|▏         | 12/500 [00:00<00:37, 13.09it/s]"
     ]
    },
    {
     "name": "stdout",
     "output_type": "stream",
     "text": [
      "Finished training classification model:  0.06704425811767578\n",
      "Calculated log likelihood.\n",
      "iteration:  11\n",
      "Finished training propensity model:  9.012222290039062e-05 (16000, 7)\n",
      "Finished training classification model:  0.060601234436035156\n",
      "Calculated log likelihood.\n",
      "iteration:  12\n",
      "Finished training propensity model:  9.846687316894531e-05 (16000, 7)\n",
      "Finished training classification model:  0.06065797805786133\n",
      "Calculated log likelihood.\n",
      "iteration:  13\n",
      "Finished training propensity model:  0.00013899803161621094 (16000, 7)\n"
     ]
    },
    {
     "name": "stderr",
     "output_type": "stream",
     "text": [
      "  3%|▎         | 16/500 [00:01<00:37, 12.85it/s]"
     ]
    },
    {
     "name": "stdout",
     "output_type": "stream",
     "text": [
      "Finished training classification model:  0.06392765045166016\n",
      "Calculated log likelihood.\n",
      "iteration:  14\n",
      "Finished training propensity model:  9.679794311523438e-05 (16000, 7)\n",
      "Finished training classification model:  0.07491922378540039\n",
      "Calculated log likelihood.\n",
      "iteration:  15\n",
      "Finished training propensity model:  8.726119995117188e-05 (16000, 7)\n",
      "Finished training classification model:  0.07651662826538086\n",
      "Calculated log likelihood.\n",
      "iteration:  16\n",
      "Finished training propensity model:  9.679794311523438e-05 (16000, 7)\n"
     ]
    },
    {
     "name": "stderr",
     "output_type": "stream",
     "text": [
      "\r",
      "  4%|▎         | 18/500 [00:01<00:37, 12.99it/s]"
     ]
    },
    {
     "name": "stdout",
     "output_type": "stream",
     "text": [
      "Finished training classification model:  0.06710672378540039\n",
      "Calculated log likelihood.\n",
      "iteration:  17\n",
      "Finished training propensity model:  8.893013000488281e-05 (16000, 7)\n",
      "Finished training classification model:  0.0654606819152832\n",
      "Calculated log likelihood.\n",
      "iteration:  18\n",
      "Finished training propensity model:  0.00010180473327636719 (16000, 7)\n",
      "Finished training classification model:  0.06800460815429688\n",
      "Calculated log likelihood.\n",
      "iteration:  19\n",
      "Finished training propensity model:  0.0001010894775390625 (16000, 7)\n"
     ]
    },
    {
     "name": "stderr",
     "output_type": "stream",
     "text": [
      "  4%|▍         | 22/500 [00:01<00:36, 13.14it/s]"
     ]
    },
    {
     "name": "stdout",
     "output_type": "stream",
     "text": [
      "Finished training classification model:  0.06780719757080078\n",
      "Calculated log likelihood.\n",
      "iteration:  20\n",
      "Finished training propensity model:  0.00010204315185546875 (16000, 7)\n",
      "Finished training classification model:  0.06671261787414551\n",
      "Calculated log likelihood.\n",
      "iteration:  21\n",
      "Finished training propensity model:  8.96453857421875e-05 (16000, 7)\n",
      "Finished training classification model:  0.06478738784790039\n",
      "Calculated log likelihood.\n",
      "iteration:  22\n",
      "Finished training propensity model:  9.584426879882812e-05 (16000, 7)\n"
     ]
    },
    {
     "name": "stderr",
     "output_type": "stream",
     "text": [
      "\r",
      "  5%|▍         | 24/500 [00:01<00:36, 13.14it/s]"
     ]
    },
    {
     "name": "stdout",
     "output_type": "stream",
     "text": [
      "Finished training classification model:  0.06998372077941895\n",
      "Calculated log likelihood.\n",
      "iteration:  23\n",
      "Finished training propensity model:  8.749961853027344e-05 (16000, 7)\n",
      "Finished training classification model:  0.0649716854095459\n",
      "Calculated log likelihood.\n",
      "iteration:  24\n",
      "Finished training propensity model:  9.5367431640625e-05 (16000, 7)\n",
      "Finished training classification model:  0.07234716415405273\n",
      "Calculated log likelihood.\n",
      "iteration:  25\n",
      "Finished training propensity model:  8.916854858398438e-05 (16000, 7)\n"
     ]
    },
    {
     "name": "stderr",
     "output_type": "stream",
     "text": [
      "\r",
      "  5%|▌         | 26/500 [00:02<00:37, 12.77it/s]"
     ]
    },
    {
     "name": "stdout",
     "output_type": "stream",
     "text": [
      "Finished training classification model:  0.07658767700195312\n",
      "Calculated log likelihood.\n",
      "iteration:  26\n",
      "Finished training propensity model:  9.655952453613281e-05 (16000, 7)\n",
      "Finished training classification model:  0.11171770095825195\n",
      "Calculated log likelihood.\n",
      "iteration:  27\n",
      "Finished training propensity model:  0.00038695335388183594 (16000, 7)\n"
     ]
    },
    {
     "name": "stderr",
     "output_type": "stream",
     "text": [
      "\r",
      "  6%|▌         | 28/500 [00:02<00:49,  9.46it/s]"
     ]
    },
    {
     "name": "stdout",
     "output_type": "stream",
     "text": [
      "Finished training classification model:  0.17551541328430176\n",
      "Calculated log likelihood.\n",
      "iteration:  28\n",
      "Finished training propensity model:  0.0006895065307617188 (16000, 7)\n",
      "Finished training classification model:  0.1207742691040039\n",
      "Calculated log likelihood.\n",
      "iteration:  29\n",
      "Finished training propensity model:  0.00013399124145507812 (16000, 7)\n"
     ]
    },
    {
     "name": "stderr",
     "output_type": "stream",
     "text": [
      "  6%|▋         | 32/500 [00:02<00:48,  9.68it/s]"
     ]
    },
    {
     "name": "stdout",
     "output_type": "stream",
     "text": [
      "Finished training classification model:  0.10930180549621582\n",
      "Calculated log likelihood.\n",
      "iteration:  30\n",
      "Finished training propensity model:  0.0001227855682373047 (16000, 7)\n",
      "Finished training classification model:  0.07318854331970215\n",
      "Calculated log likelihood.\n",
      "iteration:  31\n",
      "Finished training propensity model:  0.00021266937255859375 (16000, 7)\n",
      "Finished training classification model:  0.07773470878601074\n",
      "Calculated log likelihood.\n",
      "iteration:  32\n",
      "Finished training propensity model:  0.0001227855682373047 (16000, 7)\n"
     ]
    },
    {
     "name": "stderr",
     "output_type": "stream",
     "text": [
      "\r",
      "  7%|▋         | 34/500 [00:02<00:45, 10.29it/s]"
     ]
    },
    {
     "name": "stdout",
     "output_type": "stream",
     "text": [
      "Finished training classification model:  0.07909083366394043\n",
      "Calculated log likelihood.\n",
      "iteration:  33\n",
      "Finished training propensity model:  0.00035262107849121094 (16000, 7)\n",
      "Finished training classification model:  0.0711212158203125\n",
      "Calculated log likelihood.\n",
      "iteration:  34\n",
      "Finished training propensity model:  0.00017118453979492188 (16000, 7)\n",
      "Finished training classification model:  0.08043098449707031\n",
      "Calculated log likelihood.\n",
      "iteration:  35\n",
      "Finished training propensity model:  0.00032138824462890625 (16000, 7)\n"
     ]
    },
    {
     "name": "stderr",
     "output_type": "stream",
     "text": [
      "  8%|▊         | 38/500 [00:03<00:42, 10.90it/s]"
     ]
    },
    {
     "name": "stdout",
     "output_type": "stream",
     "text": [
      "Finished training classification model:  0.07338762283325195\n",
      "Calculated log likelihood.\n",
      "iteration:  36\n",
      "Finished training propensity model:  0.0004105567932128906 (16000, 7)\n",
      "Finished training classification model:  0.07656478881835938\n",
      "Calculated log likelihood.\n",
      "iteration:  37\n",
      "Finished training propensity model:  0.00035881996154785156 (16000, 7)\n",
      "Finished training classification model:  0.08014273643493652\n",
      "Calculated log likelihood.\n",
      "iteration:  38\n",
      "Finished training propensity model:  0.0001049041748046875 (16000, 7)\n"
     ]
    },
    {
     "name": "stderr",
     "output_type": "stream",
     "text": [
      "\r",
      "  8%|▊         | 40/500 [00:03<00:41, 11.14it/s]"
     ]
    },
    {
     "name": "stdout",
     "output_type": "stream",
     "text": [
      "Finished training classification model:  0.07247757911682129\n",
      "Calculated log likelihood.\n",
      "iteration:  39\n",
      "Finished training propensity model:  9.059906005859375e-05 (16000, 7)\n",
      "Finished training classification model:  0.07955312728881836\n",
      "Calculated log likelihood.\n",
      "iteration:  40\n",
      "Finished training propensity model:  9.942054748535156e-05 (16000, 7)\n",
      "Finished training classification model:  0.07831430435180664\n",
      "Calculated log likelihood.\n",
      "iteration:  41\n",
      "Finished training propensity model:  0.00014162063598632812 (16000, 7)\n"
     ]
    },
    {
     "name": "stderr",
     "output_type": "stream",
     "text": [
      "  9%|▉         | 44/500 [00:03<00:40, 11.22it/s]"
     ]
    },
    {
     "name": "stdout",
     "output_type": "stream",
     "text": [
      "Finished training classification model:  0.07998394966125488\n",
      "Calculated log likelihood.\n",
      "iteration:  42\n",
      "Finished training propensity model:  9.655952453613281e-05 (16000, 7)\n",
      "Finished training classification model:  0.08069658279418945\n",
      "Calculated log likelihood.\n",
      "iteration:  43\n",
      "Finished training propensity model:  8.821487426757812e-05 (16000, 7)\n",
      "Finished training classification model:  0.07747459411621094\n",
      "Calculated log likelihood.\n",
      "iteration:  44\n",
      "Finished training propensity model:  0.0001609325408935547 (16000, 7)\n"
     ]
    },
    {
     "name": "stderr",
     "output_type": "stream",
     "text": [
      "\r",
      "  9%|▉         | 46/500 [00:04<00:40, 11.26it/s]"
     ]
    },
    {
     "name": "stdout",
     "output_type": "stream",
     "text": [
      "Finished training classification model:  0.07846879959106445\n",
      "Calculated log likelihood.\n",
      "iteration:  45\n",
      "Finished training propensity model:  8.7738037109375e-05 (16000, 7)\n",
      "Finished training classification model:  0.07958817481994629\n",
      "Calculated log likelihood.\n",
      "iteration:  46\n",
      "Finished training propensity model:  9.655952453613281e-05 (16000, 7)\n",
      "Finished training classification model:  0.07531571388244629\n",
      "Calculated log likelihood.\n",
      "iteration:  47\n",
      "Finished training propensity model:  0.000152587890625 (16000, 7)\n"
     ]
    },
    {
     "name": "stderr",
     "output_type": "stream",
     "text": [
      " 10%|█         | 50/500 [00:04<00:39, 11.27it/s]"
     ]
    },
    {
     "name": "stdout",
     "output_type": "stream",
     "text": [
      "Finished training classification model:  0.07968592643737793\n",
      "Calculated log likelihood.\n",
      "iteration:  48\n",
      "Finished training propensity model:  9.799003601074219e-05 (16000, 7)\n",
      "Finished training classification model:  0.0864109992980957\n",
      "Calculated log likelihood.\n",
      "iteration:  49\n",
      "Finished training propensity model:  9.036064147949219e-05 (16000, 7)\n",
      "Finished training classification model:  0.07521224021911621\n",
      "Calculated log likelihood.\n",
      "iteration:  50\n",
      "Finished training propensity model:  0.00016117095947265625 (16000, 7)\n"
     ]
    },
    {
     "name": "stderr",
     "output_type": "stream",
     "text": [
      "\r",
      " 10%|█         | 52/500 [00:04<00:39, 11.31it/s]"
     ]
    },
    {
     "name": "stdout",
     "output_type": "stream",
     "text": [
      "Finished training classification model:  0.07938694953918457\n",
      "Calculated log likelihood.\n",
      "iteration:  51\n",
      "Finished training propensity model:  8.749961853027344e-05 (16000, 7)\n",
      "Finished training classification model:  0.07696747779846191\n",
      "Calculated log likelihood.\n",
      "iteration:  52\n",
      "Finished training propensity model:  0.0001964569091796875 (16000, 7)\n",
      "Finished training classification model:  0.07651972770690918\n",
      "Calculated log likelihood.\n",
      "iteration:  53\n",
      "Finished training propensity model:  8.726119995117188e-05 (16000, 7)\n"
     ]
    },
    {
     "name": "stderr",
     "output_type": "stream",
     "text": [
      " 11%|█         | 56/500 [00:04<00:38, 11.41it/s]"
     ]
    },
    {
     "name": "stdout",
     "output_type": "stream",
     "text": [
      "Finished training classification model:  0.08018684387207031\n",
      "Calculated log likelihood.\n",
      "iteration:  54\n",
      "Finished training propensity model:  9.679794311523438e-05 (16000, 7)\n",
      "Finished training classification model:  0.07497477531433105\n",
      "Calculated log likelihood.\n",
      "iteration:  55\n",
      "Finished training propensity model:  8.749961853027344e-05 (16000, 7)\n",
      "Finished training classification model:  0.08105683326721191\n",
      "Calculated log likelihood.\n",
      "iteration:  56\n",
      "Finished training propensity model:  9.655952453613281e-05 (16000, 7)\n"
     ]
    },
    {
     "name": "stderr",
     "output_type": "stream",
     "text": [
      "\r",
      " 12%|█▏        | 58/500 [00:05<00:39, 11.18it/s]"
     ]
    },
    {
     "name": "stdout",
     "output_type": "stream",
     "text": [
      "Finished training classification model:  0.08450770378112793\n",
      "Calculated log likelihood.\n",
      "iteration:  57\n",
      "Finished training propensity model:  0.0005600452423095703 (16000, 7)\n",
      "Finished training classification model:  0.08193349838256836\n",
      "Calculated log likelihood.\n",
      "iteration:  58\n",
      "Finished training propensity model:  0.0007410049438476562 (16000, 7)\n"
     ]
    },
    {
     "name": "stderr",
     "output_type": "stream",
     "text": [
      "\r",
      " 12%|█▏        | 60/500 [00:05<00:46,  9.40it/s]"
     ]
    },
    {
     "name": "stdout",
     "output_type": "stream",
     "text": [
      "Finished training classification model:  0.17870426177978516\n",
      "Calculated log likelihood.\n",
      "iteration:  59\n",
      "Finished training propensity model:  0.0003924369812011719 (16000, 7)\n",
      "Finished training classification model:  0.08048701286315918\n",
      "Calculated log likelihood.\n",
      "iteration:  60\n",
      "Finished training propensity model:  0.00014734268188476562 (16000, 7)\n"
     ]
    },
    {
     "name": "stderr",
     "output_type": "stream",
     "text": [
      " 13%|█▎        | 63/500 [00:05<00:44,  9.81it/s]"
     ]
    },
    {
     "name": "stdout",
     "output_type": "stream",
     "text": [
      "Finished training classification model:  0.0940694808959961\n",
      "Calculated log likelihood.\n",
      "iteration:  61\n",
      "Finished training propensity model:  0.00011682510375976562 (16000, 7)\n",
      "Finished training classification model:  0.08224368095397949\n",
      "Calculated log likelihood.\n",
      "iteration:  62\n",
      "Finished training propensity model:  0.000331878662109375 (16000, 7)\n",
      "Finished training classification model:  0.09131979942321777\n",
      "Calculated log likelihood.\n",
      "iteration:  63\n",
      "Finished training propensity model:  0.0001068115234375 (16000, 7)\n"
     ]
    },
    {
     "name": "stderr",
     "output_type": "stream",
     "text": [
      "\r",
      " 13%|█▎        | 65/500 [00:05<00:43, 10.04it/s]"
     ]
    },
    {
     "name": "stdout",
     "output_type": "stream",
     "text": [
      "Finished training classification model:  0.08585429191589355\n",
      "Calculated log likelihood.\n",
      "iteration:  64\n",
      "Finished training propensity model:  0.0003757476806640625 (16000, 7)\n",
      "Finished training classification model:  0.08488106727600098\n",
      "Calculated log likelihood.\n",
      "iteration:  65\n",
      "Finished training propensity model:  9.512901306152344e-05 (16000, 7)\n",
      "Finished training classification model:  0.08687996864318848\n",
      "Calculated log likelihood.\n",
      "iteration:  66\n",
      "Finished training propensity model:  0.00036025047302246094 (16000, 7)\n"
     ]
    },
    {
     "name": "stderr",
     "output_type": "stream",
     "text": [
      " 14%|█▍        | 69/500 [00:06<00:41, 10.37it/s]"
     ]
    },
    {
     "name": "stdout",
     "output_type": "stream",
     "text": [
      "Finished training classification model:  0.08466029167175293\n",
      "Calculated log likelihood.\n",
      "iteration:  67\n",
      "Finished training propensity model:  0.0001633167266845703 (16000, 7)\n",
      "Finished training classification model:  0.08316397666931152\n",
      "Calculated log likelihood.\n",
      "iteration:  68\n",
      "Finished training propensity model:  0.0005030632019042969 (16000, 7)\n",
      "Finished training classification model:  0.08524155616760254\n",
      "Calculated log likelihood.\n",
      "iteration:  69\n",
      "Finished training propensity model:  0.00011968612670898438 (16000, 7)\n"
     ]
    },
    {
     "name": "stderr",
     "output_type": "stream",
     "text": [
      "\r",
      " 14%|█▍        | 71/500 [00:06<00:38, 11.12it/s]"
     ]
    },
    {
     "name": "stdout",
     "output_type": "stream",
     "text": [
      "Finished training classification model:  0.06467890739440918\n",
      "Calculated log likelihood.\n",
      "iteration:  70\n",
      "Finished training propensity model:  8.296966552734375e-05 (16000, 7)\n",
      "Finished training classification model:  0.06920242309570312\n",
      "Calculated log likelihood.\n",
      "iteration:  71\n",
      "Finished training propensity model:  0.0001010894775390625 (16000, 7)\n",
      "Finished training classification model:  0.05142664909362793\n",
      "Calculated log likelihood.\n",
      "iteration:  72\n",
      "Finished training propensity model:  0.0003094673156738281 (16000, 7)\n"
     ]
    },
    {
     "name": "stderr",
     "output_type": "stream",
     "text": [
      "\r",
      " 15%|█▍        | 73/500 [00:06<00:36, 11.67it/s]"
     ]
    },
    {
     "name": "stdout",
     "output_type": "stream",
     "text": [
      "Finished training classification model:  0.08859443664550781\n",
      "Calculated log likelihood.\n",
      "iteration:  73\n",
      "Finished training propensity model:  0.00011134147644042969 (16000, 7)\n",
      "Finished training classification model:  0.0856785774230957\n",
      "Calculated log likelihood.\n",
      "iteration:  74\n",
      "Finished training propensity model:  0.0004031658172607422 (16000, 7)\n",
      "Finished training classification model:  0.08730459213256836\n",
      "Calculated log likelihood.\n"
     ]
    },
    {
     "name": "stderr",
     "output_type": "stream",
     "text": [
      "\r",
      " 15%|█▌        | 75/500 [00:06<00:38, 11.10it/s]"
     ]
    },
    {
     "name": "stdout",
     "output_type": "stream",
     "text": [
      "iteration:  75\n",
      "Finished training propensity model:  0.0004017353057861328 (16000, 7)\n",
      "Finished training classification model:  0.0933539867401123\n",
      "Calculated log likelihood.\n",
      "iteration:  76\n",
      "Finished training propensity model:  0.00024580955505371094 (16000, 7)\n",
      "Finished training classification model:  0.09108853340148926\n"
     ]
    },
    {
     "name": "stderr",
     "output_type": "stream",
     "text": [
      "\r",
      " 15%|█▌        | 77/500 [00:06<00:39, 10.59it/s]"
     ]
    },
    {
     "name": "stdout",
     "output_type": "stream",
     "text": [
      "Calculated log likelihood.\n",
      "iteration:  77\n",
      "Finished training propensity model:  0.00020384788513183594 (16000, 7)\n",
      "Finished training classification model:  0.10066533088684082\n",
      "Calculated log likelihood.\n",
      "iteration:  78\n",
      "Finished training propensity model:  0.0002932548522949219 (16000, 7)\n"
     ]
    },
    {
     "name": "stderr",
     "output_type": "stream",
     "text": [
      "\r",
      " 16%|█▌        | 79/500 [00:07<00:41, 10.22it/s]"
     ]
    },
    {
     "name": "stdout",
     "output_type": "stream",
     "text": [
      "Finished training classification model:  0.09488940238952637\n",
      "Calculated log likelihood.\n",
      "iteration:  79\n",
      "Finished training propensity model:  0.0001327991485595703 (16000, 7)\n",
      "Finished training classification model:  0.08641743659973145\n",
      "Calculated log likelihood.\n",
      "iteration:  80\n",
      "Finished training propensity model:  0.0026464462280273438 (16000, 7)\n"
     ]
    },
    {
     "name": "stderr",
     "output_type": "stream",
     "text": [
      " 16%|█▋        | 82/500 [00:07<00:45,  9.24it/s]"
     ]
    },
    {
     "name": "stdout",
     "output_type": "stream",
     "text": [
      "Finished training classification model:  0.12953996658325195\n",
      "Calculated log likelihood.\n",
      "iteration:  81\n",
      "Finished training propensity model:  0.0009529590606689453 (16000, 7)\n",
      "Finished training classification model:  0.10920333862304688\n",
      "Calculated log likelihood.\n",
      "iteration:  82\n",
      "Finished training propensity model:  0.0006022453308105469 (16000, 7)\n"
     ]
    },
    {
     "name": "stderr",
     "output_type": "stream",
     "text": [
      "\r",
      " 17%|█▋        | 84/500 [00:07<00:42,  9.77it/s]"
     ]
    },
    {
     "name": "stdout",
     "output_type": "stream",
     "text": [
      "Finished training classification model:  0.08869552612304688\n",
      "Calculated log likelihood.\n",
      "iteration:  83\n",
      "Finished training propensity model:  0.0004737377166748047 (16000, 7)\n",
      "Finished training classification model:  0.07508111000061035\n",
      "Calculated log likelihood.\n",
      "iteration:  84\n",
      "Finished training propensity model:  0.00011396408081054688 (16000, 7)\n",
      "Finished training classification model:  0.08034181594848633\n",
      "Calculated log likelihood.\n",
      "iteration:  85\n",
      "Finished training propensity model:  0.0003228187561035156 (16000, 7)\n"
     ]
    },
    {
     "name": "stderr",
     "output_type": "stream",
     "text": [
      " 18%|█▊        | 88/500 [00:08<00:39, 10.41it/s]"
     ]
    },
    {
     "name": "stdout",
     "output_type": "stream",
     "text": [
      "Finished training classification model:  0.07884788513183594\n",
      "Calculated log likelihood.\n",
      "iteration:  86\n",
      "Finished training propensity model:  0.00011992454528808594 (16000, 7)\n",
      "Finished training classification model:  0.08493375778198242\n",
      "Calculated log likelihood.\n",
      "iteration:  87\n",
      "Finished training propensity model:  0.00010395050048828125 (16000, 7)\n",
      "Finished training classification model:  0.0828242301940918\n",
      "Calculated log likelihood.\n",
      "iteration:  88\n",
      "Finished training propensity model:  9.918212890625e-05 (16000, 7)\n"
     ]
    },
    {
     "name": "stderr",
     "output_type": "stream",
     "text": [
      "\r",
      " 18%|█▊        | 90/500 [00:08<00:39, 10.28it/s]"
     ]
    },
    {
     "name": "stdout",
     "output_type": "stream",
     "text": [
      "Finished training classification model:  0.09126853942871094\n",
      "Calculated log likelihood.\n",
      "iteration:  89\n",
      "Finished training propensity model:  9.584426879882812e-05 (16000, 7)\n",
      "Finished training classification model:  0.09102773666381836\n",
      "Calculated log likelihood.\n",
      "iteration:  90\n",
      "Finished training propensity model:  0.002893209457397461 (16000, 7)\n"
     ]
    },
    {
     "name": "stderr",
     "output_type": "stream",
     "text": [
      "\r",
      " 18%|█▊        | 92/500 [00:08<00:40, 10.07it/s]"
     ]
    },
    {
     "name": "stdout",
     "output_type": "stream",
     "text": [
      "Finished training classification model:  0.09568667411804199\n",
      "Calculated log likelihood.\n",
      "iteration:  91\n",
      "Finished training propensity model:  0.0003268718719482422 (16000, 7)\n",
      "Finished training classification model:  0.09282112121582031\n",
      "Calculated log likelihood.\n",
      "iteration:  92\n",
      "Finished training propensity model:  0.0006327629089355469 (16000, 7)\n"
     ]
    },
    {
     "name": "stderr",
     "output_type": "stream",
     "text": [
      "\r",
      " 19%|█▉        | 94/500 [00:08<00:40,  9.92it/s]"
     ]
    },
    {
     "name": "stdout",
     "output_type": "stream",
     "text": [
      "Finished training classification model:  0.09494519233703613\n",
      "Calculated log likelihood.\n",
      "iteration:  93\n",
      "Finished training propensity model:  0.000270843505859375 (16000, 7)\n",
      "Finished training classification model:  0.09568643569946289\n",
      "Calculated log likelihood.\n",
      "iteration:  94\n",
      "Finished training propensity model:  9.822845458984375e-05 (16000, 7)\n"
     ]
    },
    {
     "name": "stderr",
     "output_type": "stream",
     "text": [
      " 19%|█▉        | 96/500 [00:08<00:42,  9.47it/s]"
     ]
    },
    {
     "name": "stdout",
     "output_type": "stream",
     "text": [
      "Finished training classification model:  0.1063840389251709\n",
      "Calculated log likelihood.\n",
      "iteration:  95\n",
      "Finished training propensity model:  9.703636169433594e-05 (16000, 7)\n",
      "Finished training classification model:  0.09038758277893066\n",
      "Calculated log likelihood.\n",
      "iteration:  96\n",
      "Finished training propensity model:  0.00014591217041015625 (16000, 7)\n"
     ]
    },
    {
     "name": "stderr",
     "output_type": "stream",
     "text": [
      " 20%|█▉        | 98/500 [00:09<00:42,  9.46it/s]"
     ]
    },
    {
     "name": "stdout",
     "output_type": "stream",
     "text": [
      "Finished training classification model:  0.09134554862976074\n",
      "Calculated log likelihood.\n",
      "iteration:  97\n",
      "Finished training propensity model:  9.608268737792969e-05 (16000, 7)\n",
      "Finished training classification model:  0.10032534599304199\n",
      "Calculated log likelihood.\n",
      "iteration:  98\n",
      "Finished training propensity model:  9.608268737792969e-05 (16000, 7)\n"
     ]
    },
    {
     "name": "stderr",
     "output_type": "stream",
     "text": [
      "\r",
      " 20%|█▉        | 99/500 [00:09<00:42,  9.50it/s]"
     ]
    },
    {
     "name": "stdout",
     "output_type": "stream",
     "text": [
      "Finished training classification model:  0.09395194053649902\n",
      "Calculated log likelihood.\n",
      "iteration:  99\n",
      "Finished training propensity model:  0.00013375282287597656 (16000, 7)\n",
      "Finished training classification model:  0.08723330497741699\n",
      "Calculated log likelihood.\n",
      "iteration:  100\n",
      "Finished training propensity model:  0.0003380775451660156 (16000, 7)\n"
     ]
    },
    {
     "name": "stderr",
     "output_type": "stream",
     "text": [
      "\r",
      " 20%|██        | 101/500 [00:09<00:51,  7.72it/s]"
     ]
    },
    {
     "name": "stdout",
     "output_type": "stream",
     "text": [
      "Finished training classification model:  0.2028825283050537\n",
      "Calculated log likelihood.\n",
      "iteration:  101\n",
      "Finished training propensity model:  0.0001342296600341797 (16000, 7)\n",
      "Finished training classification model:  0.09094095230102539\n",
      "Calculated log likelihood.\n",
      "iteration:  102\n",
      "Finished training propensity model:  0.0003287792205810547 (16000, 7)\n"
     ]
    },
    {
     "name": "stderr",
     "output_type": "stream",
     "text": [
      " 21%|██        | 104/500 [00:09<00:47,  8.38it/s]"
     ]
    },
    {
     "name": "stdout",
     "output_type": "stream",
     "text": [
      "Finished training classification model:  0.09673213958740234\n",
      "Calculated log likelihood.\n",
      "iteration:  103\n",
      "Finished training propensity model:  0.0007562637329101562 (16000, 7)\n",
      "Finished training classification model:  0.10226559638977051\n",
      "Calculated log likelihood.\n",
      "iteration:  104\n",
      "Finished training propensity model:  0.0004456043243408203 (16000, 7)\n"
     ]
    },
    {
     "name": "stderr",
     "output_type": "stream",
     "text": [
      "\r",
      " 21%|██        | 105/500 [00:10<00:46,  8.55it/s]"
     ]
    },
    {
     "name": "stdout",
     "output_type": "stream",
     "text": [
      "Finished training classification model:  0.08987903594970703\n",
      "Calculated log likelihood.\n",
      "iteration:  105\n",
      "Finished training propensity model:  0.0002567768096923828 (16000, 7)\n"
     ]
    },
    {
     "name": "stderr",
     "output_type": "stream",
     "text": [
      " 21%|██▏       | 107/500 [00:10<00:52,  7.49it/s]"
     ]
    },
    {
     "name": "stdout",
     "output_type": "stream",
     "text": [
      "Finished training classification model:  0.1920027732849121\n",
      "Calculated log likelihood.\n",
      "iteration:  106\n",
      "Finished training propensity model:  0.0003445148468017578 (16000, 7)\n",
      "Finished training classification model:  0.09012198448181152\n",
      "Calculated log likelihood.\n",
      "iteration:  107\n",
      "Finished training propensity model:  0.00016045570373535156 (16000, 7)\n"
     ]
    },
    {
     "name": "stderr",
     "output_type": "stream",
     "text": [
      "\r",
      " 22%|██▏       | 108/500 [00:10<01:09,  5.63it/s]"
     ]
    },
    {
     "name": "stdout",
     "output_type": "stream",
     "text": [
      "Finished training classification model:  0.2820911407470703\n",
      "Calculated log likelihood.\n",
      "iteration:  108\n",
      "Finished training propensity model:  9.822845458984375e-05 (16000, 7)\n"
     ]
    },
    {
     "name": "stderr",
     "output_type": "stream",
     "text": [
      " 22%|██▏       | 110/500 [00:10<01:06,  5.87it/s]"
     ]
    },
    {
     "name": "stdout",
     "output_type": "stream",
     "text": [
      "Finished training classification model:  0.23054957389831543\n",
      "Calculated log likelihood.\n",
      "iteration:  109\n",
      "Finished training propensity model:  0.00025773048400878906 (16000, 7)\n",
      "Finished training classification model:  0.10248875617980957\n",
      "Calculated log likelihood.\n",
      "iteration:  110\n",
      "Finished training propensity model:  0.00013375282287597656 (16000, 7)\n"
     ]
    },
    {
     "name": "stderr",
     "output_type": "stream",
     "text": [
      "\r",
      " 22%|██▏       | 111/500 [00:11<01:18,  4.97it/s]"
     ]
    },
    {
     "name": "stdout",
     "output_type": "stream",
     "text": [
      "Finished training classification model:  0.2541518211364746\n",
      "Calculated log likelihood.\n",
      "iteration:  111\n",
      "Finished training propensity model:  0.0001499652862548828 (16000, 7)\n"
     ]
    },
    {
     "name": "stderr",
     "output_type": "stream",
     "text": [
      "\r",
      " 22%|██▏       | 112/500 [00:11<01:22,  4.73it/s]"
     ]
    },
    {
     "name": "stdout",
     "output_type": "stream",
     "text": [
      "Finished training classification model:  0.22227191925048828\n",
      "Calculated log likelihood.\n",
      "iteration:  112\n",
      "Finished training propensity model:  9.632110595703125e-05 (16000, 7)\n",
      "Finished training classification model:  0.09087347984313965\n",
      "Calculated log likelihood.\n",
      "iteration:  113\n",
      "Finished training propensity model:  8.845329284667969e-05 (16000, 7)\n"
     ]
    },
    {
     "name": "stderr",
     "output_type": "stream",
     "text": [
      " 23%|██▎       | 115/500 [00:11<01:05,  5.90it/s]"
     ]
    },
    {
     "name": "stdout",
     "output_type": "stream",
     "text": [
      "Finished training classification model:  0.14397954940795898\n",
      "Calculated log likelihood.\n",
      "iteration:  114\n",
      "Finished training propensity model:  0.00017952919006347656 (16000, 7)\n",
      "Finished training classification model:  0.15015840530395508\n",
      "Calculated log likelihood.\n",
      "iteration:  115\n",
      "Finished training propensity model:  0.00010085105895996094 (16000, 7)\n"
     ]
    },
    {
     "name": "stderr",
     "output_type": "stream",
     "text": [
      "\r",
      " 23%|██▎       | 116/500 [00:12<01:02,  6.14it/s]"
     ]
    },
    {
     "name": "stdout",
     "output_type": "stream",
     "text": [
      "Finished training classification model:  0.13025164604187012\n",
      "Calculated log likelihood.\n",
      "iteration:  116\n",
      "Finished training propensity model:  9.393692016601562e-05 (16000, 7)\n"
     ]
    },
    {
     "name": "stderr",
     "output_type": "stream",
     "text": [
      "\r",
      " 23%|██▎       | 117/500 [00:12<01:10,  5.42it/s]"
     ]
    },
    {
     "name": "stdout",
     "output_type": "stream",
     "text": [
      "Finished training classification model:  0.22200632095336914\n",
      "Calculated log likelihood.\n",
      "iteration:  117\n",
      "Finished training propensity model:  0.00020432472229003906 (16000, 7)\n"
     ]
    },
    {
     "name": "stderr",
     "output_type": "stream",
     "text": [
      " 24%|██▍       | 119/500 [00:12<01:06,  5.71it/s]"
     ]
    },
    {
     "name": "stdout",
     "output_type": "stream",
     "text": [
      "Finished training classification model:  0.2327098846435547\n",
      "Calculated log likelihood.\n",
      "iteration:  118\n",
      "Finished training propensity model:  0.00010085105895996094 (16000, 7)\n",
      "Finished training classification model:  0.09815740585327148\n",
      "Calculated log likelihood.\n",
      "iteration:  119\n",
      "Finished training propensity model:  9.942054748535156e-05 (16000, 7)\n"
     ]
    },
    {
     "name": "stderr",
     "output_type": "stream",
     "text": [
      "\r",
      " 24%|██▍       | 120/500 [00:12<01:05,  5.76it/s]"
     ]
    },
    {
     "name": "stdout",
     "output_type": "stream",
     "text": [
      "Finished training classification model:  0.15905094146728516\n",
      "Calculated log likelihood.\n",
      "iteration:  120\n",
      "Finished training propensity model:  0.00010156631469726562 (16000, 7)\n"
     ]
    },
    {
     "name": "stderr",
     "output_type": "stream",
     "text": [
      " 24%|██▍       | 122/500 [00:13<01:14,  5.06it/s]"
     ]
    },
    {
     "name": "stdout",
     "output_type": "stream",
     "text": [
      "Finished training classification model:  0.2604515552520752\n",
      "Calculated log likelihood.\n",
      "iteration:  121\n",
      "Finished training propensity model:  0.00020194053649902344 (16000, 7)\n",
      "Finished training classification model:  0.16808342933654785\n",
      "Calculated log likelihood.\n",
      "iteration:  122\n",
      "Finished training propensity model:  0.00010251998901367188 (16000, 7)\n",
      "Finished training classification model:  0.19684457778930664\n"
     ]
    },
    {
     "name": "stderr",
     "output_type": "stream",
     "text": [
      "\r",
      " 25%|██▍       | 123/500 [00:13<01:16,  4.93it/s]"
     ]
    },
    {
     "name": "stdout",
     "output_type": "stream",
     "text": [
      "Calculated log likelihood.\n",
      "iteration:  123\n",
      "Finished training propensity model:  0.00020265579223632812 (16000, 7)\n",
      "Finished training classification model:  0.08431363105773926\n",
      "Calculated log likelihood.\n",
      "iteration:  124\n",
      "Finished training propensity model:  8.821487426757812e-05 (16000, 7)\n"
     ]
    },
    {
     "name": "stderr",
     "output_type": "stream",
     "text": [
      "\r",
      " 25%|██▌       | 125/500 [00:13<01:13,  5.11it/s]"
     ]
    },
    {
     "name": "stdout",
     "output_type": "stream",
     "text": [
      "Finished training classification model:  0.26348066329956055\n",
      "Calculated log likelihood.\n",
      "iteration:  125\n",
      "Finished training propensity model:  0.0001246929168701172 (16000, 7)\n"
     ]
    },
    {
     "name": "stderr",
     "output_type": "stream",
     "text": [
      " 25%|██▌       | 127/500 [00:14<01:29,  4.14it/s]"
     ]
    },
    {
     "name": "stdout",
     "output_type": "stream",
     "text": [
      "Finished training classification model:  0.5291824340820312\n",
      "Calculated log likelihood.\n",
      "iteration:  126\n",
      "Finished training propensity model:  0.00010132789611816406 (16000, 7)\n",
      "Finished training classification model:  0.115692138671875\n",
      "Calculated log likelihood.\n",
      "iteration:  127\n",
      "Finished training propensity model:  0.00010919570922851562 (16000, 7)\n"
     ]
    },
    {
     "name": "stderr",
     "output_type": "stream",
     "text": [
      "\r",
      " 26%|██▌       | 128/500 [00:14<01:22,  4.49it/s]"
     ]
    },
    {
     "name": "stdout",
     "output_type": "stream",
     "text": [
      "Finished training classification model:  0.15068697929382324\n",
      "Calculated log likelihood.\n",
      "iteration:  128\n",
      "Finished training propensity model:  0.00016117095947265625 (16000, 7)\n"
     ]
    },
    {
     "name": "stderr",
     "output_type": "stream",
     "text": [
      "\r",
      " 26%|██▌       | 129/500 [00:14<01:23,  4.44it/s]"
     ]
    },
    {
     "name": "stdout",
     "output_type": "stream",
     "text": [
      "Finished training classification model:  0.19625496864318848\n",
      "Calculated log likelihood.\n",
      "iteration:  129\n",
      "Finished training propensity model:  0.0001838207244873047 (16000, 7)\n"
     ]
    },
    {
     "name": "stderr",
     "output_type": "stream",
     "text": [
      " 26%|██▌       | 131/500 [00:15<01:18,  4.72it/s]"
     ]
    },
    {
     "name": "stdout",
     "output_type": "stream",
     "text": [
      "Finished training classification model:  0.28460049629211426\n",
      "Calculated log likelihood.\n",
      "iteration:  130\n",
      "Finished training propensity model:  0.00010132789611816406 (16000, 7)\n",
      "Finished training classification model:  0.11918997764587402\n",
      "Calculated log likelihood.\n",
      "iteration:  131\n",
      "Finished training propensity model:  0.00010085105895996094 (16000, 7)\n"
     ]
    },
    {
     "name": "stderr",
     "output_type": "stream",
     "text": [
      " 27%|██▋       | 133/500 [00:15<01:03,  5.75it/s]"
     ]
    },
    {
     "name": "stdout",
     "output_type": "stream",
     "text": [
      "Finished training classification model:  0.1724691390991211\n",
      "Calculated log likelihood.\n",
      "iteration:  132\n",
      "Finished training propensity model:  0.00022840499877929688 (16000, 7)\n",
      "Finished training classification model:  0.0889120101928711\n",
      "Calculated log likelihood.\n",
      "iteration:  133\n",
      "Finished training propensity model:  0.0001068115234375 (16000, 7)\n"
     ]
    },
    {
     "name": "stderr",
     "output_type": "stream",
     "text": [
      "\r",
      " 27%|██▋       | 134/500 [00:15<01:17,  4.75it/s]"
     ]
    },
    {
     "name": "stdout",
     "output_type": "stream",
     "text": [
      "Finished training classification model:  0.26546692848205566\n",
      "Calculated log likelihood.\n",
      "iteration:  134\n",
      "Finished training propensity model:  0.0002589225769042969 (16000, 7)\n"
     ]
    },
    {
     "name": "stderr",
     "output_type": "stream",
     "text": [
      "\r",
      " 27%|██▋       | 135/500 [00:16<01:26,  4.20it/s]"
     ]
    },
    {
     "name": "stdout",
     "output_type": "stream",
     "text": [
      "Finished training classification model:  0.2900683879852295\n",
      "Calculated log likelihood.\n",
      "iteration:  135\n",
      "Finished training propensity model:  0.00010895729064941406 (16000, 7)\n"
     ]
    },
    {
     "name": "stderr",
     "output_type": "stream",
     "text": [
      "\r",
      " 27%|██▋       | 136/500 [00:16<01:34,  3.85it/s]"
     ]
    },
    {
     "name": "stdout",
     "output_type": "stream",
     "text": [
      "Finished training classification model:  0.2624785900115967\n",
      "Calculated log likelihood.\n",
      "iteration:  136\n",
      "Finished training propensity model:  0.0004317760467529297 (16000, 7)\n"
     ]
    },
    {
     "name": "stderr",
     "output_type": "stream",
     "text": [
      "\r",
      " 27%|██▋       | 137/500 [00:16<01:27,  4.16it/s]"
     ]
    },
    {
     "name": "stdout",
     "output_type": "stream",
     "text": [
      "Finished training classification model:  0.1771397590637207\n",
      "Calculated log likelihood.\n",
      "iteration:  137\n",
      "Finished training propensity model:  0.00010132789611816406 (16000, 7)\n"
     ]
    },
    {
     "name": "stderr",
     "output_type": "stream",
     "text": [
      "\r",
      " 28%|██▊       | 138/500 [00:17<01:39,  3.65it/s]"
     ]
    },
    {
     "name": "stdout",
     "output_type": "stream",
     "text": [
      "Finished training classification model:  0.33527374267578125\n",
      "Calculated log likelihood.\n",
      "iteration:  138\n",
      "Finished training propensity model:  0.0001430511474609375 (16000, 7)\n",
      "Finished training classification model:  0.1811203956604004\n",
      "Calculated log likelihood.\n"
     ]
    },
    {
     "name": "stderr",
     "output_type": "stream",
     "text": [
      " 28%|██▊       | 140/500 [00:17<01:20,  4.48it/s]"
     ]
    },
    {
     "name": "stdout",
     "output_type": "stream",
     "text": [
      "iteration:  139\n",
      "Finished training propensity model:  0.00010013580322265625 (16000, 7)\n",
      "Finished training classification model:  0.15261602401733398\n",
      "Calculated log likelihood.\n",
      "iteration:  140\n",
      "Finished training propensity model:  0.00011181831359863281 (16000, 7)\n"
     ]
    },
    {
     "name": "stderr",
     "output_type": "stream",
     "text": [
      " 28%|██▊       | 142/500 [00:17<01:05,  5.44it/s]"
     ]
    },
    {
     "name": "stdout",
     "output_type": "stream",
     "text": [
      "Finished training classification model:  0.10399079322814941\n",
      "Calculated log likelihood.\n",
      "iteration:  141\n",
      "Finished training propensity model:  9.989738464355469e-05 (16000, 7)\n",
      "Finished training classification model:  0.14597439765930176\n",
      "Calculated log likelihood.\n",
      "iteration:  142\n",
      "Finished training propensity model:  0.000148773193359375 (16000, 7)\n"
     ]
    },
    {
     "name": "stderr",
     "output_type": "stream",
     "text": [
      "\r",
      " 29%|██▊       | 143/500 [00:18<01:17,  4.61it/s]"
     ]
    },
    {
     "name": "stdout",
     "output_type": "stream",
     "text": [
      "Finished training classification model:  0.2774980068206787\n",
      "Calculated log likelihood.\n",
      "iteration:  143\n",
      "Finished training propensity model:  0.0004298686981201172 (16000, 7)\n"
     ]
    },
    {
     "name": "stderr",
     "output_type": "stream",
     "text": [
      " 29%|██▉       | 145/500 [00:18<01:08,  5.19it/s]"
     ]
    },
    {
     "name": "stdout",
     "output_type": "stream",
     "text": [
      "Finished training classification model:  0.16223382949829102\n",
      "Calculated log likelihood.\n",
      "iteration:  144\n",
      "Finished training propensity model:  0.00015091896057128906 (16000, 7)\n",
      "Finished training classification model:  0.1401805877685547\n",
      "Calculated log likelihood.\n",
      "iteration:  145\n",
      "Finished training propensity model:  9.34600830078125e-05 (16000, 7)\n"
     ]
    },
    {
     "name": "stderr",
     "output_type": "stream",
     "text": [
      " 30%|██▉       | 148/500 [00:18<00:47,  7.46it/s]"
     ]
    },
    {
     "name": "stdout",
     "output_type": "stream",
     "text": [
      "Finished training classification model:  0.10170888900756836\n",
      "Calculated log likelihood.\n",
      "iteration:  146\n",
      "Finished training propensity model:  0.0001289844512939453 (16000, 7)\n",
      "Finished training classification model:  0.07406949996948242\n",
      "Calculated log likelihood.\n",
      "iteration:  147\n",
      "Finished training propensity model:  0.00033736228942871094 (16000, 7)\n",
      "Finished training classification model:  0.09677672386169434\n",
      "Calculated log likelihood.\n",
      "iteration:  148\n",
      "Finished training propensity model:  0.0001628398895263672 (16000, 7)\n"
     ]
    },
    {
     "name": "stderr",
     "output_type": "stream",
     "text": [
      "\r",
      " 30%|███       | 150/500 [00:18<00:47,  7.33it/s]"
     ]
    },
    {
     "name": "stdout",
     "output_type": "stream",
     "text": [
      "Finished training classification model:  0.09065651893615723\n",
      "Calculated log likelihood.\n",
      "iteration:  149\n",
      "Finished training propensity model:  8.249282836914062e-05 (16000, 7)\n",
      "Finished training classification model:  0.14740681648254395\n",
      "Calculated log likelihood.\n",
      "iteration:  150\n",
      "Finished training propensity model:  0.000225067138671875 (16000, 7)\n"
     ]
    },
    {
     "name": "stderr",
     "output_type": "stream",
     "text": [
      "\r",
      " 30%|███       | 152/500 [00:19<00:45,  7.66it/s]"
     ]
    },
    {
     "name": "stdout",
     "output_type": "stream",
     "text": [
      "Finished training classification model:  0.07736659049987793\n",
      "Calculated log likelihood.\n",
      "iteration:  151\n",
      "Finished training propensity model:  0.00036716461181640625 (16000, 7)\n",
      "Finished training classification model:  0.13534140586853027\n",
      "Calculated log likelihood.\n",
      "iteration:  152\n",
      "Finished training propensity model:  0.0003027915954589844 (16000, 7)\n"
     ]
    },
    {
     "name": "stderr",
     "output_type": "stream",
     "text": [
      "\r",
      " 31%|███       | 153/500 [00:19<01:04,  5.39it/s]"
     ]
    },
    {
     "name": "stdout",
     "output_type": "stream",
     "text": [
      "Finished training classification model:  0.38136959075927734\n",
      "Calculated log likelihood.\n",
      "iteration:  153\n",
      "Finished training propensity model:  0.0003883838653564453 (16000, 7)\n"
     ]
    },
    {
     "name": "stderr",
     "output_type": "stream",
     "text": [
      "\r",
      " 31%|███       | 154/500 [00:19<01:11,  4.82it/s]"
     ]
    },
    {
     "name": "stdout",
     "output_type": "stream",
     "text": [
      "Finished training classification model:  0.2466719150543213\n",
      "Calculated log likelihood.\n",
      "iteration:  154\n",
      "Finished training propensity model:  0.0002281665802001953 (16000, 7)\n"
     ]
    },
    {
     "name": "stderr",
     "output_type": "stream",
     "text": [
      " 31%|███       | 156/500 [00:20<01:09,  4.92it/s]"
     ]
    },
    {
     "name": "stdout",
     "output_type": "stream",
     "text": [
      "Finished training classification model:  0.23593854904174805\n",
      "Calculated log likelihood.\n",
      "iteration:  155\n",
      "Finished training propensity model:  9.489059448242188e-05 (16000, 7)\n",
      "Finished training classification model:  0.1515665054321289\n",
      "Calculated log likelihood.\n",
      "iteration:  156\n",
      "Finished training propensity model:  0.00010442733764648438 (16000, 7)\n"
     ]
    },
    {
     "name": "stderr",
     "output_type": "stream",
     "text": [
      " 32%|███▏      | 158/500 [00:20<01:00,  5.69it/s]"
     ]
    },
    {
     "name": "stdout",
     "output_type": "stream",
     "text": [
      "Finished training classification model:  0.16976022720336914\n",
      "Calculated log likelihood.\n",
      "iteration:  157\n",
      "Finished training propensity model:  9.655952453613281e-05 (16000, 7)\n",
      "Finished training classification model:  0.09878993034362793\n",
      "Calculated log likelihood.\n",
      "iteration:  158\n",
      "Finished training propensity model:  0.0002589225769042969 (16000, 7)\n"
     ]
    },
    {
     "name": "stderr",
     "output_type": "stream",
     "text": [
      "\r",
      " 32%|███▏      | 159/500 [00:20<01:02,  5.45it/s]"
     ]
    },
    {
     "name": "stdout",
     "output_type": "stream",
     "text": [
      "Finished training classification model:  0.15901827812194824\n",
      "Calculated log likelihood.\n",
      "iteration:  159\n",
      "Finished training propensity model:  0.00021219253540039062 (16000, 7)\n",
      "Finished training classification model:  0.14372920989990234\n",
      "Calculated log likelihood.\n"
     ]
    },
    {
     "name": "stderr",
     "output_type": "stream",
     "text": [
      " 32%|███▏      | 161/500 [00:21<00:58,  5.83it/s]"
     ]
    },
    {
     "name": "stdout",
     "output_type": "stream",
     "text": [
      "iteration:  160\n",
      "Finished training propensity model:  0.00018930435180664062 (16000, 7)\n",
      "Finished training classification model:  0.12947654724121094\n",
      "Calculated log likelihood.\n",
      "iteration:  161\n",
      "Finished training propensity model:  0.00017261505126953125 (16000, 7)\n"
     ]
    },
    {
     "name": "stderr",
     "output_type": "stream",
     "text": [
      " 33%|███▎      | 163/500 [00:21<00:55,  6.09it/s]"
     ]
    },
    {
     "name": "stdout",
     "output_type": "stream",
     "text": [
      "Finished training classification model:  0.15683555603027344\n",
      "Calculated log likelihood.\n",
      "iteration:  162\n",
      "Finished training propensity model:  9.894371032714844e-05 (16000, 7)\n",
      "Finished training classification model:  0.14087653160095215\n",
      "Calculated log likelihood.\n",
      "iteration:  163\n",
      "Finished training propensity model:  0.0001304149627685547 (16000, 7)\n"
     ]
    },
    {
     "name": "stderr",
     "output_type": "stream",
     "text": [
      " 33%|███▎      | 163/500 [00:21<00:44,  7.56it/s]\n"
     ]
    },
    {
     "name": "stdout",
     "output_type": "stream",
     "text": [
      "Finished training classification model:  0.09456634521484375\n",
      "Calculated log likelihood.\n"
     ]
    },
    {
     "name": "stderr",
     "output_type": "stream",
     "text": [
      "/data/ddmg/prism/.conda/envs/ipv_nfs/lib/python3.9/site-packages/sklearn/linear_model/_logistic.py:763: ConvergenceWarning: lbfgs failed to converge (status=1):\n",
      "STOP: TOTAL NO. of ITERATIONS REACHED LIMIT.\n",
      "\n",
      "Increase the number of iterations (max_iter) or scale the data as shown in:\n",
      "    https://scikit-learn.org/stable/modules/preprocessing.html\n",
      "Please also refer to the documentation for alternative solver options:\n",
      "    https://scikit-learn.org/stable/modules/linear_model.html#logistic-regression\n",
      "  n_iter_i = _check_optimize_result(\n"
     ]
    }
   ],
   "source": [
    "method = 'sar-em'\n",
    "if method == 'supervised':\n",
    "    results = supervised_rel_prior(x_train[g1_train_idxs], \n",
    "                                   x_train[g2_train_idxs],\n",
    "                                   y1_train, y2_train, x_test, g1_config)\n",
    "\n",
    "    pred_rel_prior, pred_g1_prior, pred_g2_prior, models = results\n",
    "    f1_model, f2_model = models\n",
    "\n",
    "elif method == 'negative':\n",
    "    results = supervised_rel_prior(x_train[g1_train_idxs], \n",
    "                                   x_train[g2_train_idxs],\n",
    "                                   s_train[g1_train_idxs],\n",
    "                                   s_train[g2_train_idxs], x_test, g1_config)\n",
    "\n",
    "    pred_rel_prior, pred_g1_prior, pred_g2_prior, models = results\n",
    "    f1_model, f2_model = models\n",
    "\n",
    "elif method == 'sar-em':\n",
    "    results = sar_em_rel_prior(x_train_norm[g1_train_idxs],\n",
    "                               x_train_norm[g2_train_idxs],\n",
    "                               s_train[g1_train_idxs],\n",
    "                               s_train[g2_train_idxs], x_test_norm, g1_config)\n",
    "\n",
    "    pred_rel_prior, pred_g1_prior, pred_g2_prior,  models = results\n",
    "    f1_model, f2_model = models\n",
    "    \n",
    "elif method == 'cdmm':\n",
    "    results  = cdmm(x_train_norm[g1_train_idxs], x_train_norm[g2_train_idxs],\n",
    "                s_train[g1_train_idxs], s_train[g2_train_idxs], g1_config)\n",
    "\n",
    "    pred_rel_prior, pred_g1_prior, pred_g2_prior, models = results\n",
    "    f1_model, f2_model = models\n",
    "    \n",
    "elif method == 'scar-km2':\n",
    "    results = scar_km2_rel_prior(x1_train, x2_train, s1_train, s2_train)\n",
    "    pred_rel_prior, pred_g1_prior, pred_g2_prior, models = results\n",
    "    f1_model, f2_model = models"
   ]
  },
  {
   "cell_type": "code",
   "execution_count": 41,
   "id": "c97681d5",
   "metadata": {},
   "outputs": [
    {
     "data": {
      "text/plain": [
       "Text(0.5, 0, 'Signed distance from hyperplane')"
      ]
     },
     "execution_count": 41,
     "metadata": {},
     "output_type": "execute_result"
    },
    {
     "data": {
      "image/png": "[encoded data removed]",
      "text/plain": [
       "<Figure size 864x288 with 3 Axes>"
      ]
     },
     "metadata": {},
     "output_type": "display_data"
    }
   ],
   "source": [
    "# Visualize predictions on training data\n",
    "n_dims = g1_config['n_attributes']\n",
    "y_pred = f1_model.model.predict_proba(x_train_norm[:,2:])[:,1]\n",
    "ortho_normal = np.expand_dims(1*np.ones(n_attributes), 0)\n",
    "features_train = np.dot(ortho_normal, x_train_norm[:,2:].T)\n",
    "normalization = np.dot(ortho_normal, ortho_normal.T)[0][0]\n",
    "features_train = features_train/normalization\n",
    "y_true = (1/(1 + np.exp(-features_train*1)))\n",
    "\n",
    "fig, axs = plt.subplots(1, 3, figsize=(12, 4))\n",
    "axs[0].scatter(features_train[0], y_pred, label='pred', alpha=.5)\n",
    "axs[0].set_title(\"Predicted P(y=1|x)\")\n",
    "axs[0].set_xlabel(\"Signed distance from hyperplane\")\n",
    "\n",
    "axs[1].scatter(features_train[0], y_train, label='true', alpha=.5)\n",
    "axs[1].set_title(\"Observed values of y for each x\")\n",
    "axs[1].set_xlabel(\"Signed distance from hyperplane\")\n",
    "\n",
    "axs[2].scatter(features_train[0], y_true, label='p(y)', alpha=.4)\n",
    "axs[2].set_title(\"True p(y=1|x)\")\n",
    "axs[2].set_xlabel(\"Signed distance from hyperplane\")"
   ]
  },
  {
   "cell_type": "code",
   "execution_count": 42,
   "id": "8c63566e",
   "metadata": {},
   "outputs": [
    {
     "name": "stdout",
     "output_type": "stream",
     "text": [
      "(1, 6000) (6000,)\n"
     ]
    },
    {
     "data": {
      "text/plain": [
       "<matplotlib.legend.Legend at 0x7f668403c670>"
      ]
     },
     "execution_count": 42,
     "metadata": {},
     "output_type": "execute_result"
    },
    {
     "data": {
      "image/png": "[encoded data removed]",
      "text/plain": [
       "<Figure size 432x288 with 1 Axes>"
      ]
     },
     "metadata": {},
     "output_type": "display_data"
    }
   ],
   "source": [
    "# Visualize predictions on test data \n",
    "y_pred = f1_model.predict_proba(x_test_norm)\n",
    "ortho_normal = np.expand_dims(1*np.ones(n_attributes), 0)\n",
    "features_test = np.dot(ortho_normal, x_test_norm[:,2:].T)\n",
    "normalization = np.dot(ortho_normal, ortho_normal.T)[0][0]\n",
    "features_test = features_test/normalization\n",
    "binarized_y_pred = (y_pred > .5).astype(int)\n",
    "print(features_test.shape, y_pred.shape)\n",
    "plt.hist(features_test[0, binarized_y_pred == 0], alpha=.5, label='Negative')\n",
    "plt.hist(features_test[0, binarized_y_pred == 1], alpha=.5, label='Positive')\n",
    "plt.legend()"
   ]
  },
  {
   "cell_type": "code",
   "execution_count": 45,
   "id": "b196eaed",
   "metadata": {},
   "outputs": [
    {
     "name": "stdout",
     "output_type": "stream",
     "text": [
      "Pred G1 Prior:  0.6573670058298918 Pred G2 Prior:  0.34814116743704737\n",
      "True G1 Prior:  0.666 True G2 Prior:  0.34525\n",
      "True Relative Prior:  1.9290369297610428\n",
      "Pred Relative Prior:  1.8882196859087634\n",
      "Rel Error: 0.9788406104504512\n"
     ]
    }
   ],
   "source": [
    "pred_rel_prior, pred_g1_prior, pred_g2_prior = eval_relative_prior(x_test, f1_model, \n",
    "                                                                   f2_model, g1_config['group1_idx'],\n",
    "                                                                   g1_config['n_groups'])\n",
    "true_g1_prior = y_test[g1_test_idxs].mean()\n",
    "true_g2_prior = y_test[g2_test_idxs].mean()\n",
    "print(\"Pred G1 Prior: \", pred_g1_prior, \"Pred G2 Prior: \", pred_g2_prior)\n",
    "print(\"True G1 Prior: \", true_g1_prior, \"True G2 Prior: \", true_g2_prior)\n",
    "print(\"True Relative Prior: \", true_g1_prior/true_g2_prior)\n",
    "print(\"Pred Relative Prior: \", pred_g1_prior/pred_g2_prior)\n",
    "print(\"Rel Error:\", (pred_g1_prior/pred_g2_prior) / (true_g1_prior/true_g2_prior) )"
   ]
  },
  {
   "cell_type": "markdown",
   "id": "57448245",
   "metadata": {},
   "source": [
    "# Train our model"
   ]
  },
  {
   "cell_type": "code",
   "execution_count": 15,
   "id": "cd83c0c6",
   "metadata": {},
   "outputs": [
    {
     "name": "stderr",
     "output_type": "stream",
     "text": [
      "100%|██████████| 1000/1000 [00:21<00:00, 46.92it/s]\n"
     ]
    },
    {
     "ename": "TypeError",
     "evalue": "eval_relative_prior() missing 3 required positional arguments: 'f2_model', 'group1_idx', and 'n_groups'",
     "output_type": "error",
     "traceback": [
      "\u001b[0;31m---------------------------------------------------------------------------\u001b[0m",
      "\u001b[0;31mTypeError\u001b[0m                                 Traceback (most recent call last)",
      "\u001b[0;32m<ipython-input-15-0bbc9f28925e>\u001b[0m in \u001b[0;36m<module>\u001b[0;34m\u001b[0m\n\u001b[1;32m      5\u001b[0m \u001b[0mg1_config\u001b[0m\u001b[0;34m[\u001b[0m\u001b[0;34m'n_epochs'\u001b[0m\u001b[0;34m]\u001b[0m \u001b[0;34m=\u001b[0m \u001b[0;36m1000\u001b[0m\u001b[0;34m\u001b[0m\u001b[0;34m\u001b[0m\u001b[0m\n\u001b[1;32m      6\u001b[0m \u001b[0mf_model\u001b[0m\u001b[0;34m,\u001b[0m \u001b[0mlosses\u001b[0m\u001b[0;34m,\u001b[0m \u001b[0minfo\u001b[0m \u001b[0;34m=\u001b[0m \u001b[0mtrain_relative_estimator\u001b[0m\u001b[0;34m(\u001b[0m\u001b[0mx_train\u001b[0m\u001b[0;34m,\u001b[0m \u001b[0ms_train\u001b[0m\u001b[0;34m,\u001b[0m \u001b[0mx_test\u001b[0m\u001b[0;34m,\u001b[0m \u001b[0ms_test\u001b[0m\u001b[0;34m,\u001b[0m \u001b[0mg1_config\u001b[0m\u001b[0;34m,\u001b[0m \u001b[0msave_model\u001b[0m\u001b[0;34m=\u001b[0m\u001b[0;32mTrue\u001b[0m\u001b[0;34m)\u001b[0m\u001b[0;34m\u001b[0m\u001b[0;34m\u001b[0m\u001b[0m\n\u001b[0;32m----> 7\u001b[0;31m \u001b[0mpred_rel_prior\u001b[0m\u001b[0;34m,\u001b[0m \u001b[0mpred_g1_prior\u001b[0m\u001b[0;34m,\u001b[0m \u001b[0mpred_g2_prior\u001b[0m \u001b[0;34m=\u001b[0m \u001b[0meval_relative_prior\u001b[0m\u001b[0;34m(\u001b[0m\u001b[0mx_test\u001b[0m\u001b[0;34m,\u001b[0m \u001b[0mf_model\u001b[0m\u001b[0;34m)\u001b[0m\u001b[0;34m\u001b[0m\u001b[0;34m\u001b[0m\u001b[0m\n\u001b[0m\u001b[1;32m      8\u001b[0m \u001b[0mplt\u001b[0m\u001b[0;34m.\u001b[0m\u001b[0mplot\u001b[0m\u001b[0;34m(\u001b[0m\u001b[0mlosses\u001b[0m\u001b[0;34m)\u001b[0m\u001b[0;34m\u001b[0m\u001b[0;34m\u001b[0m\u001b[0m\n\u001b[1;32m      9\u001b[0m \u001b[0mplt\u001b[0m\u001b[0;34m.\u001b[0m\u001b[0mxlabel\u001b[0m\u001b[0;34m(\u001b[0m\u001b[0;34m\"Epochs\"\u001b[0m\u001b[0;34m)\u001b[0m\u001b[0;34m\u001b[0m\u001b[0;34m\u001b[0m\u001b[0m\n",
      "\u001b[0;31mTypeError\u001b[0m: eval_relative_prior() missing 3 required positional arguments: 'f2_model', 'group1_idx', and 'n_groups'"
     ]
    }
   ],
   "source": [
    "# Set regularization parameter\n",
    "g1_config['estimator_type'] = 'logreg'\n",
    "g1_config['optimizer'] = 'Adam'\n",
    "g1_config['group_weights'] = (1, 1)\n",
    "g1_config['n_epochs'] = 1000\n",
    "f_model, losses, info = train_relative_estimator(x_train, s_train, x_test, s_test, g1_config, save_model=True)\n",
    "# pred_rel_prior, pred_g1_prior, pred_g2_prior = eval_relative_prior(x_test, f_model)\n",
    "plt.plot(losses)\n",
    "plt.xlabel(\"Epochs\")\n",
    "plt.ylabel(\"CE Loss\")"
   ]
  },
  {
   "cell_type": "code",
   "execution_count": 16,
   "id": "9133faaf",
   "metadata": {},
   "outputs": [
    {
     "name": "stdout",
     "output_type": "stream",
     "text": [
      "0.7743670761477282 0.37612493253438795\n"
     ]
    }
   ],
   "source": [
    "print(info['auc'], info['auprc'])"
   ]
  },
  {
   "cell_type": "code",
   "execution_count": 8,
   "id": "9d3c9a7c",
   "metadata": {},
   "outputs": [
    {
     "data": {
      "text/plain": [
       "<matplotlib.legend.Legend at 0x7f985c13ddc0>"
      ]
     },
     "execution_count": 8,
     "metadata": {},
     "output_type": "execute_result"
    },
    {
     "data": {
      "image/png": "[encoded data removed]",
      "text/plain": [
       "<Figure size 432x288 with 1 Axes>"
      ]
     },
     "metadata": {},
     "output_type": "display_data"
    }
   ],
   "source": [
    "# Visual check to see if the same decision rule is learned for both group 1 & group 2\n",
    "y1_test_pred = f_model.estimate_p_y(torch.Tensor(x_test[g1_test_idxs,2:]).cuda()).detach().cpu().numpy().squeeze()\n",
    "y2_test_pred = f_model.estimate_p_y(torch.Tensor(x_test[g2_test_idxs,2:]).cuda()).detach().cpu().numpy().squeeze()\n",
    "plt.scatter(x_test[g1_test_idxs,2], y1_test_pred,  alpha=.5, label='Group 1 Model')\n",
    "plt.scatter(x_test[g2_test_idxs,2], y2_test_pred, alpha=.5, label='Group 2 Model')\n",
    "plt.legend()"
   ]
  },
  {
   "cell_type": "code",
   "execution_count": 11,
   "id": "59cc58a1",
   "metadata": {},
   "outputs": [
    {
     "data": {
      "text/plain": [
       "(0.4308337, 0.43624999999999997)"
      ]
     },
     "execution_count": 11,
     "metadata": {},
     "output_type": "execute_result"
    }
   ],
   "source": [
    "np.mean(y1_test_pred) + np.mean(y2_test_pred), np.mean(s1_train) + np.mean(s2_train)"
   ]
  },
  {
   "cell_type": "code",
   "execution_count": 18,
   "id": "7a365760",
   "metadata": {},
   "outputs": [
    {
     "data": {
      "text/plain": [
       "(Parameter containing:\n",
       " tensor([[0.2102, 0.2028, 0.2323, 0.1941, 0.2035]], device='cuda:0',\n",
       "        requires_grad=True),\n",
       " Parameter containing:\n",
       " tensor([0.0042], device='cuda:0', requires_grad=True),\n",
       " tensor([[0.8029, 0.6358]], device='cuda:0', grad_fn=<SigmoidBackward>))"
      ]
     },
     "execution_count": 18,
     "metadata": {},
     "output_type": "execute_result"
    }
   ],
   "source": [
    "# Looking at weights - based on generative model, weights are equal to one another in the true solution\n",
    "f_model.p_y_coeffs.weight, f_model.p_y_coeffs.bias, f_model.get_c_g()"
   ]
  },
  {
   "cell_type": "code",
   "execution_count": 19,
   "id": "ede9a9ba",
   "metadata": {},
   "outputs": [
    {
     "data": {
      "text/plain": [
       "<matplotlib.legend.Legend at 0x7f6a681dd1f0>"
      ]
     },
     "execution_count": 19,
     "metadata": {},
     "output_type": "execute_result"
    },
    {
     "data": {
      "image/png": "[encoded data removed]",
      "text/plain": [
       "<Figure size 432x288 with 1 Axes>"
      ]
     },
     "metadata": {},
     "output_type": "display_data"
    }
   ],
   "source": [
    "# Plot p(s|x)\n",
    "s1_test_pred = f_model(torch.Tensor(x_test[g1_test_idxs]).cuda()).detach().cpu().numpy().squeeze()\n",
    "s2_test_pred = f_model(torch.Tensor(x_test[g2_test_idxs]).cuda()).detach().cpu().numpy().squeeze()\n",
    "\n",
    "plt.scatter(x_test[g1_test_idxs,2], s1_test_pred,  alpha=.5, label='Group 1 Model')\n",
    "plt.scatter(x_test[g2_test_idxs,2],s2_test_pred, alpha=.5, label='Group 2 Model')\n",
    "plt.legend()"
   ]
  },
  {
   "cell_type": "code",
   "execution_count": 20,
   "id": "072c24af",
   "metadata": {},
   "outputs": [
    {
     "name": "stdout",
     "output_type": "stream",
     "text": [
      "Pred G1 Prior:  0.6492879390716553 Pred G2 Prior:  0.3422531485557556\n",
      "True G1 Prior:  0.6555 True G2 Prior:  0.34425\n",
      "True Relative Prior:  1.904139433551198\n",
      "Pred Relative Prior:  1.8970985412597656\n"
     ]
    }
   ],
   "source": [
    "true_g1_prior = y_test[g1_test_idxs].mean()\n",
    "true_g2_prior = y_test[g2_test_idxs].mean()\n",
    "print(\"Pred G1 Prior: \", pred_g1_prior, \"Pred G2 Prior: \", pred_g2_prior)\n",
    "print(\"True G1 Prior: \", true_g1_prior, \"True G2 Prior: \", true_g2_prior)\n",
    "print(\"True Relative Prior: \", true_g1_prior/true_g2_prior)\n",
    "print(\"Pred Relative Prior: \", pred_rel_prior)"
   ]
  },
  {
   "cell_type": "markdown",
   "id": "16b88549",
   "metadata": {},
   "source": [
    "## Train an unconstrained model"
   ]
  },
  {
   "cell_type": "code",
   "execution_count": 34,
   "id": "36087a87",
   "metadata": {},
   "outputs": [
    {
     "data": {
      "text/plain": [
       "(0.772224281472956, 0.3740141532111608)"
      ]
     },
     "execution_count": 34,
     "metadata": {},
     "output_type": "execute_result"
    }
   ],
   "source": [
    "from sklearn.linear_model import LogisticRegression\n",
    "lr = LogisticRegression()\n",
    "lr.fit(x_train, s_train)\n",
    "\n",
    "from sklearn.metrics import roc_auc_score, average_precision_score\n",
    "preds = lr.predict_proba(x_test)[:,1]\n",
    "roc_auc_score(s_test, preds), average_precision_score(s_test, preds)"
   ]
  },
  {
   "cell_type": "code",
   "execution_count": 32,
   "id": "d46d175c",
   "metadata": {},
   "outputs": [
    {
     "data": {
      "text/plain": [
       "(6000,)"
      ]
     },
     "execution_count": 32,
     "metadata": {},
     "output_type": "execute_result"
    }
   ],
   "source": [
    "lr.predict_proba(x_test)[:,1].shape"
   ]
  },
  {
   "cell_type": "code",
   "execution_count": 33,
   "id": "5fee67eb",
   "metadata": {},
   "outputs": [
    {
     "data": {
      "text/plain": [
       "(6000,)"
      ]
     },
     "execution_count": 33,
     "metadata": {},
     "output_type": "execute_result"
    }
   ],
   "source": [
    "s_test.shape"
   ]
  },
  {
   "cell_type": "code",
   "execution_count": 28,
   "id": "6804bf73",
   "metadata": {},
   "outputs": [
    {
     "data": {
      "text/plain": [
       "((6000, 7), (8000,), (6000,))"
      ]
     },
     "execution_count": 28,
     "metadata": {},
     "output_type": "execute_result"
    }
   ],
   "source": [
    "x_test.shape, s_test.shape, y_test.shape"
   ]
  },
  {
   "cell_type": "code",
   "execution_count": null,
   "id": "693fcb00",
   "metadata": {},
   "outputs": [],
   "source": []
  }
 ],
 "metadata": {
  "kernelspec": {
   "display_name": "Python 3",
   "language": "python",
   "name": "python3"
  },
  "language_info": {
   "codemirror_mode": {
    "name": "ipython",
    "version": 3
   },
   "file_extension": ".py",
   "mimetype": "text/x-python",
   "name": "python",
   "nbconvert_exporter": "python",
   "pygments_lexer": "ipython3",
   "version": "3.9.6"
  }
 },
 "nbformat": 4,
 "nbformat_minor": 5
}
