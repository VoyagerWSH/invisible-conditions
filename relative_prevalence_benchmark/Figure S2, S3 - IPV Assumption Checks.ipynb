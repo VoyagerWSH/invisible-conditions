{
 "cells": [
  {
   "cell_type": "code",
   "execution_count": 2,
   "id": "ea29939b",
   "metadata": {},
   "outputs": [
    {
     "name": "stdout",
     "output_type": "stream",
     "text": [
      "The autoreload extension is already loaded. To reload it, use:\n",
      "  %reload_ext autoreload\n",
      "Using GPU:0\n"
     ]
    }
   ],
   "source": [
    "%load_ext autoreload\n",
    "%autoreload 2\n",
    "import sys\n",
    "import torch \n",
    "import itertools\n",
    "import numpy as np\n",
    "import pandas as pd\n",
    "from tqdm import tqdm\n",
    "sys.path.insert(0, '../MIMIC_notebooks')\n",
    "sys.path.insert(0, '../')\n",
    "\n",
    "\n",
    "from scipy.sparse import load_npz\n",
    "from sklearn.model_selection import train_test_split\n",
    "\n",
    "from sarpu.pu_learning import *\n",
    "from sarpu.PUmodels import LogisticRegressionPU\n",
    "from km.Kernel_MPE_grad_threshold import wrapper as ramaswamy\n",
    "\n",
    "from gpu_utils import restrict_GPU_pytorch\n",
    "from method import load_model, get_model_fname\n",
    "from baseline_params import penalty, solver, fit_intercept\n",
    "\n",
    "from mimic_helper_fs import MODE_GROUP_MAP, preprocess_mimic_data, normalize_x, get_group_weights\n",
    "from paths import FIG_DIR, RESULTS_DIR\n",
    "from sklearn.calibration import calibration_curve\n",
    "from mimic_helper_fs import prettify_group_name, prettify_category_name\n",
    "import matplotlib.pyplot as plt\n",
    "import seaborn as sns\n",
    "sns.set_style('white')\n",
    "\n",
    "restrict_GPU_pytorch('0')\n",
    "# Marital status lamda is 0 \n",
    "# Insurance is  1e-6, depends on the seed\n",
    "# Ethnicity is.. undetermined?"
   ]
  },
  {
   "cell_type": "markdown",
   "id": "fceed27f",
   "metadata": {},
   "source": [
    "### Visual comparison of Unconstrained model and PURPLE"
   ]
  },
  {
   "cell_type": "code",
   "execution_count": 4,
   "id": "cffbff18",
   "metadata": {},
   "outputs": [],
   "source": [
    "dfs = []\n",
    "\n",
    "method = 'ours'\n",
    "val_loss_key = 'auprc'\n",
    "categories = ['marital_status', 'ethnicity', 'insurance']\n",
    "modes = MODE_GROUP_MAP.keys()\n",
    "\n",
    "for i, category in enumerate(categories):\n",
    "    df = pd.read_csv(RESULTS_DIR + \"real_ipv_\" + method + \"_\" + category + \"_results_teststratified_by_none\")\n",
    "    df = df.groupby('seed').first().reset_index()\n",
    "    df['estimator_type'] = 'PURPLE'\n",
    "    dfs.append(df)\n",
    "purple_df = pd.concat(dfs)\n",
    "purple_df = purple_df.sort_values([val_loss_key], ascending=False).groupby(['category', 'group', 'seed']).head(1)\n",
    "purple_df = purple_df.reset_index()\n",
    "\n",
    "sklearn_uc_df = pd.read_csv(RESULTS_DIR + 'unconstrained_ipv_results_sklearn' )\n",
    "sklearn_uc_df = sklearn_uc_df.sort_values([val_loss_key], ascending=False).groupby(['category', 'seed']).head(1)\n",
    "sklearn_uc_df = sklearn_uc_df.reset_index()\n",
    "sklearn_uc_df['estimator_type'] = 'Unconstrained'\n",
    "pytorch_uc_df = pd.read_csv(RESULTS_DIR + 'unconstrained_ipv_results' )\n",
    "pytorch_uc_df['estimator_type'] = 'pytorch_unconstrained' \n",
    "# uc_df['estimator_type'] = 'unconstrained'\n",
    "all_results_df = pd.concat([sklearn_uc_df, purple_df])"
   ]
  },
  {
   "cell_type": "code",
   "execution_count": 5,
   "id": "2c442fe0",
   "metadata": {},
   "outputs": [
    {
     "data": {
      "image/png": "[encoded data removed]",
      "text/plain": [
       "<Figure size 576x288 with 2 Axes>"
      ]
     },
     "metadata": {},
     "output_type": "display_data"
    }
   ],
   "source": [
    "fig, axs = plt.subplots(1, 2, figsize=(8, 4))\n",
    "for i, val_loss_key in enumerate(['auc', 'auprc']):\n",
    "    ax = axs[i]\n",
    "    all_results_df['pretty_category'] = all_results_df['category'].apply(lambda x : prettify_category_name[x])\n",
    "    sns.pointplot(x='pretty_category', hue='estimator_type', y=val_loss_key, dodge=.5, join=False, \n",
    "                  data=all_results_df, ax=ax)\n",
    "    if i != 0:\n",
    "        ax.legend().remove()\n",
    "        ax.set_ylim(0, .3)\n",
    "        ax.set_ylabel(\"AUPRC\")\n",
    "    else:\n",
    "        ax.set_ylim(.7, 1)\n",
    "        ax.set_ylabel(\"AUC\")\n",
    "        ax.legend_.set_title(None)\n",
    "\n",
    "#         ax.legend().texts[0].set_text(\"\")\n",
    "#         handles, labels = ax.get_legend_handles_labels()\n",
    "#         ax.legend(handles=handles[1:], labels=labels[1:])\n",
    "    ax.set_xlabel(\"\")\n",
    "    \n",
    "plt.tight_layout()\n",
    "plt.savefig(FIG_DIR + \"/ipv_auprc_auc_checks.pdf\", dpi=300)"
   ]
  },
  {
   "cell_type": "markdown",
   "id": "80e5a428",
   "metadata": {},
   "source": [
    "### Print out table of AUCs and AUPRCs"
   ]
  },
  {
   "cell_type": "code",
   "execution_count": 236,
   "id": "36f750e3",
   "metadata": {},
   "outputs": [],
   "source": [
    "# Unconstrained\n",
    "pd.set_option('precision', 3)\n",
    "\n",
    "df = sklearn_uc_df\n",
    "df['estimator_type'] = 'Unconstrained'\n",
    "mean_df = df.groupby('category').mean().reset_index()\n",
    "std_df = df.groupby('category').std().reset_index()\n",
    "\n",
    "mean_df.rename(columns={'auc': 'auc_mean', 'auprc': 'auprc_mean'}, inplace=True)\n",
    "std_df.rename(columns={'auc': 'auc_std', 'auprc': 'auprc_std'}, inplace=True)\n",
    "\n",
    "def combine_columns(auc_mean, auc_std):\n",
    "    return \"$\" + '{0:.3f}'.format(auc_mean) + ' ± ' + '{0:.3f}'.format(auc_std) + \"$\"\n",
    "\n",
    "def combine_mean_std_df(mean_df, std_df):\n",
    "    df = pd.merge(mean_df, std_df, left_on='category', right_on='category')\n",
    "    df['auc'] = df.apply(lambda row: combine_columns(row['auc_mean'], row['auc_std']), axis=1)\n",
    "    df['auprc'] = df.apply(lambda row: combine_columns(row['auprc_mean'], row['auprc_std']), axis=1)\n",
    "    return df\n",
    "uc_df = combine_mean_std_df(mean_df, std_df)\n",
    "uc_df.index = uc_df.category\n",
    "uc_df.rename(columns={'auc': 'Unconstrained (AUC)', \n",
    "                   'auprc': 'Unconstrained (AUPRC)'}, inplace=True)\n",
    "uc_df = uc_df[['Unconstrained (AUC)', 'Unconstrained (AUPRC)']].T.reset_index()"
   ]
  },
  {
   "cell_type": "code",
   "execution_count": 237,
   "id": "f44ab9c7",
   "metadata": {},
   "outputs": [],
   "source": [
    "mean_df = purple_df.groupby('category').mean().reset_index()[['category', 'auc', 'auprc']]\n",
    "std_df = purple_df.groupby('category').std().reset_index()[['category', 'auc', 'auprc']]\n",
    "\n",
    "mean_df.rename(columns={'auc': 'auc_mean', 'auprc': 'auprc_mean'}, inplace=True)\n",
    "std_df.rename(columns={'auc': 'auc_std', 'auprc': 'auprc_std'}, inplace=True)\n",
    "\n",
    "purple_means_df = combine_mean_std_df(mean_df, std_df)\n",
    "purple_means_df.index = purple_means_df.category\n",
    "purple_means_df.rename(columns={'auc': '\\texttt{PURPLE} (AUC)', \n",
    "                   'auprc': '\\texttt{PURPLE} (AUPRC)'}, inplace=True)\n",
    "purple_means_df = purple_means_df[['\\texttt{PURPLE} (AUC)', '\\texttt{PURPLE} (AUPRC)']].T.reset_index()"
   ]
  },
  {
   "cell_type": "code",
   "execution_count": 238,
   "id": "bb7868b0",
   "metadata": {
    "scrolled": true
   },
   "outputs": [
    {
     "name": "stdout",
     "output_type": "stream",
     "text": [
      "\\begin{tabular}{r|llll}\n",
      "\\toprule\n",
      "                   index &        Ethnicity &        Insurance &   Marital Status \\\\\n",
      "\\midrule\n",
      "   \\texttt{PURPLE} (AUC) &  $0.866 \\pm 0.047$ &  $0.862 \\pm 0.045$ &  $0.880 \\pm 0.030$ \\\\\n",
      " \\texttt{PURPLE} (AUPRC) &  $0.135 \\pm 0.092$ &  $0.123 \\pm 0.082$ &  $0.158 \\pm 0.089$ \\\\\n",
      "     Unconstrained (AUC) &  $0.863 \\pm 0.043$ &  $0.859 \\pm 0.041$ &  $0.870 \\pm 0.040$ \\\\\n",
      "   Unconstrained (AUPRC) &  $0.088 \\pm 0.049$ &  $0.083 \\pm 0.034$ &  $0.083 \\pm 0.056$ \\\\\n",
      "\\bottomrule\n",
      "\\end{tabular}\n",
      "\n"
     ]
    }
   ],
   "source": [
    "df = pd.concat([purple_means_df, uc_df], ignore_index=True, axis=0)\n",
    "df.rename(columns={\"ethnicity\":\"Ethnicity\", \n",
    "                   \"insurance\":\"Insurance\",\n",
    "                   \"marital_status\":\"Marital Status\"\n",
    "                  }, inplace=True)\n",
    "latex_str = df.to_latex(escape=False, column_format=\"r|llll\", index=False)\n",
    "latex_str = latex_str.replace(\"±\", \"\\pm\")\n",
    "print(latex_str)"
   ]
  },
  {
   "cell_type": "markdown",
   "id": "7322841d",
   "metadata": {},
   "source": [
    "### T-Test for Significant Differences in AUPRC / AUC"
   ]
  },
  {
   "cell_type": "code",
   "execution_count": 245,
   "id": "2565ec27",
   "metadata": {},
   "outputs": [
    {
     "name": "stdout",
     "output_type": "stream",
     "text": [
      "insurance\n",
      "Ttest_indResult(statistic=-1.0053699623892367, pvalue=0.3441555795619743)\n",
      "Ttest_indResult(statistic=-0.12749398308169352, pvalue=0.9016959188018236)\n",
      "ethnicity\n",
      "Ttest_indResult(statistic=-0.9940112861814515, pvalue=0.3493278270589196)\n",
      "Ttest_indResult(statistic=-0.1219305960119746, pvalue=0.9059611829067633)\n",
      "marital_status\n",
      "Ttest_indResult(statistic=-1.5943754768994145, pvalue=0.14951800986342914)\n",
      "Ttest_indResult(statistic=-0.46752728502525176, pvalue=0.6525936077618792)\n"
     ]
    }
   ],
   "source": [
    "from scipy.stats import ttest_ind\n",
    "ttest_df = pd.merge(sklearn_uc_df, purple_df, left_on=['category', 'seed'], right_on=['category', 'seed'])\n",
    "for category in set(ttest_df['category']):\n",
    "    category_ttest_df = ttest_df[ttest_df['category'] == category]\n",
    "    print(category)\n",
    "    print(ttest_ind(category_ttest_df['auprc_x'], category_ttest_df['auprc_y']))\n",
    "    print(ttest_ind(category_ttest_df['auc_x'], category_ttest_df['auc_y']))\n",
    "# Neither AUcs or AUPRcs are  significantly different in any category"
   ]
  },
  {
   "cell_type": "markdown",
   "id": "b517bd09",
   "metadata": {},
   "source": [
    "### Comparison of group-specific calibration"
   ]
  },
  {
   "cell_type": "code",
   "execution_count": 27,
   "id": "06e14548",
   "metadata": {},
   "outputs": [
    {
     "name": "stderr",
     "output_type": "stream",
     "text": [
      "3it [05:52, 117.43s/it]\n"
     ]
    }
   ],
   "source": [
    "n_runs = 5\n",
    "stratify_mode = 'none'\n",
    "\n",
    "scar_assumption = True\n",
    "seeds = [10, 52, 30, 42, 1000]\n",
    "classification_model_type = LogisticRegressionPU\n",
    "\n",
    "lamda_opts = [0]\n",
    "split_dir = \"../../data/real_true_labels/hospital/ipv/0/\"\n",
    "x = load_npz(split_dir + 'vals.npz').todense()\n",
    "s = np.loadtxt(split_dir + \"observed_labels\")\n",
    "hadm_ids = np.loadtxt(split_dir + 'row_names')\n",
    "subject_ids = np.loadtxt(split_dir + 'subject_ids')\n",
    "\n",
    "\n",
    "condition = 'ipv'\n",
    "method = 'ours'\n",
    "modes = MODE_GROUP_MAP.keys()\n",
    "results = []\n",
    "for i, mode in tqdm(enumerate(modes)):\n",
    "    groups = MODE_GROUP_MAP[mode]\n",
    "\n",
    "    results_f_name = RESULTS_DIR + \"real_\" + condition + \"_\" + method + \"_\" + mode + \"_results_test\"\n",
    "    results_f_name += \"stratified_by_none\"\n",
    "\n",
    "    # meta experiment config\n",
    "    n_groups = len(groups)\n",
    "    n_attributes = x.shape[1]\n",
    "    classification_attributes = np.array(list(range(n_attributes))) + n_groups\n",
    "    norm_flag = 'unnorm'\n",
    "\n",
    "    ### Enumerate experiment configurations\n",
    "    expmt_configs = []\n",
    "    for j in range(n_runs):\n",
    "        for lamda in lamda_opts:\n",
    "            expmt_config = {'scar_assumption': True, \n",
    "                            'lamda': lamda, 'n_groups': n_groups,\n",
    "                            'n_attributes': n_attributes, 'groups': groups, \n",
    "                            'labeling_frequencies': (None, None),\n",
    "                            'category': mode, 'n_epochs': 10000, \n",
    "                            'optimizer': 'Adam',\n",
    "                            'seed': seeds[j], \n",
    "                            'estimator_type': 'logreg', \n",
    "                            'mode': norm_flag, 'n_batches': 20,\n",
    "                            'stratify_mode': stratify_mode} \n",
    "            expmt_configs.append(expmt_config)\n",
    "    \n",
    "    ### Plot calibration plot based on first config\n",
    "    for expmt_config in expmt_configs:\n",
    "        groups = expmt_config['groups']\n",
    "        seed = expmt_config['seed']\n",
    "\n",
    "        ### Preprocess mimic data \n",
    "        train, val, test = preprocess_mimic_data(x, [], s, hadm_ids, subject_ids,\n",
    "                                                 groups, expmt_config, seed)\n",
    "\n",
    "        x_train, y_train, s_train = train\n",
    "        x_val, y_val, s_val = val\n",
    "        x_test, y_test, s_test = test\n",
    "\n",
    "        train_data, val_data, test_data = x_train, x_val, x_test\n",
    "        expmt_config['group_weights'] = get_group_weights(x_train, expmt_config['n_groups'])\n",
    "\n",
    "        model_fname = get_model_fname(expmt_config)\n",
    "        model_fname = model_fname + 'model_final_10000'\n",
    "        f_model = load_model(model_fname, expmt_config)\n",
    "\n",
    "        f_model.cuda()\n",
    "        s_test_preds = f_model(torch.Tensor(test_data).cuda()).detach().cpu().numpy().flatten()\n",
    "\n",
    "        for j, group in enumerate(groups):\n",
    "            group_idxs = np.squeeze(np.where(test_data[:,j] == 1)[0])\n",
    "            n_bins = 4\n",
    "            cal_y_1, cal_x_1 = calibration_curve(s_test[group_idxs], s_test_preds[group_idxs], n_bins=n_bins, strategy='quantile')\n",
    "            results.extend([{'x': x_val, 'y': y_val, \n",
    "                             'seed': seed, 'mode': mode,\n",
    "                             'group': group, 'quintile': i, \n",
    "                             'n_group_examples': len(group_idxs)} for i,(x_val, y_val) in enumerate(zip(cal_x_1, cal_y_1))])"
   ]
  },
  {
   "cell_type": "code",
   "execution_count": 29,
   "id": "438f274f",
   "metadata": {},
   "outputs": [
    {
     "name": "stdout",
     "output_type": "stream",
     "text": [
      "\n",
      "\n",
      "\n"
     ]
    },
    {
     "data": {
      "image/png": "[encoded data removed]",
      "text/plain": [
       "<Figure size 864x288 with 3 Axes>"
      ]
     },
     "metadata": {},
     "output_type": "display_data"
    }
   ],
   "source": [
    "\n",
    "results_df = pd.DataFrame(results)\n",
    "results_df.to_csv(RESULTS_DIR + \"ipv_calibration_over_splits\")\n",
    "results_df = pd.read_csv(RESULTS_DIR + \"ipv_calibration_over_splits\")\n",
    "results_df = results_df[results_df['n_group_examples'] >= 500]\n",
    "# results_df['group']  = results_df['group'].apply(lambda x: prettify_group_name[x])\n",
    "fig, axs = plt.subplots(1, 3, figsize=(12, 4), sharey=True)\n",
    "for i, mode in enumerate(modes):\n",
    "    groups = MODE_GROUP_MAP[mode]\n",
    "    ax = axs[i]\n",
    "    plt.sca(ax)\n",
    "    mode_results_df = results_df[results_df['mode'] == mode]\n",
    "\n",
    "    for j, group in enumerate(groups):\n",
    "        group_results_df = mode_results_df[mode_results_df['group'] == group]\n",
    "#         print(mode, group)\n",
    "        if len(group_results_df):\n",
    "            x_y_means = group_results_df.groupby(['quintile']).mean().reset_index()[['x', 'y']]\n",
    "            x_y_std_errs = group_results_df.groupby(['quintile']).std().reset_index()[['x', 'y']]\n",
    "#             print(x_y_std_errs)\n",
    "            plt.errorbar(x_y_means['x'], x_y_means['y'], xerr=x_y_std_errs['x'], yerr=x_y_std_errs['y'], capsize=0, ls='none', \n",
    "                        elinewidth=2, label=prettify_group_name[group], fmt='o',  ms=5, lw=1, zorder=-j)\n",
    "#             ax.set_xscale('log')\n",
    "#             ax.set_yscale('log')\n",
    "            ymin, ymax = ax.get_ylim()\n",
    "            xmin, xmax = ax.get_xlim()\n",
    "            min_val, max_val = min(xmin, ymin), max(ymax, xmax)\n",
    "            min_val, max_val = -0.0003920702637947136, 0.036366542984755564\n",
    "            min_val, max_val = -0.0009920702637947136, 0.036366542984755564\n",
    "\n",
    "            ax.set_ylim(min_val, max_val)\n",
    "            ax.set_xlim(min_val, max_val)\n",
    "            ax.locator_params(nbins=4, axis='x')\n",
    "            ax.locator_params(nbins=4, axis='y')\n",
    "\n",
    "            ax.plot([min_val, max_val], [min_val, max_val], c='black', ls='--', zorder=-20)\n",
    "            ax.set_xlabel(\"Predicted p(s|x,g)\")\n",
    "            if  i == 0:\n",
    "                ax.set_ylabel(\"True p(s|x,g)\")\n",
    "            ax.legend(loc='upper left')\n",
    "            ax.set_aspect('equal')\n",
    "#             ax.xaxis.set_ticks_position('bottom')\n",
    "#             ax.yaxis.set_ticks_position('left')\n",
    "\n",
    "\n",
    "\n",
    "    print()\n",
    "plt.tight_layout()\n",
    "plt.savefig(FIG_DIR + \"ipv_calibration_plots.pdf\", dpi=300, format='pdf', bbox_inches='tight')"
   ]
  },
  {
   "cell_type": "code",
   "execution_count": 264,
   "id": "7918ac76",
   "metadata": {},
   "outputs": [],
   "source": []
  },
  {
   "cell_type": "code",
   "execution_count": null,
   "id": "68010fd1",
   "metadata": {},
   "outputs": [],
   "source": []
  }
 ],
 "metadata": {
  "kernelspec": {
   "display_name": "Python 3",
   "language": "python",
   "name": "python3"
  },
  "language_info": {
   "codemirror_mode": {
    "name": "ipython",
    "version": 3
   },
   "file_extension": ".py",
   "mimetype": "text/x-python",
   "name": "python",
   "nbconvert_exporter": "python",
   "pygments_lexer": "ipython3",
   "version": "3.9.6"
  }
 },
 "nbformat": 4,
 "nbformat_minor": 5
}
